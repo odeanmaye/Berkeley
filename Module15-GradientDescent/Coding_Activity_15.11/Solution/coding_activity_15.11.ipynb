{
 "cells": [
  {
   "cell_type": "markdown",
   "metadata": {},
   "source": [
    "### Bias Variance Trade Off\n",
    "\n",
    "This activity focuses on using the `SGDRegressor` to train differing complexity models.  You will compare models on a synthetic dataset and determine if these are high or low bias and high or low variance based on the residuals of the model.  In this assignment it is important to visualize histograms of the residuals as a method to determine the nature of bias and variance as well as the scatterplot against the model prediction plots provided.\n",
    "\n",
    "\n",
    "#### Index\n",
    "\n",
    "- [Problem 1](#-Problem-1)\n",
    "- [Problem 2](#-Problem-2)\n",
    "- [Problem 3](#-Problem-3)"
   ]
  },
  {
   "cell_type": "code",
   "execution_count": 85,
   "metadata": {},
   "outputs": [],
   "source": [
    "import numpy as np\n",
    "import matplotlib.pyplot as plt\n",
    "import pandas as pd\n",
    "\n",
    "from sklearn.linear_model import SGDRegressor\n",
    "from sklearn.preprocessing import StandardScaler, PolynomialFeatures\n",
    "from sklearn.model_selection import train_test_split\n",
    "from sklearn.pipeline import Pipeline"
   ]
  },
  {
   "cell_type": "markdown",
   "metadata": {},
   "source": [
    "### The Data\n",
    "\n",
    "Below a fifth degree polynomial function is created and noise added.  You are to compare the error of different model complexities and determine the nature of bias and variance in the model. \n",
    "\n",
    "**NOTE**: You are provided the feature data as polynomials for each problem -- there are no interaction terms necessary here and scikitlearn does not have an easy way of eliminating these terms using `PolynomialFeatures`. Also, when evaluating the model please use the test data for describing the variance of the estimator."
   ]
  },
  {
   "cell_type": "code",
   "execution_count": 369,
   "metadata": {},
   "outputs": [],
   "source": [
    "def f(x): \n",
    "    np.random.seed(42)\n",
    "    return 14.2*(x + 1)*x*(x - 1)**3 + np.random.normal(scale = 1, size = len(x))"
   ]
  },
  {
   "cell_type": "code",
   "execution_count": 370,
   "metadata": {},
   "outputs": [],
   "source": [
    "X = np.linspace(-1, 1, 100)"
   ]
  },
  {
   "cell_type": "code",
   "execution_count": 371,
   "metadata": {},
   "outputs": [],
   "source": [
    "X_train, X_test, y_train, y_test = train_test_split(X, f(X).reshape(-1, 1), random_state=42)\n",
    "scaler = StandardScaler()\n",
    "X_tr_scaled = scaler.fit_transform(X_train.reshape(-1, 1))\n",
    "X_ts_scaled = scaler.transform(X_test.reshape(-1, 1))"
   ]
  },
  {
   "cell_type": "code",
   "execution_count": 372,
   "metadata": {},
   "outputs": [
    {
     "data": {
      "text/plain": [
       "<matplotlib.collections.PathCollection at 0x7fd7d711da60>"
      ]
     },
     "execution_count": 372,
     "metadata": {},
     "output_type": "execute_result"
    },
    {
     "data": {
      "image/png": "[encoded data removed]",
      "text/plain": [
       "<Figure size 432x288 with 1 Axes>"
      ]
     },
     "metadata": {
      "needs_background": "light"
     },
     "output_type": "display_data"
    }
   ],
   "source": [
    "plt.scatter(X, f(X))"
   ]
  },
  {
   "cell_type": "code",
   "execution_count": 373,
   "metadata": {},
   "outputs": [],
   "source": [
    "X_train = X_train.reshape(-1, 1)\n",
    "X_test = X_test.reshape(-1, 1)\n",
    "y_train = y_train.reshape(len(y_train),)\n",
    "y_test = y_test.reshape(len(y_test),)"
   ]
  },
  {
   "cell_type": "markdown",
   "metadata": {},
   "source": [
    "[Back to top](#-Index)\n",
    "\n",
    "### Problem 1\n",
    "\n",
    "#### Linear Model and Error\n",
    "\n",
    "**10 Points**\n",
    "\n",
    "Below, build a first degree model using the scaled data and the `SGDRegressor`.  Plot the results and visualize the errors.  Is this model high bias?  Also, be sure to note the variance of the model.  Enter your solutions as a string corresponding to the correct answer choice for the resulting model.\n",
    "\n",
    "```\n",
    "a. High Bias\n",
    "b. Low Bias\n",
    "```"
   ]
  },
  {
   "cell_type": "code",
   "execution_count": 397,
   "metadata": {},
   "outputs": [],
   "source": [
    "scaler = StandardScaler()\n",
    "#train and test data\n",
    "X_tr_scaled = scaler.fit_transform(X_train)\n",
    "X_ts_scaled = scaler.transform(X_test)"
   ]
  },
  {
   "cell_type": "code",
   "execution_count": 418,
   "metadata": {},
   "outputs": [
    {
     "name": "stdout",
     "output_type": "stream",
     "text": [
      "b\n"
     ]
    }
   ],
   "source": [
    "### GRADED\n",
    "ans1 = ''\n",
    "### BEGIN SOLUTION\n",
    "ans1 = 'b'\n",
    "### END SOLUTION\n",
    "\n",
    "### ANSWER CHECK\n",
    "print(ans1)"
   ]
  },
  {
   "cell_type": "code",
   "execution_count": 419,
   "metadata": {},
   "outputs": [],
   "source": [
    "### BEGIN HIDDEN TESTS\n",
    "ans1_ = 'b'\n",
    "#\n",
    "#\n",
    "#\n",
    "assert ans1.lower() == ans1_\n",
    "### END HIDDEN TESTS"
   ]
  },
  {
   "cell_type": "markdown",
   "metadata": {},
   "source": [
    "[Back to top](#-Index)\n",
    "\n",
    "### Problem 2\n",
    "\n",
    "#### Quadratic Model and Error\n",
    "\n",
    "**10 Points**\n",
    "\n",
    "Below, build a second degree model using the scaled data and the `SGDRegressor`.  Plot the results and visualize the errors.  Is this model high bias?  Is this model higher, lower, or similar variance to that of the linear model?  Enter your solutions as `ans2` as a string corresponding to the correct answer choice for the resulting model.\n",
    "\n",
    "```\n",
    "a. High Bias and Higher Variance\n",
    "b. High Bias and Lower Variance\n",
    "c. Low Bias and Higher Variance\n",
    "d. Low Bias and Lower Variance\n",
    "e. High Bias and Simlilar Variance\n",
    "f. Low Bias and Similar Variance\n",
    "```"
   ]
  },
  {
   "cell_type": "code",
   "execution_count": 414,
   "metadata": {},
   "outputs": [],
   "source": [
    "k = 2\n",
    "X_train_quad = np.hstack([X_tr_scaled**(i+1) for i in range(1, k)])\n",
    "X_test_quad = np.hstack([X_ts_scaled**(i+1) for i in range(1, k)])"
   ]
  },
  {
   "cell_type": "code",
   "execution_count": 420,
   "metadata": {},
   "outputs": [
    {
     "name": "stdout",
     "output_type": "stream",
     "text": [
      "c\n"
     ]
    }
   ],
   "source": [
    "### GRADED\n",
    "ans2 = ''\n",
    "### BEGIN SOLUTION\n",
    "ans2 = 'c'\n",
    "### END SOLUTION\n",
    "\n",
    "### ANSWER CHECK\n",
    "print(ans2)"
   ]
  },
  {
   "cell_type": "code",
   "execution_count": 421,
   "metadata": {},
   "outputs": [],
   "source": [
    "### BEGIN HIDDEN TESTS\n",
    "ans2_ = 'c'\n",
    "#\n",
    "#\n",
    "#\n",
    "assert ans2.lower() == ans2_\n",
    "### END HIDDEN TESTS"
   ]
  },
  {
   "cell_type": "markdown",
   "metadata": {},
   "source": [
    "[Back to top](#-Index)\n",
    "\n",
    "### Problem 3\n",
    "\n",
    "#### $5^{th}$ degree Model and Error\n",
    "\n",
    "**10 Points**\n",
    "\n",
    "Below, build a fifth degree model using the scaled data and the `SGDRegressor`.  Plot the results and visualize the errors.  Is this model high or low bias?  Is this model higher, lower, or similar variance to that of the **linear model**?  Enter your solutions as a string corresponding to the correct answer choice for the resulting model.\n",
    "\n",
    "```\n",
    "a. High Bias and Higher Variance\n",
    "b. High Bias and Lower Variance\n",
    "c. Low Bias and Higher Variance\n",
    "d. Low Bias and Lower Variance\n",
    "e. High Bias and Simlilar Variance\n",
    "f. Low Bias and Similar Variance\n",
    "```"
   ]
  },
  {
   "cell_type": "code",
   "execution_count": 416,
   "metadata": {},
   "outputs": [],
   "source": [
    "k = 5\n",
    "X_train_5 = np.hstack([X_tr_scaled**(i+1) for i in range(1, k)])\n",
    "X_test_5 = np.hstack([X_ts_scaled**(i+1) for i in range(1, k)])"
   ]
  },
  {
   "cell_type": "code",
   "execution_count": 422,
   "metadata": {},
   "outputs": [
    {
     "name": "stdout",
     "output_type": "stream",
     "text": [
      "d\n"
     ]
    }
   ],
   "source": [
    "### GRADED\n",
    "ans3 = ''\n",
    "### BEGIN SOLUTION\n",
    "ans3 = 'd'\n",
    "### END SOLUTION\n",
    "\n",
    "### ANSWER CHECK\n",
    "print(ans3)"
   ]
  },
  {
   "cell_type": "code",
   "execution_count": 423,
   "metadata": {},
   "outputs": [],
   "source": [
    "### BEGIN HIDDEN TESTS\n",
    "ans3_ = 'd'\n",
    "#\n",
    "#\n",
    "#\n",
    "assert ans3.lower() == ans3_\n",
    "### END HIDDEN TESTS"
   ]
  },
  {
   "cell_type": "markdown",
   "metadata": {},
   "source": [
    "In this example, we manufactured a cubic polynomial and seem to have arrived at a higher complexity model as the optimal choice.  This seems to demonstrate a bit of the idea that going beyond the model complexity may find variance dipping again.  However, please note it took some work to get the parameters of the polynomial in the right place for this to happen -- so sometimes less complexity may be better and sometimes more.  Of greater importance is that you consider how to evaluate and compare the bias and variance in multiple models while building regressors."
   ]
  }
 ],
 "metadata": {
  "kernelspec": {
   "display_name": "Python 3 (ipykernel)",
   "language": "python",
   "name": "python3"
  },
  "language_info": {
   "codemirror_mode": {
    "name": "ipython",
    "version": 3
   },
   "file_extension": ".py",
   "mimetype": "text/x-python",
   "name": "python",
   "nbconvert_exporter": "python",
   "pygments_lexer": "ipython3",
   "version": "3.11.7"
  }
 },
 "nbformat": 4,
 "nbformat_minor": 4
}
