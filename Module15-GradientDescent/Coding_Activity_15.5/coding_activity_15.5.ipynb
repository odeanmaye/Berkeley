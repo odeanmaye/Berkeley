{
 "cells": [
  {
   "cell_type": "markdown",
   "metadata": {
    "deletable": false,
    "editable": false,
    "id": "kAW-4pF-EIew",
    "nbgrader": {
     "cell_type": "markdown",
     "checksum": "82c6f191b9d0b5b1ecc5bc6e9205a47a",
     "grade": false,
     "grade_id": "cell-1c2c6e496cfe389b",
     "locked": true,
     "schema_version": 3,
     "solution": false
    }
   },
   "source": [
    "### Codio Activity 15.5: Concavity with Second Derivatives\n",
    "\n",
    "**Expected Time = 30 minutes** \n",
    "\n",
    "**Total Points = 15** \n",
    "\n",
    "This activity focuses on understanding how to use the second derivative of a function to determine whether a function is concave up or concave down.  You are given functions that approximate derivatives and will use these to explore the relationship between the second derivative and concavity.\n",
    "\n",
    "#### Index\n",
    "\n",
    "- [Problem 1](#-Problem-1)\n",
    "- [Problem 2](#-Problem-2)\n",
    "- [Problem 3](#-Problem-3)"
   ]
  },
  {
   "cell_type": "code",
   "execution_count": 2,
   "metadata": {
    "id": "-S-gYG4BEIez"
   },
   "outputs": [],
   "source": [
    "import numpy as np\n",
    "import pandas as pd\n",
    "import matplotlib.pyplot as plt\n",
    "from scipy.optimize import root\n",
    "import sympy as sy"
   ]
  },
  {
   "cell_type": "markdown",
   "metadata": {
    "deletable": false,
    "editable": false,
    "id": "Zsb5qR_BEIe0",
    "nbgrader": {
     "cell_type": "markdown",
     "checksum": "c75027ed4c2a22650af50dbd4bb2bc0d",
     "grade": false,
     "grade_id": "cell-40b480f8ed4d1619",
     "locked": true,
     "schema_version": 3,
     "solution": false
    }
   },
   "source": [
    "[Back to top](#-Index)\n",
    "\n",
    "### Problem 1\n",
    "\n",
    "#### Behavior of $f'$ and $f''$\n",
    "\n",
    "**5 Points**\n",
    "\n",
    "Using the functions for `f`, `df`, and `ddf`given below, explore the value of the first and second derivative at points in domain $x \\in [0, 2]$.  Note that you already know that the function is convex.\n",
    "\n",
    "- Is the first derivative on this domain `increasing` or `decreasing`?  Assign your solution as a string to `ans_1a`.\n",
    "\n",
    "- Is the second derivative on this domain `positive` or `negative`?  Assign your solution as a string to `ans_1b`. "
   ]
  },
  {
   "cell_type": "code",
   "execution_count": 4,
   "metadata": {},
   "outputs": [],
   "source": [
    "x = np.linspace(-2, 2, num=50)"
   ]
  },
  {
   "cell_type": "code",
   "execution_count": 6,
   "metadata": {
    "id": "ZlVPJFEREIe1"
   },
   "outputs": [],
   "source": [
    "def f(x):\n",
    "    return x**2"
   ]
  },
  {
   "cell_type": "code",
   "execution_count": 8,
   "metadata": {
    "id": "znWGEyESEIe1"
   },
   "outputs": [],
   "source": [
    "def df(x):\n",
    "    '''\n",
    "    This function approximates\n",
    "    the first derivative of some\n",
    "    function f\n",
    "    '''\n",
    "    h = 0.0000001\n",
    "    return (f(x + h) - f(x)) / h"
   ]
  },
  {
   "cell_type": "code",
   "execution_count": 10,
   "metadata": {
    "id": "X58D0ZFbEIe1"
   },
   "outputs": [],
   "source": [
    "def ddf(x):\n",
    "    '''\n",
    "    This function approximates\n",
    "    the second derivative of some\n",
    "    function f by finding the \n",
    "    derivative of the derivative df.\n",
    "    '''\n",
    "    h = 0.0000001\n",
    "    return (df(x + h) - df(x)) / h"
   ]
  },
  {
   "cell_type": "code",
   "execution_count": 12,
   "metadata": {
    "deletable": false,
    "id": "7znRTrnNEIe2",
    "nbgrader": {
     "cell_type": "code",
     "checksum": "4cb2c15ebcc7a106c3d03b42783cf7f4",
     "grade": false,
     "grade_id": "cell-2844f131762c9dbf",
     "locked": false,
     "schema_version": 3,
     "solution": true
    },
    "outputId": "2a442879-4dec-46cf-c112-d2de943493e2"
   },
   "outputs": [
    {
     "name": "stdout",
     "output_type": "stream",
     "text": [
      "First derivative at x = 0 and x = 1: (9.999999999999998e-08, 2.0000001010878066)\n",
      "Second derivative at x = 0 and x = 1: (2.0, 1.9984014443252818)\n"
     ]
    }
   ],
   "source": [
    "### GRADED    \n",
    "    \n",
    "# YOUR CODE HERE\n",
    "ans_1a = 'increasing'\n",
    "ans_1b = 'positive'\n",
    "\n",
    "### ANSWER CHECK\n",
    "print(f'First derivative at x = 0 and x = 1: {df(0), df(1)}')\n",
    "print(f'Second derivative at x = 0 and x = 1: {ddf(0), ddf(1)}')"
   ]
  },
  {
   "cell_type": "code",
   "execution_count": null,
   "metadata": {
    "deletable": false,
    "editable": false,
    "id": "aBiEZj9AEIe3",
    "nbgrader": {
     "cell_type": "code",
     "checksum": "a0efe9245a4389fc99cf9fbaecfd1c47",
     "grade": true,
     "grade_id": "cell-ef75f836fec8ed22",
     "locked": true,
     "points": 5,
     "schema_version": 3,
     "solution": false
    }
   },
   "outputs": [],
   "source": []
  },
  {
   "cell_type": "markdown",
   "metadata": {
    "deletable": false,
    "editable": false,
    "id": "Fx2jmB0AEIe3",
    "nbgrader": {
     "cell_type": "markdown",
     "checksum": "59191985f81e67b0b89184bd605b78de",
     "grade": false,
     "grade_id": "cell-76a8169e5bddbe50",
     "locked": true,
     "schema_version": 3,
     "solution": false
    }
   },
   "source": [
    "[Back to top](#-Index)\n",
    "\n",
    "### Problem 2\n",
    "\n",
    "#### Behavior of $f'$ and $f''$ for $f(x) = -x^2$\n",
    "\n",
    "**5 Points**\n",
    "\n",
    "Now, compare the values of the first and second derivative of the function $f(x) = -x^2$ on $x \\in [0, 2]$ below. \n",
    "\n",
    "- Is the first derivative on this domain increasing or decreasing?  Assign your solution as a string to `ans_2a`.\n",
    "\n",
    "- Is the second derivative on this domain positive or negative?  Assign your solution as a string to `ans_2b`. "
   ]
  },
  {
   "cell_type": "code",
   "execution_count": 14,
   "metadata": {
    "id": "jlqx573kEIe4"
   },
   "outputs": [],
   "source": [
    "def f(x):\n",
    "    return -x**2"
   ]
  },
  {
   "cell_type": "code",
   "execution_count": 16,
   "metadata": {
    "id": "9zdJhfLCEIe4",
    "outputId": "14e5f9fe-1110-441b-a8e4-42cc06280ee4"
   },
   "outputs": [
    {
     "data": {
      "image/png": "[encoded data removed]",
      "text/plain": [
       "<Figure size 640x480 with 1 Axes>"
      ]
     },
     "metadata": {},
     "output_type": "display_data"
    }
   ],
   "source": [
    "plt.plot(x, f(x))\n",
    "plt.title(r'Plot of $f(x) = -x^2$')\n",
    "plt.grid();"
   ]
  },
  {
   "cell_type": "code",
   "execution_count": 20,
   "metadata": {
    "deletable": false,
    "id": "PGtX3A7LEIe4",
    "nbgrader": {
     "cell_type": "code",
     "checksum": "57b748c7c336ccb114fcbf1f076efb38",
     "grade": false,
     "grade_id": "cell-4e881e416f2f76f2",
     "locked": false,
     "schema_version": 3,
     "solution": true
    },
    "outputId": "a812be8e-1e20-49bd-ee8a-a4acc6a4087d"
   },
   "outputs": [
    {
     "name": "stdout",
     "output_type": "stream",
     "text": [
      "First derivative at x = 0 and x = 1: (-9.999999999999998e-08, -2.0000001010878066)\n",
      "Second derivative at x = 0 and x = 1: (-2.0, -1.9984014443252818)\n"
     ]
    }
   ],
   "source": [
    "### GRADED\n",
    "ans_2a = 'decreasing'\n",
    "ans_2b = 'negative'\n",
    "\n",
    "\n",
    "### ANSWER CHECK\n",
    "print(f'First derivative at x = 0 and x = 1: {df(0), df(1)}')\n",
    "print(f'Second derivative at x = 0 and x = 1: {ddf(0), ddf(1)}')"
   ]
  },
  {
   "cell_type": "code",
   "execution_count": null,
   "metadata": {
    "deletable": false,
    "editable": false,
    "id": "VGhqzjjZEIe5",
    "nbgrader": {
     "cell_type": "code",
     "checksum": "bd0fcdb1dddbc082b59bc54f1c9cd165",
     "grade": true,
     "grade_id": "cell-58a7d0e423fa11e1",
     "locked": true,
     "points": 5,
     "schema_version": 3,
     "solution": false
    }
   },
   "outputs": [],
   "source": []
  },
  {
   "cell_type": "markdown",
   "metadata": {
    "deletable": false,
    "editable": false,
    "id": "V81j2m-FEIe5",
    "nbgrader": {
     "cell_type": "markdown",
     "checksum": "71a3211ca963d38f1d8f5659436f4f23",
     "grade": false,
     "grade_id": "cell-20a2742db77f2913",
     "locked": true,
     "schema_version": 3,
     "solution": false
    }
   },
   "source": [
    "[Back to top](#-Index)\n",
    "\n",
    "### Problem 3\n",
    "\n",
    "#### A function with changing concavity\n",
    "\n",
    "**5 Points**\n",
    "\n",
    "Now, examine the function below. This function is concave down on certain intervals and concave up on others. \n",
    "From the plot, you can see that the concavity changes where the second derivative `ddf = 0`.\n",
    "\n",
    "Use the plot below to decide the relationships between where the function is concave up and concave down.  For the interval where the function is concave up is the first derivative *increasing* or *decreasing* and is the second derivative *positive* or *negative*?  \n",
    "\n",
    "Assign your answers as strings below to `ans_3a` and `ans_3b` respectively"
   ]
  },
  {
   "cell_type": "code",
   "execution_count": 22,
   "metadata": {
    "id": "Db-YKo0IEIe5"
   },
   "outputs": [],
   "source": [
    "def f(x):\n",
    "    return -x**2*(x - 2)*(x + 2)"
   ]
  },
  {
   "cell_type": "code",
   "execution_count": 24,
   "metadata": {
    "id": "UZ_uvBsdEIe5",
    "outputId": "e56ef06e-218b-4b92-98f7-895b25009b5d"
   },
   "outputs": [
    {
     "data": {
      "image/png": "[encoded data removed]",
      "text/plain": [
       "<Figure size 640x480 with 1 Axes>"
      ]
     },
     "metadata": {},
     "output_type": "display_data"
    }
   ],
   "source": [
    "plt.plot(x, f(x), label = 'f')\n",
    "plt.plot(x, df(x), label = 'df')\n",
    "plt.plot(x, ddf(x), label = 'ddf')\n",
    "plt.legend()\n",
    "plt.grid()\n",
    "plt.axhline(color = 'black')\n",
    "plt.title('Comparing f, df, and ddf')\n",
    "plt.ylim(-2, 10);"
   ]
  },
  {
   "cell_type": "code",
   "execution_count": null,
   "metadata": {
    "deletable": false,
    "id": "-wsM1NtyEIe6",
    "nbgrader": {
     "cell_type": "code",
     "checksum": "1c0ea9f465449f24ec44fb9db5522cc0",
     "grade": false,
     "grade_id": "cell-b3867dba263f6ee4",
     "locked": false,
     "schema_version": 3,
     "solution": true
    }
   },
   "outputs": [],
   "source": [
    "### GRADED\n",
    "ans_3a = 'increasing'\n",
    "ans_3b = 'positive'"
   ]
  },
  {
   "cell_type": "code",
   "execution_count": null,
   "metadata": {
    "deletable": false,
    "editable": false,
    "nbgrader": {
     "cell_type": "code",
     "checksum": "71c39f0f147501180cbe00f5cc0dc0e3",
     "grade": true,
     "grade_id": "cell-f5c3eaa917f30193",
     "locked": true,
     "points": 5,
     "schema_version": 3,
     "solution": false
    }
   },
   "outputs": [],
   "source": []
  },
  {
   "cell_type": "markdown",
   "metadata": {
    "deletable": false,
    "editable": false,
    "id": "S9T_9XWeEIe6",
    "nbgrader": {
     "cell_type": "markdown",
     "checksum": "7a00f7a4147b0feff1a98dc41841883e",
     "grade": false,
     "grade_id": "cell-4ae4fb29f33db1b8",
     "locked": true,
     "schema_version": 3,
     "solution": false
    }
   },
   "source": [
    "Both Jensen's inequality and the first and second derivative tests can be used to determine the nature of concavity of a function.  Jensen's avoids the need for differentiation which can present numerical issues and is a bit more straightforward.  For example, try using `scipy`'s `derivative` function to evaluate the second derivative of a very basic function like $x^2$.  "
   ]
  },
  {
   "cell_type": "code",
   "execution_count": null,
   "metadata": {},
   "outputs": [],
   "source": []
  }
 ],
 "metadata": {
  "colab": {
   "collapsed_sections": [],
   "name": "coding_assignment_15.5.ipynb",
   "provenance": []
  },
  "kernelspec": {
   "display_name": "Python 3 (ipykernel)",
   "language": "python",
   "name": "python3"
  },
  "language_info": {
   "codemirror_mode": {
    "name": "ipython",
    "version": 3
   },
   "file_extension": ".py",
   "mimetype": "text/x-python",
   "name": "python",
   "nbconvert_exporter": "python",
   "pygments_lexer": "ipython3",
   "version": "3.11.7"
  }
 },
 "nbformat": 4,
 "nbformat_minor": 4
}
