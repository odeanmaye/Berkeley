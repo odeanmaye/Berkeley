{
 "cells": [
  {
   "cell_type": "markdown",
   "metadata": {},
   "source": [
    "### Comparing Models and Vectorization Strategies for Text Classification\n",
    "\n",
    "This try-it focuses on weighing the positives and negatives of different estimators and vectorization strategies for a text classification problem.  In order to consider each of these components, you should make use of the `Pipeline` and `GridSearchCV` objects in scikitlearn to try different combinations of vectorizers with different estimators.  For each of these, you also want to use the `.cv_results_` to examine the time for the estimator to fit the data."
   ]
  },
  {
   "cell_type": "markdown",
   "metadata": {},
   "source": [
    "### The Data\n",
    "\n",
    "The dataset below is from [kaggle]() and contains a dataset named the \"ColBert Dataset\" created for this [paper](https://arxiv.org/pdf/2004.12765.pdf).  You are to use the text column to classify whether or not the text was humorous.  It is loaded and displayed below.\n",
    "\n",
    "**Note:** The original dataset contains 200K rows of data. It is best to try to use the full dtaset. If the original dataset is too large for your computer, please use the 'dataset-minimal.csv', which has been reduced to 100K."
   ]
  },
  {
   "cell_type": "code",
   "execution_count": 19,
   "metadata": {},
   "outputs": [],
   "source": [
    "import pandas as pd"
   ]
  },
  {
   "cell_type": "code",
   "execution_count": 21,
   "metadata": {},
   "outputs": [],
   "source": [
    "df = pd.read_csv('text_data/dataset.csv')"
   ]
  },
  {
   "cell_type": "code",
   "execution_count": 23,
   "metadata": {},
   "outputs": [
    {
     "data": {
      "text/html": [
       "<div>\n",
       "<style scoped>\n",
       "    .dataframe tbody tr th:only-of-type {\n",
       "        vertical-align: middle;\n",
       "    }\n",
       "\n",
       "    .dataframe tbody tr th {\n",
       "        vertical-align: top;\n",
       "    }\n",
       "\n",
       "    .dataframe thead th {\n",
       "        text-align: right;\n",
       "    }\n",
       "</style>\n",
       "<table border=\"1\" class=\"dataframe\">\n",
       "  <thead>\n",
       "    <tr style=\"text-align: right;\">\n",
       "      <th></th>\n",
       "      <th>text</th>\n",
       "      <th>humor</th>\n",
       "    </tr>\n",
       "  </thead>\n",
       "  <tbody>\n",
       "    <tr>\n",
       "      <th>0</th>\n",
       "      <td>Joe biden rules out 2020 bid: 'guys, i'm not r...</td>\n",
       "      <td>False</td>\n",
       "    </tr>\n",
       "    <tr>\n",
       "      <th>1</th>\n",
       "      <td>Watch: darvish gave hitter whiplash with slow ...</td>\n",
       "      <td>False</td>\n",
       "    </tr>\n",
       "    <tr>\n",
       "      <th>2</th>\n",
       "      <td>What do you call a turtle without its shell? d...</td>\n",
       "      <td>True</td>\n",
       "    </tr>\n",
       "    <tr>\n",
       "      <th>3</th>\n",
       "      <td>5 reasons the 2016 election feels so personal</td>\n",
       "      <td>False</td>\n",
       "    </tr>\n",
       "    <tr>\n",
       "      <th>4</th>\n",
       "      <td>Pasco police shot mexican migrant from behind,...</td>\n",
       "      <td>False</td>\n",
       "    </tr>\n",
       "  </tbody>\n",
       "</table>\n",
       "</div>"
      ],
      "text/plain": [
       "                                                text  humor\n",
       "0  Joe biden rules out 2020 bid: 'guys, i'm not r...  False\n",
       "1  Watch: darvish gave hitter whiplash with slow ...  False\n",
       "2  What do you call a turtle without its shell? d...   True\n",
       "3      5 reasons the 2016 election feels so personal  False\n",
       "4  Pasco police shot mexican migrant from behind,...  False"
      ]
     },
     "execution_count": 23,
     "metadata": {},
     "output_type": "execute_result"
    }
   ],
   "source": [
    "df.head()"
   ]
  },
  {
   "cell_type": "markdown",
   "metadata": {},
   "source": [
    "#### Task\n",
    "\n",
    "\n",
    "**Text preprocessing:** As a pre-processing step, perform both `stemming` and `lemmatizing` to normalize your text before classifying. For each technique use both the `CountVectorize`r and `TfidifVectorizer` and use options for stop words and max features to prepare the text data for your estimator.\n",
    "\n",
    "**Classification:** Once you have prepared the text data with stemming lemmatizing techniques, consider `LogisticRegression`, `DecisionTreeClassifier`, and `MultinomialNB` as classification algorithms for the data. Compare their performance in terms of accuracy and speed.\n",
    "\n",
    "Share the results of your best classifier in the form of a table with the best version of each estimator, a dictionary of the best parameters and the best score."
   ]
  },
  {
   "cell_type": "code",
   "execution_count": 26,
   "metadata": {},
   "outputs": [
    {
     "data": {
      "text/html": [
       "<div>\n",
       "<style scoped>\n",
       "    .dataframe tbody tr th:only-of-type {\n",
       "        vertical-align: middle;\n",
       "    }\n",
       "\n",
       "    .dataframe tbody tr th {\n",
       "        vertical-align: top;\n",
       "    }\n",
       "\n",
       "    .dataframe thead th {\n",
       "        text-align: right;\n",
       "    }\n",
       "</style>\n",
       "<table border=\"1\" class=\"dataframe\">\n",
       "  <thead>\n",
       "    <tr style=\"text-align: right;\">\n",
       "      <th></th>\n",
       "      <th>best_params</th>\n",
       "      <th>best_score</th>\n",
       "    </tr>\n",
       "    <tr>\n",
       "      <th>model</th>\n",
       "      <th></th>\n",
       "      <th></th>\n",
       "    </tr>\n",
       "  </thead>\n",
       "  <tbody>\n",
       "    <tr>\n",
       "      <th>Logistic</th>\n",
       "      <td></td>\n",
       "      <td></td>\n",
       "    </tr>\n",
       "    <tr>\n",
       "      <th>Decision Tree</th>\n",
       "      <td></td>\n",
       "      <td></td>\n",
       "    </tr>\n",
       "    <tr>\n",
       "      <th>Bayes</th>\n",
       "      <td></td>\n",
       "      <td></td>\n",
       "    </tr>\n",
       "  </tbody>\n",
       "</table>\n",
       "</div>"
      ],
      "text/plain": [
       "              best_params best_score\n",
       "model                               \n",
       "Logistic                            \n",
       "Decision Tree                       \n",
       "Bayes                               "
      ]
     },
     "execution_count": 26,
     "metadata": {},
     "output_type": "execute_result"
    }
   ],
   "source": [
    "pd.DataFrame({'model': ['Logistic', 'Decision Tree', 'Bayes'], \n",
    "             'best_params': ['', '', ''],\n",
    "             'best_score': ['', '', '']}).set_index('model')"
   ]
  },
  {
   "cell_type": "code",
   "execution_count": 28,
   "metadata": {},
   "outputs": [],
   "source": [
    "from nltk.stem import PorterStemmer, WordNetLemmatizer\n",
    "from nltk.corpus import stopwords\n",
    "from sklearn.feature_extraction.text import CountVectorizer, TfidfVectorizer\n",
    "from sklearn.model_selection import train_test_split, GridSearchCV\n",
    "from sklearn.linear_model import LogisticRegression\n",
    "from sklearn.tree import DecisionTreeClassifier\n",
    "from sklearn.naive_bayes import MultinomialNB\n",
    "from sklearn.pipeline import Pipeline\n",
    "from sklearn.metrics import accuracy_score\n",
    "import nltk"
   ]
  },
  {
   "cell_type": "code",
   "execution_count": 30,
   "metadata": {},
   "outputs": [
    {
     "name": "stderr",
     "output_type": "stream",
     "text": [
      "[nltk_data] Downloading package wordnet to\n",
      "[nltk_data]     /Users/odeanmaye/nltk_data...\n",
      "[nltk_data]   Package wordnet is already up-to-date!\n",
      "[nltk_data] Downloading package stopwords to\n",
      "[nltk_data]     /Users/odeanmaye/nltk_data...\n",
      "[nltk_data]   Package stopwords is already up-to-date!\n"
     ]
    },
    {
     "data": {
      "text/plain": [
       "True"
      ]
     },
     "execution_count": 30,
     "metadata": {},
     "output_type": "execute_result"
    }
   ],
   "source": [
    "# Download necessary NLTK data\n",
    "nltk.download('wordnet')\n",
    "nltk.download('stopwords')"
   ]
  },
  {
   "cell_type": "code",
   "execution_count": 32,
   "metadata": {},
   "outputs": [],
   "source": [
    "# Initialize stemmer and lemmatizer\n",
    "stemmer = PorterStemmer()\n",
    "lemmatizer = WordNetLemmatizer()\n",
    "\n",
    "# Preprocessing function\n",
    "def preprocess_text(text, method=\"stem\"):\n",
    "    tokens = text.split()\n",
    "    if method == \"stem\":\n",
    "        return \" \".join([stemmer.stem(word) for word in tokens])\n",
    "    elif method == \"lemma\":\n",
    "        return \" \".join([lemmatizer.lemmatize(word) for word in tokens])\n",
    "\n",
    "# Apply stemming and lemmatizing\n",
    "df['text_stemmed'] = df['text'].apply(lambda x: preprocess_text(x, method=\"stem\"))\n",
    "df['text_lemmatized'] = df['text'].apply(lambda x: preprocess_text(x, method=\"lemma\"))"
   ]
  },
  {
   "cell_type": "code",
   "execution_count": 33,
   "metadata": {},
   "outputs": [],
   "source": [
    "# Set up training data\n",
    "X_stemmed = df['text_stemmed']\n",
    "X_lemmatized = df['text_lemmatized']\n",
    "y = df['humor']\n",
    "\n",
    "X_train_stem, X_test_stem, y_train, y_test = train_test_split(X_stemmed, y, test_size=0.2, random_state=42)\n",
    "X_train_lemma, X_test_lemma, _, _ = train_test_split(X_lemmatized, y, test_size=0.2, random_state=42)"
   ]
  },
  {
   "cell_type": "code",
   "execution_count": 34,
   "metadata": {},
   "outputs": [],
   "source": [
    "# Define vectorizers with stop words and max features\n",
    "vectorizers = {\n",
    "    'count': CountVectorizer(stop_words='english', max_features=500),\n",
    "    'tfidf': TfidfVectorizer(stop_words='english', max_features=500)\n",
    "}\n",
    "\n",
    "# Define classifiers\n",
    "classifiers = {\n",
    "    'Logistic': LogisticRegression(max_iter=200),\n",
    "    'Decision Tree': DecisionTreeClassifier(),\n",
    "    'Bayes': MultinomialNB()\n",
    "}"
   ]
  },
  {
   "cell_type": "code",
   "execution_count": 35,
   "metadata": {},
   "outputs": [],
   "source": [
    "# Function to run classification and capture best results\n",
    "def evaluate_models(X_train, X_test, y_train, y_test):\n",
    "    results = {'model': [], 'best_params': [], 'best_score': []}\n",
    "    for vect_name, vect in vectorizers.items():\n",
    "        for clf_name, clf in classifiers.items():\n",
    "            pipeline = Pipeline([\n",
    "                ('vectorizer', vect),\n",
    "                ('classifier', clf)\n",
    "            ])\n",
    "            # Use GridSearch for parameter tuning\n",
    "            param_grid = {\n",
    "                'classifier__C': [0.1, 1, 10] if clf_name == 'Logistic' else None,\n",
    "                'classifier__max_depth': [10, None] if clf_name == 'Decision Tree' else None,\n",
    "            }\n",
    "            grid_search = GridSearchCV(pipeline, param_grid={k: v for k, v in param_grid.items() if v is not None}, scoring='accuracy', n_jobs=-1)\n",
    "            grid_search.fit(X_train, y_train)\n",
    "            best_model = grid_search.best_estimator_\n",
    "            score = accuracy_score(y_test, best_model.predict(X_test))\n",
    "            results['model'].append(f\"{clf_name} ({vect_name})\")\n",
    "            results['best_params'].append(grid_search.best_params_)\n",
    "            results['best_score'].append(score)\n",
    "\n",
    "    return pd.DataFrame(results).set_index('model')"
   ]
  },
  {
   "cell_type": "code",
   "execution_count": 36,
   "metadata": {},
   "outputs": [],
   "source": [
    "# Run evaluations\n",
    "stem_results = evaluate_models(X_train_stem, X_test_stem, y_train, y_test)\n",
    "lemma_results = evaluate_models(X_train_lemma, X_test_lemma, y_train, y_test)"
   ]
  },
  {
   "cell_type": "code",
   "execution_count": 37,
   "metadata": {},
   "outputs": [
    {
     "data": {
      "text/html": [
       "<div>\n",
       "<style scoped>\n",
       "    .dataframe tbody tr th:only-of-type {\n",
       "        vertical-align: middle;\n",
       "    }\n",
       "\n",
       "    .dataframe tbody tr th {\n",
       "        vertical-align: top;\n",
       "    }\n",
       "\n",
       "    .dataframe thead th {\n",
       "        text-align: right;\n",
       "    }\n",
       "</style>\n",
       "<table border=\"1\" class=\"dataframe\">\n",
       "  <thead>\n",
       "    <tr style=\"text-align: right;\">\n",
       "      <th></th>\n",
       "      <th>best_params</th>\n",
       "      <th>best_score</th>\n",
       "    </tr>\n",
       "    <tr>\n",
       "      <th>model</th>\n",
       "      <th></th>\n",
       "      <th></th>\n",
       "    </tr>\n",
       "  </thead>\n",
       "  <tbody>\n",
       "    <tr>\n",
       "      <th>Logistic (count)</th>\n",
       "      <td>{'classifier__C': 1}</td>\n",
       "      <td>0.807600</td>\n",
       "    </tr>\n",
       "    <tr>\n",
       "      <th>Logistic (tfidf)</th>\n",
       "      <td>{'classifier__C': 1}</td>\n",
       "      <td>0.806725</td>\n",
       "    </tr>\n",
       "    <tr>\n",
       "      <th>Logistic (count)</th>\n",
       "      <td>{'classifier__C': 1}</td>\n",
       "      <td>0.802175</td>\n",
       "    </tr>\n",
       "    <tr>\n",
       "      <th>Logistic (tfidf)</th>\n",
       "      <td>{'classifier__C': 1}</td>\n",
       "      <td>0.801225</td>\n",
       "    </tr>\n",
       "    <tr>\n",
       "      <th>Bayes (count)</th>\n",
       "      <td>{}</td>\n",
       "      <td>0.801050</td>\n",
       "    </tr>\n",
       "    <tr>\n",
       "      <th>Bayes (tfidf)</th>\n",
       "      <td>{}</td>\n",
       "      <td>0.799650</td>\n",
       "    </tr>\n",
       "    <tr>\n",
       "      <th>Bayes (count)</th>\n",
       "      <td>{}</td>\n",
       "      <td>0.793050</td>\n",
       "    </tr>\n",
       "    <tr>\n",
       "      <th>Bayes (tfidf)</th>\n",
       "      <td>{}</td>\n",
       "      <td>0.790700</td>\n",
       "    </tr>\n",
       "    <tr>\n",
       "      <th>Decision Tree (tfidf)</th>\n",
       "      <td>{'classifier__max_depth': None}</td>\n",
       "      <td>0.778875</td>\n",
       "    </tr>\n",
       "    <tr>\n",
       "      <th>Decision Tree (count)</th>\n",
       "      <td>{'classifier__max_depth': None}</td>\n",
       "      <td>0.775775</td>\n",
       "    </tr>\n",
       "    <tr>\n",
       "      <th>Decision Tree (tfidf)</th>\n",
       "      <td>{'classifier__max_depth': None}</td>\n",
       "      <td>0.775675</td>\n",
       "    </tr>\n",
       "    <tr>\n",
       "      <th>Decision Tree (count)</th>\n",
       "      <td>{'classifier__max_depth': None}</td>\n",
       "      <td>0.772200</td>\n",
       "    </tr>\n",
       "  </tbody>\n",
       "</table>\n",
       "</div>"
      ],
      "text/plain": [
       "                                           best_params  best_score\n",
       "model                                                             \n",
       "Logistic (count)                  {'classifier__C': 1}    0.807600\n",
       "Logistic (tfidf)                  {'classifier__C': 1}    0.806725\n",
       "Logistic (count)                  {'classifier__C': 1}    0.802175\n",
       "Logistic (tfidf)                  {'classifier__C': 1}    0.801225\n",
       "Bayes (count)                                       {}    0.801050\n",
       "Bayes (tfidf)                                       {}    0.799650\n",
       "Bayes (count)                                       {}    0.793050\n",
       "Bayes (tfidf)                                       {}    0.790700\n",
       "Decision Tree (tfidf)  {'classifier__max_depth': None}    0.778875\n",
       "Decision Tree (count)  {'classifier__max_depth': None}    0.775775\n",
       "Decision Tree (tfidf)  {'classifier__max_depth': None}    0.775675\n",
       "Decision Tree (count)  {'classifier__max_depth': None}    0.772200"
      ]
     },
     "execution_count": 37,
     "metadata": {},
     "output_type": "execute_result"
    }
   ],
   "source": [
    "# Display the best results\n",
    "best_results = pd.concat([stem_results, lemma_results]).sort_values(by='best_score', ascending=False)\n",
    "best_results"
   ]
  },
  {
   "cell_type": "code",
   "execution_count": null,
   "metadata": {},
   "outputs": [],
   "source": []
  }
 ],
 "metadata": {
  "kernelspec": {
   "display_name": "Python 3 (ipykernel)",
   "language": "python",
   "name": "python3"
  },
  "language_info": {
   "codemirror_mode": {
    "name": "ipython",
    "version": 3
   },
   "file_extension": ".py",
   "mimetype": "text/x-python",
   "name": "python",
   "nbconvert_exporter": "python",
   "pygments_lexer": "ipython3",
   "version": "3.11.7"
  }
 },
 "nbformat": 4,
 "nbformat_minor": 4
}
