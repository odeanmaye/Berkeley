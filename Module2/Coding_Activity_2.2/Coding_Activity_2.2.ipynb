{
 "cells": [
  {
   "cell_type": "markdown",
   "metadata": {
    "deletable": false,
    "editable": false,
    "nbgrader": {
     "checksum": "4f51a475b1c2e284d7d5fecfec0f5a87",
     "grade": false,
     "grade_id": "cell-461400fc0dc0e751",
     "locked": true,
     "schema_version": 1,
     "solution": false
    }
   },
   "source": [
    "### Codio Activity 2.2: Gaussian Distributions\n",
    "\n",
    "**Expected Time**: 45 Minutes\n",
    "\n",
    "**Total Points**: 10\n",
    "\n",
    "This activity focuses on generating and examining Gaussian distributions using `scipy.stats`.  The main idea is to use the distribution to generate a sample and compare the sample statistics to those known in your distribution.   Note that you are to use the `.rvs` method of the distribution object rather than any NumPy methods directly for generating samples.  \n",
    "\n",
    "#### Index:\n",
    "\n",
    "- [Problem 1](#Problem-1:-Creating-Gaussian-Distribution-Object)\n",
    "- [Problem 2](#Problem-2:-Random-Samples-from-Distribution)\n",
    "- [Problem 3](#Problem-3:-Statistics-of-Sample)\n",
    "\n"
   ]
  },
  {
   "cell_type": "code",
   "execution_count": 2,
   "metadata": {
    "deletable": false,
    "editable": false,
    "nbgrader": {
     "checksum": "93528a09bacae0fd2b5767ea8479a8f5",
     "grade": false,
     "grade_id": "cell-236f3f9e3744ea22",
     "locked": true,
     "schema_version": 1,
     "solution": false
    }
   },
   "outputs": [],
   "source": [
    "from scipy.stats import uniform\n",
    "from scipy.stats import norm\n",
    "import matplotlib.pyplot as plt\n",
    "import numpy as np"
   ]
  },
  {
   "cell_type": "markdown",
   "metadata": {
    "deletable": false,
    "editable": false,
    "nbgrader": {
     "checksum": "de3b7cc217ad2f674eddc0965ed11de9",
     "grade": false,
     "grade_id": "cell-a7af65a5fb7e1964",
     "locked": true,
     "schema_version": 1,
     "solution": false
    }
   },
   "source": [
    "[Back to top](#Index:) \n",
    "\n",
    "### Problem 1: Creating a Gaussian Distribution Object\n",
    "\n",
    "**2 Points**\n",
    "\n",
    "Above, the Gaussian distribution function has been imported using the `norm` function from the `scipy.stats` library.\n",
    "\n",
    "Use this function to create a Guassian distribution centered at 5 with standard deviation equal to 2.  Assign your solution as a distribution object to `gauss1` below.\n",
    "    \n",
    "\n",
    "    "
   ]
  },
  {
   "cell_type": "code",
   "execution_count": 5,
   "metadata": {
    "deletable": false,
    "nbgrader": {
     "checksum": "d8ed510e3179f701b0f4e6540a61196f",
     "grade": false,
     "grade_id": "cell-d3775252487c85f0",
     "locked": false,
     "schema_version": 1,
     "solution": true
    }
   },
   "outputs": [
    {
     "name": "stdout",
     "output_type": "stream",
     "text": [
      "<class 'scipy.stats._distn_infrastructure.rv_continuous_frozen'>\n"
     ]
    }
   ],
   "source": [
    "### GRADED\n",
    "# Create a gausssian distribution from sample set\n",
    "\n",
    "gauss1 = None\n",
    "\n",
    "# YOUR CODE HERE\n",
    "gauss1 = norm(loc=5, scale=2)\n",
    "\n",
    "# ANSWER CHECK\n",
    "print(type(gauss1))"
   ]
  },
  {
   "cell_type": "code",
   "execution_count": null,
   "metadata": {
    "deletable": false,
    "editable": false,
    "nbgrader": {
     "checksum": "36565cff4f3a460bdd81ece4168bab66",
     "grade": true,
     "grade_id": "cell-dc39780bf9835f3c",
     "locked": true,
     "points": 3,
     "schema_version": 1,
     "solution": false
    }
   },
   "outputs": [],
   "source": []
  },
  {
   "cell_type": "markdown",
   "metadata": {
    "deletable": false,
    "editable": false,
    "nbgrader": {
     "checksum": "f8a422144bb0fdf48ffaa2383ae1b88d",
     "grade": false,
     "grade_id": "cell-2dbf674c72ead722",
     "locked": true,
     "schema_version": 1,
     "solution": false
    }
   },
   "source": [
    "[Back to top](#Index:) \n",
    "\n",
    "### Problem 2: Random Samples from Distribution\n",
    "\n",
    "**3 Points**\n",
    "\n",
    "Use the `.rvs` method on `gauss1` to generate 100 random samples from the distribution.  Inside the `.rvs` method, set`random_state` equal to 12. Assign your response as an array to the variable `samples` below."
   ]
  },
  {
   "cell_type": "code",
   "execution_count": 7,
   "metadata": {
    "deletable": false,
    "nbgrader": {
     "checksum": "9e6f521ced3bae7c8489de28367f1eb8",
     "grade": false,
     "grade_id": "cell-1174f4d488906999",
     "locked": false,
     "schema_version": 1,
     "solution": true
    }
   },
   "outputs": [
    {
     "name": "stdout",
     "output_type": "stream",
     "text": [
      "<class 'numpy.ndarray'>\n",
      "100\n"
     ]
    }
   ],
   "source": [
    "### GRADED\n",
    "\n",
    "samples = ''\n",
    "\n",
    "# YOUR CODE HERE\n",
    "samples = gauss1.rvs(size=100, random_state=12)\n",
    "\n",
    "# ANSWER CHECK\n",
    "print(type(samples))\n",
    "print(len(samples))"
   ]
  },
  {
   "cell_type": "code",
   "execution_count": null,
   "metadata": {
    "deletable": false,
    "editable": false,
    "nbgrader": {
     "checksum": "366e9bf8efad47168a39dfe4652ec4af",
     "grade": true,
     "grade_id": "cell-17eeca9f3fb1bfc0",
     "locked": true,
     "points": 4,
     "schema_version": 1,
     "solution": false
    }
   },
   "outputs": [],
   "source": []
  },
  {
   "cell_type": "markdown",
   "metadata": {
    "deletable": false,
    "editable": false,
    "nbgrader": {
     "checksum": "c534da540c55ff5deb373edb9dfada11",
     "grade": false,
     "grade_id": "cell-d8757af1fc766bb8",
     "locked": true,
     "schema_version": 1,
     "solution": false
    }
   },
   "source": [
    "[Back to top](#Index:) \n",
    "\n",
    "### Problem 3: Statistics of Sample\n",
    "\n",
    "**2 Points**\n",
    "\n",
    "Use `np.mean` and `np.std` on the variable `samples` you defined in Problem 2 to determine the mean and standard deviation of the sample values.\n",
    "\n",
    "Assign the result to the variables `sample_mean` and `sample_std`, respectively. "
   ]
  },
  {
   "cell_type": "code",
   "execution_count": 9,
   "metadata": {
    "deletable": false,
    "nbgrader": {
     "checksum": "fdb535d8c1bbf78554b83f3f85610759",
     "grade": false,
     "grade_id": "cell-3537ed91e58c86f3",
     "locked": false,
     "schema_version": 1,
     "solution": true
    }
   },
   "outputs": [
    {
     "name": "stdout",
     "output_type": "stream",
     "text": [
      "4.711385004722623\n",
      "<class 'numpy.float64'>\n"
     ]
    }
   ],
   "source": [
    "### GRADED\n",
    "\n",
    "sample_mean = ''\n",
    "sample_std = ''\n",
    "\n",
    "# YOUR CODE HERE\n",
    "sample_mean = np.mean(samples)\n",
    "sample_std = np.std(samples)\n",
    "\n",
    "# ANSWER CHECK\n",
    "print(sample_mean)\n",
    "print(type(sample_mean))"
   ]
  },
  {
   "cell_type": "code",
   "execution_count": null,
   "metadata": {
    "deletable": false,
    "editable": false,
    "nbgrader": {
     "checksum": "7ca54b38d36c211a8d1fa7200721208a",
     "grade": true,
     "grade_id": "cell-68ec6d82462fa109",
     "locked": true,
     "points": 3,
     "schema_version": 1,
     "solution": false
    }
   },
   "outputs": [],
   "source": []
  },
  {
   "cell_type": "markdown",
   "metadata": {
    "deletable": false,
    "editable": false,
    "nbgrader": {
     "checksum": "f449c12677773c54c9c5e4aaa738a6cc",
     "grade": false,
     "grade_id": "cell-eab09377886228bf",
     "locked": true,
     "schema_version": 1,
     "solution": false
    }
   },
   "source": [
    "[Back to top](#Index:) \n",
    "\n",
    "### Plotting the Distribution and Sample\n",
    "\n",
    "The plot below shows the distribution of the data used in this activity.\n",
    "\n",
    "![](images/distandsamples.png)\n",
    "\n",
    "The distribution created is centered at 5 with a standard deviation of 2.  By properties of the normal distribution, 99% of the data will be with $\\pm ~ 3\\sigma$.  Accordingly, an array `x` is created using `np.linspace` with 1000 evenly spaced values $\\mu \\pm 3\\sigma$ (plus and minus three standard deviations from the mean).  \n",
    "\n",
    "The code to create the plot above is given below:\n",
    "\n",
    "\n"
   ]
  },
  {
   "cell_type": "code",
   "execution_count": 11,
   "metadata": {
    "deletable": false,
    "editable": false,
    "nbgrader": {
     "checksum": "44c0669aa95d16f4d589dfd092af619f",
     "grade": false,
     "grade_id": "cell-40126c3070c2ab0b",
     "locked": true,
     "schema_version": 1,
     "solution": false
    }
   },
   "outputs": [
    {
     "data": {
      "image/png": "[encoded data removed]",
      "text/plain": [
       "<Figure size 640x480 with 1 Axes>"
      ]
     },
     "metadata": {},
     "output_type": "display_data"
    }
   ],
   "source": [
    "x = np.linspace(-1, 11, 1000)\n",
    "plt.plot(x, gauss1.pdf(x), color = 'black', linewidth = 4, label = 'distribution')\n",
    "plt.hist(samples, density=True, alpha = 0.2, bins = 10, edgecolor = 'black', label = 'sample')\n",
    "plt.legend();\n"
   ]
  },
  {
   "cell_type": "code",
   "execution_count": null,
   "metadata": {},
   "outputs": [],
   "source": []
  }
 ],
 "metadata": {
  "kernelspec": {
   "display_name": "Python 3 (ipykernel)",
   "language": "python",
   "name": "python3"
  },
  "language_info": {
   "codemirror_mode": {
    "name": "ipython",
    "version": 3
   },
   "file_extension": ".py",
   "mimetype": "text/x-python",
   "name": "python",
   "nbconvert_exporter": "python",
   "pygments_lexer": "ipython3",
   "version": "3.11.7"
  }
 },
 "nbformat": 4,
 "nbformat_minor": 4
}
