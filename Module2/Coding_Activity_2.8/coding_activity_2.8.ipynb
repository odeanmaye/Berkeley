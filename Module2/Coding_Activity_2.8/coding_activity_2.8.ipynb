{
 "cells": [
  {
   "cell_type": "markdown",
   "metadata": {
    "deletable": false,
    "editable": false,
    "nbgrader": {
     "checksum": "b93639ee51622f30a166341d1b01e651",
     "grade": false,
     "grade_id": "cell-06613f3a45089772",
     "locked": true,
     "schema_version": 1,
     "solution": false
    }
   },
   "source": [
    "### Codio Activity 2.8: Histograms and Conditional Probability Distributions\n",
    "\n",
    "**Expected Time: 45 Minutes**\n",
    "\n",
    "**Total Points: 20**\n",
    "\n",
    "This assignment uses `pandas` and `seaborn` to plot distributions of data conditioned on categorical features.  \n",
    "\n",
    "#### Index:\n",
    "\n",
    "- [Question 1](#Problem-1:-Conditional-Probabilities-with-`pandas`)\n",
    "- [Question 2](#Problem-2:-$P(age->-40-|-class-=-~--'Second')$)\n",
    "- [Question 3](#Problem-3:-Visualizing-the-Conditional-Probability)\n",
    "- [Question 4](#Problem-4:-$P(\\text{over 30}-|-\\text{survived})$)\n",
    "- [Question 5](#Problem-5:-Which-is-more-likely?)\n"
   ]
  },
  {
   "cell_type": "code",
   "execution_count": 52,
   "metadata": {
    "deletable": false,
    "editable": false,
    "nbgrader": {
     "checksum": "3de2cb7ff7865819ae550cdcb82b1a01",
     "grade": false,
     "grade_id": "cell-513465b08c79e5fe",
     "locked": true,
     "schema_version": 1,
     "solution": false
    }
   },
   "outputs": [],
   "source": [
    "import pandas as pd\n",
    "import seaborn as sns\n",
    "import numpy as np"
   ]
  },
  {
   "cell_type": "markdown",
   "metadata": {
    "deletable": false,
    "editable": false,
    "nbgrader": {
     "checksum": "3ac2866c81755b5e67d17da48175bad9",
     "grade": false,
     "grade_id": "cell-d2027291102d10e9",
     "locked": true,
     "schema_version": 1,
     "solution": false
    }
   },
   "source": [
    "### The Dataset\n",
    "\n",
    "For this assignment the dataset from `seaborn` relating to the titanic will be used.  This dataset contains specific information for each passenger on the titanic cruise ship.  Below the data is loaded, the first five rows displayed, and information on features displayed.  \n",
    "\n"
   ]
  },
  {
   "cell_type": "code",
   "execution_count": 55,
   "metadata": {
    "deletable": false,
    "editable": false,
    "nbgrader": {
     "checksum": "99732adeeace43db8c0836b631125c58",
     "grade": false,
     "grade_id": "cell-6d7905e41a78705f",
     "locked": true,
     "schema_version": 1,
     "solution": false
    }
   },
   "outputs": [],
   "source": [
    "titanic = sns.load_dataset('titanic')"
   ]
  },
  {
   "cell_type": "code",
   "execution_count": 57,
   "metadata": {
    "deletable": false,
    "editable": false,
    "nbgrader": {
     "checksum": "7cfd7afc718ee0dbf1cf58e8d2905db3",
     "grade": false,
     "grade_id": "cell-a32f42b473098325",
     "locked": true,
     "schema_version": 1,
     "solution": false
    }
   },
   "outputs": [
    {
     "data": {
      "text/html": [
       "<div>\n",
       "<style scoped>\n",
       "    .dataframe tbody tr th:only-of-type {\n",
       "        vertical-align: middle;\n",
       "    }\n",
       "\n",
       "    .dataframe tbody tr th {\n",
       "        vertical-align: top;\n",
       "    }\n",
       "\n",
       "    .dataframe thead th {\n",
       "        text-align: right;\n",
       "    }\n",
       "</style>\n",
       "<table border=\"1\" class=\"dataframe\">\n",
       "  <thead>\n",
       "    <tr style=\"text-align: right;\">\n",
       "      <th></th>\n",
       "      <th>survived</th>\n",
       "      <th>pclass</th>\n",
       "      <th>sex</th>\n",
       "      <th>age</th>\n",
       "      <th>sibsp</th>\n",
       "      <th>parch</th>\n",
       "      <th>fare</th>\n",
       "      <th>embarked</th>\n",
       "      <th>class</th>\n",
       "      <th>who</th>\n",
       "      <th>adult_male</th>\n",
       "      <th>deck</th>\n",
       "      <th>embark_town</th>\n",
       "      <th>alive</th>\n",
       "      <th>alone</th>\n",
       "    </tr>\n",
       "  </thead>\n",
       "  <tbody>\n",
       "    <tr>\n",
       "      <th>0</th>\n",
       "      <td>0</td>\n",
       "      <td>3</td>\n",
       "      <td>male</td>\n",
       "      <td>22.0</td>\n",
       "      <td>1</td>\n",
       "      <td>0</td>\n",
       "      <td>7.2500</td>\n",
       "      <td>S</td>\n",
       "      <td>Third</td>\n",
       "      <td>man</td>\n",
       "      <td>True</td>\n",
       "      <td>NaN</td>\n",
       "      <td>Southampton</td>\n",
       "      <td>no</td>\n",
       "      <td>False</td>\n",
       "    </tr>\n",
       "    <tr>\n",
       "      <th>1</th>\n",
       "      <td>1</td>\n",
       "      <td>1</td>\n",
       "      <td>female</td>\n",
       "      <td>38.0</td>\n",
       "      <td>1</td>\n",
       "      <td>0</td>\n",
       "      <td>71.2833</td>\n",
       "      <td>C</td>\n",
       "      <td>First</td>\n",
       "      <td>woman</td>\n",
       "      <td>False</td>\n",
       "      <td>C</td>\n",
       "      <td>Cherbourg</td>\n",
       "      <td>yes</td>\n",
       "      <td>False</td>\n",
       "    </tr>\n",
       "    <tr>\n",
       "      <th>2</th>\n",
       "      <td>1</td>\n",
       "      <td>3</td>\n",
       "      <td>female</td>\n",
       "      <td>26.0</td>\n",
       "      <td>0</td>\n",
       "      <td>0</td>\n",
       "      <td>7.9250</td>\n",
       "      <td>S</td>\n",
       "      <td>Third</td>\n",
       "      <td>woman</td>\n",
       "      <td>False</td>\n",
       "      <td>NaN</td>\n",
       "      <td>Southampton</td>\n",
       "      <td>yes</td>\n",
       "      <td>True</td>\n",
       "    </tr>\n",
       "    <tr>\n",
       "      <th>3</th>\n",
       "      <td>1</td>\n",
       "      <td>1</td>\n",
       "      <td>female</td>\n",
       "      <td>35.0</td>\n",
       "      <td>1</td>\n",
       "      <td>0</td>\n",
       "      <td>53.1000</td>\n",
       "      <td>S</td>\n",
       "      <td>First</td>\n",
       "      <td>woman</td>\n",
       "      <td>False</td>\n",
       "      <td>C</td>\n",
       "      <td>Southampton</td>\n",
       "      <td>yes</td>\n",
       "      <td>False</td>\n",
       "    </tr>\n",
       "    <tr>\n",
       "      <th>4</th>\n",
       "      <td>0</td>\n",
       "      <td>3</td>\n",
       "      <td>male</td>\n",
       "      <td>35.0</td>\n",
       "      <td>0</td>\n",
       "      <td>0</td>\n",
       "      <td>8.0500</td>\n",
       "      <td>S</td>\n",
       "      <td>Third</td>\n",
       "      <td>man</td>\n",
       "      <td>True</td>\n",
       "      <td>NaN</td>\n",
       "      <td>Southampton</td>\n",
       "      <td>no</td>\n",
       "      <td>True</td>\n",
       "    </tr>\n",
       "  </tbody>\n",
       "</table>\n",
       "</div>"
      ],
      "text/plain": [
       "   survived  pclass     sex   age  sibsp  parch     fare embarked  class  \\\n",
       "0         0       3    male  22.0      1      0   7.2500        S  Third   \n",
       "1         1       1  female  38.0      1      0  71.2833        C  First   \n",
       "2         1       3  female  26.0      0      0   7.9250        S  Third   \n",
       "3         1       1  female  35.0      1      0  53.1000        S  First   \n",
       "4         0       3    male  35.0      0      0   8.0500        S  Third   \n",
       "\n",
       "     who  adult_male deck  embark_town alive  alone  \n",
       "0    man        True  NaN  Southampton    no  False  \n",
       "1  woman       False    C    Cherbourg   yes  False  \n",
       "2  woman       False  NaN  Southampton   yes   True  \n",
       "3  woman       False    C  Southampton   yes  False  \n",
       "4    man        True  NaN  Southampton    no   True  "
      ]
     },
     "execution_count": 57,
     "metadata": {},
     "output_type": "execute_result"
    }
   ],
   "source": [
    "titanic.head()"
   ]
  },
  {
   "cell_type": "code",
   "execution_count": 59,
   "metadata": {
    "deletable": false,
    "editable": false,
    "nbgrader": {
     "checksum": "2e7319dd182ef3a51e7d94d8024d1d57",
     "grade": false,
     "grade_id": "cell-eac91a2d03dd8704",
     "locked": true,
     "schema_version": 1,
     "solution": false
    }
   },
   "outputs": [
    {
     "name": "stdout",
     "output_type": "stream",
     "text": [
      "<class 'pandas.core.frame.DataFrame'>\n",
      "RangeIndex: 891 entries, 0 to 890\n",
      "Data columns (total 15 columns):\n",
      " #   Column       Non-Null Count  Dtype   \n",
      "---  ------       --------------  -----   \n",
      " 0   survived     891 non-null    int64   \n",
      " 1   pclass       891 non-null    int64   \n",
      " 2   sex          891 non-null    object  \n",
      " 3   age          714 non-null    float64 \n",
      " 4   sibsp        891 non-null    int64   \n",
      " 5   parch        891 non-null    int64   \n",
      " 6   fare         891 non-null    float64 \n",
      " 7   embarked     889 non-null    object  \n",
      " 8   class        891 non-null    category\n",
      " 9   who          891 non-null    object  \n",
      " 10  adult_male   891 non-null    bool    \n",
      " 11  deck         203 non-null    category\n",
      " 12  embark_town  889 non-null    object  \n",
      " 13  alive        891 non-null    object  \n",
      " 14  alone        891 non-null    bool    \n",
      "dtypes: bool(2), category(2), float64(2), int64(4), object(5)\n",
      "memory usage: 80.7+ KB\n"
     ]
    }
   ],
   "source": [
    "titanic.info()"
   ]
  },
  {
   "cell_type": "markdown",
   "metadata": {
    "deletable": false,
    "editable": false,
    "nbgrader": {
     "checksum": "086d91a72b6a2dd334812a2848bb6627",
     "grade": false,
     "grade_id": "cell-03fbbbd76c52b364",
     "locked": true,
     "schema_version": 1,
     "solution": false
    }
   },
   "source": [
    "[Back to top](#Index:) \n",
    "\n",
    "### Problem 1: Conditional Probabilities with `pandas`\n",
    "\n",
    "**3 Points**\n",
    "\n",
    "Using the `titanic` data, conditional probabilities can be calculated by subsetting the data to the condition of interest and comparing the outcomes within this criteria.  For example, what is the probability given that someone is in first class that they are over the age of 40? \n",
    "\n",
    "To compute this, assign the following objects to the specified variable:\n",
    "\n",
    "```python\n",
    "first_class = #how many people in first class\n",
    "first_class_over_40 = #how many people in first class were over the age of 40?\n",
    "p_over_40_given_first_class = #p(age > 40 | class = First)\n",
    "```"
   ]
  },
  {
   "cell_type": "code",
   "execution_count": 62,
   "metadata": {
    "deletable": false,
    "nbgrader": {
     "checksum": "a7319b2f6c84f43c90df6c9927a0309e",
     "grade": false,
     "grade_id": "cell-bb5bface46609af6",
     "locked": false,
     "schema_version": 1,
     "solution": true
    }
   },
   "outputs": [
    {
     "name": "stdout",
     "output_type": "stream",
     "text": [
      "0.35185185185185186\n"
     ]
    }
   ],
   "source": [
    "### GRADED\n",
    "\n",
    "first_class = ''\n",
    "first_class_over_40 = ''\n",
    "p_over_40_given_first_class = ''\n",
    "\n",
    "# YOUR CODE HERE\n",
    "first_class = titanic.loc[titanic['class'] == 'First'].shape[0]\n",
    "first_class_over_40 = titanic.loc[(titanic['age'] > 40) & (titanic['class'] == 'First')].shape[0]\n",
    "p_over_40_given_first_class = first_class_over_40/first_class\n",
    "\n",
    "# Answer check\n",
    "print(p_over_40_given_first_class)"
   ]
  },
  {
   "cell_type": "code",
   "execution_count": null,
   "metadata": {
    "deletable": false,
    "editable": false,
    "nbgrader": {
     "checksum": "45ef9a223d913730f2ce2b22299e3b30",
     "grade": true,
     "grade_id": "cell-0785a8865ff83658",
     "locked": true,
     "points": 3,
     "schema_version": 1,
     "solution": false
    }
   },
   "outputs": [],
   "source": []
  },
  {
   "cell_type": "markdown",
   "metadata": {
    "deletable": false,
    "editable": false,
    "nbgrader": {
     "checksum": "235b84a1191f89c50eb6560163bcab6b",
     "grade": false,
     "grade_id": "cell-09894f6fddbf1e37",
     "locked": true,
     "schema_version": 1,
     "solution": false
    }
   },
   "source": [
    "[Back to top](#Index:) \n",
    "\n",
    "### Problem 2: $P(age > 40 | class = ~  'Second')$\n",
    "\n",
    "**3 Points**\n",
    "\n",
    "Now compute the probability that a passenger is over the age of 40 given that the passenger was in second class.  \n",
    "\n",
    "To compute this, assign the following objects to the specified variable:\n",
    "\n",
    "```python\n",
    "second_class = #how many people in second class\n",
    "second_class_over_40 = #how many people in second class were over the age of 40?\n",
    "p_over_40_given_second_class = #p(age > 40 | class = Second)\n",
    "```\n",
    "\n"
   ]
  },
  {
   "cell_type": "code",
   "execution_count": 66,
   "metadata": {
    "deletable": false,
    "nbgrader": {
     "checksum": "3c9ca8c97237b39036de8e732269a677",
     "grade": false,
     "grade_id": "cell-a874935c2eb9a5ef",
     "locked": false,
     "schema_version": 1,
     "solution": true
    }
   },
   "outputs": [
    {
     "name": "stdout",
     "output_type": "stream",
     "text": [
      "0.18478260869565216\n"
     ]
    }
   ],
   "source": [
    "### GRADED\n",
    "\n",
    "second_class = ''\n",
    "second_class_over_40 = ''\n",
    "p_over_40_given_second_class = ''\n",
    "\n",
    "# YOUR CODE HERE\n",
    "second_class = titanic.loc[titanic['class'] == 'Second'].shape[0]\n",
    "second_class_over_40 = titanic.loc[(titanic['age'] > 40) & (titanic['class'] == 'Second')].shape[0]\n",
    "p_over_40_given_second_class = second_class_over_40/second_class\n",
    "\n",
    "# Answer check\n",
    "print(p_over_40_given_second_class)"
   ]
  },
  {
   "cell_type": "code",
   "execution_count": null,
   "metadata": {
    "deletable": false,
    "editable": false,
    "nbgrader": {
     "checksum": "1cc3acc8bb057c36884af45ea25d9d50",
     "grade": true,
     "grade_id": "cell-92ce1ceba2fc1d52",
     "locked": true,
     "points": 3,
     "schema_version": 1,
     "solution": false
    }
   },
   "outputs": [],
   "source": []
  },
  {
   "cell_type": "markdown",
   "metadata": {
    "deletable": false,
    "editable": false,
    "nbgrader": {
     "checksum": "f0c4fc9f2da3920e6f0fae9a86ec1773",
     "grade": false,
     "grade_id": "cell-1ea2335b5ec22847",
     "locked": true,
     "schema_version": 1,
     "solution": false
    }
   },
   "source": [
    "[Back to top](#Index:) \n",
    "\n",
    "### Problem 3: Visualizing the Conditional Probability\n",
    "\n",
    "**4 Points**\n",
    "\n",
    "\n",
    "To visualize the earlier conditional probabilities, draw a plot containing a histogram of the age distribution of passengers in first and second class. Follow the hints below for one approach and use `sns.histplot()` function for drawing the histograms."
   ]
  },
  {
   "cell_type": "code",
   "execution_count": 70,
   "metadata": {
    "deletable": false,
    "nbgrader": {
     "checksum": "d7eeb7078ec1ac884ff8882987258d06",
     "grade": false,
     "grade_id": "cell-dbe61fd0af740b03",
     "locked": false,
     "schema_version": 1,
     "solution": true
    }
   },
   "outputs": [
    {
     "name": "stderr",
     "output_type": "stream",
     "text": [
      "/usr/local/anaconda3/lib/python3.11/site-packages/seaborn/_oldcore.py:1119: FutureWarning: use_inf_as_na option is deprecated and will be removed in a future version. Convert inf values to NaN before operating instead.\n",
      "  with pd.option_context('mode.use_inf_as_na', True):\n",
      "/usr/local/anaconda3/lib/python3.11/site-packages/seaborn/_oldcore.py:1119: FutureWarning: use_inf_as_na option is deprecated and will be removed in a future version. Convert inf values to NaN before operating instead.\n",
      "  with pd.option_context('mode.use_inf_as_na', True):\n"
     ]
    },
    {
     "data": {
      "text/plain": [
       "<Axes: xlabel='age', ylabel='Count'>"
      ]
     },
     "execution_count": 70,
     "metadata": {},
     "output_type": "execute_result"
    },
    {
     "data": {
      "image/png": "[encoded data removed]",
      "text/plain": [
       "<Figure size 640x480 with 1 Axes>"
      ]
     },
     "metadata": {},
     "output_type": "display_data"
    }
   ],
   "source": [
    "### GRADED\n",
    "\n",
    "first_class = ''\n",
    "second_class = ''\n",
    "\n",
    "# YOUR CODE HERE\n",
    "#histogram of first class\n",
    "first_class = titanic.loc[titanic['class'] == 'First']['age']\n",
    "sns.histplot(first_class, color = 'orange', alpha = 0.7)\n",
    "\n",
    "#histogram of second class\n",
    "second_class = titanic.loc[titanic['class'] == 'Second']['age']\n",
    "sns.histplot(second_class, color = 'lightblue', alpha = 0.7)"
   ]
  },
  {
   "cell_type": "code",
   "execution_count": null,
   "metadata": {
    "deletable": false,
    "editable": false,
    "nbgrader": {
     "checksum": "2a1dec8ac9d8a049d7628970c351c472",
     "grade": true,
     "grade_id": "cell-adda38c44d5f6a81",
     "locked": true,
     "points": 4,
     "schema_version": 1,
     "solution": false
    }
   },
   "outputs": [],
   "source": []
  },
  {
   "cell_type": "markdown",
   "metadata": {
    "deletable": false,
    "editable": false,
    "nbgrader": {
     "checksum": "2e1179cb0047b178b56ca0a19d06e11a",
     "grade": false,
     "grade_id": "cell-8f478a1bb6a7401a",
     "locked": true,
     "schema_version": 1,
     "solution": false
    }
   },
   "source": [
    "[Back to top](#Index:) \n",
    "\n",
    "### Problem 4: $P(\\text{over 30} | \\text{survived})$\n",
    "\n",
    "**4 Points**\n",
    "\n",
    "\n",
    "Compute the probability given that a passenger survived, given that they were over the age of 30. \n",
    "\n",
    "\n",
    "To compute this, assign the following objects to the specified variable:\n",
    "\n",
    "```python\n",
    "num_survived = #how many people survived\n",
    "survived_over_30 = #how many of the survived people were over 30?\n",
    "p_over_30_given_survived = #p(age > 30 | survived)\n",
    "```\n"
   ]
  },
  {
   "cell_type": "code",
   "execution_count": 27,
   "metadata": {
    "deletable": false,
    "nbgrader": {
     "checksum": "89c95a0b0510c4ff95de2f902ae547b3",
     "grade": false,
     "grade_id": "cell-9de7f333272022ac",
     "locked": false,
     "schema_version": 1,
     "solution": true
    }
   },
   "outputs": [
    {
     "name": "stdout",
     "output_type": "stream",
     "text": [
      "0.13916947250280584\n"
     ]
    }
   ],
   "source": [
    "### GRADED\n",
    "\n",
    "num_survived = ''\n",
    "survived_over_30 = ''\n",
    "p_over_30_given_survived = ''\n",
    "\n",
    "# YOUR CODE HERE\n",
    "num_survived = len(titanic[titanic['survived'] == 1])\n",
    "survived_over_30 = len(titanic[(titanic['survived'] == 1) & (titanic['age'] > 30)])\n",
    "p_over_30_given_survived = survived_over_30/len(titanic)\n",
    "\n",
    "# Answer check\n",
    "print(p_over_30_given_survived)"
   ]
  },
  {
   "cell_type": "code",
   "execution_count": null,
   "metadata": {
    "deletable": false,
    "editable": false,
    "nbgrader": {
     "checksum": "94880f197cf0c8bcfb7d92bd13474fae",
     "grade": true,
     "grade_id": "cell-ae60469c77bdb37e",
     "locked": true,
     "points": 6,
     "schema_version": 1,
     "solution": false
    }
   },
   "outputs": [],
   "source": []
  },
  {
   "cell_type": "markdown",
   "metadata": {
    "deletable": false,
    "editable": false,
    "nbgrader": {
     "checksum": "89dd10d11d14e68292716342ee5f939b",
     "grade": false,
     "grade_id": "cell-093f61def65033d2",
     "locked": true,
     "schema_version": 1,
     "solution": false
    }
   },
   "source": [
    "[Back to top](#Index:) \n",
    "\n",
    "### Distribution of Ages for Survived and Not Survived\n",
    "\n",
    "\n",
    "\n",
    "To plot below shows the distribution of ages for those that survived and those that did not together on the same axes."
   ]
  },
  {
   "cell_type": "code",
   "execution_count": 31,
   "metadata": {
    "deletable": false,
    "editable": false,
    "nbgrader": {
     "checksum": "b1f0bb27c4b9c204444c4fb021c1f088",
     "grade": false,
     "grade_id": "cell-5b658f1e5b65f1f9",
     "locked": true,
     "schema_version": 1,
     "solution": false
    }
   },
   "outputs": [
    {
     "name": "stderr",
     "output_type": "stream",
     "text": [
      "/usr/local/anaconda3/lib/python3.11/site-packages/seaborn/_oldcore.py:1119: FutureWarning: use_inf_as_na option is deprecated and will be removed in a future version. Convert inf values to NaN before operating instead.\n",
      "  with pd.option_context('mode.use_inf_as_na', True):\n"
     ]
    },
    {
     "data": {
      "text/plain": [
       "<Axes: xlabel='age', ylabel='Count'>"
      ]
     },
     "execution_count": 31,
     "metadata": {},
     "output_type": "execute_result"
    },
    {
     "data": {
      "image/png": "[encoded data removed]",
      "text/plain": [
       "<Figure size 640x480 with 1 Axes>"
      ]
     },
     "metadata": {},
     "output_type": "display_data"
    }
   ],
   "source": [
    "\n",
    "sns.histplot(data = titanic, x = 'age', hue = 'survived')\n"
   ]
  },
  {
   "cell_type": "markdown",
   "metadata": {
    "deletable": false,
    "editable": false,
    "nbgrader": {
     "checksum": "97fc4617f70beeda345f92f48370cd47",
     "grade": false,
     "grade_id": "cell-972a7e076c271666",
     "locked": true,
     "schema_version": 1,
     "solution": false
    }
   },
   "source": [
    "[Back to top](#Index:) \n",
    "\n",
    "### Problem 5: Which is more likely?\n",
    "\n",
    "**3 Points**\n",
    "\n",
    "Based on your histogram above, given that a person was under the age of 20, is it more likely that they survived or that they did not survive?  \n",
    "\n",
    "Assign your answer as a boolean value to the variable `survived` below. True means you believe more likely to have survived, False more likely to be deceased."
   ]
  },
  {
   "cell_type": "code",
   "execution_count": 33,
   "metadata": {
    "deletable": false,
    "nbgrader": {
     "checksum": "c3af445d14c85356d69a45f36072b6d3",
     "grade": false,
     "grade_id": "cell-abe5fe5c1f79a12a",
     "locked": false,
     "schema_version": 1,
     "solution": true
    }
   },
   "outputs": [],
   "source": [
    "### GRADED\n",
    "\n",
    "survived = ''\n",
    "\n",
    "# YOUR CODE HERE\n",
    "survived = False"
   ]
  },
  {
   "cell_type": "code",
   "execution_count": null,
   "metadata": {
    "deletable": false,
    "editable": false,
    "nbgrader": {
     "checksum": "7e4adb2ec8d48473c803afcd8de01f90",
     "grade": true,
     "grade_id": "cell-b1edd3cff7d83337",
     "locked": true,
     "points": 4,
     "schema_version": 1,
     "solution": false
    }
   },
   "outputs": [],
   "source": []
  }
 ],
 "metadata": {
  "kernelspec": {
   "display_name": "Python 3 (ipykernel)",
   "language": "python",
   "name": "python3"
  },
  "language_info": {
   "codemirror_mode": {
    "name": "ipython",
    "version": 3
   },
   "file_extension": ".py",
   "mimetype": "text/x-python",
   "name": "python",
   "nbconvert_exporter": "python",
   "pygments_lexer": "ipython3",
   "version": "3.11.7"
  },
  "widgets": {
   "application/vnd.jupyter.widget-state+json": {
    "state": {},
    "version_major": 2,
    "version_minor": 0
   }
  }
 },
 "nbformat": 4,
 "nbformat_minor": 4
}
