{
 "cells": [
  {
   "cell_type": "markdown",
   "metadata": {},
   "source": [
    "# The Central Limit Theorem\n",
    "\n",
    "The *Central Limit Theorem* states that if we draw a simple random sample of size $n$ from any population with mean $\\mu$ and standard deviation $\\sigma$, if $n$ is large the distribuion of the sample means is approximately normal of the form\n",
    "\n",
    "$$N(\\mu, \\frac{\\sigma}{n})$$"
   ]
  },
  {
   "cell_type": "markdown",
   "metadata": {},
   "source": [
    "This activity is meant to offer an example of the central limit theorem in action, and the effect of using different sample sizes in forming the distribution of sample means. "
   ]
  },
  {
   "cell_type": "markdown",
   "metadata": {},
   "source": [
    "### Baseball Salaries\n",
    "\n",
    "![](images/baseballs.png)\n",
    "\n",
    "\n",
    "The dataset below represents Major League Baseball player salaries from the year 2020, and was gathered from USA Today's databases. Below, the dataset is loaded and we examine the features and datatypes. "
   ]
  },
  {
   "cell_type": "code",
   "execution_count": 97,
   "metadata": {},
   "outputs": [],
   "source": [
    "import matplotlib.pyplot as plt\n",
    "import numpy as np\n",
    "import pandas as pd"
   ]
  },
  {
   "cell_type": "code",
   "execution_count": 99,
   "metadata": {},
   "outputs": [],
   "source": [
    "#read in the data\n",
    "baseball_salaries = pd.read_csv('data/baseball.csv', index_col=0)"
   ]
  },
  {
   "cell_type": "code",
   "execution_count": 101,
   "metadata": {},
   "outputs": [
    {
     "name": "stdout",
     "output_type": "stream",
     "text": [
      "<class 'pandas.core.frame.DataFrame'>\n",
      "Index: 797 entries, 1 to 797\n",
      "Data columns (total 6 columns):\n",
      " #   Column       Non-Null Count  Dtype \n",
      "---  ------       --------------  ----- \n",
      " 0   team         797 non-null    object\n",
      " 1   leagueID     797 non-null    object\n",
      " 2   player       797 non-null    object\n",
      " 3   salary       797 non-null    int64 \n",
      " 4   position     797 non-null    object\n",
      " 5   gamesplayed  797 non-null    int64 \n",
      "dtypes: int64(2), object(4)\n",
      "memory usage: 43.6+ KB\n"
     ]
    }
   ],
   "source": [
    "#Examine the .info()\n",
    "baseball_salaries.info()"
   ]
  },
  {
   "cell_type": "code",
   "execution_count": 103,
   "metadata": {},
   "outputs": [
    {
     "data": {
      "text/html": [
       "<div>\n",
       "<style scoped>\n",
       "    .dataframe tbody tr th:only-of-type {\n",
       "        vertical-align: middle;\n",
       "    }\n",
       "\n",
       "    .dataframe tbody tr th {\n",
       "        vertical-align: top;\n",
       "    }\n",
       "\n",
       "    .dataframe thead th {\n",
       "        text-align: right;\n",
       "    }\n",
       "</style>\n",
       "<table border=\"1\" class=\"dataframe\">\n",
       "  <thead>\n",
       "    <tr style=\"text-align: right;\">\n",
       "      <th></th>\n",
       "      <th>team</th>\n",
       "      <th>leagueID</th>\n",
       "      <th>player</th>\n",
       "      <th>salary</th>\n",
       "      <th>position</th>\n",
       "      <th>gamesplayed</th>\n",
       "    </tr>\n",
       "  </thead>\n",
       "  <tbody>\n",
       "    <tr>\n",
       "      <th>1</th>\n",
       "      <td>ANA</td>\n",
       "      <td>AL</td>\n",
       "      <td>anderga0</td>\n",
       "      <td>6200000</td>\n",
       "      <td>CF</td>\n",
       "      <td>112</td>\n",
       "    </tr>\n",
       "    <tr>\n",
       "      <th>2</th>\n",
       "      <td>ANA</td>\n",
       "      <td>AL</td>\n",
       "      <td>colonba0</td>\n",
       "      <td>11000000</td>\n",
       "      <td>P</td>\n",
       "      <td>3</td>\n",
       "    </tr>\n",
       "    <tr>\n",
       "      <th>3</th>\n",
       "      <td>ANA</td>\n",
       "      <td>AL</td>\n",
       "      <td>davanje0</td>\n",
       "      <td>375000</td>\n",
       "      <td>CF</td>\n",
       "      <td>108</td>\n",
       "    </tr>\n",
       "    <tr>\n",
       "      <th>4</th>\n",
       "      <td>ANA</td>\n",
       "      <td>AL</td>\n",
       "      <td>donnebr0</td>\n",
       "      <td>375000</td>\n",
       "      <td>P</td>\n",
       "      <td>5</td>\n",
       "    </tr>\n",
       "    <tr>\n",
       "      <th>5</th>\n",
       "      <td>ANA</td>\n",
       "      <td>AL</td>\n",
       "      <td>eckstda0</td>\n",
       "      <td>2150000</td>\n",
       "      <td>SS</td>\n",
       "      <td>142</td>\n",
       "    </tr>\n",
       "  </tbody>\n",
       "</table>\n",
       "</div>"
      ],
      "text/plain": [
       "  team leagueID    player    salary position  gamesplayed\n",
       "1  ANA       AL  anderga0   6200000       CF          112\n",
       "2  ANA       AL  colonba0  11000000        P            3\n",
       "3  ANA       AL  davanje0    375000       CF          108\n",
       "4  ANA       AL  donnebr0    375000        P            5\n",
       "5  ANA       AL  eckstda0   2150000       SS          142"
      ]
     },
     "execution_count": 103,
     "metadata": {},
     "output_type": "execute_result"
    }
   ],
   "source": [
    "#First few rows\n",
    "baseball_salaries.head()"
   ]
  },
  {
   "cell_type": "markdown",
   "metadata": {},
   "source": [
    "### Task\n",
    "\n",
    "Our goal is to take samples from the salary data and build a distribution of these sample means.  To begin, draw a histogram of the salaries.  Note the skew and lack of normality in this distribution."
   ]
  },
  {
   "cell_type": "code",
   "execution_count": 106,
   "metadata": {},
   "outputs": [
    {
     "data": {
      "image/png": "[encoded data removed]",
      "text/plain": [
       "<Figure size 640x480 with 1 Axes>"
      ]
     },
     "metadata": {},
     "output_type": "display_data"
    }
   ],
   "source": [
    "#histogram of the salaries\n",
    "plt.hist(baseball_salaries['salary'], edgecolor='black')\n",
    "\n",
    "# Customize the histogram\n",
    "plt.title('Baseball Player Salaries')\n",
    "plt.xlabel('Salary (million USD)')\n",
    "plt.ylabel('Frequency')\n",
    "\n",
    "plt.show()\n",
    "#plt.savefig('images/histogram.png')"
   ]
  },
  {
   "cell_type": "markdown",
   "metadata": {},
   "source": [
    "### Taking Samples\n",
    "\n",
    "Pandas DataFrame's have built in methods for taking random samples with replacement.  The `.sample()` method is demonstrated below."
   ]
  },
  {
   "cell_type": "code",
   "execution_count": 109,
   "metadata": {},
   "outputs": [
    {
     "data": {
      "text/plain": [
       "197     360000\n",
       "97     2333333\n",
       "460     315000\n",
       "332     390000\n",
       "Name: salary, dtype: int64"
      ]
     },
     "execution_count": 109,
     "metadata": {},
     "output_type": "execute_result"
    }
   ],
   "source": [
    "baseball_salaries['salary'].sample(4)"
   ]
  },
  {
   "cell_type": "markdown",
   "metadata": {},
   "source": [
    "### Sample Means\n",
    "\n",
    "Now, use this method to repeatedly take samples and build a list of sample means.  As a starting place let us take 1000 samples of size 5 and draw the histogram of the sample means.  What is the mean and standard deviation? "
   ]
  },
  {
   "cell_type": "code",
   "execution_count": 140,
   "metadata": {},
   "outputs": [
    {
     "data": {
      "text/plain": [
       "[2280235.62, 2322408.67, 3133116.16, 3018018.41, 2150908.33]"
      ]
     },
     "execution_count": 140,
     "metadata": {},
     "output_type": "execute_result"
    }
   ],
   "source": [
    "#empty list for sample means\n",
    "sample_means = []\n",
    "for i in range(1000):\n",
    "    samples = baseball_salaries['salary'].sample(100)\n",
    "    sample_means.append(samples.mean())\n",
    "    pass\n",
    "\n",
    "sample_means[:5]"
   ]
  },
  {
   "cell_type": "code",
   "execution_count": 142,
   "metadata": {},
   "outputs": [
    {
     "data": {
      "image/png": "[encoded data removed]",
      "text/plain": [
       "<Figure size 640x480 with 1 Axes>"
      ]
     },
     "metadata": {},
     "output_type": "display_data"
    }
   ],
   "source": [
    "#histogram of sample means\n",
    "plt.hist(sample_means, edgecolor='black')\n",
    "\n",
    "plt.title('Baseball Player Salaries')\n",
    "plt.xlabel('Mean Salaries of 1000 samples of Size 100')\n",
    "\n",
    "img = 'images/out/sample100.png'\n",
    "plt.savefig(img)\n",
    "\n",
    "plt.show()"
   ]
  },
  {
   "cell_type": "markdown",
   "metadata": {},
   "source": [
    "Repeat the above exercise with samples of size:\n",
    "\n",
    "- 10\n",
    "- 25\n",
    "- 50\n",
    "- 100\n",
    "\n",
    "Your discussion post should explain how the distribution of these sample means changes as the sample size changes, and how the mean and standard deviation of the distributions change."
   ]
  }
 ],
 "metadata": {
  "kernelspec": {
   "display_name": "Python 3 (ipykernel)",
   "language": "python",
   "name": "python3"
  },
  "language_info": {
   "codemirror_mode": {
    "name": "ipython",
    "version": 3
   },
   "file_extension": ".py",
   "mimetype": "text/x-python",
   "name": "python",
   "nbconvert_exporter": "python",
   "pygments_lexer": "ipython3",
   "version": "3.11.7"
  },
  "widgets": {
   "application/vnd.jupyter.widget-state+json": {
    "state": {},
    "version_major": 2,
    "version_minor": 0
   }
  }
 },
 "nbformat": 4,
 "nbformat_minor": 4
}
