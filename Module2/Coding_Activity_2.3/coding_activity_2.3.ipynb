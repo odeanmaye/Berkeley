{
 "cells": [
  {
   "cell_type": "markdown",
   "metadata": {
    "deletable": false,
    "editable": false,
    "nbgrader": {
     "checksum": "badd094c85e6792e4b2f4ae380dec655",
     "grade": false,
     "grade_id": "cell-0bff1a324f359386",
     "locked": true,
     "schema_version": 1,
     "solution": false
    }
   },
   "source": [
    "## Codio Activity 2.3: The Law of Large Numbers\n",
    "\n",
    "**Expected Time: 45 Minutes**\n",
    "\n",
    "**Total Points: 10**\n",
    "\n",
    "In this activity, you will draw increasingly sized samples from a given distribution.  These samples means will be tracked, and compared to that which is known from the larger distribution.  You are to use the `scipy.stats` module and its distribution objects to produce these distributions and their samples.\n",
    "\n",
    "## Index:\n",
    "\n",
    "- [Problem 1](#Problem-1:-A-Uniform-Distribution)\n",
    "- [Problem 2](#Problem-2:-Loop-of-Samples)\n",
    "- [Problem 3](#Problem-3:-Comparing-the-sample-means-to-actual)\n",
    "- [Problem 4](#Problem-4:-Distribution-of-Sample-Means)\n",
    "- [Problem 5](#Problem-5:-Repeat-with-Gaussian-Distribution)\n"
   ]
  },
  {
   "cell_type": "code",
   "execution_count": 2,
   "metadata": {},
   "outputs": [],
   "source": [
    "import numpy as np\n",
    "import pandas as pd\n",
    "import matplotlib.pyplot as plt\n",
    "from scipy.stats import uniform, norm"
   ]
  },
  {
   "cell_type": "markdown",
   "metadata": {
    "deletable": false,
    "editable": false,
    "nbgrader": {
     "checksum": "13f93de92afec900471a0bf6399a09cd",
     "grade": false,
     "grade_id": "cell-0599760f8eb84292",
     "locked": true,
     "schema_version": 1,
     "solution": false
    }
   },
   "source": [
    "[Back to top](#Index:) \n",
    "\n",
    "### Problem 1: A Uniform Distribution\n",
    "\n",
    "**2 Points**\n",
    "\n",
    "\n",
    "Use the `uniform` function to create a uniform distribution with `loc = 5` and `scale = 10`.  Assign your results as a distribution object to the variale `dist1` below. \n",
    "\n",
    "Done correctly, this code will produce uniformly distributed points between 5 and 15 with mean at 10."
   ]
  },
  {
   "cell_type": "code",
   "execution_count": 5,
   "metadata": {
    "deletable": false,
    "nbgrader": {
     "checksum": "387817ff74946c4ea7870e217d8e3955",
     "grade": false,
     "grade_id": "cell-e19a29726f7a7f59",
     "locked": false,
     "schema_version": 1,
     "solution": true
    }
   },
   "outputs": [
    {
     "name": "stdout",
     "output_type": "stream",
     "text": [
      "<class 'scipy.stats._distn_infrastructure.rv_continuous_frozen'>\n"
     ]
    }
   ],
   "source": [
    "### GRADED\n",
    "\n",
    "dist1 = ''\n",
    "\n",
    "# YOUR CODE HERE\n",
    "dist1 = uniform(loc=5, scale=10)\n",
    "\n",
    "# Answer check\n",
    "print(type(dist1))"
   ]
  },
  {
   "cell_type": "code",
   "execution_count": null,
   "metadata": {
    "deletable": false,
    "editable": false,
    "nbgrader": {
     "checksum": "3c6c6b35a93db5004528350db05e3ec9",
     "grade": true,
     "grade_id": "cell-9a4f21b04dc4095d",
     "locked": true,
     "points": 2,
     "schema_version": 1,
     "solution": false
    }
   },
   "outputs": [],
   "source": []
  },
  {
   "cell_type": "markdown",
   "metadata": {
    "deletable": false,
    "editable": false,
    "nbgrader": {
     "checksum": "c88fc28bf1f68522dc73055948e469c3",
     "grade": false,
     "grade_id": "cell-715829a75ba9fccc",
     "locked": true,
     "schema_version": 1,
     "solution": false
    }
   },
   "source": [
    "###  Problem 2: Loop of Samples\n",
    "\n",
    "**2 Points**\n",
    "\n",
    "Use a `for` loop to generate samples of sizes from 1 to 500. Inside the `for` loop, use the `.rvs` method on `dist1` to return a random sample. Inside the `.rvs` method set `random_state` equal to 22.  Use `np.mean` to compute the sample mean of each sample size. Append each sample mean to the list `sample_means`.  "
   ]
  },
  {
   "cell_type": "code",
   "execution_count": 7,
   "metadata": {
    "deletable": false,
    "nbgrader": {
     "checksum": "db774c8291384e33efe75c2530fb7df6",
     "grade": false,
     "grade_id": "cell-e6ebb7028e816557",
     "locked": false,
     "schema_version": 1,
     "solution": true
    }
   },
   "outputs": [
    {
     "name": "stdout",
     "output_type": "stream",
     "text": [
      "<class 'list'>\n",
      "[7.084605373588426, 8.450707995611044, 8.702265448121944, 9.924654082394818, 9.2820463731392] \n",
      " [9.917152492762177, 9.92702320427582, 9.923037839990696, 9.921343577252099, 9.926403777871194]\n"
     ]
    }
   ],
   "source": [
    "### GRADED\n",
    "\n",
    "RANDOM_STATE = 22\n",
    "sample_means = []\n",
    "\n",
    "# YOUR CODE HERE\n",
    "\n",
    "#loop over values 1 - 500\n",
    "for i in range(1, 501):\n",
    "    #generate samples\n",
    "    sample = dist1.rvs(size=i, random_state=RANDOM_STATE)\n",
    "    \n",
    "    #find sample mean\n",
    "    sample_mean = np.mean(sample)\n",
    "\n",
    "    #append mean to sample_means\n",
    "    sample_means.append(sample_mean)\n",
    "\n",
    "# Answer check\n",
    "print(type(sample_means))\n",
    "print(sample_means[:5], '\\n', sample_means[-5:])"
   ]
  },
  {
   "cell_type": "code",
   "execution_count": null,
   "metadata": {
    "deletable": false,
    "editable": false,
    "nbgrader": {
     "checksum": "41a68981e881a4d463adb3951ea89483",
     "grade": true,
     "grade_id": "cell-bc94c886e9ac3ab7",
     "locked": true,
     "points": 2,
     "schema_version": 1,
     "solution": false
    }
   },
   "outputs": [],
   "source": []
  },
  {
   "cell_type": "markdown",
   "metadata": {
    "deletable": false,
    "editable": false,
    "nbgrader": {
     "checksum": "8919e5ff3f04ca47058c4f6be0dc8813",
     "grade": false,
     "grade_id": "cell-6b3e8778dd9e4f7b",
     "locked": true,
     "schema_version": 1,
     "solution": false
    }
   },
   "source": [
    "### Problem 3: Comparing the sample means to the actual mean\n",
    "\n",
    "**2 Points**\n",
    "\n",
    "Note that the actual mean of our data is 10.  \n",
    "\n",
    "Does the sample mean approximate to the true mean with an error of less than .1 when the sample size is equal to 400?  Assign your answer as a boolean value to `ans3` below -- True for yes, False for no.  \n",
    "\n",
    "To help you with this exercise, the results of the sample mean are plot below:"
   ]
  },
  {
   "cell_type": "code",
   "execution_count": 9,
   "metadata": {},
   "outputs": [
    {
     "data": {
      "image/png": "[encoded data removed]",
      "text/plain": [
       "<Figure size 640x480 with 1 Axes>"
      ]
     },
     "metadata": {},
     "output_type": "display_data"
    }
   ],
   "source": [
    "plt.plot(range(1, 501), sample_means, label = 'sample mean', color = 'purple')\n",
    "plt.axhline(10, label = 'true mean', color = 'green')\n",
    "plt.xlabel('Sample Size')\n",
    "plt.legend();"
   ]
  },
  {
   "cell_type": "code",
   "execution_count": 13,
   "metadata": {
    "deletable": false,
    "nbgrader": {
     "checksum": "4437468bf86854324a1e7a02b92ea8b5",
     "grade": false,
     "grade_id": "cell-760f114b86f46710",
     "locked": false,
     "schema_version": 1,
     "solution": true
    }
   },
   "outputs": [
    {
     "name": "stdout",
     "output_type": "stream",
     "text": [
      "<class 'numpy.bool_'>\n",
      "True\n"
     ]
    }
   ],
   "source": [
    "### GRADED\n",
    "\n",
    "ans3 = ''\n",
    "\n",
    "# YOUR CODE HERE\n",
    "true_mean = 10\n",
    "\n",
    "sample = dist1.rvs(size=400, random_state=RANDOM_STATE)  \n",
    "sample_mean = np.mean(sample)\n",
    "\n",
    "ans3 = abs(sample_mean - true_mean) < 0.1\n",
    "\n",
    "\n",
    "# Answer check\n",
    "print(type(ans3))"
   ]
  },
  {
   "cell_type": "code",
   "execution_count": null,
   "metadata": {
    "deletable": false,
    "editable": false,
    "nbgrader": {
     "checksum": "ab39548edfb25ece2a9a8cad8295339b",
     "grade": true,
     "grade_id": "cell-6594e29aae39c71d",
     "locked": true,
     "points": 2,
     "schema_version": 1,
     "solution": false
    }
   },
   "outputs": [],
   "source": []
  },
  {
   "cell_type": "markdown",
   "metadata": {
    "deletable": false,
    "editable": false,
    "nbgrader": {
     "checksum": "abdadc4759a32ed96d4c23a26a2f73cd",
     "grade": false,
     "grade_id": "cell-6860b63501e42b25",
     "locked": true,
     "schema_version": 1,
     "solution": false
    }
   },
   "source": [
    "### Problem 4: Distribution of Sample Means\n",
    "\n",
    "**2 Points**\n",
    "\n",
    "As you notice in the plot above, there is larger variation in the small sample sizes.  As the lectures suggest, consider only those samples of size 30 or more and compute their mean and standard deviation.  \n",
    "\n",
    "Assign the samples of size 30 or more as a list to the variable `samples_30_or_more` below.\n",
    "\n",
    "Use `np.mean()` to compute the mean and assign the result to the variable `samples_mean`.\n",
    "\n",
    "Use `np.std()` to compute the standard deviation and assign the result to the variable `samples_std`.\n",
    "\n",
    "Uncomment the code to see a histogram of these sample means.  \n",
    "\n",
    "HINT: remember that Python starts counting at 0, so using `sample_means[30:]` is actually incorrect."
   ]
  },
  {
   "cell_type": "code",
   "execution_count": 15,
   "metadata": {
    "deletable": false,
    "nbgrader": {
     "checksum": "af4c10dfb20f963c734e48c59cf3fcd6",
     "grade": false,
     "grade_id": "cell-6b84832c8690fe91",
     "locked": false,
     "schema_version": 1,
     "solution": true
    }
   },
   "outputs": [
    {
     "name": "stdout",
     "output_type": "stream",
     "text": [
      "<class 'list'>\n",
      "9.955489061213552\n",
      "0.07692775219192274\n"
     ]
    },
    {
     "data": {
      "image/png": "[encoded data removed]",
      "text/plain": [
       "<Figure size 640x480 with 1 Axes>"
      ]
     },
     "metadata": {},
     "output_type": "display_data"
    }
   ],
   "source": [
    "### GRADED\n",
    "\n",
    "samples_30_or_more = ''\n",
    "samples_mean = ''\n",
    "samples_std = ''\n",
    "\n",
    "\n",
    "# YOUR CODE HERE\n",
    "samples_30_or_more = sample_means[29:]\n",
    "samples_mean = np.mean(samples_30_or_more)\n",
    "samples_std = np.std(samples_30_or_more)\n",
    "\n",
    "plt.hist(samples_30_or_more, edgecolor = 'black', alpha = 0.3)\n",
    "plt.title('Distribution of Sample Means');\n",
    "\n",
    "# Answer check\n",
    "print(type(samples_30_or_more))\n",
    "print(samples_mean)\n",
    "print(samples_std)"
   ]
  },
  {
   "cell_type": "code",
   "execution_count": null,
   "metadata": {
    "deletable": false,
    "editable": false,
    "nbgrader": {
     "checksum": "7d4fa60fcd5ba66911cab3a823bfbd27",
     "grade": true,
     "grade_id": "cell-f6ed5c17860c5ee5",
     "locked": true,
     "points": 2,
     "schema_version": 1,
     "solution": false
    }
   },
   "outputs": [],
   "source": []
  },
  {
   "cell_type": "markdown",
   "metadata": {
    "deletable": false,
    "editable": false,
    "nbgrader": {
     "checksum": "37d6af6293fd3f87b62c7a355f8c88e0",
     "grade": false,
     "grade_id": "cell-81d097c21d8b29eb",
     "locked": true,
     "schema_version": 1,
     "solution": false
    }
   },
   "source": [
    "### Problem 5: Repeat with Gaussian Distribution\n",
    "\n",
    "**2 Points**\n",
    "\n",
    "Now, you are to repeat the above exercise using samples from a Guassian distribution\n",
    "\n",
    "\n",
    "Use the fucntion `norm` with argument `loc` equal to five and `scale` equal to ten to define a Gaussian distribution and assign the result to `gauss_dist`.\n",
    "\n",
    "Use a `for` loop to generate samples of sizes from 30 to 500. Inside the `for` loop, use the `.rvs` method on `gauss_dist` to return a random sample. Inside the `.rvs` method set `random_state` equal to 22.  Use `np.mean` to compute the sample mean of each sample size. Append each sample mean to the list `sample_means_gauss`.  \n",
    "\n",
    "Outside the `for` loop, use `np.mean()` to compute the mean and assign the result to the variable `gauss_mean`.\n",
    "\n",
    "Outside the `for` loop, use `np.std()` to compute the standard deviation and assign the result to the variable `gauss_standard_deviation`."
   ]
  },
  {
   "cell_type": "code",
   "execution_count": 19,
   "metadata": {
    "deletable": false,
    "nbgrader": {
     "checksum": "f750268df25b3fd0a7691bb9cf6ae0da",
     "grade": false,
     "grade_id": "cell-66731bec3448d1a4",
     "locked": false,
     "schema_version": 1,
     "solution": true
    }
   },
   "outputs": [
    {
     "name": "stdout",
     "output_type": "stream",
     "text": [
      "<class 'list'>\n",
      "[5.711989769815023, 6.495208371007466, 5.670348611610735, 5.578864596890512, 5.5331440323908465] \n",
      " [5.85212242634483, 5.842782955969858, 5.840843359217326, 5.834153785572032, 5.841178380882507]\n",
      "5.568508473194311\n",
      "0.5371819419572758\n"
     ]
    }
   ],
   "source": [
    "### GRADED\n",
    "\n",
    "gauss_dist = ''\n",
    "sample_means_gauss = []\n",
    "gauss_mean = ''\n",
    "gauss_standard_deviation = ''\n",
    "\n",
    "\n",
    "# YOUR CODE HERE\n",
    "gauss_dist = norm(loc=5, scale=10)\n",
    "#create the distribution object\n",
    "\n",
    "#loop over values 30 - 500\n",
    "for i in range(30, 501):\n",
    "    #generate samples\n",
    "    sample = gauss_dist.rvs(size=i, random_state=RANDOM_STATE)\n",
    "    \n",
    "    #find sample mean\n",
    "    sample_mean = np.mean(sample)\n",
    "\n",
    "    #append mean to sample_means\n",
    "    sample_means_gauss.append(sample_mean)\n",
    "    \n",
    "gauss_mean = np.mean(sample_means_gauss)\n",
    "gauss_standard_deviation = np.std(sample_means_gauss)\n",
    "\n",
    "# Answer check\n",
    "print(type(sample_means_gauss))\n",
    "print(sample_means_gauss[:5], '\\n', sample_means_gauss[-5:])\n",
    "print(gauss_mean)\n",
    "print(gauss_standard_deviation)"
   ]
  },
  {
   "cell_type": "code",
   "execution_count": null,
   "metadata": {
    "deletable": false,
    "editable": false,
    "nbgrader": {
     "checksum": "16e02f54addf7e5b4b2cc3a1d61a5de7",
     "grade": true,
     "grade_id": "cell-19ef7e3915134b47",
     "locked": true,
     "points": 2,
     "schema_version": 1,
     "solution": false
    }
   },
   "outputs": [],
   "source": []
  },
  {
   "cell_type": "code",
   "execution_count": null,
   "metadata": {},
   "outputs": [],
   "source": []
  }
 ],
 "metadata": {
  "kernelspec": {
   "display_name": "Python 3 (ipykernel)",
   "language": "python",
   "name": "python3"
  },
  "language_info": {
   "codemirror_mode": {
    "name": "ipython",
    "version": 3
   },
   "file_extension": ".py",
   "mimetype": "text/x-python",
   "name": "python",
   "nbconvert_exporter": "python",
   "pygments_lexer": "ipython3",
   "version": "3.11.7"
  }
 },
 "nbformat": 4,
 "nbformat_minor": 4
}
