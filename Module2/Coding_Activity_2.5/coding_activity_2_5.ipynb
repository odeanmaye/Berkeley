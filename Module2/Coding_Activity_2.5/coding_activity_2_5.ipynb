{
 "cells": [
  {
   "cell_type": "markdown",
   "metadata": {
    "deletable": false,
    "editable": false,
    "id": "UKFFdWx8QSvi",
    "nbgrader": {
     "checksum": "1aaf220cfe7961b0460430a56eebb5f5",
     "grade": false,
     "grade_id": "cell-df07fdb9d162d209",
     "locked": true,
     "schema_version": 1,
     "solution": false
    }
   },
   "source": [
    "## Codio Activity 2.5: Plotting Multivariate Datasets\n",
    "\n",
    "**Expected Time: 60 Minutes**\n",
    "\n",
    "**Total Points: 14**\n",
    "\n",
    "\n",
    "In this activity you will focus on creating histograms and scatterplots using `matplotlib`.  You are to generate these plots both using standard plotting commands and the utilities with pandas DataFrame's to plot as a DataFrame method.  Finally, you will customize elements of the plots using additional `matplotlib` functions.\n",
    "\n",
    "\n",
    "## Index:\n",
    "\n",
    "- [Problem 1](#Problem-1:-Load-the-Data)\n",
    "- [Problem 2](#Problem-2:-Features-for-Histograms)\n",
    "- [Problem 3](#Problem-3:-Histogram-of-Life-Expectancy)\n",
    "- [Problem 4](#Problem-4:-Adding-a-title-and-human-readable-label)\n",
    "- [Problem 5](#Problem-5:-Histogram-of-GDP)\n",
    "- [Problem 6](#Problem-6:-`pandas`-histogram)\n",
    "- [Problem 7](#Problem-7:-`pandas`-scatterplot)"
   ]
  },
  {
   "cell_type": "code",
   "execution_count": 25,
   "metadata": {
    "deletable": false,
    "editable": false,
    "id": "gzfxmKakQSvn",
    "nbgrader": {
     "checksum": "608367af44eabbf75f4bf3a3becbdfc6",
     "grade": false,
     "grade_id": "cell-28591bdc0123355b",
     "locked": true,
     "schema_version": 1,
     "solution": false
    }
   },
   "outputs": [],
   "source": [
    "import matplotlib.pyplot as plt\n",
    "import pandas as pd\n",
    "import numpy as np"
   ]
  },
  {
   "cell_type": "markdown",
   "metadata": {
    "deletable": false,
    "editable": false,
    "id": "Yn9abw6eQSvm",
    "nbgrader": {
     "checksum": "c15490a3c3cfeef1ad02a5e06a2a37fa",
     "grade": false,
     "grade_id": "cell-04ae2f5ead2c5136",
     "locked": true,
     "schema_version": 1,
     "solution": false
    }
   },
   "source": [
    "### Dataset: Gapminder\n",
    "\n",
    "![](images/gapminder-logo.svg)\n",
    "The data below has been extracted from the [*gapminder*](https://www.gapminder.org/) organization.  Documentation for the larger data sources can be found [here](https://www.gapminder.org/data/documentation/) and the implementation of the data as a python library [here](https://pypi.org/project/gapminder/).  The data contains information on the Gross Domestic Product, Life Expectancy, and Population in five year intervals for countries around the world."
   ]
  },
  {
   "cell_type": "markdown",
   "metadata": {
    "deletable": false,
    "editable": false,
    "id": "MT9xzSsDQSvo",
    "nbgrader": {
     "checksum": "eb4d7288376296fc951cff31bc5ab98c",
     "grade": false,
     "grade_id": "cell-cbb2eecd0a8ffc17",
     "locked": true,
     "schema_version": 1,
     "solution": false
    }
   },
   "source": [
    "[Back to top](#Index:) \n",
    "\n",
    "### Problem 1: Load the Data\n",
    "\n",
    "**2 Points**\n",
    "\n",
    "\n",
    "The dataset is available in the `data` folder and is named `gapminder.csv`. Load this in as `gap_df` below.  "
   ]
  },
  {
   "cell_type": "code",
   "execution_count": 29,
   "metadata": {
    "deletable": false,
    "id": "LS8P3VgmQSvo",
    "nbgrader": {
     "checksum": "bbef351898ebc0dbe4ed5c6f0905459c",
     "grade": false,
     "grade_id": "cell-0010e5bd020e9876",
     "locked": false,
     "schema_version": 1,
     "solution": true
    }
   },
   "outputs": [
    {
     "name": "stdout",
     "output_type": "stream",
     "text": [
      "      Unnamed: 0      country continent  year  lifeExp       pop   gdpPercap\n",
      "0              1  Afghanistan      Asia  1952   28.801   8425333  779.445314\n",
      "1              2  Afghanistan      Asia  1957   30.332   9240934  820.853030\n",
      "2              3  Afghanistan      Asia  1962   31.997  10267083  853.100710\n",
      "3              4  Afghanistan      Asia  1967   34.020  11537966  836.197138\n",
      "4              5  Afghanistan      Asia  1972   36.088  13079460  739.981106\n",
      "...          ...          ...       ...   ...      ...       ...         ...\n",
      "1699        1700     Zimbabwe    Africa  1987   62.351   9216418  706.157306\n",
      "1700        1701     Zimbabwe    Africa  1992   60.377  10704340  693.420786\n",
      "1701        1702     Zimbabwe    Africa  1997   46.809  11404948  792.449960\n",
      "1702        1703     Zimbabwe    Africa  2002   39.989  11926563  672.038623\n",
      "1703        1704     Zimbabwe    Africa  2007   43.487  12311143  469.709298\n",
      "\n",
      "[1704 rows x 7 columns]\n"
     ]
    }
   ],
   "source": [
    "### GRADED\n",
    "\n",
    "gap_df = ''\n",
    "\n",
    "# YOUR CODE HERE\n",
    "gap_df = pd.read_csv('data/gapminder.csv')\n",
    "\n",
    "print(gap_df)"
   ]
  },
  {
   "cell_type": "code",
   "execution_count": null,
   "metadata": {
    "deletable": false,
    "editable": false,
    "id": "jonDK-5fQSvp",
    "nbgrader": {
     "checksum": "5f6ebec12aa4a0343f6639255386c91d",
     "grade": true,
     "grade_id": "cell-3779def4c55cadc6",
     "locked": true,
     "points": 2,
     "schema_version": 1,
     "solution": false
    }
   },
   "outputs": [],
   "source": []
  },
  {
   "cell_type": "markdown",
   "metadata": {
    "deletable": false,
    "editable": false,
    "id": "10_-bb88QSvp",
    "nbgrader": {
     "checksum": "5ae33ed02634b4d2fee0dd18c0b340ed",
     "grade": false,
     "grade_id": "cell-ca1228978d2c67a3",
     "locked": true,
     "schema_version": 1,
     "solution": false
    }
   },
   "source": [
    "[Back to top](#Index:) \n",
    "\n",
    "### Problem 2: Features for Histograms\n",
    "\n",
    "**2 Points**\n",
    "\n",
    "A histogram is a plot that is appropriate for continuous numeric features.  Examine the data and determine a list of columns that are eligible for drawing histograms.  Save your answer as a list of strings that match the column names exactly to `hist_columns` below.\n",
    "\n",
    "```python\n",
    "hist_columns = ['col_name_1', 'col_name_2', ...]\n",
    "```"
   ]
  },
  {
   "cell_type": "code",
   "execution_count": 33,
   "metadata": {
    "deletable": false,
    "id": "ih3E358VQSvq",
    "nbgrader": {
     "checksum": "13c25a2c10df2c0d201c52dde0acd3bc",
     "grade": false,
     "grade_id": "cell-e416070d10bd378e",
     "locked": false,
     "schema_version": 1,
     "solution": true
    },
    "outputId": "12e6edc1-9df0-47dd-b153-cc86c1098512"
   },
   "outputs": [
    {
     "name": "stdout",
     "output_type": "stream",
     "text": [
      "<class 'list'>\n",
      "['year', 'lifeExp', 'pop', 'gdpPercap']\n"
     ]
    }
   ],
   "source": [
    "### GRADED\n",
    "\n",
    "hist_columns = ''\n",
    "\n",
    "# YOUR CODE HERE\n",
    "hist_columns = ['lifeExp', 'pop', 'gdpPercap']\n",
    "\n",
    "# Answer check\n",
    "print(type(hist_columns)) ##should be list\n",
    "print(hist_columns)"
   ]
  },
  {
   "cell_type": "code",
   "execution_count": null,
   "metadata": {
    "deletable": false,
    "editable": false,
    "id": "FZaUolvpQSvr",
    "nbgrader": {
     "checksum": "0e1cd9fc1d8fc841256e55393a56d2c0",
     "grade": true,
     "grade_id": "cell-8c0994184882e304",
     "locked": true,
     "points": 2,
     "schema_version": 1,
     "solution": false
    }
   },
   "outputs": [],
   "source": []
  },
  {
   "cell_type": "markdown",
   "metadata": {
    "deletable": false,
    "editable": false,
    "id": "LFzWPFUuQSvs",
    "nbgrader": {
     "checksum": "abf2a9f8a9fde4fb09199eae7399281e",
     "grade": false,
     "grade_id": "cell-44c52fe09bced700",
     "locked": true,
     "schema_version": 1,
     "solution": false
    }
   },
   "source": [
    "[Back to top](#Index:) \n",
    "\n",
    "### Problem 3: Histogram of Life Expectancy\n",
    "\n",
    "**2 Points**\n",
    "\n",
    "Use `plt.hist()` to create a histogram of the `lifeExp` column.  Use the `plt.savefig()` method to save the image as `life_exp_hist.png` in the `images` folder.\n"
   ]
  },
  {
   "cell_type": "code",
   "execution_count": 43,
   "metadata": {
    "deletable": false,
    "id": "MsB64Bx-QSvs",
    "nbgrader": {
     "checksum": "a0fb388bf8acca5bfce1989ccbab4f68",
     "grade": false,
     "grade_id": "cell-e7f239fd263be32b",
     "locked": false,
     "schema_version": 1,
     "solution": true
    }
   },
   "outputs": [
    {
     "data": {
      "image/png": "[encoded data removed]",
      "text/plain": [
       "<Figure size 640x480 with 1 Axes>"
      ]
     },
     "metadata": {},
     "output_type": "display_data"
    }
   ],
   "source": [
    "### GRADED\n",
    "\n",
    "# YOUR CODE HERE\n",
    "plt.hist(gap_df['lifeExp'], edgecolor='black')\n",
    "img3 ='./images/life_exp_hist.png'\n",
    "plt.savefig(img3)"
   ]
  },
  {
   "cell_type": "code",
   "execution_count": null,
   "metadata": {
    "deletable": false,
    "editable": false,
    "nbgrader": {
     "checksum": "cd011e89582f306bdf75a688ddfacd74",
     "grade": true,
     "grade_id": "cell-0c5a7796c9fc1a1f",
     "locked": true,
     "points": 2,
     "schema_version": 1,
     "solution": false
    }
   },
   "outputs": [],
   "source": []
  },
  {
   "cell_type": "markdown",
   "metadata": {
    "deletable": false,
    "editable": false,
    "id": "1dYF6EQnQSvs",
    "nbgrader": {
     "checksum": "5b2efd81d666280d9869ca221e29cc91",
     "grade": false,
     "grade_id": "cell-84ceb7a00f5d8caf",
     "locked": true,
     "schema_version": 1,
     "solution": false
    }
   },
   "source": [
    "[Back to top](#Index:) \n",
    "\n",
    "### Problem 4: Adding a title and human readable label\n",
    "\n",
    "**2 Points**\n",
    "\n",
    "Use the `plt.title()` method to add the title \"Histogram of Life Expectancy\".  Also, use the `plt.xlabel()` method to add a label to the x-axis \"Life Expectancy\".  Save your image as `hist2.png` to the `image` folder.\n"
   ]
  },
  {
   "cell_type": "code",
   "execution_count": 49,
   "metadata": {
    "deletable": false,
    "id": "9klJdfi7QSvt",
    "nbgrader": {
     "checksum": "24be40874e75a1191aac41e4c501754f",
     "grade": false,
     "grade_id": "cell-9bb552338410dd34",
     "locked": false,
     "schema_version": 1,
     "solution": true
    }
   },
   "outputs": [
    {
     "data": {
      "image/png": "[encoded data removed]",
      "text/plain": [
       "<Figure size 640x480 with 1 Axes>"
      ]
     },
     "metadata": {},
     "output_type": "display_data"
    }
   ],
   "source": [
    "### GRADED\n",
    "\n",
    "# YOUR CODE HERE\n",
    "plt.hist(gap_df['lifeExp'], edgecolor='black')\n",
    "plt.title('Histogram of Life Expectancy')\n",
    "plt.xlabel('Life Expectancy')\n",
    "\n",
    "img4 = './images/hist2.png'\n",
    "plt.savefig(img4)"
   ]
  },
  {
   "cell_type": "code",
   "execution_count": null,
   "metadata": {
    "deletable": false,
    "editable": false,
    "nbgrader": {
     "checksum": "7f66bfc046b2809cc4498e2e6ccc919f",
     "grade": true,
     "grade_id": "cell-52944515702c763d",
     "locked": true,
     "points": 2,
     "schema_version": 1,
     "solution": false
    }
   },
   "outputs": [],
   "source": []
  },
  {
   "cell_type": "markdown",
   "metadata": {
    "deletable": false,
    "editable": false,
    "id": "ZIVUhAH4QSvt",
    "nbgrader": {
     "checksum": "9d2d50a84acc3e5bdea77b6571b948a7",
     "grade": false,
     "grade_id": "cell-166b53890d99e892",
     "locked": true,
     "schema_version": 1,
     "solution": false
    }
   },
   "source": [
    "[Back to top](#Index:) \n",
    "\n",
    "### Problem 5: Histogram of GDP\n",
    "\n",
    "**2 Points**\n",
    "\n",
    "Use matplotlib to create a histogram of the GDP data.  Add the title \"Histogram of GDP per capita\" and an x-label \"GDP Per Capita\".  Save your histogram as `gdp_hist.png` to the images folder.\n"
   ]
  },
  {
   "cell_type": "code",
   "execution_count": 51,
   "metadata": {
    "deletable": false,
    "id": "oOPIA2PnQSvt",
    "nbgrader": {
     "checksum": "4dd44b5af7c7faed331ba16b29354e23",
     "grade": false,
     "grade_id": "cell-46cd90759f92036a",
     "locked": false,
     "schema_version": 1,
     "solution": true
    }
   },
   "outputs": [
    {
     "data": {
      "image/png": "[encoded data removed]",
      "text/plain": [
       "<Figure size 640x480 with 1 Axes>"
      ]
     },
     "metadata": {},
     "output_type": "display_data"
    }
   ],
   "source": [
    "### GRADED\n",
    "\n",
    "# YOUR CODE HERE\n",
    "plt.hist(gap_df['gdpPercap'], edgecolor='black')\n",
    "plt.title('Histogram of GDP Per Capita')\n",
    "plt.xlabel('GDP Per Capita')\n",
    "\n",
    "img5 = './images/gdp_hist.png'\n",
    "plt.savefig(img5)"
   ]
  },
  {
   "cell_type": "code",
   "execution_count": null,
   "metadata": {
    "deletable": false,
    "editable": false,
    "nbgrader": {
     "checksum": "bfebdc1d9bd35624273e9f645fb6b37f",
     "grade": true,
     "grade_id": "cell-a0528072f23dc7e4",
     "locked": true,
     "points": 2,
     "schema_version": 1,
     "solution": false
    }
   },
   "outputs": [],
   "source": []
  },
  {
   "cell_type": "markdown",
   "metadata": {
    "deletable": false,
    "editable": false,
    "id": "PotEGh5HQSvv",
    "nbgrader": {
     "checksum": "35c6717be37b999f46502c985591d4d7",
     "grade": false,
     "grade_id": "cell-e177b496fec2d839",
     "locked": true,
     "schema_version": 1,
     "solution": false
    }
   },
   "source": [
    "[Back to top](#Index:) \n",
    "\n",
    "### Problem 6: `pandas` histogram\n",
    "\n",
    "**2 Points**\n",
    "\n",
    "\n",
    "An alternative way to draw a histogram of a column in a DataFrame is to use the `.hist()` method.  This wraps the matplotlib histogram function and adds a few additional presets like a grid.  Below, select the GDP column and use the `.hist()` method to create a histogram using the built in pandas method. Save your image as `gdp_hist_pandas.png` to the `images` folder.\n"
   ]
  },
  {
   "cell_type": "code",
   "execution_count": 57,
   "metadata": {
    "deletable": false,
    "id": "v3mB1950QSvw",
    "nbgrader": {
     "checksum": "9bb67b26202e6d8e9f3cefb862a17544",
     "grade": false,
     "grade_id": "cell-484c7754d76ffe77",
     "locked": false,
     "schema_version": 1,
     "solution": true
    }
   },
   "outputs": [
    {
     "data": {
      "image/png": "[encoded data removed]",
      "text/plain": [
       "<Figure size 640x480 with 1 Axes>"
      ]
     },
     "metadata": {},
     "output_type": "display_data"
    }
   ],
   "source": [
    "### GRADED\n",
    "\n",
    "# YOUR CODE HERE\n",
    "gdp_hist = gap_df['gdpPercap'].hist(edgecolor='black')\n",
    "\n",
    "# Add labels and title\n",
    "gdp_hist.set_xlabel('GDP Per Capita')\n",
    "gdp_hist.set_title('Histogram of GDP Per Capita')\n",
    "\n",
    "img6 = './images/gdp_hist_pandas.png'\n",
    "plt.savefig(img6)"
   ]
  },
  {
   "cell_type": "code",
   "execution_count": null,
   "metadata": {
    "deletable": false,
    "editable": false,
    "nbgrader": {
     "checksum": "18bdfc9883554920998690c0c9fadd78",
     "grade": true,
     "grade_id": "cell-76b3fc01c77b57f0",
     "locked": true,
     "points": 2,
     "schema_version": 1,
     "solution": false
    }
   },
   "outputs": [],
   "source": []
  },
  {
   "cell_type": "markdown",
   "metadata": {
    "deletable": false,
    "editable": false,
    "id": "2Y5NxYLRQSvx",
    "nbgrader": {
     "checksum": "8517cfa213926e8dd3cdc5fa34b38ba6",
     "grade": false,
     "grade_id": "cell-c619c63e62d33226",
     "locked": true,
     "schema_version": 1,
     "solution": false
    }
   },
   "source": [
    "[Back to top](#Index:) \n",
    "\n",
    "### Problem 7: `pandas` scatterplot\n",
    "\n",
    "**2 Points**\n",
    "\n",
    "Similar to the `.hist()` method, pandas has a general `.plot()` method where you can specify the kind of plot.  Use this to create a scatterplot of GDP on the x-axis and Life Expectancy on the y-axis.  You will have to call `.plot()` on the entire DataFrame and specify the `x` and `y` arguments to the `.plot()` function with the `kind = scatter` argument.  Save your plot as `gdp_lifexp_scatter_pandas.png` to the `images` folder.\n"
   ]
  },
  {
   "cell_type": "code",
   "execution_count": 61,
   "metadata": {
    "deletable": false,
    "id": "Xbzx4uBRQSvx",
    "nbgrader": {
     "checksum": "ea49503238027c2f286641bbe8f03502",
     "grade": false,
     "grade_id": "cell-e4438802431bf0f9",
     "locked": false,
     "schema_version": 1,
     "solution": true
    }
   },
   "outputs": [
    {
     "data": {
      "image/png": "[encoded data removed]",
      "text/plain": [
       "<Figure size 640x480 with 1 Axes>"
      ]
     },
     "metadata": {},
     "output_type": "display_data"
    }
   ],
   "source": [
    "### GRADED\n",
    "\n",
    "# YOUR CODE HERE\n",
    "gdp_lifexp_scatter = gap_df.plot(kind='scatter', x='gdpPercap', y='lifeExp')\n",
    "\n",
    "# Add labels and title\n",
    "gdp_lifexp_scatter.set_xlabel('GDP Per Capita')\n",
    "gdp_lifexp_scatter.set_ylabel('Life Expectancy')\n",
    "gdp_lifexp_scatter.set_title('Scatter Plot of GDP vs Life Expectancy')\n",
    "\n",
    "img7 = './images/gdp_lifexp_scatter_pandas.png'\n",
    "plt.savefig(img7)"
   ]
  },
  {
   "cell_type": "code",
   "execution_count": null,
   "metadata": {
    "deletable": false,
    "editable": false,
    "nbgrader": {
     "checksum": "09c17b995e000ccb47371d4d4799c12e",
     "grade": true,
     "grade_id": "cell-f8ee3562d8943e6c",
     "locked": true,
     "points": 2,
     "schema_version": 1,
     "solution": false
    }
   },
   "outputs": [],
   "source": []
  },
  {
   "cell_type": "code",
   "execution_count": null,
   "metadata": {},
   "outputs": [],
   "source": []
  }
 ],
 "metadata": {
  "colab": {
   "name": "coding_activity_2-5.ipynb",
   "provenance": []
  },
  "kernelspec": {
   "display_name": "Python 3 (ipykernel)",
   "language": "python",
   "name": "python3"
  },
  "language_info": {
   "codemirror_mode": {
    "name": "ipython",
    "version": 3
   },
   "file_extension": ".py",
   "mimetype": "text/x-python",
   "name": "python",
   "nbconvert_exporter": "python",
   "pygments_lexer": "ipython3",
   "version": "3.11.7"
  }
 },
 "nbformat": 4,
 "nbformat_minor": 4
}
