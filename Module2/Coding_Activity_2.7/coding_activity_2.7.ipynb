{
 "cells": [
  {
   "cell_type": "markdown",
   "metadata": {
    "deletable": false,
    "editable": false,
    "nbgrader": {
     "checksum": "e979ec987d1c0b336d6d3eaf212c7b17",
     "grade": false,
     "grade_id": "cell-10f9b559c32d5bcd",
     "locked": true,
     "schema_version": 1,
     "solution": false
    }
   },
   "source": [
    "### Codio Activity 2.7: Approximating Correlation from Scatterplots\n",
    "\n",
    "**Expected Time: 30 Minutes**\n",
    "\n",
    "**Total Points: 25**\n",
    "\n",
    "This assignment aims to reinforce your understanding of correlation.  \n",
    "\n",
    "A scatterplot of two random variables is shown in an image, and you are asked to guess whether the variables are positively correlated, negatively correlated, or not correlated at all. \n",
    "\n",
    "## Index:\n",
    "\n",
    "- [Problem 1](#Problem-1)\n",
    "- [Problem 2](#Problem-2)\n",
    "- [Problem 3](#Problem-3)\n",
    "- [Problem 4](#Problem-4)\n",
    "- [Problem 5](#Problem-5)\n"
   ]
  },
  {
   "cell_type": "code",
   "execution_count": 2,
   "metadata": {},
   "outputs": [],
   "source": [
    "import scipy.stats as stats\n",
    "import seaborn as sns\n",
    "import pandas as pd\n",
    "import matplotlib.pyplot as plt\n",
    "import numpy as np"
   ]
  },
  {
   "cell_type": "markdown",
   "metadata": {
    "deletable": false,
    "editable": false,
    "nbgrader": {
     "checksum": "6a66917edc7e50ef515e5a9bf8fe6e7d",
     "grade": false,
     "grade_id": "cell-01d3b09871580bea",
     "locked": true,
     "schema_version": 1,
     "solution": false
    }
   },
   "source": [
    "[Back to top](#Index:) \n",
    "\n",
    "### Problem 1\n",
    "\n",
    "**5 Points**\n",
    "\n",
    "Given the scatterplot below, determine whether the variables `x1` and `y` are positively, negatively, or not correlated. \n",
    "\n",
    "Assign your solution as a string -- either `positive`, `negative`, or `not` to `ans_1` below.\n",
    "\n",
    "\n",
    "\n",
    "![](images/guess_1.png)"
   ]
  },
  {
   "cell_type": "code",
   "execution_count": 4,
   "metadata": {
    "deletable": false,
    "nbgrader": {
     "checksum": "5ca216444b536ef2b175a22efb9a10e3",
     "grade": false,
     "grade_id": "cell-d8bbfa13f2b7ae0a",
     "locked": false,
     "schema_version": 1,
     "solution": true
    }
   },
   "outputs": [],
   "source": [
    "### GRADED\n",
    "\n",
    "ans1 = None\n",
    "\n",
    "# YOUR CODE HERE\n",
    "ans1 = 'positive'"
   ]
  },
  {
   "cell_type": "code",
   "execution_count": null,
   "metadata": {
    "deletable": false,
    "editable": false,
    "nbgrader": {
     "checksum": "8488386a0b87a06fd11568a47ac9ba04",
     "grade": true,
     "grade_id": "cell-2173092ece0a4682",
     "locked": true,
     "points": 5,
     "schema_version": 1,
     "solution": false
    }
   },
   "outputs": [],
   "source": []
  },
  {
   "cell_type": "markdown",
   "metadata": {
    "deletable": false,
    "editable": false,
    "nbgrader": {
     "checksum": "764b2804eb9f2e919759b67f73d908af",
     "grade": false,
     "grade_id": "cell-382de1b5c8f63c5a",
     "locked": true,
     "schema_version": 1,
     "solution": false
    }
   },
   "source": [
    "[Back to top](#Index:) \n",
    "\n",
    "### Problem 2\n",
    "\n",
    "**5 Points**\n",
    "\n",
    "\n",
    "Given the scatterplot below, determine whether the variables `x2` and `y` are positively, negatively, or not correlated. \n",
    "\n",
    "Assign your solution as a string -- either `positive`, `negative`, or `not` to `ans_2` below.\n",
    "\n",
    "\n",
    "![](images/guess_2.png)"
   ]
  },
  {
   "cell_type": "code",
   "execution_count": 6,
   "metadata": {
    "deletable": false,
    "nbgrader": {
     "checksum": "431761d0778fad0a8ae7f4597ba4bd8c",
     "grade": false,
     "grade_id": "cell-5d7037f91eeb36be",
     "locked": false,
     "schema_version": 1,
     "solution": true
    }
   },
   "outputs": [],
   "source": [
    "### GRADED\n",
    "\n",
    "ans2 = None\n",
    "\n",
    "# YOUR CODE HERE\n",
    "ans2 = 'not'"
   ]
  },
  {
   "cell_type": "code",
   "execution_count": null,
   "metadata": {
    "deletable": false,
    "editable": false,
    "nbgrader": {
     "checksum": "80fe2175635996e6d2425dd44a0ca7da",
     "grade": true,
     "grade_id": "cell-b1b7fa4feb4f789f",
     "locked": true,
     "points": 5,
     "schema_version": 1,
     "solution": false
    }
   },
   "outputs": [],
   "source": []
  },
  {
   "cell_type": "markdown",
   "metadata": {
    "deletable": false,
    "editable": false,
    "nbgrader": {
     "checksum": "78e8201c730a665865ad463acbc16e6c",
     "grade": false,
     "grade_id": "cell-e0ab12dd7b45e4e1",
     "locked": true,
     "schema_version": 1,
     "solution": false
    }
   },
   "source": [
    "[Back to top](#Index:) \n",
    "\n",
    "### Problem 3\n",
    "\n",
    "**5 Points**\n",
    "\n",
    "Given the scatterplot below, determine whether the variables `x3` and `y` are positively, negatively, or not correlated. \n",
    "\n",
    "Assign your solution as a string -- either `positive`, `negative`, or `not` to `ans_3` below.\n",
    "\n",
    "![](images/guess_3.png)"
   ]
  },
  {
   "cell_type": "code",
   "execution_count": 8,
   "metadata": {
    "deletable": false,
    "nbgrader": {
     "checksum": "0ff323d13c8e40854e907da5f6121e09",
     "grade": false,
     "grade_id": "cell-54c7bc870388a32e",
     "locked": false,
     "schema_version": 1,
     "solution": true
    }
   },
   "outputs": [],
   "source": [
    "### GRADED\n",
    "\n",
    "ans3 = None\n",
    "\n",
    "# YOUR CODE HERE\n",
    "ans3 = 'positive'"
   ]
  },
  {
   "cell_type": "code",
   "execution_count": null,
   "metadata": {
    "deletable": false,
    "editable": false,
    "nbgrader": {
     "checksum": "75ece13fc60ee5a3e4ec797c346a530b",
     "grade": true,
     "grade_id": "cell-ca9169fc61fd4941",
     "locked": true,
     "points": 5,
     "schema_version": 1,
     "solution": false
    }
   },
   "outputs": [],
   "source": []
  },
  {
   "cell_type": "markdown",
   "metadata": {
    "deletable": false,
    "editable": false,
    "nbgrader": {
     "checksum": "1c18a5677b3e109ef1c35e6f80a43661",
     "grade": false,
     "grade_id": "cell-c0ae18c147b12cb6",
     "locked": true,
     "schema_version": 1,
     "solution": false
    }
   },
   "source": [
    "[Back to top](#Index:) \n",
    "\n",
    "### Problem 4\n",
    "\n",
    "**5 Points**\n",
    "\n",
    "\n",
    "Given the scatterplot below, determine whether the variables `x4` and `y` are positively, negatively, or not correlated. \n",
    "\n",
    "Assign your solution as a string -- either `positive`, `negative`, or `not` to `ans_4` below.\n",
    "\n",
    "![](images/guess_4.png)"
   ]
  },
  {
   "cell_type": "code",
   "execution_count": 10,
   "metadata": {
    "deletable": false,
    "nbgrader": {
     "checksum": "2786d6b01a89873052af92fa5e682530",
     "grade": false,
     "grade_id": "cell-d337632c05c8c07e",
     "locked": false,
     "schema_version": 1,
     "solution": true
    }
   },
   "outputs": [],
   "source": [
    "### GRADED\n",
    "\n",
    "ans4 = None\n",
    "\n",
    "# YOUR CODE HERE\n",
    "ans4 = 'negative'"
   ]
  },
  {
   "cell_type": "code",
   "execution_count": null,
   "metadata": {
    "deletable": false,
    "editable": false,
    "nbgrader": {
     "checksum": "312a221025e6bd242cb9df9296814daa",
     "grade": true,
     "grade_id": "cell-094f8ab7c512e017",
     "locked": true,
     "points": 5,
     "schema_version": 1,
     "solution": false
    }
   },
   "outputs": [],
   "source": []
  },
  {
   "cell_type": "markdown",
   "metadata": {
    "deletable": false,
    "editable": false,
    "nbgrader": {
     "checksum": "da5f552b3cb6d6b6447bf77e5aa98ad8",
     "grade": false,
     "grade_id": "cell-1c2ddcf3b6b8dbd9",
     "locked": true,
     "schema_version": 1,
     "solution": false
    }
   },
   "source": [
    "[Back to top](#Index:) \n",
    "\n",
    "### Problem 5\n",
    "\n",
    "**5 Points**\n",
    "\n",
    "\n",
    "Given the scatterplot below, determine whether the variables `x5` and `y` are positively, negatively, or not correlated. \n",
    "\n",
    "Assign your solution as a string -- either `positive`, `negative`, or `not` to `ans_5` below.\n",
    "\n",
    "![](images/guess_5.png)"
   ]
  },
  {
   "cell_type": "code",
   "execution_count": 13,
   "metadata": {
    "deletable": false,
    "nbgrader": {
     "checksum": "2f1da1c97fcf9893cfd7df4880f4f2f2",
     "grade": false,
     "grade_id": "cell-f21cf8efefa20152",
     "locked": false,
     "schema_version": 1,
     "solution": true
    }
   },
   "outputs": [],
   "source": [
    "### GRADED\n",
    "\n",
    "ans5 = None\n",
    "\n",
    "# YOUR CODE HERE\n",
    "ans5 = 'not'"
   ]
  },
  {
   "cell_type": "code",
   "execution_count": null,
   "metadata": {
    "deletable": false,
    "editable": false,
    "nbgrader": {
     "checksum": "d5458b41d42cf410206e34f1e77ed381",
     "grade": true,
     "grade_id": "cell-19b36c42fe499d50",
     "locked": true,
     "points": 5,
     "schema_version": 1,
     "solution": false
    }
   },
   "outputs": [],
   "source": []
  },
  {
   "cell_type": "code",
   "execution_count": null,
   "metadata": {},
   "outputs": [],
   "source": []
  }
 ],
 "metadata": {
  "kernelspec": {
   "display_name": "Python 3 (ipykernel)",
   "language": "python",
   "name": "python3"
  },
  "language_info": {
   "codemirror_mode": {
    "name": "ipython",
    "version": 3
   },
   "file_extension": ".py",
   "mimetype": "text/x-python",
   "name": "python",
   "nbconvert_exporter": "python",
   "pygments_lexer": "ipython3",
   "version": "3.11.7"
  },
  "widgets": {
   "application/vnd.jupyter.widget-state+json": {
    "state": {},
    "version_major": 2,
    "version_minor": 0
   }
  }
 },
 "nbformat": 4,
 "nbformat_minor": 4
}
