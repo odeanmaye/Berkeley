{
 "cells": [
  {
   "cell_type": "markdown",
   "metadata": {
    "deletable": false,
    "editable": false,
    "nbgrader": {
     "checksum": "c92784e161460852299054bc1a7f6e07",
     "grade": false,
     "grade_id": "cell-c95102d8e7bccebf",
     "locked": true,
     "schema_version": 1,
     "solution": false
    }
   },
   "source": [
    "### Codio Activity 4.5: String Operations\n",
    "\n",
    "\n",
    "**Expected Time: 60 Minutes**\n",
    "\n",
    "**Total Points: 20**\n",
    "\n",
    "\n",
    "For this activity, you will focus on using string methods on `pandas` series.  Following the examples from video 4.8, a Wikipedia page on the states of the russian federation will be the dataset.  Below is a map of the boundaries for the states. \n",
    "\n",
    "#### Index:\n",
    "\n",
    "- [Problem 1](#Problem-1)\n",
    "- [Problem 2](#Problem-2)\n",
    "- [Problem 3](#Problem-3)\n",
    "- [Problem 4](#Problem-4)\n",
    "\n",
    "![](https://upload.wikimedia.org/wikipedia/commons/thumb/7/7d/Map_of_federal_subjects_of_Russia_%282014%29.svg/1380px-Map_of_federal_subjects_of_Russia_%282014%29.svg.png)"
   ]
  },
  {
   "cell_type": "markdown",
   "metadata": {
    "deletable": false,
    "editable": false,
    "nbgrader": {
     "checksum": "08c9495092a41027f07b281d464a9296",
     "grade": false,
     "grade_id": "cell-b5e784a8664a2700",
     "locked": true,
     "schema_version": 1,
     "solution": false
    }
   },
   "source": [
    "### Getting the Data\n",
    "\n",
    "Below, we access the data directly using the url and the `read_html` method from `pandas`.  This method reads any table from a web url in as a list of dataframes.  The data we are interested in is located in the fifth table on the page so we index the list of data accordingly below."
   ]
  },
  {
   "cell_type": "code",
   "execution_count": 4,
   "metadata": {
    "deletable": false,
    "editable": false,
    "nbgrader": {
     "checksum": "e6b4b231a8d7f5b21f4775d36128d0ee",
     "grade": false,
     "grade_id": "cell-8d2ffb96c4c2827e",
     "locked": true,
     "schema_version": 1,
     "solution": false
    }
   },
   "outputs": [],
   "source": [
    "import pandas as pd"
   ]
  },
  {
   "cell_type": "code",
   "execution_count": 6,
   "metadata": {
    "deletable": false,
    "editable": false,
    "nbgrader": {
     "checksum": "16b2e994be5c9f5f4cf7069babd4b3f5",
     "grade": false,
     "grade_id": "cell-c3929c64c7e703b0",
     "locked": true,
     "schema_version": 1,
     "solution": false
    }
   },
   "outputs": [],
   "source": [
    "russian_states = pd.read_csv('data/russian_states.csv', index_col = 0)"
   ]
  },
  {
   "cell_type": "code",
   "execution_count": 8,
   "metadata": {
    "deletable": false,
    "editable": false,
    "nbgrader": {
     "checksum": "cfa9bea59c5500fa5a5dfdb42f3ec828",
     "grade": false,
     "grade_id": "cell-987d4e6af2127f01",
     "locked": true,
     "schema_version": 1,
     "solution": false
    }
   },
   "outputs": [
    {
     "data": {
      "text/html": [
       "<div>\n",
       "<style scoped>\n",
       "    .dataframe tbody tr th:only-of-type {\n",
       "        vertical-align: middle;\n",
       "    }\n",
       "\n",
       "    .dataframe tbody tr th {\n",
       "        vertical-align: top;\n",
       "    }\n",
       "\n",
       "    .dataframe thead th {\n",
       "        text-align: right;\n",
       "    }\n",
       "</style>\n",
       "<table border=\"1\" class=\"dataframe\">\n",
       "  <thead>\n",
       "    <tr style=\"text-align: right;\">\n",
       "      <th></th>\n",
       "      <th>Code</th>\n",
       "      <th>Name</th>\n",
       "      <th>Capital/Administrative centre[a]</th>\n",
       "      <th>Flag</th>\n",
       "      <th>Coatof arms</th>\n",
       "      <th>Type</th>\n",
       "      <th>Federal district</th>\n",
       "      <th>Economic region</th>\n",
       "      <th>Area(km2)[16]</th>\n",
       "      <th>Population[17]</th>\n",
       "      <th>Populationdensity(/km2)</th>\n",
       "      <th>Yearestablished</th>\n",
       "    </tr>\n",
       "  </thead>\n",
       "  <tbody>\n",
       "    <tr>\n",
       "      <th>0</th>\n",
       "      <td>1</td>\n",
       "      <td>Adygea, Republic of</td>\n",
       "      <td>Maykop</td>\n",
       "      <td>NaN</td>\n",
       "      <td>NaN</td>\n",
       "      <td>republic</td>\n",
       "      <td>Southern</td>\n",
       "      <td>North Caucasus</td>\n",
       "      <td>7600</td>\n",
       "      <td>447109</td>\n",
       "      <td>58.83</td>\n",
       "      <td>1922</td>\n",
       "    </tr>\n",
       "    <tr>\n",
       "      <th>1</th>\n",
       "      <td>2</td>\n",
       "      <td>Bashkortostan, Republic of</td>\n",
       "      <td>Ufa</td>\n",
       "      <td>NaN</td>\n",
       "      <td>NaN</td>\n",
       "      <td>republic</td>\n",
       "      <td>Volga</td>\n",
       "      <td>Ural</td>\n",
       "      <td>143600</td>\n",
       "      <td>4104336</td>\n",
       "      <td>28.58</td>\n",
       "      <td>1919</td>\n",
       "    </tr>\n",
       "    <tr>\n",
       "      <th>2</th>\n",
       "      <td>3</td>\n",
       "      <td>Buryatia, Republic of</td>\n",
       "      <td>Ulan-Ude</td>\n",
       "      <td>NaN</td>\n",
       "      <td>NaN</td>\n",
       "      <td>republic</td>\n",
       "      <td>Far Eastern</td>\n",
       "      <td>East Siberian</td>\n",
       "      <td>351300</td>\n",
       "      <td>981238</td>\n",
       "      <td>2.79</td>\n",
       "      <td>1923</td>\n",
       "    </tr>\n",
       "    <tr>\n",
       "      <th>3</th>\n",
       "      <td>4</td>\n",
       "      <td>Altai Republic</td>\n",
       "      <td>Gorno-Altaysk</td>\n",
       "      <td>NaN</td>\n",
       "      <td>NaN</td>\n",
       "      <td>republic</td>\n",
       "      <td>Siberian</td>\n",
       "      <td>West Siberian</td>\n",
       "      <td>92600</td>\n",
       "      <td>202947</td>\n",
       "      <td>2.19</td>\n",
       "      <td>1922</td>\n",
       "    </tr>\n",
       "    <tr>\n",
       "      <th>4</th>\n",
       "      <td>5</td>\n",
       "      <td>Dagestan, Republic of</td>\n",
       "      <td>Makhachkala</td>\n",
       "      <td>NaN</td>\n",
       "      <td>NaN</td>\n",
       "      <td>republic</td>\n",
       "      <td>North Caucasian</td>\n",
       "      <td>North Caucasus</td>\n",
       "      <td>50300</td>\n",
       "      <td>2576531</td>\n",
       "      <td>51.22</td>\n",
       "      <td>1921</td>\n",
       "    </tr>\n",
       "  </tbody>\n",
       "</table>\n",
       "</div>"
      ],
      "text/plain": [
       "   Code                        Name Capital/Administrative centre[a]  Flag  \\\n",
       "0     1         Adygea, Republic of                           Maykop   NaN   \n",
       "1     2  Bashkortostan, Republic of                              Ufa   NaN   \n",
       "2     3       Buryatia, Republic of                         Ulan-Ude   NaN   \n",
       "3     4              Altai Republic                    Gorno-Altaysk   NaN   \n",
       "4     5       Dagestan, Republic of                      Makhachkala   NaN   \n",
       "\n",
       "   Coatof arms      Type Federal district Economic region Area(km2)[16]  \\\n",
       "0          NaN  republic         Southern  North Caucasus          7600   \n",
       "1          NaN  republic            Volga            Ural        143600   \n",
       "2          NaN  republic      Far Eastern   East Siberian        351300   \n",
       "3          NaN  republic         Siberian   West Siberian         92600   \n",
       "4          NaN  republic  North Caucasian  North Caucasus         50300   \n",
       "\n",
       "  Population[17]  Populationdensity(/km2)  Yearestablished  \n",
       "0         447109                    58.83             1922  \n",
       "1        4104336                    28.58             1919  \n",
       "2         981238                     2.79             1923  \n",
       "3         202947                     2.19             1922  \n",
       "4        2576531                    51.22             1921  "
      ]
     },
     "execution_count": 8,
     "metadata": {},
     "output_type": "execute_result"
    }
   ],
   "source": [
    "russian_states.head()"
   ]
  },
  {
   "cell_type": "markdown",
   "metadata": {
    "deletable": false,
    "editable": false,
    "nbgrader": {
     "checksum": "62eeafc2ad183e89a3e2fe3ef5bebfc5",
     "grade": false,
     "grade_id": "cell-4698aa034b05d664",
     "locked": true,
     "schema_version": 1,
     "solution": false
    }
   },
   "source": [
    "[Back to top](#Index:) \n",
    "\n",
    "### Problem 1\n",
    "\n",
    "#### Using the `contains` method\n",
    "\n",
    "**5 Points**\n",
    "\n",
    "Use the string method `contains` to subset the data based on entries in the `Economic region` column containing `Siberian`.  Assign your response as a DataFrame to `ans1` below."
   ]
  },
  {
   "cell_type": "code",
   "execution_count": 18,
   "metadata": {
    "deletable": false,
    "nbgrader": {
     "checksum": "07069fce4363c0379ff130bbf6f58118",
     "grade": false,
     "grade_id": "cell-69b100fd1408e91a",
     "locked": false,
     "schema_version": 1,
     "solution": true
    }
   },
   "outputs": [
    {
     "name": "stdout",
     "output_type": "stream",
     "text": [
      "(15, 12)\n"
     ]
    },
    {
     "data": {
      "text/html": [
       "<div>\n",
       "<style scoped>\n",
       "    .dataframe tbody tr th:only-of-type {\n",
       "        vertical-align: middle;\n",
       "    }\n",
       "\n",
       "    .dataframe tbody tr th {\n",
       "        vertical-align: top;\n",
       "    }\n",
       "\n",
       "    .dataframe thead th {\n",
       "        text-align: right;\n",
       "    }\n",
       "</style>\n",
       "<table border=\"1\" class=\"dataframe\">\n",
       "  <thead>\n",
       "    <tr style=\"text-align: right;\">\n",
       "      <th></th>\n",
       "      <th>Code</th>\n",
       "      <th>Name</th>\n",
       "      <th>Capital/Administrative centre[a]</th>\n",
       "      <th>Flag</th>\n",
       "      <th>Coatof arms</th>\n",
       "      <th>Type</th>\n",
       "      <th>Federal district</th>\n",
       "      <th>Economic region</th>\n",
       "      <th>Area(km2)[16]</th>\n",
       "      <th>Population[17]</th>\n",
       "      <th>Populationdensity(/km2)</th>\n",
       "      <th>Yearestablished</th>\n",
       "    </tr>\n",
       "  </thead>\n",
       "  <tbody>\n",
       "    <tr>\n",
       "      <th>2</th>\n",
       "      <td>3</td>\n",
       "      <td>Buryatia, Republic of</td>\n",
       "      <td>Ulan-Ude</td>\n",
       "      <td>NaN</td>\n",
       "      <td>NaN</td>\n",
       "      <td>republic</td>\n",
       "      <td>Far Eastern</td>\n",
       "      <td>East Siberian</td>\n",
       "      <td>351300</td>\n",
       "      <td>981238</td>\n",
       "      <td>2.79</td>\n",
       "      <td>1923</td>\n",
       "    </tr>\n",
       "    <tr>\n",
       "      <th>3</th>\n",
       "      <td>4</td>\n",
       "      <td>Altai Republic</td>\n",
       "      <td>Gorno-Altaysk</td>\n",
       "      <td>NaN</td>\n",
       "      <td>NaN</td>\n",
       "      <td>republic</td>\n",
       "      <td>Siberian</td>\n",
       "      <td>West Siberian</td>\n",
       "      <td>92600</td>\n",
       "      <td>202947</td>\n",
       "      <td>2.19</td>\n",
       "      <td>1922</td>\n",
       "    </tr>\n",
       "    <tr>\n",
       "      <th>16</th>\n",
       "      <td>17</td>\n",
       "      <td>Tuva Republic</td>\n",
       "      <td>Kyzyl</td>\n",
       "      <td>NaN</td>\n",
       "      <td>NaN</td>\n",
       "      <td>republic</td>\n",
       "      <td>Siberian</td>\n",
       "      <td>East Siberian</td>\n",
       "      <td>170500</td>\n",
       "      <td>305510</td>\n",
       "      <td>1.79</td>\n",
       "      <td>1944</td>\n",
       "    </tr>\n",
       "    <tr>\n",
       "      <th>18</th>\n",
       "      <td>19</td>\n",
       "      <td>Khakassia, Republic of</td>\n",
       "      <td>Abakan</td>\n",
       "      <td>NaN</td>\n",
       "      <td>NaN</td>\n",
       "      <td>republic</td>\n",
       "      <td>Siberian</td>\n",
       "      <td>East Siberian</td>\n",
       "      <td>61900</td>\n",
       "      <td>546072</td>\n",
       "      <td>8.82</td>\n",
       "      <td>1930</td>\n",
       "    </tr>\n",
       "    <tr>\n",
       "      <th>21</th>\n",
       "      <td>22</td>\n",
       "      <td>Altai Krai</td>\n",
       "      <td>Barnaul</td>\n",
       "      <td>NaN</td>\n",
       "      <td>NaN</td>\n",
       "      <td>krai</td>\n",
       "      <td>Siberian</td>\n",
       "      <td>West Siberian</td>\n",
       "      <td>169100</td>\n",
       "      <td>2607426</td>\n",
       "      <td>15.42</td>\n",
       "      <td>1937</td>\n",
       "    </tr>\n",
       "  </tbody>\n",
       "</table>\n",
       "</div>"
      ],
      "text/plain": [
       "    Code                    Name Capital/Administrative centre[a]  Flag  \\\n",
       "2      3   Buryatia, Republic of                         Ulan-Ude   NaN   \n",
       "3      4          Altai Republic                    Gorno-Altaysk   NaN   \n",
       "16    17           Tuva Republic                            Kyzyl   NaN   \n",
       "18    19  Khakassia, Republic of                           Abakan   NaN   \n",
       "21    22              Altai Krai                          Barnaul   NaN   \n",
       "\n",
       "    Coatof arms      Type Federal district Economic region Area(km2)[16]  \\\n",
       "2           NaN  republic      Far Eastern   East Siberian        351300   \n",
       "3           NaN  republic         Siberian   West Siberian         92600   \n",
       "16          NaN  republic         Siberian   East Siberian        170500   \n",
       "18          NaN  republic         Siberian   East Siberian         61900   \n",
       "21          NaN      krai         Siberian   West Siberian        169100   \n",
       "\n",
       "   Population[17]  Populationdensity(/km2)  Yearestablished  \n",
       "2          981238                     2.79             1923  \n",
       "3          202947                     2.19             1922  \n",
       "16         305510                     1.79             1944  \n",
       "18         546072                     8.82             1930  \n",
       "21        2607426                    15.42             1937  "
      ]
     },
     "execution_count": 18,
     "metadata": {},
     "output_type": "execute_result"
    }
   ],
   "source": [
    "### GRADED\n",
    "\n",
    "ans1 = None\n",
    "\n",
    "# YOUR CODE HERE\n",
    "ans1 = russian_states[russian_states['Economic region'].str.contains('Siberian', na=False)]\n",
    "\n",
    "# Answer check\n",
    "print(ans1.shape)\n",
    "ans1.head()"
   ]
  },
  {
   "cell_type": "code",
   "execution_count": null,
   "metadata": {
    "deletable": false,
    "editable": false,
    "nbgrader": {
     "checksum": "54f132b80fabb43af01d5a6c48b63f4c",
     "grade": true,
     "grade_id": "cell-1de07c86f4ae43cc",
     "locked": true,
     "points": 5,
     "schema_version": 1,
     "solution": false
    }
   },
   "outputs": [],
   "source": []
  },
  {
   "cell_type": "markdown",
   "metadata": {
    "deletable": false,
    "editable": false,
    "nbgrader": {
     "checksum": "38ebd05fdbf7f5af8abae67b8e20bdff",
     "grade": false,
     "grade_id": "cell-60249eaf5d390430",
     "locked": true,
     "schema_version": 1,
     "solution": false
    }
   },
   "source": [
    "[Back to top](#Index:) \n",
    "\n",
    "### Problem 2\n",
    "\n",
    "#### Using the `startswith` method\n",
    "\n",
    "**5 Points**\n",
    "\n",
    "Subset the data based on entries in the `Economic region` column that start with `North`.  Assign your answer as a DataFrame to `ans2` below."
   ]
  },
  {
   "cell_type": "code",
   "execution_count": 20,
   "metadata": {
    "deletable": false,
    "nbgrader": {
     "checksum": "7d3d07bbfd9b35e416722f7b47a4ae61",
     "grade": false,
     "grade_id": "cell-0f898f719d53e4c3",
     "locked": false,
     "schema_version": 1,
     "solution": true
    }
   },
   "outputs": [
    {
     "name": "stdout",
     "output_type": "stream",
     "text": [
      "(22, 12)\n"
     ]
    },
    {
     "data": {
      "text/html": [
       "<div>\n",
       "<style scoped>\n",
       "    .dataframe tbody tr th:only-of-type {\n",
       "        vertical-align: middle;\n",
       "    }\n",
       "\n",
       "    .dataframe tbody tr th {\n",
       "        vertical-align: top;\n",
       "    }\n",
       "\n",
       "    .dataframe thead th {\n",
       "        text-align: right;\n",
       "    }\n",
       "</style>\n",
       "<table border=\"1\" class=\"dataframe\">\n",
       "  <thead>\n",
       "    <tr style=\"text-align: right;\">\n",
       "      <th></th>\n",
       "      <th>Code</th>\n",
       "      <th>Name</th>\n",
       "      <th>Capital/Administrative centre[a]</th>\n",
       "      <th>Flag</th>\n",
       "      <th>Coatof arms</th>\n",
       "      <th>Type</th>\n",
       "      <th>Federal district</th>\n",
       "      <th>Economic region</th>\n",
       "      <th>Area(km2)[16]</th>\n",
       "      <th>Population[17]</th>\n",
       "      <th>Populationdensity(/km2)</th>\n",
       "      <th>Yearestablished</th>\n",
       "    </tr>\n",
       "  </thead>\n",
       "  <tbody>\n",
       "    <tr>\n",
       "      <th>0</th>\n",
       "      <td>1</td>\n",
       "      <td>Adygea, Republic of</td>\n",
       "      <td>Maykop</td>\n",
       "      <td>NaN</td>\n",
       "      <td>NaN</td>\n",
       "      <td>republic</td>\n",
       "      <td>Southern</td>\n",
       "      <td>North Caucasus</td>\n",
       "      <td>7600</td>\n",
       "      <td>447109</td>\n",
       "      <td>58.83</td>\n",
       "      <td>1922</td>\n",
       "    </tr>\n",
       "    <tr>\n",
       "      <th>4</th>\n",
       "      <td>5</td>\n",
       "      <td>Dagestan, Republic of</td>\n",
       "      <td>Makhachkala</td>\n",
       "      <td>NaN</td>\n",
       "      <td>NaN</td>\n",
       "      <td>republic</td>\n",
       "      <td>North Caucasian</td>\n",
       "      <td>North Caucasus</td>\n",
       "      <td>50300</td>\n",
       "      <td>2576531</td>\n",
       "      <td>51.22</td>\n",
       "      <td>1921</td>\n",
       "    </tr>\n",
       "    <tr>\n",
       "      <th>5</th>\n",
       "      <td>6</td>\n",
       "      <td>Ingushetia, Republic of</td>\n",
       "      <td>Magas(Largest city: Nazran)</td>\n",
       "      <td>NaN</td>\n",
       "      <td>NaN</td>\n",
       "      <td>republic</td>\n",
       "      <td>North Caucasian</td>\n",
       "      <td>North Caucasus</td>\n",
       "      <td>4000</td>\n",
       "      <td>467294</td>\n",
       "      <td>116.82</td>\n",
       "      <td>1992</td>\n",
       "    </tr>\n",
       "    <tr>\n",
       "      <th>6</th>\n",
       "      <td>7</td>\n",
       "      <td>Kabardino-Balkar Republic</td>\n",
       "      <td>Nalchik</td>\n",
       "      <td>NaN</td>\n",
       "      <td>NaN</td>\n",
       "      <td>republic</td>\n",
       "      <td>North Caucasian</td>\n",
       "      <td>North Caucasus</td>\n",
       "      <td>12500</td>\n",
       "      <td>901494</td>\n",
       "      <td>72.12</td>\n",
       "      <td>1936</td>\n",
       "    </tr>\n",
       "    <tr>\n",
       "      <th>8</th>\n",
       "      <td>9</td>\n",
       "      <td>Karachay-Cherkess Republic</td>\n",
       "      <td>Cherkessk</td>\n",
       "      <td>NaN</td>\n",
       "      <td>NaN</td>\n",
       "      <td>republic</td>\n",
       "      <td>North Caucasian</td>\n",
       "      <td>North Caucasus</td>\n",
       "      <td>14100</td>\n",
       "      <td>439470</td>\n",
       "      <td>31.17</td>\n",
       "      <td>1957</td>\n",
       "    </tr>\n",
       "  </tbody>\n",
       "</table>\n",
       "</div>"
      ],
      "text/plain": [
       "   Code                        Name Capital/Administrative centre[a]  Flag  \\\n",
       "0     1         Adygea, Republic of                           Maykop   NaN   \n",
       "4     5       Dagestan, Republic of                      Makhachkala   NaN   \n",
       "5     6     Ingushetia, Republic of      Magas(Largest city: Nazran)   NaN   \n",
       "6     7   Kabardino-Balkar Republic                          Nalchik   NaN   \n",
       "8     9  Karachay-Cherkess Republic                        Cherkessk   NaN   \n",
       "\n",
       "   Coatof arms      Type Federal district Economic region Area(km2)[16]  \\\n",
       "0          NaN  republic         Southern  North Caucasus          7600   \n",
       "4          NaN  republic  North Caucasian  North Caucasus         50300   \n",
       "5          NaN  republic  North Caucasian  North Caucasus          4000   \n",
       "6          NaN  republic  North Caucasian  North Caucasus         12500   \n",
       "8          NaN  republic  North Caucasian  North Caucasus         14100   \n",
       "\n",
       "  Population[17]  Populationdensity(/km2)  Yearestablished  \n",
       "0         447109                    58.83             1922  \n",
       "4        2576531                    51.22             1921  \n",
       "5         467294                   116.82             1992  \n",
       "6         901494                    72.12             1936  \n",
       "8         439470                    31.17             1957  "
      ]
     },
     "execution_count": 20,
     "metadata": {},
     "output_type": "execute_result"
    }
   ],
   "source": [
    "### GRADED\n",
    "\n",
    "ans2 = None\n",
    "\n",
    "# YOUR CODE HERE\n",
    "ans2 = russian_states[russian_states['Economic region'].str.startswith('North', na=False)]\n",
    "\n",
    "# Answer check\n",
    "print(ans2.shape)\n",
    "ans2.head()"
   ]
  },
  {
   "cell_type": "code",
   "execution_count": null,
   "metadata": {
    "deletable": false,
    "editable": false,
    "nbgrader": {
     "checksum": "0d16c3733e4711816e7606821b2eb024",
     "grade": true,
     "grade_id": "cell-99d4a7e77d5acc3b",
     "locked": true,
     "points": 5,
     "schema_version": 1,
     "solution": false
    }
   },
   "outputs": [],
   "source": []
  },
  {
   "cell_type": "markdown",
   "metadata": {
    "deletable": false,
    "editable": false,
    "nbgrader": {
     "checksum": "7c72358c0a7c917ca29cc1c81729ddac",
     "grade": false,
     "grade_id": "cell-03e6e3e859cf241c",
     "locked": true,
     "schema_version": 1,
     "solution": false
    }
   },
   "source": [
    "[Back to top](#Index:) \n",
    "\n",
    "### Problem 3: Using the `upper` method\n",
    "\n",
    "**5 Points**\n",
    "\n",
    "Use the `upper` method to create a series where the entries in the `Federal district` column all uppercased.  Assign your response as a Series to `ans3` below."
   ]
  },
  {
   "cell_type": "code",
   "execution_count": 22,
   "metadata": {
    "deletable": false,
    "nbgrader": {
     "checksum": "84e876fe47a23a66bd45e955d44472d0",
     "grade": false,
     "grade_id": "cell-228226682431b099",
     "locked": false,
     "schema_version": 1,
     "solution": true
    }
   },
   "outputs": [
    {
     "name": "stdout",
     "output_type": "stream",
     "text": [
      "<class 'pandas.core.series.Series'>\n"
     ]
    },
    {
     "data": {
      "text/plain": [
       "0           SOUTHERN\n",
       "1              VOLGA\n",
       "2        FAR EASTERN\n",
       "3           SIBERIAN\n",
       "4    NORTH CAUCASIAN\n",
       "Name: Federal district, dtype: object"
      ]
     },
     "execution_count": 22,
     "metadata": {},
     "output_type": "execute_result"
    }
   ],
   "source": [
    "### GRADED\n",
    "\n",
    "ans3 = None\n",
    "\n",
    "# YOUR CODE HERE\n",
    "ans3 = russian_states['Federal district'].str.upper()\n",
    "\n",
    "# Answer check\n",
    "print(type(ans3))\n",
    "ans3.head()"
   ]
  },
  {
   "cell_type": "code",
   "execution_count": null,
   "metadata": {
    "deletable": false,
    "editable": false,
    "nbgrader": {
     "checksum": "1445c4af45df3cb66c8e58ba0dd9b183",
     "grade": true,
     "grade_id": "cell-513335067d60d99a",
     "locked": true,
     "points": 5,
     "schema_version": 1,
     "solution": false
    }
   },
   "outputs": [],
   "source": []
  },
  {
   "cell_type": "markdown",
   "metadata": {
    "deletable": false,
    "editable": false,
    "nbgrader": {
     "checksum": "fff457d20824959ecaee7c4f249e57f1",
     "grade": false,
     "grade_id": "cell-e3bde681d79f5ea7",
     "locked": true,
     "schema_version": 1,
     "solution": false
    }
   },
   "source": [
    "[Back to top](#Index:) \n",
    "\n",
    "### Problem 4\n",
    "\n",
    "#### Examining the Population\n",
    "\n",
    "**5 Points**\n",
    " \n",
    "\n",
    "Much like the example in the videos, the `Population[17]` column contains problematic characters that need to be replaced before the column can be converted to a float datatype.  Replace the `\\[22\\]`, `\\[23\\]`,and `,` values with empty strings. Finally, convert the `Population[17]` column to `float` datatypes.  \n",
    "\n",
    "Assign the your response as a series to `ans4` below.  "
   ]
  },
  {
   "cell_type": "code",
   "execution_count": 32,
   "metadata": {
    "deletable": false,
    "nbgrader": {
     "checksum": "635a769d9bfb77339fc12c02a8418c5a",
     "grade": false,
     "grade_id": "cell-74ef2f0c657d0393",
     "locked": false,
     "schema_version": 1,
     "solution": true
    }
   },
   "outputs": [
    {
     "name": "stdout",
     "output_type": "stream",
     "text": [
      "<class 'pandas.core.series.Series'>\n"
     ]
    },
    {
     "data": {
      "text/plain": [
       "0     447109.0\n",
       "1    4104336.0\n",
       "2     981238.0\n",
       "3     202947.0\n",
       "4    2576531.0\n",
       "Name: Population[17], dtype: float64"
      ]
     },
     "execution_count": 32,
     "metadata": {},
     "output_type": "execute_result"
    }
   ],
   "source": [
    "### GRADED\n",
    "\n",
    "ans4 = None\n",
    "\n",
    "# YOUR CODE HERE\n",
    "df = russian_states.copy()\n",
    "\n",
    "df['Population[17]'] = russian_states['Population[17]'].str.replace('[22]', '', regex=False)\n",
    "df['Population[17]'] = df['Population[17]'].str.replace('[23]', '', regex=False)\n",
    "df['Population[17]'] = df['Population[17]'].str.replace(',', '', regex=False)\n",
    "\n",
    "ans4 = df['Population[17]'].astype(float)\n",
    "\n",
    "# Answer check\n",
    "print(type(ans4))\n",
    "ans4.head()"
   ]
  },
  {
   "cell_type": "code",
   "execution_count": null,
   "metadata": {
    "deletable": false,
    "editable": false,
    "nbgrader": {
     "checksum": "e5b5e8bd6cbe4bd56cb68407e062c106",
     "grade": true,
     "grade_id": "cell-e5abae9366ae5429",
     "locked": true,
     "points": 5,
     "schema_version": 1,
     "solution": false
    }
   },
   "outputs": [],
   "source": []
  },
  {
   "cell_type": "code",
   "execution_count": null,
   "metadata": {},
   "outputs": [],
   "source": []
  }
 ],
 "metadata": {
  "kernelspec": {
   "display_name": "Python 3 (ipykernel)",
   "language": "python",
   "name": "python3"
  },
  "language_info": {
   "codemirror_mode": {
    "name": "ipython",
    "version": 3
   },
   "file_extension": ".py",
   "mimetype": "text/x-python",
   "name": "python",
   "nbconvert_exporter": "python",
   "pygments_lexer": "ipython3",
   "version": "3.11.7"
  }
 },
 "nbformat": 4,
 "nbformat_minor": 4
}
