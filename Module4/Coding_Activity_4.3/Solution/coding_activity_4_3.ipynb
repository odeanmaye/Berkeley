{
 "cells": [
  {
   "cell_type": "markdown",
   "metadata": {
    "id": "HK0OTYmFt25d",
    "nbgrader": {
     "grade": false,
     "grade_id": "cell-d59e622d38433ebd",
     "locked": true,
     "schema_version": 1,
     "solution": false
    }
   },
   "source": [
    "### Codio Activity 4.3: Creating Scatterplots, Histograms, and Distribution Plots\n",
    "\n",
    "**Expected Time: 60 Minutes**\n",
    "\n",
    "**Total Points: 12**\n",
    "\n",
    "This activity focuses on using scatterplots to compare GDP and Life Expectancy.  The built in gapminder data offers GDP and Life Expectancy data similar to the videos, and you will use this to produce a scatterplot that contains more than two dimensions of data and an important transformation.\n",
    "\n",
    "\n",
    "## Index:\n",
    "\n",
    "- [Problem 1](#Problem-1)\n",
    "- [Problem 2](#Problem-2)\n",
    "- [Problem 3](#Problem-3)\n",
    "- [Problem 4](#Problem-4)\n",
    "- [Problem 5](#Problem-5)\n",
    "- [Problem 6](#Problem-6)"
   ]
  },
  {
   "cell_type": "code",
   "execution_count": 3,
   "metadata": {
    "id": "DqWCQOvUt25f",
    "nbgrader": {
     "grade": false,
     "grade_id": "cell-15f6c1356983be24",
     "locked": true,
     "schema_version": 1,
     "solution": false
    }
   },
   "outputs": [],
   "source": [
    "import plotly.express as px\n",
    "import matplotlib.pyplot as plt\n",
    "import seaborn as sns\n",
    "import numpy as np\n",
    "import pandas as pd"
   ]
  },
  {
   "cell_type": "code",
   "execution_count": 4,
   "metadata": {
    "id": "Z02JPn5Ft25g",
    "nbgrader": {
     "grade": false,
     "grade_id": "cell-f771b2529aeb006b",
     "locked": true,
     "schema_version": 1,
     "solution": false
    }
   },
   "outputs": [],
   "source": [
    "gapminder = px.data.gapminder()"
   ]
  },
  {
   "cell_type": "code",
   "execution_count": 5,
   "metadata": {
    "id": "_1V6GuIwt25h",
    "nbgrader": {
     "grade": false,
     "grade_id": "cell-f7482205e9380b5d",
     "locked": true,
     "schema_version": 1,
     "solution": false
    },
    "outputId": "d6701792-a098-4f5c-84f5-c1265fda825f"
   },
   "outputs": [
    {
     "data": {
      "text/html": [
       "<div>\n",
       "<style scoped>\n",
       "    .dataframe tbody tr th:only-of-type {\n",
       "        vertical-align: middle;\n",
       "    }\n",
       "\n",
       "    .dataframe tbody tr th {\n",
       "        vertical-align: top;\n",
       "    }\n",
       "\n",
       "    .dataframe thead th {\n",
       "        text-align: right;\n",
       "    }\n",
       "</style>\n",
       "<table border=\"1\" class=\"dataframe\">\n",
       "  <thead>\n",
       "    <tr style=\"text-align: right;\">\n",
       "      <th></th>\n",
       "      <th>country</th>\n",
       "      <th>continent</th>\n",
       "      <th>year</th>\n",
       "      <th>lifeExp</th>\n",
       "      <th>pop</th>\n",
       "      <th>gdpPercap</th>\n",
       "      <th>iso_alpha</th>\n",
       "      <th>iso_num</th>\n",
       "    </tr>\n",
       "  </thead>\n",
       "  <tbody>\n",
       "    <tr>\n",
       "      <th>0</th>\n",
       "      <td>Afghanistan</td>\n",
       "      <td>Asia</td>\n",
       "      <td>1952</td>\n",
       "      <td>28.801</td>\n",
       "      <td>8425333</td>\n",
       "      <td>779.445314</td>\n",
       "      <td>AFG</td>\n",
       "      <td>4</td>\n",
       "    </tr>\n",
       "    <tr>\n",
       "      <th>1</th>\n",
       "      <td>Afghanistan</td>\n",
       "      <td>Asia</td>\n",
       "      <td>1957</td>\n",
       "      <td>30.332</td>\n",
       "      <td>9240934</td>\n",
       "      <td>820.853030</td>\n",
       "      <td>AFG</td>\n",
       "      <td>4</td>\n",
       "    </tr>\n",
       "    <tr>\n",
       "      <th>2</th>\n",
       "      <td>Afghanistan</td>\n",
       "      <td>Asia</td>\n",
       "      <td>1962</td>\n",
       "      <td>31.997</td>\n",
       "      <td>10267083</td>\n",
       "      <td>853.100710</td>\n",
       "      <td>AFG</td>\n",
       "      <td>4</td>\n",
       "    </tr>\n",
       "    <tr>\n",
       "      <th>3</th>\n",
       "      <td>Afghanistan</td>\n",
       "      <td>Asia</td>\n",
       "      <td>1967</td>\n",
       "      <td>34.020</td>\n",
       "      <td>11537966</td>\n",
       "      <td>836.197138</td>\n",
       "      <td>AFG</td>\n",
       "      <td>4</td>\n",
       "    </tr>\n",
       "    <tr>\n",
       "      <th>4</th>\n",
       "      <td>Afghanistan</td>\n",
       "      <td>Asia</td>\n",
       "      <td>1972</td>\n",
       "      <td>36.088</td>\n",
       "      <td>13079460</td>\n",
       "      <td>739.981106</td>\n",
       "      <td>AFG</td>\n",
       "      <td>4</td>\n",
       "    </tr>\n",
       "  </tbody>\n",
       "</table>\n",
       "</div>"
      ],
      "text/plain": [
       "       country continent  year  lifeExp       pop   gdpPercap iso_alpha  \\\n",
       "0  Afghanistan      Asia  1952   28.801   8425333  779.445314       AFG   \n",
       "1  Afghanistan      Asia  1957   30.332   9240934  820.853030       AFG   \n",
       "2  Afghanistan      Asia  1962   31.997  10267083  853.100710       AFG   \n",
       "3  Afghanistan      Asia  1967   34.020  11537966  836.197138       AFG   \n",
       "4  Afghanistan      Asia  1972   36.088  13079460  739.981106       AFG   \n",
       "\n",
       "   iso_num  \n",
       "0        4  \n",
       "1        4  \n",
       "2        4  \n",
       "3        4  \n",
       "4        4  "
      ]
     },
     "execution_count": 5,
     "metadata": {},
     "output_type": "execute_result"
    }
   ],
   "source": [
    "gapminder.head()"
   ]
  },
  {
   "cell_type": "markdown",
   "metadata": {
    "id": "uaPBVlQwt25h",
    "nbgrader": {
     "grade": false,
     "grade_id": "cell-784a722317349fd3",
     "locked": true,
     "schema_version": 1,
     "solution": false
    }
   },
   "source": [
    "[Back to top](#Index:) \n",
    "\n",
    "### Problem 1\n",
    "\n",
    "#### Scatter Plot of GDP vs. Life Expectancy\n",
    "\n",
    "\n",
    "Use `plotly` to create a scatter plot of the gapminder data with GDP on the $x$-axis and Life Expectancy on the $y$ axis.  \n",
    "\n",
    "Use the `plt.savefig()` method to save the image as `img1.png` in the `images` folder."
   ]
  },
  {
   "cell_type": "code",
   "execution_count": 10,
   "metadata": {
    "nbgrader": {
     "grade": false,
     "grade_id": "cell-e5599457484ba2a1",
     "locked": false,
     "schema_version": 1,
     "solution": true
    }
   },
   "outputs": [
    {
     "data": {
      "text/plain": [
       "<Figure size 640x480 with 0 Axes>"
      ]
     },
     "metadata": {},
     "output_type": "display_data"
    }
   ],
   "source": [
    "### GRADED\n",
    "\n",
    "### BEGIN SOLUTION\n",
    "px.scatter(data_frame=gapminder, x = 'gdpPercap', y = 'lifeExp')\n",
    "plt.savefig('images/img1.png')\n",
    "### END SOLUTION"
   ]
  },
  {
   "cell_type": "code",
   "execution_count": null,
   "metadata": {
    "nbgrader": {
     "grade": true,
     "grade_id": "cell-ad10b9a242e1533a",
     "locked": true,
     "points": 2,
     "schema_version": 1,
     "solution": false
    }
   },
   "outputs": [],
   "source": [
    "### BEGIN HIDDEN TESTS\n",
    "from matplotlib.testing.compare import compare_images\n",
    "\n",
    "\n",
    "\n",
    "px.scatter(data_frame=gapminder, x = 'gdpPercap', y = 'lifeExp')\n",
    "plt.savefig('images/img1_.png')\n",
    "plt.close()\n",
    "img1 = './images/img1.png' \n",
    "img1_ ='./images/img1_.png'\n",
    "\n",
    "compare_images(img1_, img1, 0.1)\n",
    "### END HIDDEN TESTS"
   ]
  },
  {
   "cell_type": "markdown",
   "metadata": {
    "id": "76-NSFGKt25i",
    "nbgrader": {
     "grade": false,
     "grade_id": "cell-6b9e4d2b01c27b92",
     "locked": true,
     "schema_version": 1,
     "solution": false
    }
   },
   "source": [
    "[Back to top](#Index:) \n",
    "\n",
    "### Problem 2\n",
    "\n",
    "#### Scatter Plot of GDP vs. Life Expectancy with Country\n",
    "\n",
    "Use `plotly` to create a scatter plot of the gapminder data with GDP on the $x$-axis and Life Expectancy on the $y$ axis and add color to each point based on the `country` column.  \n",
    "\n",
    "Use the `plt.savefig()` method to save the image as `img2.png` in the `images` folder."
   ]
  },
  {
   "cell_type": "code",
   "execution_count": null,
   "metadata": {
    "nbgrader": {
     "grade": false,
     "grade_id": "cell-fd85c14b4b8ad9d1",
     "locked": false,
     "schema_version": 1,
     "solution": true
    }
   },
   "outputs": [],
   "source": [
    "### GRADED\n",
    "\n",
    "### BEGIN SOLUTION\n",
    "px.scatter(data_frame=gapminder, x = 'gdpPercap', y = 'lifeExp', color = 'country')\n",
    "plt.savefig('images/img2.png')\n",
    "### END SOLUTION\n"
   ]
  },
  {
   "cell_type": "code",
   "execution_count": null,
   "metadata": {
    "nbgrader": {
     "grade": true,
     "grade_id": "cell-569be9c0c3e495b2",
     "locked": true,
     "points": 2,
     "schema_version": 1,
     "solution": false
    }
   },
   "outputs": [],
   "source": [
    "### BEGIN HIDDEN TESTS\n",
    "from matplotlib.testing.compare import compare_images\n",
    "\n",
    "\n",
    "\n",
    "px.scatter(data_frame=gapminder, x = 'gdpPercap', y = 'lifeExp', color = 'country')\n",
    "plt.savefig('images/img2_.png')\n",
    "plt.close()\n",
    "img2 = './images/img2.png' \n",
    "img2_ ='./images/img2_.png'\n",
    "\n",
    "compare_images(img2_, img2, 0.1)\n",
    "### END HIDDEN TESTS"
   ]
  },
  {
   "cell_type": "markdown",
   "metadata": {
    "id": "XvY6wI-8t25j",
    "nbgrader": {
     "grade": false,
     "grade_id": "cell-46a6868a4856ca91",
     "locked": true,
     "schema_version": 1,
     "solution": false
    }
   },
   "source": [
    "[Back to top](#Index:) \n",
    "\n",
    "### Problem 3\n",
    "\n",
    "#### Incorporating Population\n",
    "\n",
    "Use `plotly` to create a scatter plot of the gapminder data with GDP on the $x$-axis and Life Expectancy on the $y$ axis, add color to each point based on the `country` column and size the points based on the population column.  \n",
    "\n",
    "Use the `plt.savefig()` method to save the image as `img3.png` in the `images` folder."
   ]
  },
  {
   "cell_type": "code",
   "execution_count": null,
   "metadata": {
    "nbgrader": {
     "grade": false,
     "grade_id": "cell-a74c0af66db441f2",
     "locked": false,
     "schema_version": 1,
     "solution": true
    }
   },
   "outputs": [],
   "source": [
    "### GRADED\n",
    "\n",
    "### BEGIN SOLUTION\n",
    "px.scatter(data_frame=gapminder, x = 'gdpPercap', y = 'lifeExp', color = 'country', size = 'pop')\n",
    "plt.savefig('images/img3.png')\n",
    "### END SOLUTION"
   ]
  },
  {
   "cell_type": "code",
   "execution_count": null,
   "metadata": {
    "nbgrader": {
     "grade": true,
     "grade_id": "cell-6203715ad9d2cac0",
     "locked": true,
     "points": 2,
     "schema_version": 1,
     "solution": false
    }
   },
   "outputs": [],
   "source": [
    "### BEGIN HIDDEN TESTS\n",
    "from matplotlib.testing.compare import compare_images\n",
    "\n",
    "\n",
    "\n",
    "px.scatter(data_frame=gapminder, x = 'gdpPercap', y = 'lifeExp', color = 'country', size = 'pop')\n",
    "plt.savefig('images/img3_.png')\n",
    "plt.close()\n",
    "img3 = './images/img3.png' \n",
    "img3_ ='./images/img3_.png'\n",
    "\n",
    "compare_images(img3_, img3, 0.1)\n",
    "### END HIDDEN TESTS"
   ]
  },
  {
   "cell_type": "markdown",
   "metadata": {
    "id": "qMeAw7Gpt25k",
    "nbgrader": {
     "grade": false,
     "grade_id": "cell-7566c8e00401d5ce",
     "locked": true,
     "schema_version": 1,
     "solution": false
    }
   },
   "source": [
    "[Back to top](#Index:) \n",
    "\n",
    "### Problem 4\n",
    "\n",
    "#### Logarithmic Transformation\n",
    "\n",
    "Use `plotly` to create a scatter plot of the gapminder data with GDP on the $x$-axis and Life Expectancy on the $y$ axis, add color to each point based on the `country` column and size the points based on the population column.    Transform the $x$-axis using the `log_x` argument in the scatter function.  \n",
    "\n",
    "Use the `plt.savefig()` method to save the image as `img3.png` in the `images` folder."
   ]
  },
  {
   "cell_type": "code",
   "execution_count": null,
   "metadata": {
    "nbgrader": {
     "grade": false,
     "grade_id": "cell-c214a7267a684805",
     "locked": false,
     "schema_version": 1,
     "solution": true
    }
   },
   "outputs": [],
   "source": [
    "### GRADED\n",
    "\n",
    "### BEGIN SOLUTION\n",
    "px.scatter(data_frame=gapminder, x = 'gdpPercap', y = 'lifeExp', color = 'country', size = 'pop', log_x=True)\n",
    "plt.savefig('images/img4.png')\n",
    "### END SOLUTION"
   ]
  },
  {
   "cell_type": "code",
   "execution_count": null,
   "metadata": {
    "nbgrader": {
     "grade": true,
     "grade_id": "cell-d82d1100ea06be18",
     "locked": true,
     "points": 2,
     "schema_version": 1,
     "solution": false
    }
   },
   "outputs": [],
   "source": [
    "### BEGIN HIDDEN TESTS\n",
    "from matplotlib.testing.compare import compare_images\n",
    "\n",
    "\n",
    "\n",
    "px.scatter(data_frame=gapminder, x = 'gdpPercap', y = 'lifeExp', color = 'country', size = 'pop')\n",
    "plt.savefig('images/img4_.png')\n",
    "plt.close()\n",
    "img4 = './images/img4.png' \n",
    "img4_ ='./images/img4_.png'\n",
    "\n",
    "compare_images(img4_, img4, 0.1)\n",
    "### END HIDDEN TESTS"
   ]
  },
  {
   "cell_type": "markdown",
   "metadata": {
    "id": "P-hMA7qKt25l",
    "nbgrader": {
     "grade": false,
     "grade_id": "cell-9fa46c0d56f606bc",
     "locked": true,
     "schema_version": 1,
     "solution": false
    }
   },
   "source": [
    "[Back to top](#Index:) \n",
    "\n",
    "### Problem 5\n",
    "\n",
    "#### Limit to the year 2007\n",
    "\n",
    "Limit the data to the year 2007 and create a scatterplot of GDP vs. Life Expectancy, color by country, size the points by population and use a logarithmic transform on the x-axis. \n",
    "\n",
    "Use the `plt.savefig()` method to save the image as `img5.png` in the `images` folder."
   ]
  },
  {
   "cell_type": "code",
   "execution_count": null,
   "metadata": {
    "nbgrader": {
     "grade": false,
     "grade_id": "cell-a82225c0e53055ef",
     "locked": false,
     "schema_version": 1,
     "solution": true
    }
   },
   "outputs": [],
   "source": [
    "### GRADED\n",
    "\n",
    "### BEGIN SOLUTION\n",
    "px.scatter(gapminder.query('year == 2007'), x = 'gdpPercap', y = 'lifeExp', color = 'country', size = 'pop',\n",
    "          log_x = True)\n",
    "plt.savefig('images/img5.png')\n",
    "### END SOLUTION"
   ]
  },
  {
   "cell_type": "code",
   "execution_count": null,
   "metadata": {
    "nbgrader": {
     "grade": true,
     "grade_id": "cell-0365410a260f124a",
     "locked": true,
     "points": 2,
     "schema_version": 1,
     "solution": false
    }
   },
   "outputs": [],
   "source": [
    "### BEGIN HIDDEN TESTS\n",
    "from matplotlib.testing.compare import compare_images\n",
    "\n",
    "\n",
    "\n",
    "px.scatter(gapminder.query('year == 2007'), x = 'gdpPercap', y = 'lifeExp', color = 'country', size = 'pop',\n",
    "          log_x = True)\n",
    "plt.savefig('images/img5_.png')\n",
    "plt.close()\n",
    "img5 = './images/img5.png' \n",
    "img5_ ='./images/img5_.png'\n",
    "\n",
    "compare_images(img5_, img5, 0.1)\n",
    "### END HIDDEN TESTS"
   ]
  },
  {
   "cell_type": "markdown",
   "metadata": {
    "id": "s5akrwTNt25l",
    "nbgrader": {
     "grade": false,
     "grade_id": "cell-5c97ec38a415cb71",
     "locked": true,
     "schema_version": 1,
     "solution": false
    }
   },
   "source": [
    "[Back to top](#Index:) \n",
    "\n",
    "### Problem 6\n",
    "\n",
    "#### Boxplots for GDP by Continent\n",
    "\n",
    "Use `plotly` to create boxplots for GDP by continent.  \n",
    "\n",
    "Use the `plt.savefig()` method to save the image as `img5.png` in the `images` folder."
   ]
  },
  {
   "cell_type": "code",
   "execution_count": null,
   "metadata": {
    "nbgrader": {
     "grade": false,
     "grade_id": "cell-3b6d09de77118b80",
     "locked": false,
     "schema_version": 1,
     "solution": true
    }
   },
   "outputs": [],
   "source": [
    "### GRADED\n",
    "\n",
    "### BEGIN SOLUTION\n",
    "px.box(data_frame=gapminder, x = 'gdpPercap', color = 'continent')\n",
    "plt.savefig('images/img6.png')\n",
    "### END SOLUTION"
   ]
  },
  {
   "cell_type": "code",
   "execution_count": null,
   "metadata": {
    "nbgrader": {
     "grade": true,
     "grade_id": "cell-756f7fcd617bff6d",
     "locked": true,
     "points": 2,
     "schema_version": 1,
     "solution": false
    }
   },
   "outputs": [],
   "source": [
    "### BEGIN HIDDEN TESTS\n",
    "from matplotlib.testing.compare import compare_images\n",
    "\n",
    "\n",
    "\n",
    "px.box(data_frame=gapminder, x = 'gdpPercap', color = 'continent')\n",
    "plt.savefig('images/img6_.png')\n",
    "plt.close()\n",
    "img6 = './images/img6.png' \n",
    "img6_ ='./images/img6_.png'\n",
    "\n",
    "compare_images(img6_, img6, 0.1)\n",
    "### END HIDDEN TESTS"
   ]
  },
  {
   "cell_type": "code",
   "execution_count": null,
   "metadata": {},
   "outputs": [],
   "source": []
  }
 ],
 "metadata": {
  "celltoolbar": "Create Assignment",
  "colab": {
   "name": "coding_activity_4.3.ipynb",
   "provenance": []
  },
  "kernelspec": {
   "display_name": "Python 3 (ipykernel)",
   "language": "python",
   "name": "python3"
  },
  "language_info": {
   "codemirror_mode": {
    "name": "ipython",
    "version": 3
   },
   "file_extension": ".py",
   "mimetype": "text/x-python",
   "name": "python",
   "nbconvert_exporter": "python",
   "pygments_lexer": "ipython3",
   "version": "3.11.7"
  }
 },
 "nbformat": 4,
 "nbformat_minor": 4
}
