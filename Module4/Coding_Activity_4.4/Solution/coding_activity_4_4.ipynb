{
 "cells": [
  {
   "cell_type": "markdown",
   "metadata": {
    "id": "zAJ4Wo92zy-j",
    "nbgrader": {
     "grade": false,
     "grade_id": "cell-ae84d0597eaf1d9f",
     "locked": true,
     "schema_version": 1,
     "solution": false
    }
   },
   "source": [
    "### Codio Activity 4.4: Creating Violin, Box, and Joint Plots\n",
    "\n",
    "**Expected Time: 60 Minutes**\n",
    "\n",
    "**Total Points: 20**\n",
    "\n",
    "This activity focuses on producing the plots demonstrated in Video 4.6 and Video 4.7.  Specifically, histograms, Kernel Density Estimate plots, Violin, and Box plots.  The dataset is the `gapminder` data from plotly.  \n",
    "\n",
    "\n",
    "#### Index:\n",
    "\n",
    "- [Problem 1](#Problem-1)\n",
    "- [Problem 2](#Problem-2)\n",
    "- [Problem 3](#Problem-3)\n",
    "- [Problem 4](#Problem-4)\n",
    "- [Problem 5](#Problem-5)\n",
    "- [Problem 6](#Problem-6)\n",
    "- [Problem 7](#Problem-7)\n",
    "- [Problem 8](#Problem-8)\n",
    "- [Problem 9](#Problem-9)\n",
    "- [Problem 10](#Problem-10)\n"
   ]
  },
  {
   "cell_type": "code",
   "execution_count": 2,
   "metadata": {
    "id": "UWDMcQ5Szy-m",
    "nbgrader": {
     "grade": false,
     "grade_id": "cell-4c7368ea61867270",
     "locked": true,
     "schema_version": 1,
     "solution": false
    }
   },
   "outputs": [],
   "source": [
    "import pandas as pd\n",
    "import plotly.express as px\n",
    "import numpy as np\n",
    "import seaborn as sns\n",
    "import matplotlib.pyplot as plt"
   ]
  },
  {
   "cell_type": "code",
   "execution_count": 3,
   "metadata": {
    "id": "ZsTCCheazy-n",
    "nbgrader": {
     "grade": false,
     "grade_id": "cell-49801e50534a6eed",
     "locked": true,
     "schema_version": 1,
     "solution": false
    }
   },
   "outputs": [],
   "source": [
    "gapminder = px.data.gapminder()"
   ]
  },
  {
   "cell_type": "markdown",
   "metadata": {
    "id": "AUKIhjaozy-o",
    "nbgrader": {
     "grade": false,
     "grade_id": "cell-56a03e2dc3cb1aa2",
     "locked": true,
     "schema_version": 1,
     "solution": false
    }
   },
   "source": [
    "[Back to top](#Index:) \n",
    "\n",
    "### Problem 1\n",
    "\n",
    "#### Histogram of Life Expectancy with `plotly`\n",
    "\n",
    "**1 point**\n",
    "\n",
    "Create a histogram of the Life Expectancy data using `plotly`.\n",
    "\n",
    "Use the `plt.savefig()` method to save the image as `img1.png` in the `images` folder."
   ]
  },
  {
   "cell_type": "code",
   "execution_count": 6,
   "metadata": {
    "id": "ILUi2qf8zy-o",
    "nbgrader": {
     "grade": false,
     "grade_id": "cell-7241334cc5d6ee4d",
     "locked": false,
     "schema_version": 1,
     "solution": true
    }
   },
   "outputs": [
    {
     "data": {
      "text/plain": [
       "<Figure size 432x288 with 0 Axes>"
      ]
     },
     "metadata": {},
     "output_type": "display_data"
    }
   ],
   "source": [
    "### GRADED\n",
    "#make a histogram of life expectancy in plotly\n",
    "\n",
    "### BEGIN SOLUTION\n",
    "hist = px.histogram(gapminder, x= 'lifeExp')\n",
    "plt.savefig('images/img1.png')\n",
    "### END SOLUTION"
   ]
  },
  {
   "cell_type": "code",
   "execution_count": 7,
   "metadata": {
    "nbgrader": {
     "grade": true,
     "grade_id": "cell-2ae5559e1179980d",
     "locked": true,
     "points": 1,
     "schema_version": 1,
     "solution": false
    }
   },
   "outputs": [],
   "source": [
    "### BEGIN HIDDEN TESTS\n",
    "from matplotlib.testing.compare import compare_images\n",
    "\n",
    "hist = px.histogram(gapminder, x= 'lifeExp')\n",
    "plt.savefig('images/img1_.png')\n",
    "plt.close()\n",
    "img1 = './images/img1.png'\n",
    "img1_ ='./images/img1_.png'\n",
    "\n",
    "compare_images(img1_, img1, 0.1)\n",
    "### END HIDDEN TESTS"
   ]
  },
  {
   "cell_type": "markdown",
   "metadata": {
    "id": "N1cPw-wfzy-o",
    "nbgrader": {
     "grade": false,
     "grade_id": "cell-55b2f85f8edf4a57",
     "locked": true,
     "schema_version": 1,
     "solution": false
    }
   },
   "source": [
    "[Back to top](#Index:) \n",
    "\n",
    "### Problem 2\n",
    "\n",
    "#### Histogram of Life Expectancy with `seaborn`\n",
    "\n",
    "**2 points**\n",
    "\n",
    "Create a histogram of the Life Expectancy data using `seaborn`. \n",
    "\n",
    "Use the `plt.savefig()` method to save the image as `img2.png` in the `images` folder."
   ]
  },
  {
   "cell_type": "code",
   "execution_count": 8,
   "metadata": {
    "id": "hKBpYTlEzy-p",
    "nbgrader": {
     "grade": false,
     "grade_id": "cell-e9205947cf2db122",
     "locked": false,
     "schema_version": 1,
     "solution": true
    }
   },
   "outputs": [
    {
     "data": {
      "image/png": "[encoded data removed]",
      "text/plain": [
       "<Figure size 432x288 with 1 Axes>"
      ]
     },
     "metadata": {
      "needs_background": "light"
     },
     "output_type": "display_data"
    }
   ],
   "source": [
    "### GRADED\n",
    "#make a histogram in seaborn\n",
    "\n",
    "### BEGIN SOLUTION\n",
    "sns.histplot(data=gapminder, x=\"lifeExp\")\n",
    "plt.savefig('images/img2.png')\n",
    "### END SOLUTION"
   ]
  },
  {
   "cell_type": "code",
   "execution_count": 9,
   "metadata": {
    "nbgrader": {
     "grade": true,
     "grade_id": "cell-f85dae8173f4a7e3",
     "locked": true,
     "points": 2,
     "schema_version": 1,
     "solution": false
    }
   },
   "outputs": [],
   "source": [
    "### BEGIN HIDDEN TESTS\n",
    "from matplotlib.testing.compare import compare_images\n",
    "\n",
    "sns.histplot(data=gapminder, x=\"lifeExp\")\n",
    "plt.savefig('images/img2_.png')\n",
    "plt.close()\n",
    "img2 = './images/img2.png'\n",
    "img2_ ='./images/img2_.png'\n",
    "\n",
    "compare_images(img2_, img2, 0.1)\n",
    "### END HIDDEN TESTS"
   ]
  },
  {
   "cell_type": "markdown",
   "metadata": {
    "id": "cm2khL9mzy-p",
    "nbgrader": {
     "grade": false,
     "grade_id": "cell-74968c7e7e079938",
     "locked": true,
     "schema_version": 1,
     "solution": false
    }
   },
   "source": [
    "[Back to top](#Index:) \n",
    "\n",
    "### Problem 3\n",
    "\n",
    "#### Histogram and KDE of Life Expectancy with `seaborn` \n",
    "\n",
    "**2 Points**\n",
    "\n",
    "Create a histogram with the KDE of the Life Expectancy data using `seaborn`.\n",
    "\n",
    "Use the `plt.savefig()` method to save the image as `img3.png` in the `images` folder."
   ]
  },
  {
   "cell_type": "code",
   "execution_count": 11,
   "metadata": {
    "id": "TAa5weRkzy-q",
    "nbgrader": {
     "grade": false,
     "grade_id": "cell-d6b67f55b7b850e5",
     "locked": false,
     "schema_version": 1,
     "solution": true
    }
   },
   "outputs": [
    {
     "name": "stderr",
     "output_type": "stream",
     "text": [
      "/usr/local/lib/python3.6/dist-packages/matplotlib/cbook/__init__.py:1377: FutureWarning:\n",
      "\n",
      "Support for multi-dimensional indexing (e.g. `obj[:, None]`) is deprecated and will be removed in a future version.  Convert to a numpy array before indexing instead.\n",
      "\n",
      "/usr/local/lib/python3.6/dist-packages/matplotlib/axes/_base.py:237: FutureWarning:\n",
      "\n",
      "Support for multi-dimensional indexing (e.g. `obj[:, None]`) is deprecated and will be removed in a future version.  Convert to a numpy array before indexing instead.\n",
      "\n",
      "/usr/local/lib/python3.6/dist-packages/matplotlib/axes/_base.py:239: FutureWarning:\n",
      "\n",
      "Support for multi-dimensional indexing (e.g. `obj[:, None]`) is deprecated and will be removed in a future version.  Convert to a numpy array before indexing instead.\n",
      "\n"
     ]
    },
    {
     "data": {
      "image/png": "[encoded data removed]",
      "text/plain": [
       "<Figure size 360x360 with 1 Axes>"
      ]
     },
     "metadata": {
      "needs_background": "light"
     },
     "output_type": "display_data"
    }
   ],
   "source": [
    "### GRADED\n",
    "#make a kde plot in seaborn\n",
    "\n",
    "### BEGIN SOLUTION\n",
    "sns.displot(data=gapminder, x=\"lifeExp\", kde=True)\n",
    "plt.savefig('images/img3.png')\n",
    "### END SOLUTION"
   ]
  },
  {
   "cell_type": "code",
   "execution_count": 12,
   "metadata": {
    "nbgrader": {
     "grade": true,
     "grade_id": "cell-0e398d48338baf93",
     "locked": true,
     "points": 2,
     "schema_version": 1,
     "solution": false
    }
   },
   "outputs": [
    {
     "name": "stderr",
     "output_type": "stream",
     "text": [
      "/usr/local/lib/python3.6/dist-packages/matplotlib/cbook/__init__.py:1377: FutureWarning:\n",
      "\n",
      "Support for multi-dimensional indexing (e.g. `obj[:, None]`) is deprecated and will be removed in a future version.  Convert to a numpy array before indexing instead.\n",
      "\n",
      "/usr/local/lib/python3.6/dist-packages/matplotlib/axes/_base.py:237: FutureWarning:\n",
      "\n",
      "Support for multi-dimensional indexing (e.g. `obj[:, None]`) is deprecated and will be removed in a future version.  Convert to a numpy array before indexing instead.\n",
      "\n",
      "/usr/local/lib/python3.6/dist-packages/matplotlib/axes/_base.py:239: FutureWarning:\n",
      "\n",
      "Support for multi-dimensional indexing (e.g. `obj[:, None]`) is deprecated and will be removed in a future version.  Convert to a numpy array before indexing instead.\n",
      "\n"
     ]
    }
   ],
   "source": [
    "### BEGIN HIDDEN TESTS\n",
    "from matplotlib.testing.compare import compare_images\n",
    "\n",
    "sns.displot(data=gapminder, x=\"lifeExp\", kde=True)\n",
    "plt.savefig('images/img3_.png')\n",
    "plt.close()\n",
    "img3 = './images/img3.png'\n",
    "img3_ ='./images/img3_.png'\n",
    "\n",
    "compare_images(img3_, img3, 0.1)\n",
    "### END HIDDEN TESTS"
   ]
  },
  {
   "cell_type": "markdown",
   "metadata": {
    "id": "2HYELSRSzy-q",
    "nbgrader": {
     "grade": false,
     "grade_id": "cell-75053d1bd2a91d1f",
     "locked": true,
     "schema_version": 1,
     "solution": false
    }
   },
   "source": [
    "[Back to top](#Index:) \n",
    "\n",
    "### Problem 4\n",
    "\n",
    "#### Histogram, KDE, and rugplot of Life Expectancy with `seaborn`\n",
    "\n",
    "**2 points**\n",
    "\n",
    "Create a histogram and KDE of the Life Expectancy data along with the rugplot using `seaborn`.\n",
    "\n",
    "Use the `plt.savefig()` method to save the image as `img4.png` in the `images` folder."
   ]
  },
  {
   "cell_type": "code",
   "execution_count": 14,
   "metadata": {
    "id": "mfSjR1eFzy-r",
    "nbgrader": {
     "grade": false,
     "grade_id": "cell-87ce30f6af7fa833",
     "locked": false,
     "schema_version": 1,
     "solution": true
    }
   },
   "outputs": [
    {
     "name": "stderr",
     "output_type": "stream",
     "text": [
      "/usr/local/lib/python3.6/dist-packages/matplotlib/cbook/__init__.py:1377: FutureWarning:\n",
      "\n",
      "Support for multi-dimensional indexing (e.g. `obj[:, None]`) is deprecated and will be removed in a future version.  Convert to a numpy array before indexing instead.\n",
      "\n",
      "/usr/local/lib/python3.6/dist-packages/matplotlib/axes/_base.py:237: FutureWarning:\n",
      "\n",
      "Support for multi-dimensional indexing (e.g. `obj[:, None]`) is deprecated and will be removed in a future version.  Convert to a numpy array before indexing instead.\n",
      "\n",
      "/usr/local/lib/python3.6/dist-packages/matplotlib/axes/_base.py:239: FutureWarning:\n",
      "\n",
      "Support for multi-dimensional indexing (e.g. `obj[:, None]`) is deprecated and will be removed in a future version.  Convert to a numpy array before indexing instead.\n",
      "\n"
     ]
    },
    {
     "data": {
      "image/png": "[encoded data removed]",
      "text/plain": [
       "<Figure size 360x360 with 1 Axes>"
      ]
     },
     "metadata": {
      "needs_background": "light"
     },
     "output_type": "display_data"
    }
   ],
   "source": [
    "### GRADED\n",
    "#make a rug plot with seaborn\n",
    "\n",
    "### BEGIN SOLUTION\n",
    "sns.displot(data=gapminder, x=\"lifeExp\", kde=True)\n",
    "sns.rugplot(data=gapminder, x=\"lifeExp\")\n",
    "plt.savefig('images/img4.png')\n",
    "### END SOLUTION"
   ]
  },
  {
   "cell_type": "code",
   "execution_count": 15,
   "metadata": {
    "nbgrader": {
     "grade": true,
     "grade_id": "cell-7369b86158004aa8",
     "locked": true,
     "points": 2,
     "schema_version": 1,
     "solution": false
    }
   },
   "outputs": [
    {
     "name": "stderr",
     "output_type": "stream",
     "text": [
      "/usr/local/lib/python3.6/dist-packages/matplotlib/cbook/__init__.py:1377: FutureWarning:\n",
      "\n",
      "Support for multi-dimensional indexing (e.g. `obj[:, None]`) is deprecated and will be removed in a future version.  Convert to a numpy array before indexing instead.\n",
      "\n",
      "/usr/local/lib/python3.6/dist-packages/matplotlib/axes/_base.py:237: FutureWarning:\n",
      "\n",
      "Support for multi-dimensional indexing (e.g. `obj[:, None]`) is deprecated and will be removed in a future version.  Convert to a numpy array before indexing instead.\n",
      "\n",
      "/usr/local/lib/python3.6/dist-packages/matplotlib/axes/_base.py:239: FutureWarning:\n",
      "\n",
      "Support for multi-dimensional indexing (e.g. `obj[:, None]`) is deprecated and will be removed in a future version.  Convert to a numpy array before indexing instead.\n",
      "\n"
     ]
    }
   ],
   "source": [
    "### BEGIN HIDDEN TESTS\n",
    "from matplotlib.testing.compare import compare_images\n",
    "\n",
    "sns.displot(data=gapminder, x=\"lifeExp\", kde=True)\n",
    "sns.rugplot(data=gapminder, x=\"lifeExp\")\n",
    "plt.savefig('images/img4_.png')\n",
    "plt.close()\n",
    "img4 = './images/img4.png'\n",
    "img4_ ='./images/img4_.png'\n",
    "\n",
    "compare_images(img4_, img4, 0.1)\n",
    "### END HIDDEN TESTS"
   ]
  },
  {
   "cell_type": "markdown",
   "metadata": {
    "id": "vpS6vQzQzy-r",
    "nbgrader": {
     "grade": false,
     "grade_id": "cell-3f4ae451cf8d7624",
     "locked": true,
     "schema_version": 1,
     "solution": false
    }
   },
   "source": [
    "[Back to top](#Index:) \n",
    "\n",
    "### Problem 5\n",
    "\n",
    "#### Violin Plot of Life Expectancy with `plotly`\n",
    "\n",
    "**1 point**\n",
    "\n",
    "Create a Violin Plot of the Life Expectancy data using `plotly`. \n",
    "\n",
    "Use the `plt.savefig()` method to save the image as `img5.png` in the `images` folder."
   ]
  },
  {
   "cell_type": "code",
   "execution_count": 21,
   "metadata": {
    "id": "fxH8-o3Dzy-r",
    "nbgrader": {
     "grade": false,
     "grade_id": "cell-8794e1e21ff303d9",
     "locked": false,
     "schema_version": 1,
     "solution": true
    }
   },
   "outputs": [
    {
     "data": {
      "text/plain": [
       "<Figure size 432x288 with 0 Axes>"
      ]
     },
     "metadata": {},
     "output_type": "display_data"
    }
   ],
   "source": [
    "### GRADED\n",
    "#create a violin plot with plotly\n",
    "\n",
    "### BEGIN SOLUTION\n",
    "fig = px.violin(gapminder, y='lifeExp')\n",
    "plt.savefig('images/img5.png')\n",
    "### END SOLUTION"
   ]
  },
  {
   "cell_type": "code",
   "execution_count": 22,
   "metadata": {
    "nbgrader": {
     "grade": true,
     "grade_id": "cell-5328a9d928b5aaf8",
     "locked": true,
     "points": 1,
     "schema_version": 1,
     "solution": false
    }
   },
   "outputs": [],
   "source": [
    "### BEGIN HIDDEN TESTS\n",
    "from matplotlib.testing.compare import compare_images\n",
    "\n",
    "fig = px.violin(gapminder, y='lifeExp')\n",
    "plt.savefig('images/img5_.png')\n",
    "plt.close()\n",
    "img5 = './images/img5.png'\n",
    "img5_ ='./images/img5_.png'\n",
    "\n",
    "compare_images(img5_, img5, 0.1)\n",
    "### END HIDDEN TESTS"
   ]
  },
  {
   "cell_type": "markdown",
   "metadata": {
    "id": "2oS_LHqKzy-r",
    "nbgrader": {
     "grade": false,
     "grade_id": "cell-7eb99e2fa41f42b5",
     "locked": true,
     "schema_version": 1,
     "solution": false
    }
   },
   "source": [
    "[Back to top](#Index:) \n",
    "\n",
    "### Problem 6\n",
    "\n",
    "#### Violin Plot with points of Life Expectancy with `plotly`\n",
    "\n",
    "**1 point**\n",
    "\n",
    "Create a Violin Plot of the Life Expectancy data alongside the actual points using `plotly`. \n",
    "\n",
    "Use the `plt.savefig()` method to save the image as `img6.png` in the `images` folder."
   ]
  },
  {
   "cell_type": "code",
   "execution_count": 25,
   "metadata": {
    "id": "F04LI1Suzy-s",
    "nbgrader": {
     "grade": false,
     "grade_id": "cell-f8f8c6ff09510dad",
     "locked": false,
     "schema_version": 1,
     "solution": true
    }
   },
   "outputs": [
    {
     "data": {
      "text/plain": [
       "<Figure size 432x288 with 0 Axes>"
      ]
     },
     "metadata": {},
     "output_type": "display_data"
    }
   ],
   "source": [
    "### GRADED\n",
    "#violin in plotly with points = \"all\"\n",
    "\n",
    "### BEGIN SOLUTION\n",
    "fig = px.violin(gapminder, y='lifeExp',points = 'all')\n",
    "plt.savefig('images/img6.png')\n",
    "### END SOLUTION"
   ]
  },
  {
   "cell_type": "code",
   "execution_count": 26,
   "metadata": {
    "nbgrader": {
     "grade": true,
     "grade_id": "cell-0f22e228f0b63767",
     "locked": true,
     "points": 1,
     "schema_version": 1,
     "solution": false
    }
   },
   "outputs": [],
   "source": [
    "### BEGIN HIDDEN TESTS\n",
    "from matplotlib.testing.compare import compare_images\n",
    "\n",
    "fig = px.violin(gapminder, y='lifeExp',points = 'all')\n",
    "plt.savefig('images/img6_.png')\n",
    "plt.close()\n",
    "img6 = './images/img6.png'\n",
    "img6_ ='./images/img6_.png'\n",
    "\n",
    "compare_images(img6_, img6, 0.1)\n",
    "### END HIDDEN TESTS"
   ]
  },
  {
   "cell_type": "markdown",
   "metadata": {
    "id": "GLCcp7vRzy-s",
    "nbgrader": {
     "grade": false,
     "grade_id": "cell-bd578ffbf7432e3d",
     "locked": true,
     "schema_version": 1,
     "solution": false
    }
   },
   "source": [
    "[Back to top](#Index:) \n",
    "\n",
    "### Problem 7\n",
    "\n",
    "#### Violin Plot of Life Expectancy by Continent with `plotly`\n",
    "\n",
    "**1 point**\n",
    "\n",
    "Create a Violin Plot of the Life Expectancy by continent using `plotly`.\n",
    "\n",
    "Use the `plt.savefig()` method to save the image as `img7.png` in the `images` folder."
   ]
  },
  {
   "cell_type": "code",
   "execution_count": 27,
   "metadata": {
    "id": "rqe73f87zy-s",
    "nbgrader": {
     "grade": false,
     "grade_id": "cell-2f4b047022f05d4f",
     "locked": false,
     "schema_version": 1,
     "solution": true
    }
   },
   "outputs": [
    {
     "data": {
      "text/plain": [
       "<Figure size 432x288 with 0 Axes>"
      ]
     },
     "metadata": {},
     "output_type": "display_data"
    }
   ],
   "source": [
    "### GRADED\n",
    "#violin plot by continent in plotly\n",
    "\n",
    "### BEGIN SOLUTION\n",
    "fig = px.violin(gapminder, x='continent',y='lifeExp')\n",
    "plt.savefig('images/img7.png')\n",
    "### END SOLUTION"
   ]
  },
  {
   "cell_type": "code",
   "execution_count": 28,
   "metadata": {
    "nbgrader": {
     "grade": true,
     "grade_id": "cell-572ccec7f1b7a566",
     "locked": true,
     "points": 1,
     "schema_version": 1,
     "solution": false
    }
   },
   "outputs": [],
   "source": [
    "### BEGIN HIDDEN TESTS\n",
    "from matplotlib.testing.compare import compare_images\n",
    "\n",
    "fig = px.violin(gapminder, x='continent',y='lifeExp')\n",
    "plt.savefig('images/img7_.png')\n",
    "plt.close()\n",
    "img7 = './images/img7.png'\n",
    "img7_ ='./images/img7_.png'\n",
    "\n",
    "compare_images(img7_, img7, 0.1)\n",
    "### END HIDDEN TESTS"
   ]
  },
  {
   "cell_type": "markdown",
   "metadata": {
    "id": "fu1v8qMLzy-s",
    "nbgrader": {
     "grade": false,
     "grade_id": "cell-26cc088231eb7759",
     "locked": true,
     "schema_version": 1,
     "solution": false
    }
   },
   "source": [
    "[Back to top](#Index:) \n",
    "\n",
    "### Problem 8\n",
    "\n",
    "#### Violin Plot of Life Expectancy by Continent with `seaborn`\n",
    "\n",
    "**2 Points**\n",
    "\n",
    "Create a Violin Plot of the Life Expectancy by continent using `seaborn`. Note that you will set your `x` argument to continent and `y` to lifeExp.\n",
    "\n",
    "Use the `plt.savefig()` method to save the image as `img8.png` in the `images` folder."
   ]
  },
  {
   "cell_type": "code",
   "execution_count": 30,
   "metadata": {
    "id": "XelL8qv7zy-s",
    "nbgrader": {
     "grade": false,
     "grade_id": "cell-52f75f79c300d520",
     "locked": false,
     "schema_version": 1,
     "solution": true
    }
   },
   "outputs": [
    {
     "data": {
      "image/png": "[encoded data removed]",
      "text/plain": [
       "<Figure size 432x288 with 1 Axes>"
      ]
     },
     "metadata": {
      "needs_background": "light"
     },
     "output_type": "display_data"
    }
   ],
   "source": [
    "### GRADED\n",
    "#violin plot by continent in seaborn\n",
    "\n",
    "### BEGIN SOLUTION\n",
    "sns.violinplot(x=\"continent\", y=\"lifeExp\", data=gapminder)\n",
    "plt.savefig('images/img8.png')\n",
    "### END SOLUTION"
   ]
  },
  {
   "cell_type": "code",
   "execution_count": 31,
   "metadata": {
    "nbgrader": {
     "grade": true,
     "grade_id": "cell-4a7459a08ff21064",
     "locked": true,
     "points": 2,
     "schema_version": 1,
     "solution": false
    }
   },
   "outputs": [],
   "source": [
    "### BEGIN HIDDEN TESTS\n",
    "from matplotlib.testing.compare import compare_images\n",
    "\n",
    "sns.violinplot(x=\"continent\", y=\"lifeExp\", data=gapminder)\n",
    "plt.savefig('images/img8_.png')\n",
    "plt.close()\n",
    "img8 = './images/img8.png'\n",
    "img8_ ='./images/img8_.png'\n",
    "\n",
    "compare_images(img8_, img8, 0.1)\n",
    "### END HIDDEN TESTS"
   ]
  },
  {
   "cell_type": "markdown",
   "metadata": {
    "id": "fJqXJsjlzy-t",
    "nbgrader": {
     "grade": false,
     "grade_id": "cell-238e109528ce4c39",
     "locked": true,
     "schema_version": 1,
     "solution": false
    }
   },
   "source": [
    "[Back to top](#Index:) \n",
    "\n",
    "### Problem 9\n",
    "\n",
    "#### Box Plot of Life Expectancy by Continent with `plotly`\n",
    "\n",
    "**2 points**\n",
    "\n",
    "Create a Box Plot of the Life Expectancy by continent using `plotly`. \n",
    "\n",
    "Use the `plt.savefig()` method to save the image as `img9.png` in the `images` folder."
   ]
  },
  {
   "cell_type": "code",
   "execution_count": 33,
   "metadata": {
    "id": "U3lpaXV0zy-t",
    "nbgrader": {
     "grade": false,
     "grade_id": "cell-484b0007f129a8ca",
     "locked": false,
     "schema_version": 1,
     "solution": true
    }
   },
   "outputs": [
    {
     "data": {
      "text/plain": [
       "<Figure size 432x288 with 0 Axes>"
      ]
     },
     "metadata": {},
     "output_type": "display_data"
    }
   ],
   "source": [
    "### GRADED\n",
    "#boxplot by continent with plotly with y = lifeExp\n",
    "\n",
    "### BEGIN SOLUTION\n",
    "fig = px.box(gapminder,x=\"continent\", y=\"lifeExp\")\n",
    "plt.savefig('images/img9.png')\n",
    "### END SOLUTION"
   ]
  },
  {
   "cell_type": "code",
   "execution_count": 34,
   "metadata": {
    "nbgrader": {
     "grade": true,
     "grade_id": "cell-6cf5b5b688caabf1",
     "locked": true,
     "points": 2,
     "schema_version": 1,
     "solution": false
    }
   },
   "outputs": [],
   "source": [
    "### BEGIN HIDDEN TESTS\n",
    "from matplotlib.testing.compare import compare_images\n",
    "\n",
    "fig = px.box(gapminder,x=\"continent\", y=\"lifeExp\")\n",
    "plt.savefig('images/img9_.png')\n",
    "plt.close()\n",
    "img9 = './images/img9.png'\n",
    "img9_ ='./images/img9_.png'\n",
    "\n",
    "compare_images(img9_, img9, 0.1)\n",
    "### END HIDDEN TESTS"
   ]
  },
  {
   "cell_type": "markdown",
   "metadata": {
    "id": "eEH3Bevczy-t",
    "nbgrader": {
     "grade": false,
     "grade_id": "cell-85eacc443cd92a9e",
     "locked": true,
     "schema_version": 1,
     "solution": false
    }
   },
   "source": [
    "[Back to top](#Index:) \n",
    "\n",
    "### Problem 10\n",
    "\n",
    "#### Box Plot of Life Expectancy by Continent with `seaborn`\n",
    "\n",
    "**2 Points**\n",
    "\n",
    "Create a Box Plot of the Life Expectancy by continent using `seaborn`. Note that you will set your `x` argument to continent and `y` to lifeExp. \n",
    "\n",
    "Use the `plt.savefig()` method to save the image as `img10.png` in the `images` folder."
   ]
  },
  {
   "cell_type": "code",
   "execution_count": 36,
   "metadata": {
    "id": "At3XKFrhzy-t",
    "nbgrader": {
     "grade": false,
     "grade_id": "cell-3ead57085468a0a1",
     "locked": false,
     "schema_version": 1,
     "solution": true
    }
   },
   "outputs": [
    {
     "data": {
      "image/png": "[encoded data removed]",
      "text/plain": [
       "<Figure size 432x288 with 1 Axes>"
      ]
     },
     "metadata": {
      "needs_background": "light"
     },
     "output_type": "display_data"
    }
   ],
   "source": [
    "### GRADED\n",
    "#seaborn boxplot by continent\n",
    "\n",
    "### BEGIN SOLUTION\n",
    "sns.boxplot(x=\"continent\", y=\"lifeExp\", data=gapminder)\n",
    "plt.savefig('images/img10.png')\n",
    "### END SOLUTION"
   ]
  },
  {
   "cell_type": "code",
   "execution_count": 38,
   "metadata": {
    "nbgrader": {
     "grade": true,
     "grade_id": "cell-c6b312a71701cf52",
     "locked": true,
     "points": 2,
     "schema_version": 1,
     "solution": false
    }
   },
   "outputs": [],
   "source": [
    "### BEGIN HIDDEN TESTS\n",
    "from matplotlib.testing.compare import compare_images\n",
    "\n",
    "fig = px.box(gapminder,x=\"continent\", y=\"lifeExp\")\n",
    "plt.savefig('images/img10_.png')\n",
    "plt.close()\n",
    "img10 = './images/img10.png'\n",
    "img10_ ='./images/img10_.png'\n",
    "\n",
    "compare_images(img10_, img10, 0.1)\n",
    "### END HIDDEN TESTS"
   ]
  }
 ],
 "metadata": {
  "celltoolbar": "Create Assignment",
  "colab": {
   "name": "coding_activity_4.4.ipynb",
   "provenance": []
  },
  "kernelspec": {
   "display_name": "Python 3 (ipykernel)",
   "language": "python",
   "name": "python3"
  },
  "language_info": {
   "codemirror_mode": {
    "name": "ipython",
    "version": 3
   },
   "file_extension": ".py",
   "mimetype": "text/x-python",
   "name": "python",
   "nbconvert_exporter": "python",
   "pygments_lexer": "ipython3",
   "version": "3.11.7"
  }
 },
 "nbformat": 4,
 "nbformat_minor": 4
}
