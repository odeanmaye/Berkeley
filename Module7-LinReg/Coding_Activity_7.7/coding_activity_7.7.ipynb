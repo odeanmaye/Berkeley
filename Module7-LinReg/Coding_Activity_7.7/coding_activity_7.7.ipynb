{
 "cells": [
  {
   "cell_type": "markdown",
   "metadata": {
    "deletable": false,
    "editable": false,
    "nbgrader": {
     "checksum": "6d5c94a2aca4d48a3b50159aed622f32",
     "grade": false,
     "grade_id": "cell-85c5ca4ac4fdd93e",
     "locked": true,
     "schema_version": 1,
     "solution": false
    }
   },
   "source": [
    "## Codio Activity 7.7: Using Non-Numeric Features\n",
    "\n",
    "**Expected Time = 90 minutes**\n",
    "\n",
    "**Total Points = 40**\n",
    "\n",
    "This activity focuses on making use of features that are categorical.  \n",
    "\n",
    "In this activity, you will explore the dummy encoding process to build and compare different regression models.  Specifically, you will use the sklearn estimators `LinearRegression` and `HuberRegressor` to fit your models.  These two models implement the mean squared error and Huber loss functions, returning parameters that minimize the respective loss. \n",
    "\n",
    "## Index:\n",
    "\n",
    "- [Problem 1](#Problem-1)\n",
    "- [Problem 2](#Problem-2)\n",
    "- [Problem 3](#Problem-3)\n",
    "- [Problem 4](#Problem-4)\n",
    "- [Problem 5](#Problem-5)\n",
    "- [Problem 6](#Problem-6)\n",
    "- [Problem 7](#Problem-8)\n",
    "- [Problem 8](#Problem-8)\n",
    "- [Problem 9](#Problem-9)\n",
    "- [Problem 10](#Problem-10)"
   ]
  },
  {
   "cell_type": "code",
   "execution_count": 149,
   "metadata": {},
   "outputs": [],
   "source": [
    "import plotly.express as px\n",
    "import numpy as np\n",
    "import plotly.graph_objects as go\n",
    "import matplotlib.pyplot as plt\n",
    "import pandas as pd\n",
    "import seaborn as sns\n",
    "from sklearn.linear_model import LinearRegression, HuberRegressor\n",
    "from sklearn.metrics import mean_squared_error\n",
    "import warnings\n",
    "warnings.filterwarnings('ignore')"
   ]
  },
  {
   "cell_type": "markdown",
   "metadata": {
    "deletable": false,
    "editable": false,
    "nbgrader": {
     "checksum": "ad86f3ca72531627a6ba94d51babd6e0",
     "grade": false,
     "grade_id": "cell-9a22d5a437dd7ab4",
     "locked": true,
     "schema_version": 1,
     "solution": false
    }
   },
   "source": [
    "### The Dataset\n",
    "\n",
    "The `diamonds` dataset from Seaborn is loaded and displayed below.  You will explore models that use both the `cut` and `color` features independently, and models using all possible features.  To begin, you will use pandas `get_dummies` function to produce the dummy encoded data.  Your dummy encoded data should have as many features as there are unique values in the data."
   ]
  },
  {
   "cell_type": "code",
   "execution_count": 152,
   "metadata": {},
   "outputs": [],
   "source": [
    "import urllib\n",
    "\n",
    "diamonds = None\n",
    "\n",
    "try:\n",
    "    diamonds = sns.load_dataset('diamonds')\n",
    "except:\n",
    "    diamonds_dataset_uri = \"https://raw.githubusercontent.com/mwaskom/seaborn-data/master/diamonds.csv\"\n",
    "    with urllib.request.urlopen(diamonds_dataset_uri) as response:\n",
    "        diamonds = pd.read_csv(response) "
   ]
  },
  {
   "cell_type": "code",
   "execution_count": 154,
   "metadata": {},
   "outputs": [
    {
     "data": {
      "text/html": [
       "<div>\n",
       "<style scoped>\n",
       "    .dataframe tbody tr th:only-of-type {\n",
       "        vertical-align: middle;\n",
       "    }\n",
       "\n",
       "    .dataframe tbody tr th {\n",
       "        vertical-align: top;\n",
       "    }\n",
       "\n",
       "    .dataframe thead th {\n",
       "        text-align: right;\n",
       "    }\n",
       "</style>\n",
       "<table border=\"1\" class=\"dataframe\">\n",
       "  <thead>\n",
       "    <tr style=\"text-align: right;\">\n",
       "      <th></th>\n",
       "      <th>carat</th>\n",
       "      <th>cut</th>\n",
       "      <th>color</th>\n",
       "      <th>clarity</th>\n",
       "      <th>depth</th>\n",
       "      <th>table</th>\n",
       "      <th>price</th>\n",
       "      <th>x</th>\n",
       "      <th>y</th>\n",
       "      <th>z</th>\n",
       "    </tr>\n",
       "  </thead>\n",
       "  <tbody>\n",
       "    <tr>\n",
       "      <th>0</th>\n",
       "      <td>0.23</td>\n",
       "      <td>Ideal</td>\n",
       "      <td>E</td>\n",
       "      <td>SI2</td>\n",
       "      <td>61.5</td>\n",
       "      <td>55.0</td>\n",
       "      <td>326</td>\n",
       "      <td>3.95</td>\n",
       "      <td>3.98</td>\n",
       "      <td>2.43</td>\n",
       "    </tr>\n",
       "    <tr>\n",
       "      <th>1</th>\n",
       "      <td>0.21</td>\n",
       "      <td>Premium</td>\n",
       "      <td>E</td>\n",
       "      <td>SI1</td>\n",
       "      <td>59.8</td>\n",
       "      <td>61.0</td>\n",
       "      <td>326</td>\n",
       "      <td>3.89</td>\n",
       "      <td>3.84</td>\n",
       "      <td>2.31</td>\n",
       "    </tr>\n",
       "    <tr>\n",
       "      <th>2</th>\n",
       "      <td>0.23</td>\n",
       "      <td>Good</td>\n",
       "      <td>E</td>\n",
       "      <td>VS1</td>\n",
       "      <td>56.9</td>\n",
       "      <td>65.0</td>\n",
       "      <td>327</td>\n",
       "      <td>4.05</td>\n",
       "      <td>4.07</td>\n",
       "      <td>2.31</td>\n",
       "    </tr>\n",
       "    <tr>\n",
       "      <th>3</th>\n",
       "      <td>0.29</td>\n",
       "      <td>Premium</td>\n",
       "      <td>I</td>\n",
       "      <td>VS2</td>\n",
       "      <td>62.4</td>\n",
       "      <td>58.0</td>\n",
       "      <td>334</td>\n",
       "      <td>4.20</td>\n",
       "      <td>4.23</td>\n",
       "      <td>2.63</td>\n",
       "    </tr>\n",
       "    <tr>\n",
       "      <th>4</th>\n",
       "      <td>0.31</td>\n",
       "      <td>Good</td>\n",
       "      <td>J</td>\n",
       "      <td>SI2</td>\n",
       "      <td>63.3</td>\n",
       "      <td>58.0</td>\n",
       "      <td>335</td>\n",
       "      <td>4.34</td>\n",
       "      <td>4.35</td>\n",
       "      <td>2.75</td>\n",
       "    </tr>\n",
       "  </tbody>\n",
       "</table>\n",
       "</div>"
      ],
      "text/plain": [
       "   carat      cut color clarity  depth  table  price     x     y     z\n",
       "0   0.23    Ideal     E     SI2   61.5   55.0    326  3.95  3.98  2.43\n",
       "1   0.21  Premium     E     SI1   59.8   61.0    326  3.89  3.84  2.31\n",
       "2   0.23     Good     E     VS1   56.9   65.0    327  4.05  4.07  2.31\n",
       "3   0.29  Premium     I     VS2   62.4   58.0    334  4.20  4.23  2.63\n",
       "4   0.31     Good     J     SI2   63.3   58.0    335  4.34  4.35  2.75"
      ]
     },
     "execution_count": 154,
     "metadata": {},
     "output_type": "execute_result"
    }
   ],
   "source": [
    "diamonds.head()"
   ]
  },
  {
   "cell_type": "markdown",
   "metadata": {
    "deletable": false,
    "editable": false,
    "nbgrader": {
     "checksum": "474f6cda80c06e1f2441a81c454ee943",
     "grade": false,
     "grade_id": "cell-433af2323ef1dfc5",
     "locked": true,
     "schema_version": 1,
     "solution": false
    }
   },
   "source": [
    "[Back to top](#Index:) \n",
    "\n",
    "## Problem 1\n",
    "\n",
    "### Unique Values in `cut` and `color`\n",
    "\n",
    "**4 Points**\n",
    "\n",
    "Using the `cut` and `color` columns, determine the number of unique values in each column.  Assign the number of unique values in each feature as integers to `num_cuts` and `num_color` below.  "
   ]
  },
  {
   "cell_type": "code",
   "execution_count": 157,
   "metadata": {
    "deletable": false,
    "nbgrader": {
     "checksum": "448f34b9c58c56576fb858d34ce8b804",
     "grade": false,
     "grade_id": "cell-8e5fa6c3a595bfb3",
     "locked": false,
     "schema_version": 1,
     "solution": true
    }
   },
   "outputs": [
    {
     "name": "stdout",
     "output_type": "stream",
     "text": [
      "5\n",
      "7\n"
     ]
    }
   ],
   "source": [
    "### GRADED\n",
    "\n",
    "num_cuts = ''\n",
    "num_color = ''\n",
    "\n",
    "# YOUR CODE HERE\n",
    "num_cuts = diamonds['cut'].nunique()\n",
    "num_color = diamonds['color'].nunique()\n",
    "\n",
    "# Answer check\n",
    "print(num_cuts)\n",
    "print(num_color)"
   ]
  },
  {
   "cell_type": "code",
   "execution_count": null,
   "metadata": {
    "deletable": false,
    "editable": false,
    "nbgrader": {
     "checksum": "639f47c09403576ce4bf2398bca36510",
     "grade": true,
     "grade_id": "cell-193d09b17af01f2d",
     "locked": true,
     "points": 4,
     "schema_version": 1,
     "solution": false
    }
   },
   "outputs": [],
   "source": []
  },
  {
   "cell_type": "markdown",
   "metadata": {
    "deletable": false,
    "editable": false,
    "nbgrader": {
     "checksum": "eeb41cea77aecf52bd654802ba08acd6",
     "grade": false,
     "grade_id": "cell-cb59771f21acd91e",
     "locked": true,
     "schema_version": 1,
     "solution": false
    }
   },
   "source": [
    "[Back to top](#Index:) \n",
    "\n",
    "## Problem 2\n",
    "\n",
    "### Encoding the `cut` column\n",
    "\n",
    "**4 Points**\n",
    "\n",
    "Use the `get_dummies()` function to create a dummy encoded version of the `cut` column.  Assign your encoded data as a DataFrame to the variable `cut_encoded` below.  "
   ]
  },
  {
   "cell_type": "code",
   "execution_count": 161,
   "metadata": {
    "deletable": false,
    "nbgrader": {
     "checksum": "4e249583fe5b0fb929f01636175163be",
     "grade": false,
     "grade_id": "cell-7ee4b37394ca5e0f",
     "locked": false,
     "schema_version": 1,
     "solution": true
    }
   },
   "outputs": [
    {
     "name": "stdout",
     "output_type": "stream",
     "text": [
      "(53940, 5)\n",
      "<class 'pandas.core.frame.DataFrame'>\n"
     ]
    },
    {
     "data": {
      "text/html": [
       "<div>\n",
       "<style scoped>\n",
       "    .dataframe tbody tr th:only-of-type {\n",
       "        vertical-align: middle;\n",
       "    }\n",
       "\n",
       "    .dataframe tbody tr th {\n",
       "        vertical-align: top;\n",
       "    }\n",
       "\n",
       "    .dataframe thead th {\n",
       "        text-align: right;\n",
       "    }\n",
       "</style>\n",
       "<table border=\"1\" class=\"dataframe\">\n",
       "  <thead>\n",
       "    <tr style=\"text-align: right;\">\n",
       "      <th></th>\n",
       "      <th>Ideal</th>\n",
       "      <th>Premium</th>\n",
       "      <th>Very Good</th>\n",
       "      <th>Good</th>\n",
       "      <th>Fair</th>\n",
       "    </tr>\n",
       "  </thead>\n",
       "  <tbody>\n",
       "    <tr>\n",
       "      <th>0</th>\n",
       "      <td>1</td>\n",
       "      <td>0</td>\n",
       "      <td>0</td>\n",
       "      <td>0</td>\n",
       "      <td>0</td>\n",
       "    </tr>\n",
       "    <tr>\n",
       "      <th>1</th>\n",
       "      <td>0</td>\n",
       "      <td>1</td>\n",
       "      <td>0</td>\n",
       "      <td>0</td>\n",
       "      <td>0</td>\n",
       "    </tr>\n",
       "    <tr>\n",
       "      <th>2</th>\n",
       "      <td>0</td>\n",
       "      <td>0</td>\n",
       "      <td>0</td>\n",
       "      <td>1</td>\n",
       "      <td>0</td>\n",
       "    </tr>\n",
       "    <tr>\n",
       "      <th>3</th>\n",
       "      <td>0</td>\n",
       "      <td>1</td>\n",
       "      <td>0</td>\n",
       "      <td>0</td>\n",
       "      <td>0</td>\n",
       "    </tr>\n",
       "    <tr>\n",
       "      <th>4</th>\n",
       "      <td>0</td>\n",
       "      <td>0</td>\n",
       "      <td>0</td>\n",
       "      <td>1</td>\n",
       "      <td>0</td>\n",
       "    </tr>\n",
       "  </tbody>\n",
       "</table>\n",
       "</div>"
      ],
      "text/plain": [
       "   Ideal  Premium  Very Good  Good  Fair\n",
       "0      1        0          0     0     0\n",
       "1      0        1          0     0     0\n",
       "2      0        0          0     1     0\n",
       "3      0        1          0     0     0\n",
       "4      0        0          0     1     0"
      ]
     },
     "execution_count": 161,
     "metadata": {},
     "output_type": "execute_result"
    }
   ],
   "source": [
    "### GRADED\n",
    "\n",
    "cut_encoded = ''\n",
    "\n",
    "# YOUR CODE HERE\n",
    "cut_encoded = pd.get_dummies(diamonds['cut'], dtype=np.int8)\n",
    "\n",
    "# Answer check\n",
    "print(cut_encoded.shape)\n",
    "print(type(cut_encoded))\n",
    "cut_encoded.head()"
   ]
  },
  {
   "cell_type": "code",
   "execution_count": null,
   "metadata": {
    "deletable": false,
    "editable": false,
    "nbgrader": {
     "checksum": "3b5e44a006075f65006da2624ea7566e",
     "grade": true,
     "grade_id": "cell-3d2bc5b0f25cef1b",
     "locked": true,
     "points": 4,
     "schema_version": 1,
     "solution": false
    }
   },
   "outputs": [],
   "source": []
  },
  {
   "cell_type": "markdown",
   "metadata": {
    "deletable": false,
    "editable": false,
    "nbgrader": {
     "checksum": "53c7aa194b93d4656e2bf3affb9d664d",
     "grade": false,
     "grade_id": "cell-b936b27d27de6bc5",
     "locked": true,
     "schema_version": 1,
     "solution": false
    }
   },
   "source": [
    "[Back to top](#Index:) \n",
    "\n",
    "## Problem 3\n",
    "\n",
    "### A Regression model on `cut`\n",
    "\n",
    "**4 Points**\n",
    "\n",
    "Use the `get_dummies()` function to create a dummy encoded version of the `cut` column and assign the result to the variable `X`.\n",
    "\n",
    "To the variable `y`, assign the column `price` in the `diamonds` dataset.\n",
    "\n",
    "Use the `LinearRegression` estimator  with argument `fit_intercept = False` to build a regression model. Next, use the `fit()` function with arguments `X` and `y`  to predict the `price` column.  \n",
    "\n",
    "Assign the model to `cut_linreg` below.  "
   ]
  },
  {
   "cell_type": "code",
   "execution_count": 165,
   "metadata": {
    "deletable": false,
    "nbgrader": {
     "checksum": "93ef80f3aed8b3b5863f55f45d4ec9bb",
     "grade": false,
     "grade_id": "cell-b358a2033a89f85b",
     "locked": false,
     "schema_version": 1,
     "solution": true
    }
   },
   "outputs": [
    {
     "name": "stdout",
     "output_type": "stream",
     "text": [
      "LinearRegression(fit_intercept=False)\n",
      "<class 'sklearn.linear_model._base.LinearRegression'>\n"
     ]
    },
    {
     "data": {
      "text/plain": [
       "array([3457.54197021, 4584.2577043 , 3981.75989075, 3928.86445169,\n",
       "       4358.75776398])"
      ]
     },
     "execution_count": 165,
     "metadata": {},
     "output_type": "execute_result"
    }
   ],
   "source": [
    "### GRADED\n",
    "\n",
    "X = ''\n",
    "y = ''\n",
    "cut_linreg = ''\n",
    "\n",
    "# YOUR CODE HERE\n",
    "X = cut_encoded\n",
    "y = diamonds['price']\n",
    "\n",
    "cut_linreg = LinearRegression(fit_intercept = False).fit(X, y)\n",
    "\n",
    "# Answer check\n",
    "print(cut_linreg)\n",
    "print(type(cut_linreg))\n",
    "cut_linreg.coef_"
   ]
  },
  {
   "cell_type": "code",
   "execution_count": null,
   "metadata": {
    "deletable": false,
    "editable": false,
    "nbgrader": {
     "checksum": "522e55f989e07ceefdcfeae7c24e30ea",
     "grade": true,
     "grade_id": "cell-4730a5e8416a7d55",
     "locked": true,
     "points": 4,
     "schema_version": 1,
     "solution": false
    }
   },
   "outputs": [],
   "source": []
  },
  {
   "cell_type": "markdown",
   "metadata": {
    "deletable": false,
    "editable": false,
    "nbgrader": {
     "checksum": "c77f9aa4aab3a7a2858593ae9d6c6ca0",
     "grade": false,
     "grade_id": "cell-80de024ca4cb5a11",
     "locked": true,
     "schema_version": 1,
     "solution": false
    }
   },
   "source": [
    "[Back to top](#Index:) \n",
    "\n",
    "## Problem 4\n",
    "\n",
    "### Interpreting the results\n",
    "\n",
    "**4 Points**\n",
    "\n",
    "Compare the coefficients of the model.  Which cut does your model predict as the price for a diamond with an `ideal_cut`?  Assign your solution as a float rounded to two decimal places to `ideal_cut_prediction` below.  "
   ]
  },
  {
   "cell_type": "code",
   "execution_count": 169,
   "metadata": {
    "deletable": false,
    "nbgrader": {
     "checksum": "2d34010065f0b5391f9c8149ec2a3a7e",
     "grade": false,
     "grade_id": "cell-b06b47089c12434d",
     "locked": false,
     "schema_version": 1,
     "solution": true
    }
   },
   "outputs": [
    {
     "name": "stdout",
     "output_type": "stream",
     "text": [
      "3457.54\n",
      "<class 'float'>\n"
     ]
    }
   ],
   "source": [
    "### GRADED\n",
    "\n",
    "# YOUR CODE HERE\n",
    "ideal_cut_prediction = round(float(cut_linreg.coef_[0]), 2)\n",
    "\n",
    "# Answer check\n",
    "print(ideal_cut_prediction)\n",
    "print(type(ideal_cut_prediction))"
   ]
  },
  {
   "cell_type": "code",
   "execution_count": null,
   "metadata": {
    "deletable": false,
    "editable": false,
    "nbgrader": {
     "checksum": "dfada257b87d2cd86c62d83962a56600",
     "grade": true,
     "grade_id": "cell-900053ea8808c6b8",
     "locked": true,
     "points": 4,
     "schema_version": 1,
     "solution": false
    }
   },
   "outputs": [],
   "source": []
  },
  {
   "cell_type": "markdown",
   "metadata": {
    "deletable": false,
    "editable": false,
    "nbgrader": {
     "checksum": "fc13afa02dbc8b8dc9e70c6457ca05aa",
     "grade": false,
     "grade_id": "cell-7371ae08b020d01a",
     "locked": true,
     "schema_version": 1,
     "solution": false
    }
   },
   "source": [
    "[Back to top](#Index:) \n",
    "\n",
    "## Problem 5\n",
    "\n",
    "### Building a model on `clarity`\n",
    "\n",
    "**4 Points**\n",
    "\n",
    "Use the `get_dummies()` function to create a dummy encoded version of the `clarity` column and assign the result to the variable `X`.\n",
    "\n",
    "To the variable `y`, assign the column `price` in the `diamonds` dataset.\n",
    "\n",
    "Use the `LinearRegression` estimator  with argument `fit_intercept = False` to build a regression model. Next, use the `fit()` function with arguments `X` and `y`  to predict the `price` column.  \n",
    "\n",
    "Assign the model to `clarity_linreg` below.  "
   ]
  },
  {
   "cell_type": "code",
   "execution_count": 173,
   "metadata": {
    "deletable": false,
    "nbgrader": {
     "checksum": "4ce07ffa1aa6f433e97055b753c870d5",
     "grade": false,
     "grade_id": "cell-d41dca4e4100c34f",
     "locked": false,
     "schema_version": 1,
     "solution": true
    }
   },
   "outputs": [
    {
     "name": "stdout",
     "output_type": "stream",
     "text": [
      "[2864.83910615 2523.11463748 3283.73707067 3839.45539102 3924.98939468\n",
      " 3996.00114811 5063.02860561 3924.16869096]\n"
     ]
    },
    {
     "data": {
      "text/html": [
       "<div>\n",
       "<style scoped>\n",
       "    .dataframe tbody tr th:only-of-type {\n",
       "        vertical-align: middle;\n",
       "    }\n",
       "\n",
       "    .dataframe tbody tr th {\n",
       "        vertical-align: top;\n",
       "    }\n",
       "\n",
       "    .dataframe thead th {\n",
       "        text-align: right;\n",
       "    }\n",
       "</style>\n",
       "<table border=\"1\" class=\"dataframe\">\n",
       "  <thead>\n",
       "    <tr style=\"text-align: right;\">\n",
       "      <th></th>\n",
       "      <th>IF</th>\n",
       "      <th>VVS1</th>\n",
       "      <th>VVS2</th>\n",
       "      <th>VS1</th>\n",
       "      <th>VS2</th>\n",
       "      <th>SI1</th>\n",
       "      <th>SI2</th>\n",
       "      <th>I1</th>\n",
       "    </tr>\n",
       "  </thead>\n",
       "  <tbody>\n",
       "    <tr>\n",
       "      <th>0</th>\n",
       "      <td>0</td>\n",
       "      <td>0</td>\n",
       "      <td>0</td>\n",
       "      <td>0</td>\n",
       "      <td>0</td>\n",
       "      <td>0</td>\n",
       "      <td>1</td>\n",
       "      <td>0</td>\n",
       "    </tr>\n",
       "    <tr>\n",
       "      <th>1</th>\n",
       "      <td>0</td>\n",
       "      <td>0</td>\n",
       "      <td>0</td>\n",
       "      <td>0</td>\n",
       "      <td>0</td>\n",
       "      <td>1</td>\n",
       "      <td>0</td>\n",
       "      <td>0</td>\n",
       "    </tr>\n",
       "  </tbody>\n",
       "</table>\n",
       "</div>"
      ],
      "text/plain": [
       "   IF  VVS1  VVS2  VS1  VS2  SI1  SI2  I1\n",
       "0   0     0     0    0    0    0    1   0\n",
       "1   0     0     0    0    0    1    0   0"
      ]
     },
     "execution_count": 173,
     "metadata": {},
     "output_type": "execute_result"
    }
   ],
   "source": [
    "### GRADED\n",
    "\n",
    "X = ''\n",
    "y = ''\n",
    "clarity_linreg = ''\n",
    "\n",
    "# YOUR CODE HERE\n",
    "clarity_encoded = pd.get_dummies(diamonds['clarity'], dtype=np.int8)\n",
    "X = clarity_encoded\n",
    "y = diamonds['price']\n",
    "\n",
    "clarity_linreg = LinearRegression(fit_intercept = False).fit(X, y)\n",
    "\n",
    "\n",
    "# Answer check\n",
    "print(clarity_linreg.coef_)\n",
    "X.head(2)"
   ]
  },
  {
   "cell_type": "code",
   "execution_count": null,
   "metadata": {
    "deletable": false,
    "editable": false,
    "nbgrader": {
     "checksum": "ded027a3e3e51c5c22eef17f079fd554",
     "grade": true,
     "grade_id": "cell-1cc12f1b9cf3b53f",
     "locked": true,
     "points": 4,
     "schema_version": 1,
     "solution": false
    }
   },
   "outputs": [],
   "source": []
  },
  {
   "cell_type": "markdown",
   "metadata": {
    "deletable": false,
    "editable": false,
    "nbgrader": {
     "checksum": "c1a581c508ab3b465e9bf8e42de1266e",
     "grade": false,
     "grade_id": "cell-3845e5df873e1c54",
     "locked": true,
     "schema_version": 1,
     "solution": false
    }
   },
   "source": [
    "[Back to top](#Index:) \n",
    "\n",
    "## Problem 6\n",
    "\n",
    "### Interpreting the results\n",
    "\n",
    "**4 Points**\n",
    "\n",
    "Examine your coefficients and compare these to the columns of the dummy encoded version of the `clarity` column.  What price does your model predict for a diamond with clarity `SI2`?  Assign your results as a float rounded to 2 decimal places to `clarity_si2_prediction`."
   ]
  },
  {
   "cell_type": "code",
   "execution_count": 177,
   "metadata": {
    "deletable": false,
    "nbgrader": {
     "checksum": "12d6cbe67fdb91b7a10f86e4d6300d2c",
     "grade": false,
     "grade_id": "cell-f6e64773ce4b97fb",
     "locked": false,
     "schema_version": 1,
     "solution": true
    }
   },
   "outputs": [
    {
     "name": "stdout",
     "output_type": "stream",
     "text": [
      "5063.03\n",
      "<class 'float'>\n"
     ]
    }
   ],
   "source": [
    "### GRADED\n",
    "\n",
    "clarity_si2_prediction = ''\n",
    "\n",
    "# YOUR CODE HERE\n",
    "clarity_si2_prediction = round(float(clarity_linreg.coef_[6]), 2)\n",
    "\n",
    "# Answer check\n",
    "print(clarity_si2_prediction)\n",
    "print(type(clarity_si2_prediction))"
   ]
  },
  {
   "cell_type": "code",
   "execution_count": null,
   "metadata": {
    "deletable": false,
    "editable": false,
    "nbgrader": {
     "checksum": "b80a59fd79ce58a86733ed1ae95571d2",
     "grade": true,
     "grade_id": "cell-f530619cbc2460e9",
     "locked": true,
     "points": 4,
     "schema_version": 1,
     "solution": false
    }
   },
   "outputs": [],
   "source": []
  },
  {
   "cell_type": "markdown",
   "metadata": {
    "deletable": false,
    "editable": false,
    "nbgrader": {
     "checksum": "1e2595b57f21075ef4d1968e67d33a5f",
     "grade": false,
     "grade_id": "cell-1503d361107d5737",
     "locked": true,
     "schema_version": 1,
     "solution": false
    }
   },
   "source": [
    "[Back to top](#Index:) \n",
    "\n",
    "## Problem 7\n",
    "\n",
    "### A Model with `cut`, `clarity`, and `carat`\n",
    "\n",
    "**4 Points**\n",
    "\n",
    "Use the `get_dummies()` function to create a dummy encoded version of the `carat`, `cut`, and `clarity` columns and assign the result to the variable `X`.\n",
    "\n",
    "To the variable `y`, assign the column `price` in the `diamonds` dataset.\n",
    "\n",
    "Use the `LinearRegression` estimator  with argument `fit_intercept = False` to build a regression model. Next, use the `fit()` function with arguments `X` and `y`  to predict the `price` column.  \n",
    "\n",
    "Assign the model to `ccc_linreg` below. "
   ]
  },
  {
   "cell_type": "code",
   "execution_count": 181,
   "metadata": {
    "deletable": false,
    "nbgrader": {
     "checksum": "acb32839c1eb9d2b74395de963af892f",
     "grade": false,
     "grade_id": "cell-063059f3fd3d52f3",
     "locked": false,
     "schema_version": 1,
     "solution": true
    }
   },
   "outputs": [
    {
     "name": "stdout",
     "output_type": "stream",
     "text": [
      "LinearRegression(fit_intercept=False)\n",
      "[ 8472.02609407 -1629.11117972 -1766.44067048 -1781.57100539\n",
      " -1979.47703992 -2651.21619656   274.04419866   -33.28676273\n",
      "   -43.73965124  -576.3380288   -798.42128426 -1431.05523376\n",
      " -2265.85353667 -4933.16579328]\n"
     ]
    },
    {
     "data": {
      "text/html": [
       "<div>\n",
       "<style scoped>\n",
       "    .dataframe tbody tr th:only-of-type {\n",
       "        vertical-align: middle;\n",
       "    }\n",
       "\n",
       "    .dataframe tbody tr th {\n",
       "        vertical-align: top;\n",
       "    }\n",
       "\n",
       "    .dataframe thead th {\n",
       "        text-align: right;\n",
       "    }\n",
       "</style>\n",
       "<table border=\"1\" class=\"dataframe\">\n",
       "  <thead>\n",
       "    <tr style=\"text-align: right;\">\n",
       "      <th></th>\n",
       "      <th>carat</th>\n",
       "      <th>Ideal</th>\n",
       "      <th>Premium</th>\n",
       "      <th>Very Good</th>\n",
       "      <th>Good</th>\n",
       "      <th>Fair</th>\n",
       "      <th>IF</th>\n",
       "      <th>VVS1</th>\n",
       "      <th>VVS2</th>\n",
       "      <th>VS1</th>\n",
       "      <th>VS2</th>\n",
       "      <th>SI1</th>\n",
       "      <th>SI2</th>\n",
       "      <th>I1</th>\n",
       "    </tr>\n",
       "  </thead>\n",
       "  <tbody>\n",
       "    <tr>\n",
       "      <th>0</th>\n",
       "      <td>0.23</td>\n",
       "      <td>1</td>\n",
       "      <td>0</td>\n",
       "      <td>0</td>\n",
       "      <td>0</td>\n",
       "      <td>0</td>\n",
       "      <td>0</td>\n",
       "      <td>0</td>\n",
       "      <td>0</td>\n",
       "      <td>0</td>\n",
       "      <td>0</td>\n",
       "      <td>0</td>\n",
       "      <td>1</td>\n",
       "      <td>0</td>\n",
       "    </tr>\n",
       "    <tr>\n",
       "      <th>1</th>\n",
       "      <td>0.21</td>\n",
       "      <td>0</td>\n",
       "      <td>1</td>\n",
       "      <td>0</td>\n",
       "      <td>0</td>\n",
       "      <td>0</td>\n",
       "      <td>0</td>\n",
       "      <td>0</td>\n",
       "      <td>0</td>\n",
       "      <td>0</td>\n",
       "      <td>0</td>\n",
       "      <td>1</td>\n",
       "      <td>0</td>\n",
       "      <td>0</td>\n",
       "    </tr>\n",
       "  </tbody>\n",
       "</table>\n",
       "</div>"
      ],
      "text/plain": [
       "   carat  Ideal  Premium  Very Good  Good  Fair  IF  VVS1  VVS2  VS1  VS2  \\\n",
       "0   0.23      1        0          0     0     0   0     0     0    0    0   \n",
       "1   0.21      0        1          0     0     0   0     0     0    0    0   \n",
       "\n",
       "   SI1  SI2  I1  \n",
       "0    0    1   0  \n",
       "1    1    0   0  "
      ]
     },
     "execution_count": 181,
     "metadata": {},
     "output_type": "execute_result"
    }
   ],
   "source": [
    "### GRADED\n",
    "\n",
    "ccc_linreg = ''\n",
    "\n",
    "# YOUR CODE HERE\n",
    "carat = diamonds['carat']\n",
    "concat_df = pd.concat([carat, cut_encoded, clarity_encoded], axis=1)\n",
    "X = concat_df\n",
    "y = diamonds['price']\n",
    "\n",
    "ccc_linreg = LinearRegression(fit_intercept = False).fit(X, y)\n",
    "\n",
    "# Answer check\n",
    "print(ccc_linreg)\n",
    "print(ccc_linreg.coef_)\n",
    "concat_df.head(2)"
   ]
  },
  {
   "cell_type": "code",
   "execution_count": null,
   "metadata": {
    "deletable": false,
    "editable": false,
    "nbgrader": {
     "checksum": "f49bbfe1670bad96915a4afc822e65ea",
     "grade": true,
     "grade_id": "cell-7f22e7ac5a473f4d",
     "locked": true,
     "points": 4,
     "schema_version": 1,
     "solution": false
    }
   },
   "outputs": [],
   "source": []
  },
  {
   "cell_type": "markdown",
   "metadata": {
    "deletable": false,
    "editable": false,
    "nbgrader": {
     "checksum": "6fc98d0d37f03d1c38d4cbb95d09b55e",
     "grade": false,
     "grade_id": "cell-f5d2f09c43dabe68",
     "locked": true,
     "schema_version": 1,
     "solution": false
    }
   },
   "source": [
    "[Back to top](#Index:) \n",
    "\n",
    "## Problem 8\n",
    "\n",
    "### Interpreting the results\n",
    "\n",
    "**4 Points**\n",
    "\n",
    "Examine the coefficients from the model and use them to determine the predicted price of a diamond with the following features:\n",
    "\n",
    "```\n",
    "carat = 0.8\n",
    "cut = Ideal\n",
    "clarity = SI2\n",
    "```\n",
    "\n",
    "Assign your solution as a float rounded to two decimal places to the variable `ccc_prediction` below.  "
   ]
  },
  {
   "cell_type": "code",
   "execution_count": 185,
   "metadata": {
    "deletable": false,
    "nbgrader": {
     "checksum": "9259b70573b812113c25b848fcadeb8a",
     "grade": false,
     "grade_id": "cell-dc810ef233e9b1e8",
     "locked": false,
     "schema_version": 1,
     "solution": true
    }
   },
   "outputs": [
    {
     "name": "stdout",
     "output_type": "stream",
     "text": [
      "2882.66\n",
      "<class 'float'>\n"
     ]
    }
   ],
   "source": [
    "### GRADED\n",
    "\n",
    "ccc_prediction = ''\n",
    "\n",
    "# YOUR CODE HERE\n",
    "carat = 0.8\n",
    "carat_coef = 8472.03\n",
    "ideal_coef = -1629.11\n",
    "si2_coef = -2265.85\n",
    "\n",
    "ccc_prediction = round(float((carat * carat_coef) + ideal_coef + si2_coef), 2)\n",
    "\n",
    "# Answer check\n",
    "print(ccc_prediction)\n",
    "print(type(ccc_prediction))"
   ]
  },
  {
   "cell_type": "code",
   "execution_count": null,
   "metadata": {
    "deletable": false,
    "editable": false,
    "nbgrader": {
     "checksum": "0002589eca62018ae4b78397d0dfa9e6",
     "grade": true,
     "grade_id": "cell-a044780711c61005",
     "locked": true,
     "points": 4,
     "schema_version": 1,
     "solution": false
    }
   },
   "outputs": [],
   "source": []
  },
  {
   "cell_type": "markdown",
   "metadata": {
    "deletable": false,
    "editable": false,
    "nbgrader": {
     "checksum": "8b6046fe6cad18640c48ea43e4577db2",
     "grade": false,
     "grade_id": "cell-a10b65e7e86fda15",
     "locked": true,
     "schema_version": 1,
     "solution": false
    }
   },
   "source": [
    "[Back to top](#Index:) \n",
    "\n",
    "## Problem 9\n",
    "\n",
    "### A Model with all features\n",
    "\n",
    "**4 Points**\n",
    "\n",
    "Use the `get_dummies()` function to create a dummy encoded version of all the columns in the `diamonds` DataFrame except for the column `price` and assign the result to the variable `X`.\n",
    "\n",
    "To the variable `y`, assign the column `price` in the `diamonds` dataset.\n",
    "\n",
    "Use the `LinearRegression` estimator  with argument `fit_intercept = False` to build a regression model. Next, use the `fit()` function with arguments `X` and `y`  to predict the `price` column.  \n",
    "\n",
    "Assign the model to `all_features_linreg` below. \n",
    "\n",
    "Use the `mean_squared_error` function to compute the MSE between `all_features_linreg.predict(X)` and `y`. Assign the result to `linreg_mse` below. "
   ]
  },
  {
   "cell_type": "code",
   "execution_count": 191,
   "metadata": {
    "deletable": false,
    "nbgrader": {
     "checksum": "6ae06c322244b2f03f98d2e8e25b7c23",
     "grade": false,
     "grade_id": "cell-1e23dad455d8e668",
     "locked": false,
     "schema_version": 1,
     "solution": true
    }
   },
   "outputs": [
    {
     "name": "stdout",
     "output_type": "stream",
     "text": [
      "LinearRegression(fit_intercept=False)\n",
      "[ 1.12569783e+04 -6.38061004e+01 -2.64740847e+01 -1.00826110e+03\n",
      "  9.60888648e+00 -5.01188909e+01  2.71221727e+03  2.64144937e+03\n",
      "  2.60608801e+03  2.45905687e+03  1.87930542e+03  3.06769746e+03\n",
      "  2.73035426e+03  2.67340929e+03  2.30099313e+03  1.98981878e+03\n",
      "  1.38806730e+03  4.25181510e+02 -2.27740478e+03  2.58257671e+03\n",
      "  2.37345863e+03  2.30972288e+03  2.10053781e+03  1.60231004e+03\n",
      "  1.11633224e+03  2.13178649e+02]\n",
      "1276545.1743083887\n"
     ]
    },
    {
     "data": {
      "text/html": [
       "<div>\n",
       "<style scoped>\n",
       "    .dataframe tbody tr th:only-of-type {\n",
       "        vertical-align: middle;\n",
       "    }\n",
       "\n",
       "    .dataframe tbody tr th {\n",
       "        vertical-align: top;\n",
       "    }\n",
       "\n",
       "    .dataframe thead th {\n",
       "        text-align: right;\n",
       "    }\n",
       "</style>\n",
       "<table border=\"1\" class=\"dataframe\">\n",
       "  <thead>\n",
       "    <tr style=\"text-align: right;\">\n",
       "      <th></th>\n",
       "      <th>carat</th>\n",
       "      <th>depth</th>\n",
       "      <th>table</th>\n",
       "      <th>x</th>\n",
       "      <th>y</th>\n",
       "      <th>z</th>\n",
       "      <th>Ideal</th>\n",
       "      <th>Premium</th>\n",
       "      <th>Very Good</th>\n",
       "      <th>Good</th>\n",
       "      <th>...</th>\n",
       "      <th>SI1</th>\n",
       "      <th>SI2</th>\n",
       "      <th>I1</th>\n",
       "      <th>D</th>\n",
       "      <th>E</th>\n",
       "      <th>F</th>\n",
       "      <th>G</th>\n",
       "      <th>H</th>\n",
       "      <th>I</th>\n",
       "      <th>J</th>\n",
       "    </tr>\n",
       "  </thead>\n",
       "  <tbody>\n",
       "    <tr>\n",
       "      <th>0</th>\n",
       "      <td>0.23</td>\n",
       "      <td>61.5</td>\n",
       "      <td>55.0</td>\n",
       "      <td>3.95</td>\n",
       "      <td>3.98</td>\n",
       "      <td>2.43</td>\n",
       "      <td>1</td>\n",
       "      <td>0</td>\n",
       "      <td>0</td>\n",
       "      <td>0</td>\n",
       "      <td>...</td>\n",
       "      <td>0</td>\n",
       "      <td>1</td>\n",
       "      <td>0</td>\n",
       "      <td>0</td>\n",
       "      <td>1</td>\n",
       "      <td>0</td>\n",
       "      <td>0</td>\n",
       "      <td>0</td>\n",
       "      <td>0</td>\n",
       "      <td>0</td>\n",
       "    </tr>\n",
       "    <tr>\n",
       "      <th>1</th>\n",
       "      <td>0.21</td>\n",
       "      <td>59.8</td>\n",
       "      <td>61.0</td>\n",
       "      <td>3.89</td>\n",
       "      <td>3.84</td>\n",
       "      <td>2.31</td>\n",
       "      <td>0</td>\n",
       "      <td>1</td>\n",
       "      <td>0</td>\n",
       "      <td>0</td>\n",
       "      <td>...</td>\n",
       "      <td>1</td>\n",
       "      <td>0</td>\n",
       "      <td>0</td>\n",
       "      <td>0</td>\n",
       "      <td>1</td>\n",
       "      <td>0</td>\n",
       "      <td>0</td>\n",
       "      <td>0</td>\n",
       "      <td>0</td>\n",
       "      <td>0</td>\n",
       "    </tr>\n",
       "    <tr>\n",
       "      <th>2</th>\n",
       "      <td>0.23</td>\n",
       "      <td>56.9</td>\n",
       "      <td>65.0</td>\n",
       "      <td>4.05</td>\n",
       "      <td>4.07</td>\n",
       "      <td>2.31</td>\n",
       "      <td>0</td>\n",
       "      <td>0</td>\n",
       "      <td>0</td>\n",
       "      <td>1</td>\n",
       "      <td>...</td>\n",
       "      <td>0</td>\n",
       "      <td>0</td>\n",
       "      <td>0</td>\n",
       "      <td>0</td>\n",
       "      <td>1</td>\n",
       "      <td>0</td>\n",
       "      <td>0</td>\n",
       "      <td>0</td>\n",
       "      <td>0</td>\n",
       "      <td>0</td>\n",
       "    </tr>\n",
       "    <tr>\n",
       "      <th>3</th>\n",
       "      <td>0.29</td>\n",
       "      <td>62.4</td>\n",
       "      <td>58.0</td>\n",
       "      <td>4.20</td>\n",
       "      <td>4.23</td>\n",
       "      <td>2.63</td>\n",
       "      <td>0</td>\n",
       "      <td>1</td>\n",
       "      <td>0</td>\n",
       "      <td>0</td>\n",
       "      <td>...</td>\n",
       "      <td>0</td>\n",
       "      <td>0</td>\n",
       "      <td>0</td>\n",
       "      <td>0</td>\n",
       "      <td>0</td>\n",
       "      <td>0</td>\n",
       "      <td>0</td>\n",
       "      <td>0</td>\n",
       "      <td>1</td>\n",
       "      <td>0</td>\n",
       "    </tr>\n",
       "    <tr>\n",
       "      <th>4</th>\n",
       "      <td>0.31</td>\n",
       "      <td>63.3</td>\n",
       "      <td>58.0</td>\n",
       "      <td>4.34</td>\n",
       "      <td>4.35</td>\n",
       "      <td>2.75</td>\n",
       "      <td>0</td>\n",
       "      <td>0</td>\n",
       "      <td>0</td>\n",
       "      <td>1</td>\n",
       "      <td>...</td>\n",
       "      <td>0</td>\n",
       "      <td>1</td>\n",
       "      <td>0</td>\n",
       "      <td>0</td>\n",
       "      <td>0</td>\n",
       "      <td>0</td>\n",
       "      <td>0</td>\n",
       "      <td>0</td>\n",
       "      <td>0</td>\n",
       "      <td>1</td>\n",
       "    </tr>\n",
       "  </tbody>\n",
       "</table>\n",
       "<p>5 rows × 26 columns</p>\n",
       "</div>"
      ],
      "text/plain": [
       "   carat  depth  table     x     y     z  Ideal  Premium  Very Good  Good  \\\n",
       "0   0.23   61.5   55.0  3.95  3.98  2.43      1        0          0     0   \n",
       "1   0.21   59.8   61.0  3.89  3.84  2.31      0        1          0     0   \n",
       "2   0.23   56.9   65.0  4.05  4.07  2.31      0        0          0     1   \n",
       "3   0.29   62.4   58.0  4.20  4.23  2.63      0        1          0     0   \n",
       "4   0.31   63.3   58.0  4.34  4.35  2.75      0        0          0     1   \n",
       "\n",
       "   ...  SI1  SI2  I1  D  E  F  G  H  I  J  \n",
       "0  ...    0    1   0  0  1  0  0  0  0  0  \n",
       "1  ...    1    0   0  0  1  0  0  0  0  0  \n",
       "2  ...    0    0   0  0  1  0  0  0  0  0  \n",
       "3  ...    0    0   0  0  0  0  0  0  1  0  \n",
       "4  ...    0    1   0  0  0  0  0  0  0  1  \n",
       "\n",
       "[5 rows x 26 columns]"
      ]
     },
     "execution_count": 191,
     "metadata": {},
     "output_type": "execute_result"
    }
   ],
   "source": [
    "### GRADED\n",
    "all_features_linreg = ''\n",
    "linreg_mse = ''\n",
    "\n",
    "# YOUR CODE HERE\n",
    "color_encoded = pd.get_dummies(diamonds['color'], dtype=np.int8)\n",
    "columns_to_drop = ['price', 'cut', 'color', 'clarity']\n",
    "diamonds = diamonds.drop(columns=columns_to_drop, inplace=False)\n",
    "diamonds = pd.concat([diamonds, cut_encoded, clarity_encoded, color_encoded], axis=1)\n",
    "X = diamonds\n",
    "\n",
    "all_features_linreg = LinearRegression(fit_intercept = False).fit(X, y)\n",
    "\n",
    "all_features_prediction = all_features_linreg.predict(X)\n",
    "linreg_mse = mean_squared_error(all_features_prediction, y)\n",
    "\n",
    "# Answer check\n",
    "print(all_features_linreg)\n",
    "print(all_features_linreg.coef_)\n",
    "print(linreg_mse)\n",
    "diamonds.head()"
   ]
  },
  {
   "cell_type": "code",
   "execution_count": null,
   "metadata": {
    "deletable": false,
    "editable": false,
    "nbgrader": {
     "checksum": "c68e7ec833ffd5df52c28eca5ebff241",
     "grade": true,
     "grade_id": "cell-662863a514ee8c09",
     "locked": true,
     "points": 4,
     "schema_version": 1,
     "solution": false
    }
   },
   "outputs": [],
   "source": []
  },
  {
   "cell_type": "markdown",
   "metadata": {
    "deletable": false,
    "editable": false,
    "nbgrader": {
     "checksum": "39f4e4ab9fc1c0062fe081cab913db89",
     "grade": false,
     "grade_id": "cell-afbc6d534248512e",
     "locked": true,
     "schema_version": 1,
     "solution": false
    }
   },
   "source": [
    "[Back to top](#Index:) \n",
    "\n",
    "## Problem 10\n",
    "\n",
    "### A `HuberRegressor` on all features\n",
    "\n",
    "**4 Points**\n",
    "\n",
    "Use the `get_dummies()` function to create a dummy encoded version of all the columns in the `diamonds` DataFrame except for the column `price` and assign the result to the variable `X`.\n",
    "\n",
    "To the variable `y`, assign the column `price` in the `diamonds` dataset.\n",
    "\n",
    "Use the `HuberRegressor` estimator  with argument `fit_intercept = False` to build an Huber regression model. Next, use the `fit()` function with arguments `X` and `y`  to predict the `price` column.  \n",
    "\n",
    "Assign this model to `huber_all_features` below. \n",
    "\n",
    "Use the `mean_squared_error` function to compute the MSE between `huber_all_features.predict(X)` and `y`. Assign the result to `huber_mse` below. "
   ]
  },
  {
   "cell_type": "code",
   "execution_count": 195,
   "metadata": {
    "deletable": false,
    "nbgrader": {
     "checksum": "df75936d61c2d43dbd3ca5f5bc134f04",
     "grade": false,
     "grade_id": "cell-1ae371ecbcc17b95",
     "locked": false,
     "schema_version": 1,
     "solution": true
    }
   },
   "outputs": [
    {
     "name": "stdout",
     "output_type": "stream",
     "text": [
      "HuberRegressor(fit_intercept=False)\n",
      "[ 1.02051914e+04  3.32980239e+00 -4.31279049e+00 -4.44242606e+02\n",
      " -6.78870237e+02  5.08994359e+02  2.93278243e+01  8.23264365e+01\n",
      "  3.25085236e+02  6.46392084e+01 -8.50363709e+02  2.10915171e+03\n",
      "  9.76981474e+02  3.91018598e+02  2.69911971e+02  4.16923833e+02\n",
      " -3.75182671e+02 -1.13671777e+03 -3.00107216e+03  8.07052084e+02\n",
      "  5.59136699e+02  3.98921097e+02  5.79725586e+02  3.03951866e+01\n",
      " -4.64206672e+02 -2.26000898e+03]\n",
      "1561660.4998771406\n"
     ]
    }
   ],
   "source": [
    "### GRADED\n",
    "\n",
    "huber_all_features = ''\n",
    "huber_mse = ''\n",
    "\n",
    "# YOUR CODE HERE\n",
    "huber_all_features = HuberRegressor(fit_intercept = False).fit(X, y)\n",
    "huber_all_features_prediction = huber_all_features.predict(X)\n",
    "huber_mse = mean_squared_error(huber_all_features_prediction, y)\n",
    "\n",
    "# Answer check\n",
    "print(huber_all_features)\n",
    "print(huber_all_features.coef_)\n",
    "print(huber_mse)"
   ]
  },
  {
   "cell_type": "code",
   "execution_count": null,
   "metadata": {
    "deletable": false,
    "editable": false,
    "nbgrader": {
     "checksum": "f106d7d24342fb78d29691b5338ca02d",
     "grade": true,
     "grade_id": "cell-16a97aa737ee0635",
     "locked": true,
     "points": 4,
     "schema_version": 1,
     "solution": false
    }
   },
   "outputs": [],
   "source": []
  },
  {
   "cell_type": "markdown",
   "metadata": {
    "deletable": false,
    "editable": false,
    "nbgrader": {
     "checksum": "d83a48051b01ae37da891df43df1e197",
     "grade": false,
     "grade_id": "cell-89af5c8ab4476bc5",
     "locked": true,
     "schema_version": 1,
     "solution": false
    }
   },
   "source": [
    "### Conclusion\n",
    "\n",
    "While some basic initial models have been explored here, there is much more to explore to fine tune things. One thing that could be revisited is the representation of features through transformations and the engineering of different representations of existing features.  For example, the dimensions of the diamond in `x`, `y`, and `z` could be multiplied to create a feature \"volume\".  This allows for a more reasonable representation of three columns of data with one.  A second approach we might take is to use PCA to reduce the dimensionality of the data.  Third is to use clustering to engineer new features based on the cluster results.  Consider exploring different representations of the features and trying to improve these initial models."
   ]
  }
 ],
 "metadata": {
  "kernelspec": {
   "display_name": "Python 3 (ipykernel)",
   "language": "python",
   "name": "python3"
  },
  "language_info": {
   "codemirror_mode": {
    "name": "ipython",
    "version": 3
   },
   "file_extension": ".py",
   "mimetype": "text/x-python",
   "name": "python",
   "nbconvert_exporter": "python",
   "pygments_lexer": "ipython3",
   "version": "3.11.7"
  }
 },
 "nbformat": 4,
 "nbformat_minor": 4
}
