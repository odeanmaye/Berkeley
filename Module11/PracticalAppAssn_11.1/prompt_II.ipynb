{
 "cells": [
  {
   "cell_type": "markdown",
   "metadata": {},
   "source": [
    "# What drives the price of a car?\n",
    "\n",
    "![](images/kurt.jpeg)"
   ]
  },
  {
   "cell_type": "markdown",
   "metadata": {},
   "source": [
    "**OVERVIEW**\n",
    "\n",
    "In this application, you will explore a dataset from kaggle. The original dataset contained information on 3 million used cars. The provided dataset contains information on 426K cars to ensure speed of processing.  Your goal is to understand what factors make a car more or less expensive.  As a result of your analysis, you should provide clear recommendations to your client -- a used car dealership -- as to what consumers value in a used car."
   ]
  },
  {
   "cell_type": "markdown",
   "metadata": {},
   "source": [
    "### CRISP-DM Framework\n",
    "\n",
    "<center>\n",
    "    <img src = images/crisp.png width = 50%/>\n",
    "</center>\n",
    "\n",
    "\n",
    "To frame the task, throughout our practical applications we will refer back to a standard process in industry for data projects called CRISP-DM.  This process provides a framework for working through a data problem.  Your first step in this application will be to read through a brief overview of CRISP-DM [here](https://mo-pcco.s3.us-east-1.amazonaws.com/BH-PCMLAI/module_11/readings_starter.zip).  After reading the overview, answer the questions below."
   ]
  },
  {
   "cell_type": "markdown",
   "metadata": {},
   "source": [
    "### Business Understanding\n",
    "\n",
    "From a business perspective, we are tasked with identifying key drivers for used car prices.  In the CRISP-DM overview, we are asked to convert this business framing to a data problem definition.  Using a few sentences, reframe the task as a data task with the appropriate technical vocabulary. "
   ]
  },
  {
   "cell_type": "markdown",
   "metadata": {},
   "source": [
    "### 1. **Determine Business Objectives**\n",
    "   - **Background**: Used car dealerships want to know which factors drive the price of used cars to make informed purchasing and pricing decisions.\n",
    "   - **Business Objectives**: Maximizing profit margins by understanding key used car pricing drivers.\n",
    "   - **Business Success Criteria**: Success will be measured by improved sales performance metrics after applying insights from the analysis.\n",
    "\n",
    "### 2. **Assess Situation**\n",
    "   - **Inventory of Resources**: We have a dataset with 426,880 records of used car data.\n",
    "   - **Requirements, Assumptions & Constraints**: We assume that the available data and encapsulated insights are indicative of the used car market as it is today.\n",
    "   - **Risks and Contingencies**: There is always a risk that market circumstance may have changed thereby rendering this analysis usesless. To mitigate this risk we will want to take baseline used car price predictions using currently available methods.\n",
    "   - **Terminology**: A dictionary of terms will be provided with this analysis to ensure that all stakeholders are able to communicate accurately about this analysis and its findings.\n",
    "   - **Costs and Benefits**: This analysis will cost 15 person hours and could potentially produce a significant increase in used car sales as pricing become more clear to sellers.\n",
    "\n",
    "### 3. **Determine Data Mining Goals**\n",
    "   - **Data Mining Goals**: To build a predictive model to identify key used car price drivers.\n",
    "   - **Data Mining Success Criteria**: Accuracy of price predictions and a performance greater than status quo price prediction methods. \n",
    "\n",
    "### 4. **Produce Project Plan**\n",
    "   - **Project Plan**: Odean Maye will complete the project over a 15 hour time period.\n",
    "   - **Initial Assessment of Tools and Techniques**: Identify the tools, methods, and techniques that will be used (e.g., regression analysis, data preprocessing methods).\n"
   ]
  },
  {
   "cell_type": "code",
   "execution_count": null,
   "metadata": {},
   "outputs": [],
   "source": []
  },
  {
   "cell_type": "code",
   "execution_count": null,
   "metadata": {},
   "outputs": [],
   "source": []
  },
  {
   "cell_type": "code",
   "execution_count": null,
   "metadata": {},
   "outputs": [],
   "source": []
  },
  {
   "cell_type": "markdown",
   "metadata": {},
   "source": [
    "### Data Understanding\n",
    "\n",
    "After considering the business understanding, we want to get familiar with our data.  Write down some steps that you would take to get to know the dataset and identify any quality issues within.  Take time to get to know the dataset and explore what information it contains and how this could be used to inform your business understanding."
   ]
  },
  {
   "cell_type": "markdown",
   "metadata": {},
   "source": [
    "### Collect Initial Data"
   ]
  },
  {
   "cell_type": "markdown",
   "metadata": {},
   "source": [
    "## Initial Data Collection Report\n",
    "\n",
    "### Dataset Acquired\n",
    "- **Dataset Name**: Used Car Listings Dataset\n",
    "- **Location**: Downloaded as a 3M sample sized dataset from kaggle, scaled down and uploaded as a CSV file named `vehicles.csv`.\n",
    "- **Size**: 426,880 records with 18 features.\n",
    "\n",
    "### Data Acquisition Method\n",
    "- **Method Used**: The dataset was acquired as a CSV file from kaggle, and it was loaded into a pandas DataFrame for analysis.\n",
    "- **Tool Used**: Python (pandas library) was used to load and explore the dataset."
   ]
  },
  {
   "cell_type": "markdown",
   "metadata": {},
   "source": [
    "## Data Description Report\n",
    "\n",
    "### Data Format\n",
    "- **File Format**: CSV (Comma-Separated Values)\n",
    "- **Tool Used for Analysis**: Python (pandas library)\n",
    "\n",
    "### Quantity of Data\n",
    "- **Total Records**: 426,880 entries\n",
    "- **Total Features (Fields)**: 18\n",
    "\n",
    "### Features and Descriptions\n",
    "1. **id**: Unique identifier for each car entry.\n",
    "2. **region**: Geographic region where the car is listed.\n",
    "3. **price**: Listed price of the car (numerical).\n",
    "4. **year**: Year of manufacture (numerical).\n",
    "5. **manufacturer**: Car manufacturer (categorical).\n",
    "6. **model**: Model of the car (categorical).\n",
    "7. **condition**: Condition of the car (categorical, e.g., new, like new, etc.).\n",
    "8. **cylinders**: Number of engine cylinders (categorical).\n",
    "9. **fuel**: Type of fuel used (categorical, e.g., gas, diesel, etc.).\n",
    "10. **odometer**: Mileage on the car’s odometer (numerical).\n",
    "11. **title_status**: Legal status of the car’s title (categorical, e.g., clean, salvage, etc.).\n",
    "12. **transmission**: Type of transmission (categorical, e.g., automatic, manual).\n",
    "13. **VIN**: Vehicle Identification Number (alphanumeric, unique).\n",
    "14. **drive**: Type of drive (categorical, e.g., 4wd, fwd, rwd).\n",
    "15. **size**: Size classification of the car (categorical, e.g., compact, full-size).\n",
    "16. **type**: Type of car (categorical, e.g., sedan, SUV, etc.).\n",
    "17. **paint_color**: Color of the car's paint (categorical).\n",
    "18. **state**: U.S. state where the car is listed (categorical).\n",
    "\n",
    "### Data Types\n",
    "The data types for each feature are as follows:\n",
    "- **id**: int64\n",
    "- **region**: object\n",
    "- **price**: int64\n",
    "- **year**: float64\n",
    "- **manufacturer**: object\n",
    "- **model**: object\n",
    "- **condition**: object\n",
    "- **cylinders**: object\n",
    "- **fuel**: object\n",
    "- **odometer**: float64\n",
    "- **title_status**: object\n",
    "- **transmission**: object\n",
    "- **VIN**: object\n",
    "- **drive**: object\n",
    "- **size**: object\n",
    "- **type**: object\n",
    "- **paint_color**: object\n",
    "- **state**: object\n",
    "\n",
    "- ### Evaluation Against Requirements\n",
    "- **Data Completeness**: The dataset is relatively comprehensive but has some missing values that need to be addressed.\n",
    "- **Data Relevance**: The features provided are highly relevant for predicting used car prices, including key attributes like `year`, `manufacturer`, `odometer`, and `condition`."
   ]
  },
  {
   "cell_type": "markdown",
   "metadata": {},
   "source": [
    "## Data Quality Report\n",
    "\n",
    "### Missing Values\n",
    "A number of features have missing values, which are summarized below:\n",
    "- **year**: 1,205 missing entries\n",
    "- **manufacturer**: 17,646 missing entries\n",
    "- **model**: 5,277 missing entries\n",
    "- **condition**: 174,104 missing entries\n",
    "- **cylinders**: 177,678 missing entries\n",
    "- **fuel**: 3,013 missing entries\n",
    "- **odometer**: 4,400 missing entries\n",
    "- **title_status**: 8,242 missing entries\n",
    "- **transmission**: 2,556 missing entries\n",
    "- **VIN**: 161,042 missing entries\n",
    "- **drive**: 130,567 missing entries\n",
    "- **size**: 306,361 missing entries\n",
    "- **type**: 92,858 missing entries\n",
    "- **paint_color**: 130,203 missing entries\n",
    "\n",
    "### Data Types\n",
    "The data types for each feature are as follows:\n",
    "- **id**: int64\n",
    "- **region**: object\n",
    "- **price**: int64\n",
    "- **year**: float64\n",
    "- **manufacturer**: object\n",
    "- **model**: object\n",
    "- **condition**: object\n",
    "- **cylinders**: object\n",
    "- **fuel**: object\n",
    "- **odometer**: float64\n",
    "- **title_status**: object\n",
    "- **transmission**: object\n",
    "- **VIN**: object\n",
    "- **drive**: object\n",
    "- **size**: object\n",
    "- **type**: object\n",
    "- **paint_color**: object\n",
    "- **state**: object\n",
    "\n",
    "### Data Quality Observations\n",
    "- **Missing Values**:\n",
    "  - Several columns have missing values, particularly `condition`, `cylinders`, `VIN`, `drive`, `size`, and `paint_color`.\n",
    "  - The presence of missing data in critical fields like `year`, `manufacturer`, and `odometer` may affect the analysis.\n",
    "  \n",
    "- **Outliers**:\n",
    "  - The `price` column contains outliers, with some entries showing prices as low as $0 and as high as several million dollars.\n",
    "  \n",
    "- **Inconsistent Data Types**:\n",
    "  - Features such as `year` and `odometer` are stored as floating-point numbers, although they represent integer values.\n",
    "\n",
    "- **Categorical Data**:\n",
    "  - The dataset includes multiple categorical variables (e.g., `manufacturer`, `fuel`, `drive`), which will require encoding for use in modeling.\n",
    "  \n",
    "- **Geographical Data**:\n",
    "  - The `region` and `state` fields provide geographical information that could be useful for understanding regional price differences."
   ]
  },
  {
   "cell_type": "markdown",
   "metadata": {},
   "source": [
    "## Data Exploration Report\n",
    "\n",
    "### 1. Distribution of Key Attributes\n",
    "\n",
    "#### Price Distribution\n",
    "The distribution of car prices reveals a wide range of values, with a significant number of cars priced between 5,000 and 30,000 dollars. However, there are also outliers, with some cars priced at 0 or several million dollars, indicating potential errors or outliers in the dataset.\n",
    "\n",
    "#### Year of Manufacture Distribution\n",
    "The majority of the cars in the dataset were manufactured between 2000 and 2020. The distribution shows a peak around 2010-2015, with fewer cars from the 1990s or earlier.\n",
    "\n",
    "#### Odometer Reading Distribution\n",
    "The odometer readings vary significantly, with most cars showing mileage between 50,000 and 150,000 miles. There are also outliers with extremely high mileage or possibly incorrect entries (e.g., 0 miles).\n",
    "\n",
    "### 2. Relationships Between Attributes\n",
    "\n",
    "#### Price vs. Year\n",
    "Analysis of price against the year of manufacture indicates that newer cars tend to have higher prices. However, there is substantial variability, especially for older cars, where prices can range widely based on other factors such as condition and model.\n",
    "\n",
    "#### Price vs. Odometer\n",
    "Analysis of price versus odometer readings shows a general trend where cars with lower mileage tend to have higher prices. However, this relationship is not strictly linear, and there are exceptions where high-mileage cars still command high prices, likely due to other factors like brand or model.\n",
    "\n",
    "### 3. Significant Sub-populations\n",
    "\n",
    "#### Price Distribution by Manufacturer\n",
    "Analysis of prices across the top 10 manufacturers shows significant variation between brands. Luxury brands like BMW and Audi have higher median prices, while more common brands like Ford and Chevrolet have lower median prices. The spread of prices within each brand also varies, indicating differences in model variety and condition.\n",
    "\n",
    "#### Price Distribution by Condition\n",
    "Analysis of prices by the condition of the car reveals that cars in \"new\" or \"like new\" condition have significantly higher prices than those listed as \"fair\" or \"salvage.\" This underscores the importance of the car's condition in determining its market value.\n",
    "\n",
    "### 4. Simple Statistical Analyses\n",
    "\n",
    "#### Summary Statistics\n",
    "Summary statistics for the key numerical features (`price`, `year`, `odometer`) were calculated. The `price` has a mean of approximately $75,199, with a standard deviation indicating high variability. The `year` feature shows a mean around 2011, with most cars falling within the last two decades. The `odometer` readings also show a wide range, with a mean of approximately 98,043 miles.\n",
    "\n",
    "### Initial Hypotheses and Impact\n",
    "- **Year and Odometer**: Both the year of manufacture and odometer readings appear to be significant factors in determining the price, but they do not explain all the variability. Further exploration of other features like `manufacturer`, `model`, and `condition` is necessary.\n",
    "- **Outliers**: The presence of outliers in the price and odometer data suggests the need for careful data cleaning before modeling.\n",
    "- **Manufacturer and Condition**: These categorical variables significantly impact price and should be encoded and considered in predictive modeling.\n",
    "\n",
    "### Next Steps\n",
    "- Address missing values and outliers in the dataset.\n",
    "- Consider additional feature engineering, such as creating age from the year and calculating price per mile.\n",
    "- Proceed to data preparation, focusing on encoding categorical variables and normalizing numerical features for modeling.\n"
   ]
  },
  {
   "cell_type": "markdown",
   "metadata": {},
   "source": [
    "### Data Preparation\n",
    "\n",
    "After our initial exploration and fine tuning of the business understanding, it is time to construct our final dataset prior to modeling.  Here, we want to make sure to handle any integrity issues and cleaning, the engineering of new features, any transformations that we believe should happen (scaling, logarithms, normalization, etc.), and general preparation for modeling with `sklearn`. "
   ]
  },
  {
   "cell_type": "markdown",
   "metadata": {},
   "source": [
    "## Rationale for Data Inclusion/Exclusion\n",
    "\n",
    "### Columns to Include:\n",
    "1. **price**\n",
    "   - **Reason**: This is the target variable for the analysis, representing the used car prices we aim to understand and predict.\n",
    "   - **Quality**: No missing values, but attention to outliers will be necessary.\n",
    "\n",
    "2. **year**\n",
    "   - **Reason**: The year of manufacture is a critical factor in determining a car’s value. Newer cars generally have higher prices.\n",
    "   - **Quality**: Minimal missing values (1,205 out of 426,880), so it will be included. Is in a floating point format and not an integer so the value will need to be transformed.\n",
    "\n",
    "3. **manufacturer**\n",
    "   - **Reason**: The car’s brand is a significant determinant of its price due to brand reputation and perceived quality.\n",
    "   - **Quality**: Moderate missing values (17,646 out of 426,880), which can be managed through imputation or exclusion.\n",
    "\n",
    "4. **condition**\n",
    "   - **Reason**: The condition of the car (e.g., new, like new, fair) directly influences its price.\n",
    "   - **Quality**: Significant missing values (174,104 out of 426,880), but still valuable for the analysis. Missing data may be handled by imputation or by using a subset of the data where this field is populated.\n",
    "\n",
    "5. **fuel**\n",
    "   - **Reason**: The type of fuel (e.g., gas, diesel, electric) can influence the car’s value due to efficiency, maintenance costs, and environmental impact.\n",
    "   - **Quality**: Few missing values (3,013 out of 426,880), so it’s suitable for inclusion.\n",
    "\n",
    "6. **odometer**\n",
    "   - **Reason**: Mileage is one of the most important factors in determining the value of a used car; lower mileage usually leads to a higher price.\n",
    "   - **Quality**: Moderate missing values (4,400 out of 426,880), but important enough to be included.\n",
    "\n",
    "7. **transmission**\n",
    "   - **Reason**: Transmission type (automatic, manual) can influence car prices, with automatic vehicles often being more expensive.\n",
    "   - **Quality**: Low missing values (2,556 out of 426,880), making it viable for inclusion.\n",
    "\n",
    "8. **type**\n",
    "    - **Reason**: The car type (e.g., sedan, SUV) significantly impacts its market value.\n",
    "    - **Quality**: Moderate missing values (92,858 out of 426,880), but still valuable for inclusion.\n",
    "\n",
    "9. **state**\n",
    "    - **Reason**: The state where the car is listed can influence price due to regional market differences.\n",
    "    - **Quality**: No missing values, making it a good candidate for inclusion.\n",
    "   \n",
    "10. **title_status**\n",
    "    - **Reason**: Title status (e.g., clean, salvage) can affect price.\n",
    "    - **Quality**: Moderate missing values (8,242 out of 426,880).\n",
    "\n",
    "### Columns to Exclude:\n",
    "1. **id**\n",
    "   - **Reason**: The `id` field is a unique identifier and does not contribute to the predictive modeling of prices.\n",
    "\n",
    "2. **region**\n",
    "   - **Reason**: The `region` column overlaps with `state`, which provides a broader geographical context. `state` is preferable for analysis due to consistency and fewer categories.\n",
    "\n",
    "3. **VIN**\n",
    "   - **Reason**: The Vehicle Identification Number (VIN) is unique to each car and does not provide any generalizable insights for pricing analysis.\n",
    "\n",
    "4. **paint_color**\n",
    "   - **Reason**: While paint color might influence price, its impact is generally minimal compared to other factors like condition, mileage, and year. Could be included if considering aesthetics or buyer preferences, but optional. High missing values (130,203 out of 426,880). Potential exclusion due to limited relevance.\n",
    "\n",
    "5. **size**\n",
    "   - **Reason**: The `size` column has very high missing values (306,361 out of 426,880). Moreover, `type` may cover much of the same ground, making `size` redundant.\n",
    "  \n",
    "6. **cylinders**\n",
    "   - **Reason**: The number of cylinders affects engine power and efficiency and thus could have an impact on the car's value but the high percentage of missing values in this feature could cause the results to be skewed.\n",
    "  \n",
    "7. **drive**\n",
    "    - **Reason**: Drive type (e.g., 4WD, FWD) can affect the car’s suitability for different terrains and conditions thus potentially influencing price but high percentage of missing values could cause results to be skewed.\n",
    "  \n",
    "8. **model**\n",
    "   - **Reason**: Specific car models can drastically affect the price within a brand due to different trims, features, and popularity. However, there are over 14,000 different models represented in this dataset. That many unique values could skew the analysis and render the output uninterpretable.\n"
   ]
  },
  {
   "cell_type": "markdown",
   "metadata": {},
   "source": [
    "### Data Cleaning"
   ]
  },
  {
   "cell_type": "code",
   "execution_count": 39,
   "metadata": {},
   "outputs": [
    {
     "data": {
      "text/html": [
       "<div>\n",
       "<style scoped>\n",
       "    .dataframe tbody tr th:only-of-type {\n",
       "        vertical-align: middle;\n",
       "    }\n",
       "\n",
       "    .dataframe tbody tr th {\n",
       "        vertical-align: top;\n",
       "    }\n",
       "\n",
       "    .dataframe thead th {\n",
       "        text-align: right;\n",
       "    }\n",
       "</style>\n",
       "<table border=\"1\" class=\"dataframe\">\n",
       "  <thead>\n",
       "    <tr style=\"text-align: right;\">\n",
       "      <th></th>\n",
       "      <th>id</th>\n",
       "      <th>region</th>\n",
       "      <th>price</th>\n",
       "      <th>year</th>\n",
       "      <th>manufacturer</th>\n",
       "      <th>model</th>\n",
       "      <th>condition</th>\n",
       "      <th>cylinders</th>\n",
       "      <th>fuel</th>\n",
       "      <th>odometer</th>\n",
       "      <th>title_status</th>\n",
       "      <th>transmission</th>\n",
       "      <th>VIN</th>\n",
       "      <th>drive</th>\n",
       "      <th>size</th>\n",
       "      <th>type</th>\n",
       "      <th>paint_color</th>\n",
       "      <th>state</th>\n",
       "    </tr>\n",
       "  </thead>\n",
       "  <tbody>\n",
       "    <tr>\n",
       "      <th>0</th>\n",
       "      <td>7222695916</td>\n",
       "      <td>prescott</td>\n",
       "      <td>6000</td>\n",
       "      <td>NaN</td>\n",
       "      <td>NaN</td>\n",
       "      <td>NaN</td>\n",
       "      <td>NaN</td>\n",
       "      <td>NaN</td>\n",
       "      <td>NaN</td>\n",
       "      <td>NaN</td>\n",
       "      <td>NaN</td>\n",
       "      <td>NaN</td>\n",
       "      <td>NaN</td>\n",
       "      <td>NaN</td>\n",
       "      <td>NaN</td>\n",
       "      <td>NaN</td>\n",
       "      <td>NaN</td>\n",
       "      <td>az</td>\n",
       "    </tr>\n",
       "    <tr>\n",
       "      <th>1</th>\n",
       "      <td>7218891961</td>\n",
       "      <td>fayetteville</td>\n",
       "      <td>11900</td>\n",
       "      <td>NaN</td>\n",
       "      <td>NaN</td>\n",
       "      <td>NaN</td>\n",
       "      <td>NaN</td>\n",
       "      <td>NaN</td>\n",
       "      <td>NaN</td>\n",
       "      <td>NaN</td>\n",
       "      <td>NaN</td>\n",
       "      <td>NaN</td>\n",
       "      <td>NaN</td>\n",
       "      <td>NaN</td>\n",
       "      <td>NaN</td>\n",
       "      <td>NaN</td>\n",
       "      <td>NaN</td>\n",
       "      <td>ar</td>\n",
       "    </tr>\n",
       "    <tr>\n",
       "      <th>2</th>\n",
       "      <td>7221797935</td>\n",
       "      <td>florida keys</td>\n",
       "      <td>21000</td>\n",
       "      <td>NaN</td>\n",
       "      <td>NaN</td>\n",
       "      <td>NaN</td>\n",
       "      <td>NaN</td>\n",
       "      <td>NaN</td>\n",
       "      <td>NaN</td>\n",
       "      <td>NaN</td>\n",
       "      <td>NaN</td>\n",
       "      <td>NaN</td>\n",
       "      <td>NaN</td>\n",
       "      <td>NaN</td>\n",
       "      <td>NaN</td>\n",
       "      <td>NaN</td>\n",
       "      <td>NaN</td>\n",
       "      <td>fl</td>\n",
       "    </tr>\n",
       "    <tr>\n",
       "      <th>3</th>\n",
       "      <td>7222270760</td>\n",
       "      <td>worcester / central MA</td>\n",
       "      <td>1500</td>\n",
       "      <td>NaN</td>\n",
       "      <td>NaN</td>\n",
       "      <td>NaN</td>\n",
       "      <td>NaN</td>\n",
       "      <td>NaN</td>\n",
       "      <td>NaN</td>\n",
       "      <td>NaN</td>\n",
       "      <td>NaN</td>\n",
       "      <td>NaN</td>\n",
       "      <td>NaN</td>\n",
       "      <td>NaN</td>\n",
       "      <td>NaN</td>\n",
       "      <td>NaN</td>\n",
       "      <td>NaN</td>\n",
       "      <td>ma</td>\n",
       "    </tr>\n",
       "    <tr>\n",
       "      <th>4</th>\n",
       "      <td>7210384030</td>\n",
       "      <td>greensboro</td>\n",
       "      <td>4900</td>\n",
       "      <td>NaN</td>\n",
       "      <td>NaN</td>\n",
       "      <td>NaN</td>\n",
       "      <td>NaN</td>\n",
       "      <td>NaN</td>\n",
       "      <td>NaN</td>\n",
       "      <td>NaN</td>\n",
       "      <td>NaN</td>\n",
       "      <td>NaN</td>\n",
       "      <td>NaN</td>\n",
       "      <td>NaN</td>\n",
       "      <td>NaN</td>\n",
       "      <td>NaN</td>\n",
       "      <td>NaN</td>\n",
       "      <td>nc</td>\n",
       "    </tr>\n",
       "  </tbody>\n",
       "</table>\n",
       "</div>"
      ],
      "text/plain": [
       "           id                  region  price  year manufacturer model  \\\n",
       "0  7222695916                prescott   6000   NaN          NaN   NaN   \n",
       "1  7218891961            fayetteville  11900   NaN          NaN   NaN   \n",
       "2  7221797935            florida keys  21000   NaN          NaN   NaN   \n",
       "3  7222270760  worcester / central MA   1500   NaN          NaN   NaN   \n",
       "4  7210384030              greensboro   4900   NaN          NaN   NaN   \n",
       "\n",
       "  condition cylinders fuel  odometer title_status transmission  VIN drive  \\\n",
       "0       NaN       NaN  NaN       NaN          NaN          NaN  NaN   NaN   \n",
       "1       NaN       NaN  NaN       NaN          NaN          NaN  NaN   NaN   \n",
       "2       NaN       NaN  NaN       NaN          NaN          NaN  NaN   NaN   \n",
       "3       NaN       NaN  NaN       NaN          NaN          NaN  NaN   NaN   \n",
       "4       NaN       NaN  NaN       NaN          NaN          NaN  NaN   NaN   \n",
       "\n",
       "  size type paint_color state  \n",
       "0  NaN  NaN         NaN    az  \n",
       "1  NaN  NaN         NaN    ar  \n",
       "2  NaN  NaN         NaN    fl  \n",
       "3  NaN  NaN         NaN    ma  \n",
       "4  NaN  NaN         NaN    nc  "
      ]
     },
     "execution_count": 39,
     "metadata": {},
     "output_type": "execute_result"
    }
   ],
   "source": [
    "import pandas as pd\n",
    "\n",
    "vehicles_df = pd.read_csv('./data/vehicles.csv')\n",
    "vehicles_df.head()"
   ]
  },
  {
   "cell_type": "code",
   "execution_count": 41,
   "metadata": {},
   "outputs": [],
   "source": [
    "import numpy as np\n",
    "\n",
    "# 1. Handling Missing Values\n",
    "# - For 'year', convert to integer and drop rows with missing values\n",
    "vehicles_df['year'] = vehicles_df['year'].dropna()\n",
    "\n",
    "# - For 'manufacturer', 'model', 'fuel', 'transmission', 'state', 'title_status'\n",
    "#   Drop rows where these critical features are missing\n",
    "vehicles_df = vehicles_df.dropna(subset=['manufacturer', 'model', 'fuel', 'transmission', 'state', 'title_status'])\n",
    "\n",
    "# - For 'condition', 'cylinders', 'drive', 'type'\n",
    "#   Drop rows with missing values\n",
    "vehicles_df = vehicles_df.dropna(subset=['condition', 'type'])\n",
    "\n",
    "# - For 'odometer', fill missing values with the mean odometer value.\n",
    "vehicles_df['odometer'].fillna(vehicles_df['odometer'].mean(), inplace=True)\n",
    "\n",
    "# 2. Handling Outliers in 'price'\n",
    "# Filter the DataFrame to include only prices within 2 standard deviations of the mean\n",
    "mean_price = vehicles_df['price'].mean()\n",
    "std_price = vehicles_df['price'].std()\n",
    "vehicles_df = vehicles_df[(vehicles_df['price'] > (mean_price - 2 * std_price)) & \n",
    "                          (vehicles_df['price'] < (mean_price + 2 * std_price))]\n",
    "\n",
    "# 3. Converting Data Types\n",
    "# Convert 'year' and 'odometer' to integers if they are not already\n",
    "vehicles_df['year'] = vehicles_df['year'].astype(int)\n",
    "vehicles_df['odometer'] = vehicles_df['odometer'].astype(int)\n",
    "\n",
    "# 4. Dropping Unused Columns\n",
    "# Drop columns that are not required for the analysis (e.g., 'id', 'region', 'VIN', 'size', 'paint_color')\n",
    "vehicles_df = vehicles_df.drop(columns=['id', 'region', 'VIN', 'size', 'paint_color', 'drive', 'cylinders', 'model'])\n",
    "\n",
    "# 5. Final Cleanup: Remove any remaining rows with missing values after the above operations\n",
    "vehicles_df = vehicles_df.dropna()"
   ]
  },
  {
   "cell_type": "code",
   "execution_count": 43,
   "metadata": {},
   "outputs": [
    {
     "name": "stdout",
     "output_type": "stream",
     "text": [
      "Index(['price', 'year', 'manufacturer', 'condition', 'fuel', 'odometer',\n",
      "       'title_status', 'transmission', 'type', 'state'],\n",
      "      dtype='object')\n"
     ]
    }
   ],
   "source": [
    "vehicles_df_encoded = vehicles_df.copy()\n",
    "print(vehicles_df_encoded.columns)"
   ]
  },
  {
   "cell_type": "code",
   "execution_count": 45,
   "metadata": {},
   "outputs": [
    {
     "name": "stdout",
     "output_type": "stream",
     "text": [
      "manufacturer    41\n",
      "condition        6\n",
      "fuel             5\n",
      "transmission     3\n",
      "type            13\n",
      "state           51\n",
      "title_status     6\n",
      "dtype: int64\n"
     ]
    }
   ],
   "source": [
    "# Calculate the number of unique values in each of the specified categorical columns\n",
    "categorical_columns = ['manufacturer', 'condition', 'fuel', 'transmission', 'type', 'state', 'title_status']\n",
    "\n",
    "unique_values = vehicles_df_encoded[categorical_columns].nunique()\n",
    "print(unique_values)"
   ]
  },
  {
   "cell_type": "code",
   "execution_count": 47,
   "metadata": {},
   "outputs": [
    {
     "name": "stdout",
     "output_type": "stream",
     "text": [
      "    condition  condition_encoded\n",
      "27       good                  3\n",
      "28       good                  3\n",
      "29       good                  3\n",
      "30       good                  3\n",
      "31  excellent                  4\n"
     ]
    }
   ],
   "source": [
    "from pandas.api.types import CategoricalDtype\n",
    "\n",
    "# Define the order of categories\n",
    "condition_order = ['salvage', 'fair', 'good', 'excellent', 'like new', 'new']\n",
    "\n",
    "# Define the CategoricalDtype with the specified order\n",
    "condition_type = CategoricalDtype(categories=condition_order, ordered=True)\n",
    "\n",
    "# Convert the 'condition' column to the categorical type with the specified order\n",
    "vehicles_df_encoded['condition'] = vehicles_df_encoded['condition'].astype(condition_type)\n",
    "\n",
    "# Label encode the 'condition' column\n",
    "vehicles_df_encoded['condition_encoded'] = vehicles_df_encoded['condition'].cat.codes + 1\n",
    "\n",
    "# Display the first few rows to verify the encoding\n",
    "print(vehicles_df_encoded[['condition', 'condition_encoded']].head())\n",
    "vehicles_df_encoded.drop(columns='condition', inplace=True)\n",
    "vehicles_df_encoded.rename(columns={'condition_encoded': 'condition'}, inplace=True)"
   ]
  },
  {
   "cell_type": "code",
   "execution_count": 49,
   "metadata": {},
   "outputs": [
    {
     "name": "stdout",
     "output_type": "stream",
     "text": [
      "   title_status  title_status_encoded\n",
      "27        clean                     2\n",
      "28        clean                     2\n",
      "29        clean                     2\n",
      "30        clean                     2\n",
      "31        clean                     2\n"
     ]
    }
   ],
   "source": [
    "# Define the mapping for title_status\n",
    "title_status_mapping = {\n",
    "    'clean': 2,\n",
    "    'rebuilt': 1,\n",
    "    'lien': 1,\n",
    "    'salvage': 1,\n",
    "    'missing': 1,\n",
    "    'parts only': 1\n",
    "}\n",
    "\n",
    "# Apply the mapping to the 'title_status' column\n",
    "vehicles_df_encoded['title_status_encoded'] = vehicles_df_encoded['title_status'].map(title_status_mapping)\n",
    "\n",
    "# Display the first few rows to verify the encoding\n",
    "print(vehicles_df_encoded[['title_status', 'title_status_encoded']].head())\n",
    "vehicles_df_encoded.drop(columns='title_status', inplace=True)\n",
    "vehicles_df_encoded.rename(columns={'title_status_encoded': 'title_status'}, inplace=True)"
   ]
  },
  {
   "cell_type": "code",
   "execution_count": 51,
   "metadata": {},
   "outputs": [],
   "source": [
    "from category_encoders import BinaryEncoder\n",
    "\n",
    "# Binary encode the 'manufacturer', 'type', and 'state' columns\n",
    "binary_encoder = BinaryEncoder(cols=['manufacturer', 'type', 'state'])\n",
    "vehicles_df_encoded = binary_encoder.fit_transform(vehicles_df_encoded)"
   ]
  },
  {
   "cell_type": "code",
   "execution_count": 53,
   "metadata": {},
   "outputs": [],
   "source": [
    "# One-hot encode 'fuel' and 'transmission'\n",
    "vehicles_df_encoded = pd.get_dummies(vehicles_df_encoded, columns=['fuel', 'transmission'], drop_first=True)"
   ]
  },
  {
   "cell_type": "code",
   "execution_count": 55,
   "metadata": {},
   "outputs": [
    {
     "name": "stdout",
     "output_type": "stream",
     "text": [
      "Index(['price', 'year', 'manufacturer_0', 'manufacturer_1', 'manufacturer_2',\n",
      "       'manufacturer_3', 'manufacturer_4', 'manufacturer_5', 'odometer',\n",
      "       'type_0', 'type_1', 'type_2', 'type_3', 'state_0', 'state_1', 'state_2',\n",
      "       'state_3', 'state_4', 'state_5', 'condition', 'title_status',\n",
      "       'fuel_electric', 'fuel_gas', 'fuel_hybrid', 'fuel_other',\n",
      "       'transmission_manual', 'transmission_other'],\n",
      "      dtype='object')\n"
     ]
    }
   ],
   "source": [
    "print(vehicles_df_encoded.columns)"
   ]
  },
  {
   "cell_type": "markdown",
   "metadata": {},
   "source": [
    "## Data Cleaning Report\n",
    "\n",
    "### Overview\n",
    "This report details the decisions and actions taken to address the data quality issues identified during the Data Understanding phase. The goal of these actions was to prepare the dataset for analysis by ensuring completeness, accuracy, and suitability for modeling.\n",
    "\n",
    "### 1. Handling Missing Values\n",
    "- **Year**: Rows with missing values in the `year` column were dropped. The remaining values were converted to integers. This ensures that the dataset only contains records with complete data for the manufacturing year, which is critical for price prediction.\n",
    "  \n",
    "- **Critical Features**: Rows with missing values in key columns such as `manufacturer`, `model`, `fuel`, `transmission`, `state`, and `title_status` were removed to maintain the integrity of the dataset. These columns are essential for the analysis, and dropping incomplete records ensures consistency.\n",
    "\n",
    "- **Condition and Type**: Missing values in the `condition` and `type` columns were addressed by removing rows with missing data. This decision was based on the importance of these features in predicting the value of a vehicle.\n",
    "\n",
    "- **Odometer**: Missing values in the `odometer` column were filled with the mean value of the column. This approach prevents the loss of valuable records while maintaining a reasonable estimate for missing data.\n",
    "\n",
    "### 2. Handling Outliers in Price\n",
    "- **Price**: The `price` column was filtered to include only values within 2 standard deviations of the mean. This step was taken to eliminate outliers that could skew the results and ensure that the analysis focuses on typical pricing patterns.\n",
    "\n",
    "### 3. Converting Data Types\n",
    "- **Year and Odometer**: The `year` and `odometer` columns were converted to integers to ensure they are appropriately formatted for analysis and modeling.\n",
    "\n",
    "### 4. Dropping Unused Columns\n",
    "- **Unused Columns**: Columns that were deemed unnecessary for the analysis, such as `id`, `region`, `VIN`, `size`, `paint_color`, `drive`, `cylinders`, and `model`, were dropped. This reduction in dimensionality helps streamline the dataset and focuses the analysis on the most relevant features.\n",
    "\n",
    "### 5. Encoding Categorical Variables\n",
    "- **Condition**: The `condition` column was label encoded with an ordinal ranking from `1` (salvage) to `6` (new). This encoding reflects the relative impact of each condition on the vehicle's value, ensuring that the model correctly interprets the significance of condition levels.\n",
    "\n",
    "- **Title Status**: The `title_status` column was label encoded with `2` for \"clean\" and `1` for all other categories. This binary distinction highlights the premium associated with clean titles versus other statuses.\n",
    "\n",
    "- **Binary Encoding**: The `manufacturer`, `type`, and `state` columns were binary encoded. This encoding reduces the dimensionality while preserving the categorical information in a form that is efficient for modeling.\n",
    "\n",
    "- **One-Hot Encoding**: The `fuel` and `transmission` columns were one-hot encoded, which allows the model to consider the presence or absence of each category without implying an ordinal relationship.\n",
    "\n",
    "### 6. Final Cleanup\n",
    "- **Removing Remaining Missing Values**: After all transformations, any remaining rows with missing values were dropped to ensure the dataset is fully complete.\n",
    "\n",
    "### Impact on Analysis\n",
    "- **Completeness**: By addressing missing values and outliers, the dataset is now complete and robust, reducing the likelihood of biased or inaccurate analysis.\n",
    "- **Data Integrity**: Converting data types and dropping irrelevant columns ensures that the dataset is well-structured and focused on the most predictive features.\n",
    "- **Encoding**: The encoding strategies adopted balance the need for efficient computation with the preservation of critical categorical information, enabling more accurate modeling.\n",
    "- **Dimensionality Reduction**: By selectively encoding and dropping columns, the dataset's dimensionality is reduced, making it more manageable and improving model performance."
   ]
  },
  {
   "cell_type": "code",
   "execution_count": null,
   "metadata": {},
   "outputs": [],
   "source": []
  },
  {
   "cell_type": "markdown",
   "metadata": {},
   "source": [
    "### Modeling\n",
    "\n",
    "With your (almost?) final dataset in hand, it is now time to build some models.  Here, you should build a number of different regression models with the price as the target.  In building your models, you should explore different parameters and be sure to cross-validate your findings."
   ]
  },
  {
   "cell_type": "code",
   "execution_count": 60,
   "metadata": {},
   "outputs": [
    {
     "name": "stdout",
     "output_type": "stream",
     "text": [
      "price                  1.000000\n",
      "transmission_other     0.160961\n",
      "year                   0.128604\n",
      "fuel_other             0.074015\n",
      "type_3                 0.053266\n",
      "type_2                 0.030931\n",
      "fuel_electric          0.015782\n",
      "manufacturer_1         0.014908\n",
      "state_5                0.014409\n",
      "title_status           0.013471\n",
      "manufacturer_5         0.009328\n",
      "state_2                0.006813\n",
      "state_4                0.000694\n",
      "state_0               -0.002721\n",
      "manufacturer_3        -0.003222\n",
      "state_1               -0.004373\n",
      "manufacturer_0        -0.004898\n",
      "fuel_hybrid           -0.007844\n",
      "state_3               -0.008682\n",
      "manufacturer_2        -0.019160\n",
      "transmission_manual   -0.030651\n",
      "type_1                -0.036820\n",
      "manufacturer_4        -0.038196\n",
      "condition             -0.038321\n",
      "odometer              -0.070475\n",
      "type_0                -0.072202\n",
      "fuel_gas              -0.092685\n",
      "Name: price, dtype: float64\n"
     ]
    }
   ],
   "source": [
    "# Assuming vehicles_df_encoded is your DataFrame\n",
    "correlation_matrix = vehicles_df_encoded.corr()\n",
    "\n",
    "# Extracting correlation with the target variable 'price'\n",
    "price_corr = correlation_matrix['price'].sort_values(ascending=False)\n",
    "print(price_corr)"
   ]
  },
  {
   "cell_type": "markdown",
   "metadata": {},
   "source": [
    "### Linear Regression with Principal Component Analysis"
   ]
  },
  {
   "cell_type": "code",
   "execution_count": 64,
   "metadata": {},
   "outputs": [
    {
     "name": "stdout",
     "output_type": "stream",
     "text": [
      "   Component  Explained Variance\n",
      "0        PC1            0.094910\n",
      "1        PC2            0.076383\n",
      "2        PC3            0.060088\n",
      "3        PC4            0.057853\n",
      "4        PC5            0.051335\n",
      "5        PC6            0.048834\n",
      "6        PC7            0.046538\n",
      "7        PC8            0.046256\n",
      "8        PC9            0.044727\n",
      "9       PC10            0.040745\n",
      "10      PC11            0.040120\n",
      "11      PC12            0.037764\n",
      "12      PC13            0.037056\n",
      "13      PC14            0.036352\n",
      "14      PC15            0.036053\n",
      "15      PC16            0.035196\n",
      "16      PC17            0.031070\n",
      "17      PC18            0.030023\n",
      "18      PC19            0.028010\n",
      "19      PC20            0.026056\n",
      "20      PC21            0.023959\n",
      "21      PC22            0.020698\n",
      "22      PC23            0.019841\n",
      "23      PC24            0.015768\n",
      "24      PC25            0.009296\n",
      "25      PC26            0.005068\n"
     ]
    }
   ],
   "source": [
    "from sklearn.decomposition import PCA\n",
    "from sklearn.preprocessing import StandardScaler\n",
    "\n",
    "X = vehicles_df_encoded.drop('price', axis=1)\n",
    "\n",
    "# Standardize the features\n",
    "scaler = StandardScaler()\n",
    "X_scaled = scaler.fit_transform(X)\n",
    "\n",
    "# Perform PCA\n",
    "pca = PCA(n_components=X.shape[1])\n",
    "pca.fit(X_scaled)\n",
    "\n",
    "# Create a DataFrame with component names and explained variance\n",
    "pca_results = pd.DataFrame({\n",
    "    'Component': [f'PC{i+1}' for i in range(X.shape[1])],\n",
    "    'Explained Variance': pca.explained_variance_ratio_\n",
    "})\n",
    "\n",
    "print(pca_results)"
   ]
  },
  {
   "cell_type": "code",
   "execution_count": 66,
   "metadata": {},
   "outputs": [
    {
     "data": {
      "image/png": "[encoded data removed]",
      "text/plain": [
       "<Figure size 1000x600 with 1 Axes>"
      ]
     },
     "metadata": {},
     "output_type": "display_data"
    }
   ],
   "source": [
    "import matplotlib.pyplot as plt\n",
    "\n",
    "explained_variance = pca.explained_variance_ratio_\n",
    "\n",
    "# Plotting the scree plot\n",
    "plt.figure(figsize=(10, 6))\n",
    "plt.plot(range(1, len(explained_variance) + 1), explained_variance, marker='o', linestyle='--')\n",
    "plt.title('Scree Plot')\n",
    "plt.xlabel('Principal Component')\n",
    "plt.ylabel('Explained Variance Ratio')\n",
    "plt.xticks(range(1, len(explained_variance) + 1))\n",
    "plt.grid()\n",
    "plt.show()"
   ]
  },
  {
   "cell_type": "code",
   "execution_count": 70,
   "metadata": {},
   "outputs": [
    {
     "name": "stdout",
     "output_type": "stream",
     "text": [
      "R^2 score on test set: 0.38227439714304456\n"
     ]
    }
   ],
   "source": [
    "from sklearn.linear_model import LinearRegression\n",
    "from sklearn.model_selection import train_test_split\n",
    "\n",
    "# Assuming vehicles_df_encoded is your DataFrame and 'price' is the target variable\n",
    "X = vehicles_df_encoded.drop('price', axis=1)\n",
    "y = vehicles_df_encoded['price']\n",
    "\n",
    "# Standardize the features\n",
    "scaler = StandardScaler()\n",
    "X_scaled = scaler.fit_transform(X)\n",
    "\n",
    "# Apply PCA\n",
    "pca = PCA(n_components=26)\n",
    "X_pca = pca.fit_transform(X_scaled)\n",
    "\n",
    "# Train-test split\n",
    "X_train, X_test, y_train, y_test = train_test_split(X_pca, y, test_size=0.2, random_state=42)\n",
    "\n",
    "# Linear regression on principal components\n",
    "model = LinearRegression()\n",
    "model.fit(X_train, y_train)\n",
    "\n",
    "# Model performance\n",
    "score = model.score(X_test, y_test)\n",
    "print(f'R^2 score on test set: {score}')"
   ]
  },
  {
   "cell_type": "markdown",
   "metadata": {},
   "source": [
    "### Lasso Regression"
   ]
  },
  {
   "cell_type": "code",
   "execution_count": 74,
   "metadata": {},
   "outputs": [
    {
     "name": "stdout",
     "output_type": "stream",
     "text": [
      "R^2 score on test set: 0.38284243579735655\n",
      "price                  2948.258094\n",
      "year                     96.553195\n",
      "manufacturer_0          537.341747\n",
      "manufacturer_1         -482.356375\n",
      "manufacturer_2         -843.246509\n",
      "manufacturer_3        -1419.136899\n",
      "manufacturer_4         -110.498038\n",
      "manufacturer_5        -1285.643477\n",
      "odometer              -3123.219138\n",
      "type_0                -2436.469585\n",
      "type_1                 -184.617997\n",
      "type_2                  499.966774\n",
      "type_3                 -224.304354\n",
      "state_1                  26.846218\n",
      "state_2                 -55.567639\n",
      "state_3                 -28.812639\n",
      "state_4                 237.591556\n",
      "state_5                1067.996830\n",
      "condition              -313.551449\n",
      "title_status           -464.472419\n",
      "fuel_electric         -4378.535470\n",
      "fuel_gas              -1480.937865\n",
      "fuel_hybrid           -3071.730719\n",
      "fuel_other              446.921853\n",
      "transmission_manual    5117.942272\n",
      "dtype: float64\n"
     ]
    }
   ],
   "source": [
    "from sklearn.linear_model import LassoCV\n",
    "\n",
    "# Assuming vehicles_df_encoded is your DataFrame and 'price' is the target variable\n",
    "X = vehicles_df_encoded.drop('price', axis=1)\n",
    "y = vehicles_df_encoded['price']\n",
    "\n",
    "# Standardize the features\n",
    "scaler = StandardScaler()\n",
    "X_scaled = scaler.fit_transform(X)\n",
    "\n",
    "# Train-test split\n",
    "X_train, X_test, y_train, y_test = train_test_split(X_scaled, y, test_size=0.2, random_state=42)\n",
    "\n",
    "# Lasso Regression with cross-validation to find the best alpha\n",
    "lasso = LassoCV(cv=5, random_state=42)\n",
    "lasso.fit(X_train, y_train)\n",
    "\n",
    "# Model performance\n",
    "r_squared = lasso.score(X_test, y_test)\n",
    "print(f'R^2 score on test set: {r_squared}')\n",
    "\n",
    "# Coefficients of the model\n",
    "lasso_coefficients = pd.Series(lasso.coef_, index=vehicles_df_encoded.columns[:-1])\n",
    "print(lasso_coefficients[lasso_coefficients != 0])  # Only print non-zero coefficients\n"
   ]
  },
  {
   "cell_type": "markdown",
   "metadata": {},
   "source": [
    "### Evaluation\n",
    "\n",
    "With some modeling accomplished, we aim to reflect on what we identify as a high quality model and what we are able to learn from this.  We should review our business objective and explore how well we can provide meaningful insight on drivers of used car prices.  Your goal now is to distill your findings and determine whether the earlier phases need revisitation and adjustment or if you have information of value to bring back to your client."
   ]
  },
  {
   "cell_type": "code",
   "execution_count": null,
   "metadata": {},
   "outputs": [],
   "source": []
  },
  {
   "cell_type": "code",
   "execution_count": null,
   "metadata": {},
   "outputs": [],
   "source": []
  },
  {
   "cell_type": "code",
   "execution_count": null,
   "metadata": {},
   "outputs": [],
   "source": []
  },
  {
   "cell_type": "code",
   "execution_count": null,
   "metadata": {},
   "outputs": [],
   "source": []
  },
  {
   "cell_type": "code",
   "execution_count": null,
   "metadata": {},
   "outputs": [],
   "source": []
  },
  {
   "cell_type": "code",
   "execution_count": null,
   "metadata": {},
   "outputs": [],
   "source": []
  },
  {
   "cell_type": "markdown",
   "metadata": {},
   "source": [
    "### Deployment\n",
    "\n",
    "Now that we've settled on our models and findings, it is time to deliver the information to the client.  You should organize your work as a basic report that details your primary findings.  Keep in mind that your audience is a group of used car dealers interested in fine tuning their inventory."
   ]
  },
  {
   "cell_type": "code",
   "execution_count": null,
   "metadata": {},
   "outputs": [],
   "source": []
  },
  {
   "cell_type": "code",
   "execution_count": null,
   "metadata": {},
   "outputs": [],
   "source": []
  },
  {
   "cell_type": "code",
   "execution_count": null,
   "metadata": {},
   "outputs": [],
   "source": []
  },
  {
   "cell_type": "code",
   "execution_count": null,
   "metadata": {},
   "outputs": [],
   "source": []
  },
  {
   "cell_type": "code",
   "execution_count": null,
   "metadata": {},
   "outputs": [],
   "source": []
  },
  {
   "cell_type": "code",
   "execution_count": null,
   "metadata": {},
   "outputs": [],
   "source": []
  },
  {
   "cell_type": "code",
   "execution_count": null,
   "metadata": {},
   "outputs": [],
   "source": []
  }
 ],
 "metadata": {
  "kernelspec": {
   "display_name": "Python 3 (ipykernel)",
   "language": "python",
   "name": "python3"
  },
  "language_info": {
   "codemirror_mode": {
    "name": "ipython",
    "version": 3
   },
   "file_extension": ".py",
   "mimetype": "text/x-python",
   "name": "python",
   "nbconvert_exporter": "python",
   "pygments_lexer": "ipython3",
   "version": "3.11.7"
  },
  "widgets": {
   "application/vnd.jupyter.widget-state+json": {
    "state": {},
    "version_major": 2,
    "version_minor": 0
   }
  }
 },
 "nbformat": 4,
 "nbformat_minor": 4
}
