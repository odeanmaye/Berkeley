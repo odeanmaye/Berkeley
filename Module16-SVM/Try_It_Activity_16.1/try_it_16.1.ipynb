{
 "cells": [
  {
   "cell_type": "markdown",
   "metadata": {},
   "source": [
    "### Comparing Models\n",
    "\n",
    "Now that you have seen a variety of models for regression and classification problems, it is good to step back and weigh the pros and cons of these options.  In the case of classification models, there are at least three things to consider:\n",
    "\n",
    "1. Is the model good at handling imbalanced classes?\n",
    "2. Does the model train quickly?\n",
    "3. Does the model yield interpretable results?\n",
    "\n",
    "Depending on your dataset and goals, the importance of these considerations will vary from project to project.  Your goal is to review our models to this point and discuss the pros and cons of each.  Two example datasets are offered as a way to offer two very different tasks where interpretability of the model may be of differing importance."
   ]
  },
  {
   "cell_type": "markdown",
   "metadata": {},
   "source": [
    "### Data and Task\n",
    "\n",
    "Your goal is to discuss the pros and cons of Logistic Regression, Decision Trees, KNN, and SVM for the tasks below.  Consider at least the three questions above and list any additional considerations you believe are important to determining the \"best\" model for the task.  Share your response with your peers on the class discussion board.  \n",
    "\n",
    "**TASK 1**: Predicting Customer Churn\n",
    "\n",
    "Suppose you are tasked with producing a model to predict customer churn.  Which of your classification models would you use and what are the pros and cons of this model for this task?  Be sure to consider interpretability, imbalnced classes, and the speed of training.\n",
    "\n"
   ]
  },
  {
   "cell_type": "code",
   "execution_count": 51,
   "metadata": {},
   "outputs": [],
   "source": [
    "import pandas as pd\n",
    "import matplotlib.pyplot as plt\n",
    "import numpy as np"
   ]
  },
  {
   "cell_type": "code",
   "execution_count": 53,
   "metadata": {},
   "outputs": [],
   "source": [
    "from sklearn.datasets import load_digits"
   ]
  },
  {
   "cell_type": "markdown",
   "metadata": {},
   "source": [
    "The data is loaded below.  Note that the handwritten digit data is already split into features and target (`digits`, `labels`). "
   ]
  },
  {
   "cell_type": "code",
   "execution_count": 56,
   "metadata": {},
   "outputs": [],
   "source": [
    "churn = pd.read_csv('data/telecom_churn.csv')\n",
    "digits, labels = load_digits(return_X_y=True)"
   ]
  },
  {
   "cell_type": "code",
   "execution_count": 58,
   "metadata": {},
   "outputs": [
    {
     "data": {
      "text/html": [
       "<div>\n",
       "<style scoped>\n",
       "    .dataframe tbody tr th:only-of-type {\n",
       "        vertical-align: middle;\n",
       "    }\n",
       "\n",
       "    .dataframe tbody tr th {\n",
       "        vertical-align: top;\n",
       "    }\n",
       "\n",
       "    .dataframe thead th {\n",
       "        text-align: right;\n",
       "    }\n",
       "</style>\n",
       "<table border=\"1\" class=\"dataframe\">\n",
       "  <thead>\n",
       "    <tr style=\"text-align: right;\">\n",
       "      <th></th>\n",
       "      <th>State</th>\n",
       "      <th>Account length</th>\n",
       "      <th>Area code</th>\n",
       "      <th>International plan</th>\n",
       "      <th>Voice mail plan</th>\n",
       "      <th>Number vmail messages</th>\n",
       "      <th>Total day minutes</th>\n",
       "      <th>Total day calls</th>\n",
       "      <th>Total day charge</th>\n",
       "      <th>Total eve minutes</th>\n",
       "      <th>Total eve calls</th>\n",
       "      <th>Total eve charge</th>\n",
       "      <th>Total night minutes</th>\n",
       "      <th>Total night calls</th>\n",
       "      <th>Total night charge</th>\n",
       "      <th>Total intl minutes</th>\n",
       "      <th>Total intl calls</th>\n",
       "      <th>Total intl charge</th>\n",
       "      <th>Customer service calls</th>\n",
       "      <th>Churn</th>\n",
       "    </tr>\n",
       "  </thead>\n",
       "  <tbody>\n",
       "    <tr>\n",
       "      <th>0</th>\n",
       "      <td>KS</td>\n",
       "      <td>128</td>\n",
       "      <td>415</td>\n",
       "      <td>No</td>\n",
       "      <td>Yes</td>\n",
       "      <td>25</td>\n",
       "      <td>265.1</td>\n",
       "      <td>110</td>\n",
       "      <td>45.07</td>\n",
       "      <td>197.4</td>\n",
       "      <td>99</td>\n",
       "      <td>16.78</td>\n",
       "      <td>244.7</td>\n",
       "      <td>91</td>\n",
       "      <td>11.01</td>\n",
       "      <td>10.0</td>\n",
       "      <td>3</td>\n",
       "      <td>2.70</td>\n",
       "      <td>1</td>\n",
       "      <td>False</td>\n",
       "    </tr>\n",
       "    <tr>\n",
       "      <th>1</th>\n",
       "      <td>OH</td>\n",
       "      <td>107</td>\n",
       "      <td>415</td>\n",
       "      <td>No</td>\n",
       "      <td>Yes</td>\n",
       "      <td>26</td>\n",
       "      <td>161.6</td>\n",
       "      <td>123</td>\n",
       "      <td>27.47</td>\n",
       "      <td>195.5</td>\n",
       "      <td>103</td>\n",
       "      <td>16.62</td>\n",
       "      <td>254.4</td>\n",
       "      <td>103</td>\n",
       "      <td>11.45</td>\n",
       "      <td>13.7</td>\n",
       "      <td>3</td>\n",
       "      <td>3.70</td>\n",
       "      <td>1</td>\n",
       "      <td>False</td>\n",
       "    </tr>\n",
       "    <tr>\n",
       "      <th>2</th>\n",
       "      <td>NJ</td>\n",
       "      <td>137</td>\n",
       "      <td>415</td>\n",
       "      <td>No</td>\n",
       "      <td>No</td>\n",
       "      <td>0</td>\n",
       "      <td>243.4</td>\n",
       "      <td>114</td>\n",
       "      <td>41.38</td>\n",
       "      <td>121.2</td>\n",
       "      <td>110</td>\n",
       "      <td>10.30</td>\n",
       "      <td>162.6</td>\n",
       "      <td>104</td>\n",
       "      <td>7.32</td>\n",
       "      <td>12.2</td>\n",
       "      <td>5</td>\n",
       "      <td>3.29</td>\n",
       "      <td>0</td>\n",
       "      <td>False</td>\n",
       "    </tr>\n",
       "    <tr>\n",
       "      <th>3</th>\n",
       "      <td>OH</td>\n",
       "      <td>84</td>\n",
       "      <td>408</td>\n",
       "      <td>Yes</td>\n",
       "      <td>No</td>\n",
       "      <td>0</td>\n",
       "      <td>299.4</td>\n",
       "      <td>71</td>\n",
       "      <td>50.90</td>\n",
       "      <td>61.9</td>\n",
       "      <td>88</td>\n",
       "      <td>5.26</td>\n",
       "      <td>196.9</td>\n",
       "      <td>89</td>\n",
       "      <td>8.86</td>\n",
       "      <td>6.6</td>\n",
       "      <td>7</td>\n",
       "      <td>1.78</td>\n",
       "      <td>2</td>\n",
       "      <td>False</td>\n",
       "    </tr>\n",
       "    <tr>\n",
       "      <th>4</th>\n",
       "      <td>OK</td>\n",
       "      <td>75</td>\n",
       "      <td>415</td>\n",
       "      <td>Yes</td>\n",
       "      <td>No</td>\n",
       "      <td>0</td>\n",
       "      <td>166.7</td>\n",
       "      <td>113</td>\n",
       "      <td>28.34</td>\n",
       "      <td>148.3</td>\n",
       "      <td>122</td>\n",
       "      <td>12.61</td>\n",
       "      <td>186.9</td>\n",
       "      <td>121</td>\n",
       "      <td>8.41</td>\n",
       "      <td>10.1</td>\n",
       "      <td>3</td>\n",
       "      <td>2.73</td>\n",
       "      <td>3</td>\n",
       "      <td>False</td>\n",
       "    </tr>\n",
       "  </tbody>\n",
       "</table>\n",
       "</div>"
      ],
      "text/plain": [
       "  State  Account length  Area code International plan Voice mail plan  \\\n",
       "0    KS             128        415                 No             Yes   \n",
       "1    OH             107        415                 No             Yes   \n",
       "2    NJ             137        415                 No              No   \n",
       "3    OH              84        408                Yes              No   \n",
       "4    OK              75        415                Yes              No   \n",
       "\n",
       "   Number vmail messages  Total day minutes  Total day calls  \\\n",
       "0                     25              265.1              110   \n",
       "1                     26              161.6              123   \n",
       "2                      0              243.4              114   \n",
       "3                      0              299.4               71   \n",
       "4                      0              166.7              113   \n",
       "\n",
       "   Total day charge  Total eve minutes  Total eve calls  Total eve charge  \\\n",
       "0             45.07              197.4               99             16.78   \n",
       "1             27.47              195.5              103             16.62   \n",
       "2             41.38              121.2              110             10.30   \n",
       "3             50.90               61.9               88              5.26   \n",
       "4             28.34              148.3              122             12.61   \n",
       "\n",
       "   Total night minutes  Total night calls  Total night charge  \\\n",
       "0                244.7                 91               11.01   \n",
       "1                254.4                103               11.45   \n",
       "2                162.6                104                7.32   \n",
       "3                196.9                 89                8.86   \n",
       "4                186.9                121                8.41   \n",
       "\n",
       "   Total intl minutes  Total intl calls  Total intl charge  \\\n",
       "0                10.0                 3               2.70   \n",
       "1                13.7                 3               3.70   \n",
       "2                12.2                 5               3.29   \n",
       "3                 6.6                 7               1.78   \n",
       "4                10.1                 3               2.73   \n",
       "\n",
       "   Customer service calls  Churn  \n",
       "0                       1  False  \n",
       "1                       1  False  \n",
       "2                       0  False  \n",
       "3                       2  False  \n",
       "4                       3  False  "
      ]
     },
     "execution_count": 58,
     "metadata": {},
     "output_type": "execute_result"
    }
   ],
   "source": [
    "#churn data\n",
    "churn.head()"
   ]
  },
  {
   "cell_type": "code",
   "execution_count": 71,
   "metadata": {},
   "outputs": [],
   "source": [
    "from sklearn.model_selection import train_test_split\n",
    "from sklearn.preprocessing import StandardScaler\n",
    "from sklearn.model_selection import GridSearchCV, RandomizedSearchCV\n",
    "from sklearn.linear_model import LogisticRegression\n",
    "from sklearn.tree import DecisionTreeClassifier\n",
    "from sklearn.svm import SVC\n",
    "from sklearn.neighbors import KNeighborsClassifier\n",
    "from sklearn.metrics import accuracy_score"
   ]
  },
  {
   "cell_type": "code",
   "execution_count": 62,
   "metadata": {},
   "outputs": [
    {
     "name": "stdout",
     "output_type": "stream",
     "text": [
      "   Account length  Total day charge  Total eve charge  Total night charge  \\\n",
      "0             128             45.07             16.78               11.01   \n",
      "\n",
      "   Total intl charge  Customer service calls  \n",
      "0                2.7                       1  \n"
     ]
    }
   ],
   "source": [
    "# Encode the 'Churn' column to binary values (True/False to 1/0)\n",
    "churn['Churn'] = churn['Churn'].astype(int)\n",
    "\n",
    "# Drop non-numerical columns\n",
    "churn_data_numeric = churn.select_dtypes(include=['float64', 'int64'])\n",
    "\n",
    "# Drop rows with missing (NaN) values\n",
    "churn_data_clean = churn_data_numeric.dropna()\n",
    "\n",
    "# Separate features (X) and target (y)\n",
    "X = churn_data_clean[['Account length', 'Total day charge', 'Total eve charge', 'Total night charge', 'Total intl charge', 'Customer service calls']]\n",
    "y = churn_data_clean['Churn']\n",
    "\n",
    "# Apply StandardScaler\n",
    "scaler = StandardScaler()\n",
    "X_scaled = scaler.fit_transform(X)\n",
    "\n",
    "# Create train-test split\n",
    "X_train, X_test, y_train, y_test = train_test_split(X_scaled, y, test_size=0.2, random_state=42)\n",
    "\n",
    "# Check the shapes of the train and test sets\n",
    "X_train.shape, X_test.shape, y_train.shape, y_test.shape\n",
    "\n",
    "print(X.head(1))"
   ]
  },
  {
   "cell_type": "markdown",
   "metadata": {},
   "source": [
    "### Logistic Regression"
   ]
  },
  {
   "cell_type": "code",
   "execution_count": 67,
   "metadata": {},
   "outputs": [
    {
     "name": "stdout",
     "output_type": "stream",
     "text": [
      "Best parameters (Logistic Regression): {'C': 0.01, 'penalty': 'l2', 'solver': 'saga'}\n",
      "Train Score (best estimator): 0.8563390847711928\n",
      "Test Score (best estimator): 0.8515742128935532\n",
      "Average Fit Time (best estimator): 0.004921245574951172\n"
     ]
    }
   ],
   "source": [
    "# Define the Logistic Regression model\n",
    "log_reg = LogisticRegression(max_iter=2000)\n",
    "\n",
    "# Hyperparameters to tune\n",
    "param_grid = [\n",
    "    {'solver': ['liblinear', 'saga'], 'penalty': ['l1', 'l2'], 'C': [0.01, 0.1, 1, 10, 100]},\n",
    "    {'solver': ['lbfgs'], 'penalty': ['l2'], 'C': [0.01, 0.1, 1, 10, 100]}\n",
    "]\n",
    "\n",
    "# Set up GridSearchCV\n",
    "grid_search_log_reg = GridSearchCV(log_reg, param_grid, cv=5, scoring='accuracy', n_jobs=-1, return_train_score=True)\n",
    "\n",
    "# Fit the model\n",
    "grid_search_log_reg.fit(X_train, y_train)\n",
    "\n",
    "# Get the best estimator\n",
    "best_log_reg = grid_search_log_reg.best_estimator_\n",
    "\n",
    "# Train and test scores using the best estimator\n",
    "train_score_log_reg = best_log_reg.score(X_train, y_train)\n",
    "test_score_log_reg = best_log_reg.score(X_test, y_test)\n",
    "\n",
    "# Extract the average fit time\n",
    "average_fit_time_log_reg = grid_search_log_reg.cv_results_['mean_fit_time'][grid_search_log_reg.best_index_]\n",
    "\n",
    "# Display the results\n",
    "print(f\"Best parameters (Logistic Regression): {grid_search_log_reg.best_params_}\")\n",
    "print(f\"Train Score (best estimator): {train_score_log_reg}\")\n",
    "print(f\"Test Score (best estimator): {test_score_log_reg}\")\n",
    "print(f\"Average Fit Time (best estimator): {average_fit_time_log_reg}\")"
   ]
  },
  {
   "cell_type": "markdown",
   "metadata": {},
   "source": [
    "### K Nearest Neighbors"
   ]
  },
  {
   "cell_type": "code",
   "execution_count": 69,
   "metadata": {},
   "outputs": [
    {
     "name": "stdout",
     "output_type": "stream",
     "text": [
      "Best parameters (KNN): {'metric': 'euclidean', 'n_neighbors': 5, 'weights': 'uniform'}\n",
      "Train Score (best estimator): 0.9103525881470368\n",
      "Test Score (best estimator): 0.8905547226386806\n",
      "Average Fit Time (best estimator): 0.0016957759857177735\n"
     ]
    }
   ],
   "source": [
    "# Define the KNeighborsClassifier model\n",
    "knn = KNeighborsClassifier()\n",
    "\n",
    "# Hyperparameters to tune\n",
    "param_grid = {\n",
    "    'n_neighbors': [3, 5, 7, 9, 11],\n",
    "    'weights': ['uniform', 'distance'],\n",
    "    'metric': ['euclidean', 'manhattan', 'minkowski']\n",
    "}\n",
    "\n",
    "# Set up GridSearchCV\n",
    "grid_search_knn = GridSearchCV(knn, param_grid, cv=5, scoring='accuracy', n_jobs=-1, return_train_score=True)\n",
    "\n",
    "# Fit the model\n",
    "grid_search_knn.fit(X_train, y_train)\n",
    "\n",
    "# Get the best estimator\n",
    "best_knn = grid_search_knn.best_estimator_\n",
    "\n",
    "# Train and test scores using the best estimator\n",
    "train_score_knn = best_knn.score(X_train, y_train)\n",
    "test_score_knn = best_knn.score(X_test, y_test)\n",
    "\n",
    "# Extract the average fit time\n",
    "average_fit_time_knn = grid_search_knn.cv_results_['mean_fit_time'][grid_search_knn.best_index_]\n",
    "\n",
    "# Display the results\n",
    "print(f\"Best parameters (KNN): {grid_search_knn.best_params_}\")\n",
    "print(f\"Train Score (best estimator): {train_score_knn}\")\n",
    "print(f\"Test Score (best estimator): {test_score_knn}\")\n",
    "print(f\"Average Fit Time (best estimator): {average_fit_time_knn}\")"
   ]
  },
  {
   "cell_type": "markdown",
   "metadata": {},
   "source": [
    "### Support Vector Machine"
   ]
  },
  {
   "cell_type": "code",
   "execution_count": 75,
   "metadata": {},
   "outputs": [
    {
     "name": "stdout",
     "output_type": "stream",
     "text": [
      "Best parameters (SVC): {'kernel': 'rbf', 'gamma': 'auto', 'degree': 2, 'C': 10}\n",
      "Train Score (best estimator): 0.9294823705926482\n",
      "Test Score (best estimator): 0.8995502248875562\n",
      "Average Fit Time (best estimator): 0.1330268383026123\n"
     ]
    }
   ],
   "source": [
    "# Define the SVC model\n",
    "svc = SVC()\n",
    "\n",
    "# Hyperparameters to tune\n",
    "param_grid = {\n",
    "    'C': [0.1, 1, 10, 100],\n",
    "    'kernel': ['linear', 'rbf', 'poly'],\n",
    "    'gamma': ['scale', 'auto'],\n",
    "    'degree': [2]  # Only relevant for the 'poly' kernel\n",
    "}\n",
    "\n",
    "# Set up GridSearchCV\n",
    "random_search_svc = RandomizedSearchCV(svc, param_grid, n_iter=10, cv=5, scoring='accuracy', n_jobs=-1, return_train_score=True)\n",
    "\n",
    "# Fit the model\n",
    "random_search_svc.fit(X_train, y_train)\n",
    "\n",
    "# Get the best estimator\n",
    "best_svc = random_search_svc.best_estimator_\n",
    "\n",
    "# Train and test scores using the best estimator\n",
    "train_score_svc = best_svc.score(X_train, y_train)\n",
    "test_score_svc = best_svc.score(X_test, y_test)\n",
    "\n",
    "# Extract the average fit time\n",
    "average_fit_time_svc = random_search_svc.cv_results_['mean_fit_time'][random_search_svc.best_index_]\n",
    "\n",
    "# Display the results\n",
    "print(f\"Best parameters (SVC): {random_search_svc.best_params_}\")\n",
    "print(f\"Train Score (best estimator): {train_score_svc}\")\n",
    "print(f\"Test Score (best estimator): {test_score_svc}\")\n",
    "print(f\"Average Fit Time (best estimator): {average_fit_time_svc}\")"
   ]
  },
  {
   "cell_type": "markdown",
   "metadata": {},
   "source": [
    "### Decision Tree"
   ]
  },
  {
   "cell_type": "code",
   "execution_count": 79,
   "metadata": {},
   "outputs": [
    {
     "name": "stdout",
     "output_type": "stream",
     "text": [
      "Best parameters (Decision Tree): {'criterion': 'entropy', 'max_depth': 10, 'max_features': 'log2', 'min_samples_leaf': 4, 'min_samples_split': 2}\n",
      "Train Score (best estimator): 0.9309827456864216\n",
      "Test Score (best estimator): 0.8725637181409296\n",
      "Average Fit Time (best estimator): 0.005399656295776367\n"
     ]
    }
   ],
   "source": [
    "# Define the Decision Tree Classifier model\n",
    "decision_tree = DecisionTreeClassifier()\n",
    "\n",
    "# Hyperparameters to tune\n",
    "param_grid = {\n",
    "    'criterion': ['gini', 'entropy'],\n",
    "    'max_depth': [None, 10, 20, 30],\n",
    "    'min_samples_split': [2, 5, 10],\n",
    "    'min_samples_leaf': [1, 2, 4],\n",
    "    'max_features': [None, 'sqrt', 'log2']\n",
    "}\n",
    "\n",
    "# Set up GridSearchCV\n",
    "grid_search_dt = GridSearchCV(decision_tree, param_grid, cv=5, scoring='accuracy', n_jobs=-1, return_train_score=True)\n",
    "\n",
    "# Fit the model\n",
    "grid_search_dt.fit(X_train, y_train)\n",
    "\n",
    "# Get the best estimator\n",
    "best_dt = grid_search_dt.best_estimator_\n",
    "\n",
    "# Train and test scores using the best estimator\n",
    "train_score_dt = best_dt.score(X_train, y_train)\n",
    "test_score_dt = best_dt.score(X_test, y_test)\n",
    "\n",
    "# Extract the average fit time\n",
    "average_fit_time_dt = grid_search_dt.cv_results_['mean_fit_time'][grid_search_dt.best_index_]\n",
    "\n",
    "# Display the results\n",
    "print(f\"Best parameters (Decision Tree): {grid_search_dt.best_params_}\")\n",
    "print(f\"Train Score (best estimator): {train_score_dt}\")\n",
    "print(f\"Test Score (best estimator): {test_score_dt}\")\n",
    "print(f\"Average Fit Time (best estimator): {average_fit_time_dt}\")"
   ]
  },
  {
   "cell_type": "markdown",
   "metadata": {},
   "source": [
    "### Results"
   ]
  },
  {
   "cell_type": "code",
   "execution_count": 81,
   "metadata": {},
   "outputs": [
    {
     "name": "stderr",
     "output_type": "stream",
     "text": [
      "/var/folders/7d/4cmb6lbj0pjgcc7xjnw7_mhr0000gn/T/ipykernel_46163/600520657.py:3: FutureWarning: The behavior of DataFrame concatenation with empty or all-NA entries is deprecated. In a future version, this will no longer exclude empty or all-NA columns when determining the result dtypes. To retain the old behavior, exclude the relevant entries before the concat operation.\n",
      "  results_df = pd.concat([results_df, pd.DataFrame([{\n"
     ]
    },
    {
     "data": {
      "text/html": [
       "<div>\n",
       "<style scoped>\n",
       "    .dataframe tbody tr th:only-of-type {\n",
       "        vertical-align: middle;\n",
       "    }\n",
       "\n",
       "    .dataframe tbody tr th {\n",
       "        vertical-align: top;\n",
       "    }\n",
       "\n",
       "    .dataframe thead th {\n",
       "        text-align: right;\n",
       "    }\n",
       "</style>\n",
       "<table border=\"1\" class=\"dataframe\">\n",
       "  <thead>\n",
       "    <tr style=\"text-align: right;\">\n",
       "      <th></th>\n",
       "      <th>model</th>\n",
       "      <th>train score</th>\n",
       "      <th>test score</th>\n",
       "      <th>average fit time</th>\n",
       "    </tr>\n",
       "  </thead>\n",
       "  <tbody>\n",
       "    <tr>\n",
       "      <th>0</th>\n",
       "      <td>KNN</td>\n",
       "      <td>0.910353</td>\n",
       "      <td>0.890555</td>\n",
       "      <td>0.001696</td>\n",
       "    </tr>\n",
       "    <tr>\n",
       "      <th>1</th>\n",
       "      <td>Logistic Regression</td>\n",
       "      <td>0.856339</td>\n",
       "      <td>0.851574</td>\n",
       "      <td>0.004921</td>\n",
       "    </tr>\n",
       "    <tr>\n",
       "      <th>2</th>\n",
       "      <td>SVC</td>\n",
       "      <td>0.929482</td>\n",
       "      <td>0.899550</td>\n",
       "      <td>0.133027</td>\n",
       "    </tr>\n",
       "    <tr>\n",
       "      <th>3</th>\n",
       "      <td>Decision Tree</td>\n",
       "      <td>0.930983</td>\n",
       "      <td>0.872564</td>\n",
       "      <td>0.005400</td>\n",
       "    </tr>\n",
       "  </tbody>\n",
       "</table>\n",
       "</div>"
      ],
      "text/plain": [
       "                 model  train score  test score  average fit time\n",
       "0                  KNN     0.910353    0.890555          0.001696\n",
       "1  Logistic Regression     0.856339    0.851574          0.004921\n",
       "2                  SVC     0.929482    0.899550          0.133027\n",
       "3        Decision Tree     0.930983    0.872564          0.005400"
      ]
     },
     "execution_count": 81,
     "metadata": {},
     "output_type": "execute_result"
    }
   ],
   "source": [
    "results_df = pd.DataFrame(columns=['model', 'train score', 'test score', 'average fit time'])\n",
    "\n",
    "results_df = pd.concat([results_df, pd.DataFrame([{\n",
    "    'model': 'KNN',\n",
    "    'train score': train_score_knn,\n",
    "    'test score': test_score_knn,\n",
    "    'average fit time': average_fit_time_knn\n",
    "}])], ignore_index=True)\n",
    "\n",
    "results_df = pd.concat([results_df, pd.DataFrame([{\n",
    "    'model': 'Logistic Regression',\n",
    "    'train score': train_score_log_reg,\n",
    "    'test score': test_score_log_reg,\n",
    "    'average fit time': average_fit_time_log_reg\n",
    "}])], ignore_index=True)\n",
    "\n",
    "results_df = pd.concat([results_df, pd.DataFrame([{\n",
    "    'model': 'SVC',\n",
    "    'train score': train_score_svc,\n",
    "    'test score': test_score_svc,\n",
    "    'average fit time': average_fit_time_svc\n",
    "}])], ignore_index=True)\n",
    "\n",
    "results_df = pd.concat([results_df, pd.DataFrame([{\n",
    "    'model': 'Decision Tree',\n",
    "    'train score': train_score_dt,\n",
    "    'test score': test_score_dt,\n",
    "    'average fit time': average_fit_time_dt\n",
    "}])], ignore_index=True)\n",
    "\n",
    "results_df"
   ]
  },
  {
   "cell_type": "code",
   "execution_count": 83,
   "metadata": {},
   "outputs": [
    {
     "data": {
      "image/png": "[encoded data removed]",
      "text/plain": [
       "<Figure size 1000x600 with 1 Axes>"
      ]
     },
     "metadata": {},
     "output_type": "display_data"
    }
   ],
   "source": [
    "models = results_df['model']\n",
    "train_scores = results_df['train score']\n",
    "test_scores = results_df['test score']\n",
    "fit_times = results_df['average fit time']\n",
    "\n",
    "# Set up the bar positions for the models\n",
    "bar_width = 0.2\n",
    "indices = np.arange(len(models))\n",
    "\n",
    "# Create the figure and axis for the plot\n",
    "plt.figure(figsize=(10, 6))\n",
    "\n",
    "# Plot each of the bars\n",
    "plt.bar(indices - bar_width, train_scores, width=bar_width, label='Train Score', color='b')\n",
    "plt.bar(indices, test_scores, width=bar_width, label='Test Score', color='g')\n",
    "plt.bar(indices + bar_width, fit_times, width=bar_width, label='Average Fit Time', color='r')\n",
    "\n",
    "# Add labels and title\n",
    "plt.xlabel('Model')\n",
    "plt.ylabel('Scores / Fit Time')\n",
    "plt.title('Model Comparison: Train Score, Test Score, and Fit Time')\n",
    "plt.xticks(indices, models)  # Set the model names as the x-ticks\n",
    "plt.legend()\n",
    "\n",
    "# Display the plot\n",
    "plt.tight_layout()\n",
    "plt.show()"
   ]
  },
  {
   "cell_type": "markdown",
   "metadata": {},
   "source": [
    "**TASK 2**: Recognizing Handwritten Digits\n",
    "\n",
    "Suppose you are tasked with training a model to recognize handwritten digits.  Which of your classifier would you use here and why?  Again, be sure to consider the balance of classes, speed of training, and importance of interpretability.\n",
    "\n"
   ]
  },
  {
   "cell_type": "code",
   "execution_count": 7,
   "metadata": {},
   "outputs": [
    {
     "data": {
      "image/png": "[encoded data removed]",
      "text/plain": [
       "<Figure size 432x288 with 1 Axes>"
      ]
     },
     "metadata": {
      "needs_background": "light"
     },
     "output_type": "display_data"
    }
   ],
   "source": [
    "#example image\n",
    "plt.imshow(digits[0].reshape(8, 8))\n",
    "plt.title('This is a handwritten 0.');"
   ]
  }
 ],
 "metadata": {
  "kernelspec": {
   "display_name": "Python 3 (ipykernel)",
   "language": "python",
   "name": "python3"
  },
  "language_info": {
   "codemirror_mode": {
    "name": "ipython",
    "version": 3
   },
   "file_extension": ".py",
   "mimetype": "text/x-python",
   "name": "python",
   "nbconvert_exporter": "python",
   "pygments_lexer": "ipython3",
   "version": "3.11.7"
  }
 },
 "nbformat": 4,
 "nbformat_minor": 4
}
