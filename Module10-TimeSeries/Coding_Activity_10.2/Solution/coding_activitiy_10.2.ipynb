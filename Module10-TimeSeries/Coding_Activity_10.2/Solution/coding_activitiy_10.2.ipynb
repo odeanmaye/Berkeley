{
 "cells": [
  {
   "cell_type": "markdown",
   "metadata": {
    "nbgrader": {
     "grade": false,
     "grade_id": "cell-30c839b02d0cf02c",
     "locked": true,
     "schema_version": 3,
     "solution": false
    }
   },
   "source": [
    "### Codio Activity 10.2: Computing Autocorrelation\n",
    "\n",
    "\n",
    "**Expected Time: 45 Minutes**\n",
    "\n",
    "**Total Points: 50**\n",
    "\n",
    "\n",
    "This activity focuses on computing the autocorrelation of a time series dataset.  You will use `statsmodels` to compute autocorrelation and determine whether or not the series is stationary.  Finally, you are to difference the data and see if the resulting series is itself stationary.  "
   ]
  },
  {
   "cell_type": "markdown",
   "metadata": {
    "nbgrader": {
     "grade": false,
     "grade_id": "cell-cc45967e7a1b14f7",
     "locked": true,
     "schema_version": 3,
     "solution": false
    }
   },
   "source": [
    "#### Index\n",
    "\n",
    "- [Problem 1](#Problem-1)\n",
    "- [Problem 2](#Problem-2)\n",
    "- [Problem 3](#Problem-3)\n",
    "- [Problem 4](#Problem-4)\n",
    "- [Problem 5](#Problem-5)"
   ]
  },
  {
   "cell_type": "code",
   "execution_count": 2,
   "metadata": {},
   "outputs": [],
   "source": [
    "import numpy as np\n",
    "import pandas as pd\n",
    "from statsmodels.tsa import arima_process\n",
    "import matplotlib.pyplot as plt\n",
    "import warnings\n",
    "\n",
    "from statsmodels.datasets import nile\n",
    "from statsmodels.graphics.tsaplots import plot_acf\n",
    "from statsmodels.tsa.stattools import acf\n",
    "warnings.filterwarnings(\"ignore\")"
   ]
  },
  {
   "cell_type": "markdown",
   "metadata": {
    "nbgrader": {
     "grade": false,
     "grade_id": "cell-edd9e70aa6aba1a7",
     "locked": true,
     "schema_version": 3,
     "solution": false
    }
   },
   "source": [
    "[Back to top](#Index)\n",
    "\n",
    "### Problem 1\n",
    "\n",
    "**10 Points**\n",
    "\n",
    "#### Creating a dataset with `ArmaProcess`\n",
    "\n",
    "Following video 10.3, create an `arima_process` using the arguments:\n",
    "\n",
    "- `ar = [.9, -0.3]`\n",
    "- `ma = [2]`\n",
    "\n",
    "Assign this as an `ArmaProcess` object to `process` below."
   ]
  },
  {
   "cell_type": "code",
   "execution_count": 5,
   "metadata": {
    "nbgrader": {
     "grade": false,
     "grade_id": "cell-fa92853c66f9552c",
     "locked": false,
     "schema_version": 3,
     "solution": true
    }
   },
   "outputs": [
    {
     "name": "stdout",
     "output_type": "stream",
     "text": [
      "ArmaProcess\n",
      "AR: [0.9, -0.3]\n",
      "MA: [2.0]\n"
     ]
    }
   ],
   "source": [
    "### GRADED\n",
    "\n",
    "process = ''\n",
    "\n",
    "### BEGIN SOLUTION\n",
    "process = arima_process.ArmaProcess(ar = [.9, -.3], ma = [2])\n",
    "### END SOLUTION\n",
    "\n",
    "# Answer check\n",
    "print(process)"
   ]
  },
  {
   "cell_type": "code",
   "execution_count": 7,
   "metadata": {
    "nbgrader": {
     "grade": true,
     "grade_id": "cell-c6bcac9ebdb73f88",
     "locked": true,
     "points": 10,
     "schema_version": 3,
     "solution": false
    }
   },
   "outputs": [],
   "source": [
    "### BEGIN HIDDEN TESTS\n",
    "process_ = arima_process.ArmaProcess(ar = [.9, -.3], ma = [2])\n",
    "ar_ = process_.ar\n",
    "ar = process.ar\n",
    "ma_ = process_.ma\n",
    "ma = process.ma\n",
    "#\n",
    "#\n",
    "#\n",
    "np.testing.assert_array_equal(ar, ar_)\n",
    "np.testing.assert_array_equal(ma, ma_)\n",
    "assert type(process) == type(process_)\n",
    "### END HIDDEN TESTS"
   ]
  },
  {
   "cell_type": "markdown",
   "metadata": {
    "nbgrader": {
     "grade": false,
     "grade_id": "cell-2e8226572023c1ea",
     "locked": true,
     "schema_version": 3,
     "solution": false
    }
   },
   "source": [
    "[Back to top](#-Index)\n",
    "\n",
    "### Problem 2\n",
    "\n",
    "**10 Points**\n",
    "\n",
    "#### Generating a sample\n",
    "\n",
    "<center>\n",
    "    <img src = images/arma1.png/>\n",
    "</center>\n",
    "\n",
    "\n",
    "Next, you are to generate a sample of size 100 from the arima_process created in [Problem 1](#Problem-1).  To assure consistent results, make sure to leave the `np.random.seed(32)`.  This assures the same sample will be generated time after time."
   ]
  },
  {
   "cell_type": "code",
   "execution_count": 10,
   "metadata": {
    "nbgrader": {
     "grade": false,
     "grade_id": "cell-a7261e16e406947e",
     "locked": false,
     "schema_version": 3,
     "solution": true
    }
   },
   "outputs": [
    {
     "name": "stdout",
     "output_type": "stream",
     "text": [
      "[-0.775321    1.9275673   1.93346206  0.800675    1.99474206]\n"
     ]
    }
   ],
   "source": [
    "### GRADED\n",
    "\n",
    "np.random.seed(32)#dont\n",
    "\n",
    "### BEGIN SOLUTION\n",
    "np.random.seed(32)\n",
    "sample = process.generate_sample(100)\n",
    "### END SOLUTION\n",
    "\n",
    "### Answer check\n",
    "print(sample[:5])"
   ]
  },
  {
   "cell_type": "code",
   "execution_count": 12,
   "metadata": {},
   "outputs": [],
   "source": [
    "## Uncomment to plot the sample\n",
    "# plt.plot(sample, '--o')\n",
    "# plt.title('Arma Process Sample Data')\n",
    "# plt.grid();"
   ]
  },
  {
   "cell_type": "code",
   "execution_count": 14,
   "metadata": {
    "nbgrader": {
     "grade": true,
     "grade_id": "cell-bac6fa4b7401b173",
     "locked": true,
     "points": 10,
     "schema_version": 3,
     "solution": false
    }
   },
   "outputs": [],
   "source": [
    "### BEGIN HIDDEN TESTS\n",
    "process_ = arima_process.ArmaProcess(ar = [.9, -.3], ma = [2])\n",
    "np.random.seed(32)\n",
    "sample_ = process_.generate_sample(100)\n",
    "#\n",
    "#\n",
    "#\n",
    "np.testing.assert_array_equal(sample, sample_)\n",
    "### END HIDDEN TESTS"
   ]
  },
  {
   "cell_type": "markdown",
   "metadata": {
    "nbgrader": {
     "grade": false,
     "grade_id": "cell-19d02382d5df1a4a",
     "locked": true,
     "schema_version": 3,
     "solution": false
    }
   },
   "source": [
    "[Back to top](#Index)\n",
    "\n",
    "### Problem 3\n",
    "\n",
    "**10 Points**\n",
    "\n",
    "\n",
    "#### Computing the autocorrelation\n",
    "\n",
    "Use the `sample` created above together with the `acf` function from statsmodels to compute the autocorrelation values for the sample.  Assign these values to `auto_corr` as an array below.  **Note**: Set `fft = True` in the acf function to avoid a warning.\n",
    "\n",
    "<center>\n",
    "    <img src = 'images/arma2.png'/>\n",
    "</center>"
   ]
  },
  {
   "cell_type": "code",
   "execution_count": 17,
   "metadata": {
    "nbgrader": {
     "grade": false,
     "grade_id": "cell-23ea6e5500183aba",
     "locked": false,
     "schema_version": 3,
     "solution": true
    }
   },
   "outputs": [
    {
     "name": "stdout",
     "output_type": "stream",
     "text": [
      "[ 1.          0.4551546   0.09938926 -0.05894484 -0.05016599]\n",
      "<class 'numpy.ndarray'>\n"
     ]
    }
   ],
   "source": [
    "### GRADED\n",
    "\n",
    "auto_corr = ''\n",
    "\n",
    "### BEGIN SOLUTION\n",
    "auto_corr = acf(sample, fft = True)\n",
    "### END SOLUTION\n",
    "\n",
    "# Answer check\n",
    "print(auto_corr[:5])\n",
    "print(type(auto_corr))"
   ]
  },
  {
   "cell_type": "code",
   "execution_count": 19,
   "metadata": {
    "nbgrader": {
     "grade": true,
     "grade_id": "cell-d3e1eb37b59004d3",
     "locked": true,
     "points": 10,
     "schema_version": 3,
     "solution": false
    }
   },
   "outputs": [],
   "source": [
    "### BEGIN HIDDEN TESTS\n",
    "process_ = arima_process.ArmaProcess(ar = [.9, -.3], ma = [2])\n",
    "np.random.seed(32)\n",
    "sample_ = process_.generate_sample(100)\n",
    "auto_corr_ = acf(sample, fft = True)\n",
    "#\n",
    "#\n",
    "#\n",
    "np.testing.assert_array_equal(auto_corr, auto_corr_)\n",
    "### END HIDDEN TESTS"
   ]
  },
  {
   "cell_type": "markdown",
   "metadata": {
    "nbgrader": {
     "grade": false,
     "grade_id": "cell-242d1ec0422733d5",
     "locked": true,
     "schema_version": 3,
     "solution": false
    }
   },
   "source": [
    "[Back to top](#Index)\n",
    "\n",
    "### Problem 4\n",
    "\n",
    "**10 Points**\n",
    "\n",
    "#### Using `acf` to compute autocorrelation\n",
    "\n",
    "Below, a dataset relating the volume of flow in the Nile river from statsmodels is loaded  and visualized.  Use the `acf` function from statsmodels to compute the autocorrelation values of the `volume` feature. Assign your results as an array to `nile_acf` below.  \n",
    "\n",
    "Visualizing the autocorrelation data using the `plot_acf` function from statsmodels generates:\n",
    "\n",
    "<center>\n",
    "    <img src = 'images/ar4.png' />\n",
    "</center>\n",
    "\n",
    "Does this suggest the data is stationary?  Why or why not?"
   ]
  },
  {
   "cell_type": "code",
   "execution_count": 22,
   "metadata": {},
   "outputs": [
    {
     "data": {
      "text/html": [
       "<div>\n",
       "<style scoped>\n",
       "    .dataframe tbody tr th:only-of-type {\n",
       "        vertical-align: middle;\n",
       "    }\n",
       "\n",
       "    .dataframe tbody tr th {\n",
       "        vertical-align: top;\n",
       "    }\n",
       "\n",
       "    .dataframe thead th {\n",
       "        text-align: right;\n",
       "    }\n",
       "</style>\n",
       "<table border=\"1\" class=\"dataframe\">\n",
       "  <thead>\n",
       "    <tr style=\"text-align: right;\">\n",
       "      <th></th>\n",
       "      <th>year</th>\n",
       "      <th>volume</th>\n",
       "    </tr>\n",
       "  </thead>\n",
       "  <tbody>\n",
       "    <tr>\n",
       "      <th>0</th>\n",
       "      <td>1871.0</td>\n",
       "      <td>1120.0</td>\n",
       "    </tr>\n",
       "    <tr>\n",
       "      <th>1</th>\n",
       "      <td>1872.0</td>\n",
       "      <td>1160.0</td>\n",
       "    </tr>\n",
       "    <tr>\n",
       "      <th>2</th>\n",
       "      <td>1873.0</td>\n",
       "      <td>963.0</td>\n",
       "    </tr>\n",
       "    <tr>\n",
       "      <th>3</th>\n",
       "      <td>1874.0</td>\n",
       "      <td>1210.0</td>\n",
       "    </tr>\n",
       "    <tr>\n",
       "      <th>4</th>\n",
       "      <td>1875.0</td>\n",
       "      <td>1160.0</td>\n",
       "    </tr>\n",
       "  </tbody>\n",
       "</table>\n",
       "</div>"
      ],
      "text/plain": [
       "     year  volume\n",
       "0  1871.0  1120.0\n",
       "1  1872.0  1160.0\n",
       "2  1873.0   963.0\n",
       "3  1874.0  1210.0\n",
       "4  1875.0  1160.0"
      ]
     },
     "execution_count": 22,
     "metadata": {},
     "output_type": "execute_result"
    }
   ],
   "source": [
    "nile_df = nile.load_pandas().data\n",
    "nile_df.head()"
   ]
  },
  {
   "cell_type": "code",
   "execution_count": 24,
   "metadata": {},
   "outputs": [
    {
     "data": {
      "image/png": "[encoded data removed]",
      "text/plain": [
       "<Figure size 640x480 with 1 Axes>"
      ]
     },
     "metadata": {},
     "output_type": "display_data"
    }
   ],
   "source": [
    "plt.plot(nile_df['year'], nile_df['volume'], '--o')\n",
    "plt.title('Nile River flows at Ashwan 1871 - 1970.')\n",
    "plt.grid();"
   ]
  },
  {
   "cell_type": "code",
   "execution_count": 26,
   "metadata": {
    "nbgrader": {
     "grade": false,
     "grade_id": "cell-ce5e2b8f88cc2aea",
     "locked": false,
     "schema_version": 3,
     "solution": true
    }
   },
   "outputs": [
    {
     "name": "stdout",
     "output_type": "stream",
     "text": [
      "[1.         0.49840818 0.3845769  0.32786044 0.23919117]\n"
     ]
    }
   ],
   "source": [
    "### GRADED\n",
    "\n",
    "nile_acf = ''\n",
    "\n",
    "### BEGIN SOLUTION\n",
    "nile_acf = acf(nile_df['volume'], fft = True)\n",
    "### END SOLUTION\n",
    "\n",
    "# Answer check\n",
    "print(nile_acf[:5])"
   ]
  },
  {
   "cell_type": "code",
   "execution_count": 28,
   "metadata": {
    "nbgrader": {
     "grade": true,
     "grade_id": "cell-6a5e7a1739282dc6",
     "locked": true,
     "points": 10,
     "schema_version": 3,
     "solution": false
    }
   },
   "outputs": [],
   "source": [
    "### BEGIN HIDDEN TESTS\n",
    "nile_acf_ = acf(nile_df['volume'], fft = True)\n",
    "#\n",
    "#\n",
    "#\n",
    "np.testing.assert_array_equal(nile_acf, nile_acf_)\n",
    "### END HIDDEN TESTS"
   ]
  },
  {
   "cell_type": "markdown",
   "metadata": {
    "nbgrader": {
     "grade": false,
     "grade_id": "cell-9afa34b9ddb46b71",
     "locked": true,
     "schema_version": 3,
     "solution": false
    }
   },
   "source": [
    "[Back to top](#Index)\n",
    "\n",
    "### Problem 5\n",
    "\n",
    "**10 Points**\n",
    "\n",
    "#### Tesla and stationarity\n",
    "\n",
    "Below, stock data from Tesla corporation are loaded from the beginning of the year 2020.  The Adjusted Closing price is plotted below.  You are to use the autocorrelation plots to determine which version of the data is stationary.  Assign one of the following strings to `ans5` below:\n",
    "\n",
    "- `original`: the original adjusted closing price is stationary\n",
    "- `first_diff`: the first difference of the adjusted closing price is stationary\n",
    "- `neither`: neither the original time series or its first difference are stationary\n",
    "\n"
   ]
  },
  {
   "cell_type": "code",
   "execution_count": 31,
   "metadata": {},
   "outputs": [
    {
     "data": {
      "text/html": [
       "<div>\n",
       "<style scoped>\n",
       "    .dataframe tbody tr th:only-of-type {\n",
       "        vertical-align: middle;\n",
       "    }\n",
       "\n",
       "    .dataframe tbody tr th {\n",
       "        vertical-align: top;\n",
       "    }\n",
       "\n",
       "    .dataframe thead th {\n",
       "        text-align: right;\n",
       "    }\n",
       "</style>\n",
       "<table border=\"1\" class=\"dataframe\">\n",
       "  <thead>\n",
       "    <tr style=\"text-align: right;\">\n",
       "      <th></th>\n",
       "      <th>High</th>\n",
       "      <th>Low</th>\n",
       "      <th>Open</th>\n",
       "      <th>Close</th>\n",
       "      <th>Volume</th>\n",
       "      <th>Adj Close</th>\n",
       "    </tr>\n",
       "    <tr>\n",
       "      <th>Date</th>\n",
       "      <th></th>\n",
       "      <th></th>\n",
       "      <th></th>\n",
       "      <th></th>\n",
       "      <th></th>\n",
       "      <th></th>\n",
       "    </tr>\n",
       "  </thead>\n",
       "  <tbody>\n",
       "    <tr>\n",
       "      <th>2020-01-02</th>\n",
       "      <td>86.139999</td>\n",
       "      <td>84.342003</td>\n",
       "      <td>84.900002</td>\n",
       "      <td>86.052002</td>\n",
       "      <td>47660500.0</td>\n",
       "      <td>86.052002</td>\n",
       "    </tr>\n",
       "    <tr>\n",
       "      <th>2020-01-03</th>\n",
       "      <td>90.800003</td>\n",
       "      <td>87.384003</td>\n",
       "      <td>88.099998</td>\n",
       "      <td>88.601997</td>\n",
       "      <td>88892500.0</td>\n",
       "      <td>88.601997</td>\n",
       "    </tr>\n",
       "    <tr>\n",
       "      <th>2020-01-06</th>\n",
       "      <td>90.311996</td>\n",
       "      <td>88.000000</td>\n",
       "      <td>88.094002</td>\n",
       "      <td>90.307999</td>\n",
       "      <td>50665000.0</td>\n",
       "      <td>90.307999</td>\n",
       "    </tr>\n",
       "    <tr>\n",
       "      <th>2020-01-07</th>\n",
       "      <td>94.325996</td>\n",
       "      <td>90.671997</td>\n",
       "      <td>92.279999</td>\n",
       "      <td>93.811996</td>\n",
       "      <td>89410500.0</td>\n",
       "      <td>93.811996</td>\n",
       "    </tr>\n",
       "    <tr>\n",
       "      <th>2020-01-08</th>\n",
       "      <td>99.697998</td>\n",
       "      <td>93.646004</td>\n",
       "      <td>94.739998</td>\n",
       "      <td>98.428001</td>\n",
       "      <td>155721500.0</td>\n",
       "      <td>98.428001</td>\n",
       "    </tr>\n",
       "  </tbody>\n",
       "</table>\n",
       "</div>"
      ],
      "text/plain": [
       "                 High        Low       Open      Close       Volume  Adj Close\n",
       "Date                                                                          \n",
       "2020-01-02  86.139999  84.342003  84.900002  86.052002   47660500.0  86.052002\n",
       "2020-01-03  90.800003  87.384003  88.099998  88.601997   88892500.0  88.601997\n",
       "2020-01-06  90.311996  88.000000  88.094002  90.307999   50665000.0  90.307999\n",
       "2020-01-07  94.325996  90.671997  92.279999  93.811996   89410500.0  93.811996\n",
       "2020-01-08  99.697998  93.646004  94.739998  98.428001  155721500.0  98.428001"
      ]
     },
     "execution_count": 31,
     "metadata": {},
     "output_type": "execute_result"
    }
   ],
   "source": [
    "tsla = pd.read_csv('data/tsla.csv', index_col='Date')\n",
    "tsla.head()"
   ]
  },
  {
   "cell_type": "code",
   "execution_count": null,
   "metadata": {},
   "outputs": [],
   "source": [
    "plt.plot(tsla['Adj Close'])\n",
    "plt.grid()\n",
    "#plt.xticks(rotation = 40)\n",
    "plt.title('TSLA Adjusted Closing Price 2020 - 2021');"
   ]
  },
  {
   "cell_type": "code",
   "execution_count": 15,
   "metadata": {
    "nbgrader": {
     "grade": false,
     "grade_id": "cell-3c7db1cc7cd35ae3",
     "locked": false,
     "schema_version": 3,
     "solution": true
    }
   },
   "outputs": [
    {
     "name": "stdout",
     "output_type": "stream",
     "text": [
      "first_diff\n"
     ]
    }
   ],
   "source": [
    "### GRADED\n",
    "\n",
    "ans5 = ''\n",
    "\n",
    "### BEGIN SOLUTION\n",
    "ans5 = 'first_diff'\n",
    "### END SOLUTION\n",
    "\n",
    "# Answer check\n",
    "print(ans5)"
   ]
  },
  {
   "cell_type": "code",
   "execution_count": 16,
   "metadata": {
    "nbgrader": {
     "grade": true,
     "grade_id": "cell-a485781ebd3fd732",
     "locked": true,
     "points": 10,
     "schema_version": 3,
     "solution": false
    }
   },
   "outputs": [],
   "source": [
    "### BEGIN HIDDEN TESTS\n",
    "ans5_ = 'first_diff'\n",
    "#\n",
    "#\n",
    "#\n",
    "assert ans5 == ans5_, 'Make sure to examine patterns in acf plot.'\n",
    "### END HIDDEN TESTS"
   ]
  }
 ],
 "metadata": {
  "celltoolbar": "Create Assignment",
  "kernelspec": {
   "display_name": "Python 3 (ipykernel)",
   "language": "python",
   "name": "python3"
  },
  "language_info": {
   "codemirror_mode": {
    "name": "ipython",
    "version": 3
   },
   "file_extension": ".py",
   "mimetype": "text/x-python",
   "name": "python",
   "nbconvert_exporter": "python",
   "pygments_lexer": "ipython3",
   "version": "3.11.7"
  },
  "widgets": {
   "application/vnd.jupyter.widget-state+json": {
    "state": {},
    "version_major": 2,
    "version_minor": 0
   }
  }
 },
 "nbformat": 4,
 "nbformat_minor": 4
}
