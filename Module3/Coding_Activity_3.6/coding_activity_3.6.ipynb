{
 "cells": [
  {
   "cell_type": "markdown",
   "metadata": {
    "deletable": false,
    "editable": false,
    "nbgrader": {
     "checksum": "e4d7d93ebca5c7daac7603395c6b00e8",
     "grade": false,
     "grade_id": "cell-88d15a0ee1b2cab8",
     "locked": true,
     "schema_version": 1,
     "solution": false
    }
   },
   "source": [
    "### Codio Activity 3.6: Indexing\n",
    "\n",
    "**Expected Time**: 60 Minutes\n",
    "\n",
    "**Total Points**: 10\n",
    "\n",
    "This activity works through a similar example to the video, again using the `gapminder` dataset.  The goal is to compute what fraction of the worlds GDP did each country generate each year. \n",
    "\n",
    "#### Index:\n",
    "\n",
    "- [Problem 1](#Problem-1:-Total-GDP-by-year)\n",
    "- [Problem 2](#Problem-2:-Resetting-the-Index)\n",
    "- [Problem 3](#Problem-3:-Computing-Share-of-GDP)\n",
    "- [Problem 4](#Problem-4:-Resetting-the-Index-Again)\n",
    "- [Problem 5](#Problem-5:-Plotting-the-results)"
   ]
  },
  {
   "cell_type": "code",
   "execution_count": 26,
   "metadata": {},
   "outputs": [],
   "source": [
    "import plotly.express as px\n",
    "import pandas as pd\n",
    "import numpy as np\n",
    "import seaborn as sns\n",
    "import matplotlib.pyplot as plt"
   ]
  },
  {
   "cell_type": "code",
   "execution_count": 28,
   "metadata": {},
   "outputs": [],
   "source": [
    "gapminder = px.data.gapminder()"
   ]
  },
  {
   "cell_type": "code",
   "execution_count": 30,
   "metadata": {},
   "outputs": [
    {
     "data": {
      "text/html": [
       "<div>\n",
       "<style scoped>\n",
       "    .dataframe tbody tr th:only-of-type {\n",
       "        vertical-align: middle;\n",
       "    }\n",
       "\n",
       "    .dataframe tbody tr th {\n",
       "        vertical-align: top;\n",
       "    }\n",
       "\n",
       "    .dataframe thead th {\n",
       "        text-align: right;\n",
       "    }\n",
       "</style>\n",
       "<table border=\"1\" class=\"dataframe\">\n",
       "  <thead>\n",
       "    <tr style=\"text-align: right;\">\n",
       "      <th></th>\n",
       "      <th>country</th>\n",
       "      <th>continent</th>\n",
       "      <th>year</th>\n",
       "      <th>lifeExp</th>\n",
       "      <th>pop</th>\n",
       "      <th>gdpPercap</th>\n",
       "      <th>iso_alpha</th>\n",
       "      <th>iso_num</th>\n",
       "    </tr>\n",
       "  </thead>\n",
       "  <tbody>\n",
       "    <tr>\n",
       "      <th>0</th>\n",
       "      <td>Afghanistan</td>\n",
       "      <td>Asia</td>\n",
       "      <td>1952</td>\n",
       "      <td>28.801</td>\n",
       "      <td>8425333</td>\n",
       "      <td>779.445314</td>\n",
       "      <td>AFG</td>\n",
       "      <td>4</td>\n",
       "    </tr>\n",
       "    <tr>\n",
       "      <th>1</th>\n",
       "      <td>Afghanistan</td>\n",
       "      <td>Asia</td>\n",
       "      <td>1957</td>\n",
       "      <td>30.332</td>\n",
       "      <td>9240934</td>\n",
       "      <td>820.853030</td>\n",
       "      <td>AFG</td>\n",
       "      <td>4</td>\n",
       "    </tr>\n",
       "    <tr>\n",
       "      <th>2</th>\n",
       "      <td>Afghanistan</td>\n",
       "      <td>Asia</td>\n",
       "      <td>1962</td>\n",
       "      <td>31.997</td>\n",
       "      <td>10267083</td>\n",
       "      <td>853.100710</td>\n",
       "      <td>AFG</td>\n",
       "      <td>4</td>\n",
       "    </tr>\n",
       "    <tr>\n",
       "      <th>3</th>\n",
       "      <td>Afghanistan</td>\n",
       "      <td>Asia</td>\n",
       "      <td>1967</td>\n",
       "      <td>34.020</td>\n",
       "      <td>11537966</td>\n",
       "      <td>836.197138</td>\n",
       "      <td>AFG</td>\n",
       "      <td>4</td>\n",
       "    </tr>\n",
       "    <tr>\n",
       "      <th>4</th>\n",
       "      <td>Afghanistan</td>\n",
       "      <td>Asia</td>\n",
       "      <td>1972</td>\n",
       "      <td>36.088</td>\n",
       "      <td>13079460</td>\n",
       "      <td>739.981106</td>\n",
       "      <td>AFG</td>\n",
       "      <td>4</td>\n",
       "    </tr>\n",
       "  </tbody>\n",
       "</table>\n",
       "</div>"
      ],
      "text/plain": [
       "       country continent  year  lifeExp       pop   gdpPercap iso_alpha  \\\n",
       "0  Afghanistan      Asia  1952   28.801   8425333  779.445314       AFG   \n",
       "1  Afghanistan      Asia  1957   30.332   9240934  820.853030       AFG   \n",
       "2  Afghanistan      Asia  1962   31.997  10267083  853.100710       AFG   \n",
       "3  Afghanistan      Asia  1967   34.020  11537966  836.197138       AFG   \n",
       "4  Afghanistan      Asia  1972   36.088  13079460  739.981106       AFG   \n",
       "\n",
       "   iso_num  \n",
       "0        4  \n",
       "1        4  \n",
       "2        4  \n",
       "3        4  \n",
       "4        4  "
      ]
     },
     "execution_count": 30,
     "metadata": {},
     "output_type": "execute_result"
    }
   ],
   "source": [
    "gapminder.head()"
   ]
  },
  {
   "cell_type": "code",
   "execution_count": 32,
   "metadata": {},
   "outputs": [
    {
     "name": "stdout",
     "output_type": "stream",
     "text": [
      "<class 'pandas.core.frame.DataFrame'>\n",
      "RangeIndex: 1704 entries, 0 to 1703\n",
      "Data columns (total 8 columns):\n",
      " #   Column     Non-Null Count  Dtype  \n",
      "---  ------     --------------  -----  \n",
      " 0   country    1704 non-null   object \n",
      " 1   continent  1704 non-null   object \n",
      " 2   year       1704 non-null   int64  \n",
      " 3   lifeExp    1704 non-null   float64\n",
      " 4   pop        1704 non-null   int64  \n",
      " 5   gdpPercap  1704 non-null   float64\n",
      " 6   iso_alpha  1704 non-null   object \n",
      " 7   iso_num    1704 non-null   int64  \n",
      "dtypes: float64(2), int64(3), object(3)\n",
      "memory usage: 106.6+ KB\n"
     ]
    }
   ],
   "source": [
    "gapminder.info()"
   ]
  },
  {
   "cell_type": "markdown",
   "metadata": {
    "deletable": false,
    "editable": false,
    "nbgrader": {
     "checksum": "3ffa56cebc3e966c034a8a7288e52e53",
     "grade": false,
     "grade_id": "cell-c11189ea7797fd87",
     "locked": true,
     "schema_version": 1,
     "solution": false
    }
   },
   "source": [
    "[Back to top](#Index:) \n",
    "\n",
    "\n",
    "### Problem 1: Total GDP per Capita by year\n",
    "\n",
    "**2 Points**\n",
    "\n",
    "Use the `groupby` operation on the `gapminder` DataFrame to group the `year` column. Next, use the `sum()` function to compute the total GDP per Capita (`gdpPercap`) for each year.  Assign your results as a DataFrame to `ans1` below."
   ]
  },
  {
   "cell_type": "code",
   "execution_count": 35,
   "metadata": {
    "deletable": false,
    "nbgrader": {
     "checksum": "f02c811d36f2b16dead2f9366a01b9a4",
     "grade": false,
     "grade_id": "cell-cc969d61ad0314b6",
     "locked": false,
     "schema_version": 1,
     "solution": true
    }
   },
   "outputs": [
    {
     "name": "stdout",
     "output_type": "stream",
     "text": [
      "         gdpPercap\n",
      "year              \n",
      "1952  5.289892e+05\n",
      "1957  6.105160e+05\n",
      "1962  6.710654e+05\n",
      "1967  7.786787e+05\n",
      "1972  9.613518e+05\n",
      "1977  1.038470e+06\n",
      "1982  1.067684e+06\n",
      "1987  1.121931e+06\n",
      "1992  1.158522e+06\n",
      "1997  1.290805e+06\n",
      "2002  1.408334e+06\n",
      "2007  1.658570e+06\n",
      "<class 'pandas.core.frame.DataFrame'>\n"
     ]
    }
   ],
   "source": [
    "### GRADED\n",
    "\n",
    "ans1 = None\n",
    "\n",
    "# YOUR CODE HERE\n",
    "ans1 = gapminder.groupby('year')[['gdpPercap']].sum()\n",
    "\n",
    "# Answer check\n",
    "print(ans1)\n",
    "print(type(ans1))"
   ]
  },
  {
   "cell_type": "code",
   "execution_count": null,
   "metadata": {
    "deletable": false,
    "editable": false,
    "nbgrader": {
     "checksum": "8d0118adb0d3c568a94f8f04d2be08fc",
     "grade": true,
     "grade_id": "cell-d6ecf40d4ee71bff",
     "locked": true,
     "points": 2,
     "schema_version": 1,
     "solution": false
    }
   },
   "outputs": [],
   "source": []
  },
  {
   "cell_type": "markdown",
   "metadata": {},
   "source": [
    "[Back to top](#Index:) \n",
    "\n",
    "\n",
    "### Problem 2: Resetting the Index\n",
    "\n",
    "**2 Points**\n",
    "\n",
    "\n",
    "Use the `set_index()` function with argument equal to `['year', 'country']` on the `gapminder` DataFrame to compute the share of GDP. Assign the resulting DataFrame to `ans2` below."
   ]
  },
  {
   "cell_type": "code",
   "execution_count": 39,
   "metadata": {
    "deletable": false,
    "nbgrader": {
     "checksum": "197a59f996d1cbbd01582c0a03211fa5",
     "grade": false,
     "grade_id": "cell-6cafd965e50e4f03",
     "locked": false,
     "schema_version": 1,
     "solution": true
    }
   },
   "outputs": [
    {
     "name": "stdout",
     "output_type": "stream",
     "text": [
      "                 continent  lifeExp       pop   gdpPercap iso_alpha  iso_num\n",
      "year country                                                                \n",
      "1952 Afghanistan      Asia   28.801   8425333  779.445314       AFG        4\n",
      "1957 Afghanistan      Asia   30.332   9240934  820.853030       AFG        4\n",
      "1962 Afghanistan      Asia   31.997  10267083  853.100710       AFG        4\n",
      "1967 Afghanistan      Asia   34.020  11537966  836.197138       AFG        4\n",
      "1972 Afghanistan      Asia   36.088  13079460  739.981106       AFG        4\n",
      "<class 'pandas.core.frame.DataFrame'>\n"
     ]
    }
   ],
   "source": [
    "### GRADED\n",
    "\n",
    "ans2 = None\n",
    "\n",
    "# YOUR CODE HERE\n",
    "ans2 = gapminder.set_index(['year', 'country'])\n",
    "\n",
    "# Answer check\n",
    "print(ans2.head())\n",
    "print(type(ans2))"
   ]
  },
  {
   "cell_type": "code",
   "execution_count": null,
   "metadata": {
    "deletable": false,
    "editable": false,
    "nbgrader": {
     "checksum": "93063a7608555f69427f3e9d4fe5880c",
     "grade": true,
     "grade_id": "cell-54e2bcbf720bcfb4",
     "locked": true,
     "points": 2,
     "schema_version": 1,
     "solution": false
    }
   },
   "outputs": [],
   "source": []
  },
  {
   "cell_type": "markdown",
   "metadata": {
    "deletable": false,
    "editable": false,
    "nbgrader": {
     "checksum": "f111595d6987431da6e31549b9787cb5",
     "grade": false,
     "grade_id": "cell-0cefd6fb035fb290",
     "locked": true,
     "schema_version": 1,
     "solution": false
    }
   },
   "source": [
    "[Back to top](#Index:) \n",
    "\n",
    "\n",
    "### Problem 3: Computing Share of GDP\n",
    "\n",
    "**2 Points**\n",
    "\n",
    "Use your solutions from Problems 1 and 2 to determine each country's share of the world GDP by year. To achieve this, extract the `gdpPercap` column from the `b` DataFrame. Then, use the function `div` to divide each `gdpPercap` by the corresponding sum of `gdpPercap` for that year from the `a` DataFrame.Finally, use the \n",
    "`reset_index` function with aurgument `name` equal to `gdpPercap` to resets the index of the resulting series to turn it back into a DataFrame. \n",
    "\n",
    "\n",
    "Assign the resulting DataFrame to `ans3` below. \n",
    "\n",
    "Hint: The resulting DataFrame `ans3` should have the following structure:\n",
    "\n",
    "Columns:\n",
    "\n",
    "- year: The year of the data.\n",
    "- country: The name of the country.\n",
    "- gdpPercap: The share of the world GDP for the corresponding country and year."
   ]
  },
  {
   "cell_type": "code",
   "execution_count": 43,
   "metadata": {
    "deletable": false,
    "nbgrader": {
     "checksum": "7e1e360a38dc7148d590d47da0e9c6cc",
     "grade": false,
     "grade_id": "cell-42a3ebf40b65528f",
     "locked": false,
     "schema_version": 1,
     "solution": true
    }
   },
   "outputs": [
    {
     "name": "stdout",
     "output_type": "stream",
     "text": [
      "   year      country  gdpPercap\n",
      "0  1952  Afghanistan   0.001473\n",
      "1  1957  Afghanistan   0.001345\n",
      "2  1962  Afghanistan   0.001271\n",
      "3  1967  Afghanistan   0.001074\n",
      "4  1972  Afghanistan   0.000770\n",
      "(1704, 3) (1704, 8)\n"
     ]
    }
   ],
   "source": [
    "### GRADED\n",
    "\n",
    "ans3 = None\n",
    "\n",
    "# YOUR CODE HERE\n",
    "adf = ans1\n",
    "bdf = ans2\n",
    "\n",
    "ans3 = bdf['gdpPercap'].div(adf['gdpPercap'], level='year').reset_index(name='gdpPercap')\n",
    "\n",
    "# Answer check\n",
    "print(ans3.head())\n",
    "print(ans3.shape, gapminder.shape)"
   ]
  },
  {
   "cell_type": "code",
   "execution_count": null,
   "metadata": {
    "deletable": false,
    "editable": false,
    "nbgrader": {
     "checksum": "db59e8dd3e54d6caacbf32ce55d4bbc5",
     "grade": true,
     "grade_id": "cell-b36655df8ac71318",
     "locked": true,
     "points": 2,
     "schema_version": 1,
     "solution": false
    }
   },
   "outputs": [],
   "source": []
  },
  {
   "cell_type": "markdown",
   "metadata": {
    "deletable": false,
    "editable": false,
    "nbgrader": {
     "checksum": "023ff2bd6a48728e6825b1b550f292a8",
     "grade": false,
     "grade_id": "cell-11b731d172ccb259",
     "locked": true,
     "schema_version": 1,
     "solution": false
    }
   },
   "source": [
    "[Back to top](#Index:) \n",
    "\n",
    "\n",
    "### Problem 4: Resetting the Index Again\n",
    "\n",
    "**2 Points**\n",
    "\n",
    "Having computed the share of GDP by year in the earlier question using a multi-index, select the `gdpPercap` column and reset the index of the resulting series.  Assign your solution -- a DataFrame with columns `[year, country, gdpPercap]` -- to `ans4` below. \n"
   ]
  },
  {
   "cell_type": "code",
   "execution_count": 47,
   "metadata": {
    "deletable": false,
    "nbgrader": {
     "checksum": "d16d6af7202eab2bbe8014f6a3f642c2",
     "grade": false,
     "grade_id": "cell-475fc312f890e12e",
     "locked": false,
     "schema_version": 1,
     "solution": true
    }
   },
   "outputs": [
    {
     "name": "stdout",
     "output_type": "stream",
     "text": [
      "   year      country  gdpPercap\n",
      "0  1952  Afghanistan   0.001473\n",
      "1  1957  Afghanistan   0.001345\n",
      "2  1962  Afghanistan   0.001271\n",
      "3  1967  Afghanistan   0.001074\n",
      "4  1972  Afghanistan   0.000770\n",
      "<class 'pandas.core.frame.DataFrame'>\n"
     ]
    }
   ],
   "source": [
    "### GRADED\n",
    "\n",
    "ans4 = None\n",
    "\n",
    "# YOUR CODE HERE\n",
    "ans4 = ans3\n",
    "\n",
    "# Answer check\n",
    "print(ans4.head())\n",
    "print(type(ans4))"
   ]
  },
  {
   "cell_type": "code",
   "execution_count": null,
   "metadata": {
    "deletable": false,
    "editable": false,
    "nbgrader": {
     "checksum": "539d10168d8590a37f441973231ba323",
     "grade": true,
     "grade_id": "cell-75de2ef131e2a50f",
     "locked": true,
     "points": 2,
     "schema_version": 1,
     "solution": false
    }
   },
   "outputs": [],
   "source": []
  },
  {
   "cell_type": "markdown",
   "metadata": {
    "deletable": false,
    "editable": false,
    "nbgrader": {
     "checksum": "f1197aca4af4f0ee6e15590eb06c9a3a",
     "grade": false,
     "grade_id": "cell-515d2cd89c3ff9fa",
     "locked": true,
     "schema_version": 1,
     "solution": false
    }
   },
   "source": [
    "[Back to top](#Index:) \n",
    "\n",
    "\n",
    "### Problem 5: Plotting the results\n",
    "\n",
    "**2 Points**\n",
    "\n",
    "Using the list of countries below, use the function `query` with argument equal to `country in @list_of_countries` rto query your solution to problem 4 and assign the result to `ans5a` below as a DataFrame. \n",
    "\n",
    "\n"
   ]
  },
  {
   "cell_type": "code",
   "execution_count": 53,
   "metadata": {
    "deletable": false,
    "nbgrader": {
     "checksum": "cd2c86f97e6d09db79df4771d4d92f2d",
     "grade": false,
     "grade_id": "cell-838879404b8f14ef",
     "locked": false,
     "schema_version": 1,
     "solution": true
    }
   },
   "outputs": [
    {
     "name": "stdout",
     "output_type": "stream",
     "text": [
      "     year country  gdpPercap\n",
      "288  1952   China   0.000757\n",
      "289  1957   China   0.000943\n",
      "290  1962   China   0.000727\n",
      "291  1967   China   0.000787\n",
      "292  1972   China   0.000704\n",
      "<class 'pandas.core.frame.DataFrame'>\n"
     ]
    }
   ],
   "source": [
    "### GRADED\n",
    "\n",
    "list_of_countries = ['China', 'United States', 'Japan', 'India', 'United Kingdom', 'Germany']\n",
    "ans5a = None\n",
    "\n",
    "# YOUR CODE HERE\n",
    "ans5a = ans4.query(\"country in @list_of_countries\")\n",
    "\n",
    "# Answer check\n",
    "print(ans5a.head())\n",
    "print(type(ans5a))"
   ]
  },
  {
   "cell_type": "code",
   "execution_count": null,
   "metadata": {
    "deletable": false,
    "editable": false,
    "nbgrader": {
     "checksum": "ad0d4b4c09c04c7f38ebc2413e51b8de",
     "grade": true,
     "grade_id": "cell-24e5b6ab855a318d",
     "locked": true,
     "points": 2,
     "schema_version": 1,
     "solution": false
    }
   },
   "outputs": [],
   "source": []
  },
  {
   "cell_type": "markdown",
   "metadata": {
    "deletable": false,
    "editable": false,
    "nbgrader": {
     "checksum": "7741b9ea64e9bf15e3670384c43512a2",
     "grade": false,
     "grade_id": "cell-6d7a1f23d9802fd7",
     "locked": true,
     "schema_version": 1,
     "solution": false
    }
   },
   "source": [
    "The code below uses the Seaborn's `lineplot` function to generate a plot where the x-axis represents the year, the y-axis share of world GDP, and hue is `country`.  Add the title \"Top Countries Share of GDP 1952 - 2002\" and human readable x label and y label."
   ]
  },
  {
   "cell_type": "code",
   "execution_count": 57,
   "metadata": {},
   "outputs": [
    {
     "name": "stderr",
     "output_type": "stream",
     "text": [
      "/usr/local/anaconda3/lib/python3.11/site-packages/seaborn/_oldcore.py:1119: FutureWarning: use_inf_as_na option is deprecated and will be removed in a future version. Convert inf values to NaN before operating instead.\n",
      "  with pd.option_context('mode.use_inf_as_na', True):\n",
      "/usr/local/anaconda3/lib/python3.11/site-packages/seaborn/_oldcore.py:1119: FutureWarning: use_inf_as_na option is deprecated and will be removed in a future version. Convert inf values to NaN before operating instead.\n",
      "  with pd.option_context('mode.use_inf_as_na', True):\n"
     ]
    },
    {
     "data": {
      "image/png": "[encoded data removed]",
      "text/plain": [
       "<Figure size 640x480 with 1 Axes>"
      ]
     },
     "metadata": {},
     "output_type": "display_data"
    }
   ],
   "source": [
    "sns.lineplot(data = ans5a, x = 'year', y = 'gdpPercap', hue = 'country')\n",
    "plt.title('Share of GDP')\n",
    "plt.xlabel('Year')\n",
    "plt.ylabel(\"GDP per capita\");"
   ]
  },
  {
   "cell_type": "code",
   "execution_count": null,
   "metadata": {},
   "outputs": [],
   "source": []
  }
 ],
 "metadata": {
  "kernelspec": {
   "display_name": "Python 3 (ipykernel)",
   "language": "python",
   "name": "python3"
  },
  "language_info": {
   "codemirror_mode": {
    "name": "ipython",
    "version": 3
   },
   "file_extension": ".py",
   "mimetype": "text/x-python",
   "name": "python",
   "nbconvert_exporter": "python",
   "pygments_lexer": "ipython3",
   "version": "3.11.7"
  }
 },
 "nbformat": 4,
 "nbformat_minor": 4
}
