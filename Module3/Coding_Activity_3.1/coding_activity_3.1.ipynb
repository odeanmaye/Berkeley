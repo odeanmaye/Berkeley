{
 "cells": [
  {
   "cell_type": "markdown",
   "metadata": {
    "deletable": false,
    "editable": false,
    "id": "2HNKGF_GuE6A",
    "nbgrader": {
     "checksum": "767c7e4a9c1129b6dfd1632b1b5424e0",
     "grade": false,
     "grade_id": "cell-958ff0d82a0643d5",
     "locked": true,
     "schema_version": 1,
     "solution": false
    }
   },
   "source": [
    "### Codio Activity 3.1: pandas Basics\n",
    "\n",
    "**Expected Time: 30 Minutes**\n",
    "\n",
    "**Total Points: 10**\n",
    "\n",
    "This assignment focuses on the use of two pandas DataFrame methods -- `.isin()` and `query()`.  These methods are used to select rows and columns of a dataframe based on conditions.  To explore their use, we create a simple DataFrame with information on basketball players in a game, the number of points they score and number of minutes they play.\n",
    "\n",
    "## Index:\n",
    "\n",
    "- [Problem 1](#Problem-1)\n",
    "- [Problem 2](#Problem-2)\n",
    "- [Problem 3](#Problem-3)\n",
    "- [Problem 4](#Problem-4)\n",
    "- [Problem 5](#Problem-5)\n"
   ]
  },
  {
   "cell_type": "code",
   "execution_count": 2,
   "metadata": {
    "deletable": false,
    "editable": false,
    "executionInfo": {
     "elapsed": 708,
     "status": "ok",
     "timestamp": 1635153136140,
     "user": {
      "displayName": "farooq sarfraz",
      "photoUrl": "https://lh3.googleusercontent.com/a-/AOh14GgRiDOBb-blcQJmoS9Fw4dPl1VFPCxRvFRmHU6y7A=s64",
      "userId": "02886612156486810823"
     },
     "user_tz": -300
    },
    "id": "2ZM8duV2uE6F",
    "nbgrader": {
     "checksum": "64b7bfb895cfb7c05d100e56f60dd47d",
     "grade": false,
     "grade_id": "cell-50552e9b5a0e9601",
     "locked": true,
     "schema_version": 1,
     "solution": false
    }
   },
   "outputs": [],
   "source": [
    "import pandas as pd"
   ]
  },
  {
   "cell_type": "code",
   "execution_count": 4,
   "metadata": {
    "deletable": false,
    "editable": false,
    "executionInfo": {
     "elapsed": 503,
     "status": "ok",
     "timestamp": 1635153143057,
     "user": {
      "displayName": "farooq sarfraz",
      "photoUrl": "https://lh3.googleusercontent.com/a-/AOh14GgRiDOBb-blcQJmoS9Fw4dPl1VFPCxRvFRmHU6y7A=s64",
      "userId": "02886612156486810823"
     },
     "user_tz": -300
    },
    "id": "O8kMjjHYuE6G",
    "nbgrader": {
     "checksum": "b9403d5dfe40bb242df97eb9e20bd5dc",
     "grade": false,
     "grade_id": "cell-b72a8502752f5e71",
     "locked": true,
     "schema_version": 1,
     "solution": false
    }
   },
   "outputs": [],
   "source": [
    "df = pd.DataFrame({'minutes': [30, 35, 40],\n",
    "                  'points': [13, 21, 50],\n",
    "                  'team': ['knicks', 'lakers', 'knicks']},\n",
    "                 index = ['drose', 'lebron', 'kemba'])"
   ]
  },
  {
   "cell_type": "code",
   "execution_count": 6,
   "metadata": {
    "colab": {
     "base_uri": "https://localhost:8080/",
     "height": 142
    },
    "deletable": false,
    "editable": false,
    "executionInfo": {
     "elapsed": 502,
     "status": "ok",
     "timestamp": 1635153386047,
     "user": {
      "displayName": "farooq sarfraz",
      "photoUrl": "https://lh3.googleusercontent.com/a-/AOh14GgRiDOBb-blcQJmoS9Fw4dPl1VFPCxRvFRmHU6y7A=s64",
      "userId": "02886612156486810823"
     },
     "user_tz": -300
    },
    "id": "P5HKNfmGuE6H",
    "nbgrader": {
     "checksum": "6844ab2831512792054d3accc1db1142",
     "grade": false,
     "grade_id": "cell-1195d25173829640",
     "locked": true,
     "schema_version": 1,
     "solution": false
    },
    "outputId": "cde677e5-2e03-4601-dd52-aa3295bb987b"
   },
   "outputs": [
    {
     "data": {
      "text/html": [
       "<div>\n",
       "<style scoped>\n",
       "    .dataframe tbody tr th:only-of-type {\n",
       "        vertical-align: middle;\n",
       "    }\n",
       "\n",
       "    .dataframe tbody tr th {\n",
       "        vertical-align: top;\n",
       "    }\n",
       "\n",
       "    .dataframe thead th {\n",
       "        text-align: right;\n",
       "    }\n",
       "</style>\n",
       "<table border=\"1\" class=\"dataframe\">\n",
       "  <thead>\n",
       "    <tr style=\"text-align: right;\">\n",
       "      <th></th>\n",
       "      <th>minutes</th>\n",
       "      <th>points</th>\n",
       "      <th>team</th>\n",
       "    </tr>\n",
       "  </thead>\n",
       "  <tbody>\n",
       "    <tr>\n",
       "      <th>drose</th>\n",
       "      <td>30</td>\n",
       "      <td>13</td>\n",
       "      <td>knicks</td>\n",
       "    </tr>\n",
       "    <tr>\n",
       "      <th>lebron</th>\n",
       "      <td>35</td>\n",
       "      <td>21</td>\n",
       "      <td>lakers</td>\n",
       "    </tr>\n",
       "    <tr>\n",
       "      <th>kemba</th>\n",
       "      <td>40</td>\n",
       "      <td>50</td>\n",
       "      <td>knicks</td>\n",
       "    </tr>\n",
       "  </tbody>\n",
       "</table>\n",
       "</div>"
      ],
      "text/plain": [
       "        minutes  points    team\n",
       "drose        30      13  knicks\n",
       "lebron       35      21  lakers\n",
       "kemba        40      50  knicks"
      ]
     },
     "execution_count": 6,
     "metadata": {},
     "output_type": "execute_result"
    }
   ],
   "source": [
    "df"
   ]
  },
  {
   "cell_type": "markdown",
   "metadata": {
    "deletable": false,
    "editable": false,
    "id": "oCGREPeEuE6I",
    "nbgrader": {
     "checksum": "072eec2831ee4178d85fe176efae259b",
     "grade": false,
     "grade_id": "cell-fa8218b168ee4cd3",
     "locked": true,
     "schema_version": 1,
     "solution": false
    }
   },
   "source": [
    "[Back to top](#Index:) \n",
    "\n",
    "### Problem 1\n",
    "\n",
    "#### Passing a list of values\n",
    "\n",
    "**2 Points**\n",
    "\n",
    "The DataFrame `df` has a method `.isin(values)` that will return a boolean based on the *values* argument which should be an iterable (lists, tuples, sets, series, dict).  \n",
    "\n",
    "Use the `.isin()` function on `df` with argument equal to `[30, 21]` and save the resulting DataFrame to `ans_1` below."
   ]
  },
  {
   "cell_type": "code",
   "execution_count": 9,
   "metadata": {
    "colab": {
     "base_uri": "https://localhost:8080/",
     "height": 158
    },
    "deletable": false,
    "executionInfo": {
     "elapsed": 467,
     "status": "ok",
     "timestamp": 1635153444115,
     "user": {
      "displayName": "farooq sarfraz",
      "photoUrl": "https://lh3.googleusercontent.com/a-/AOh14GgRiDOBb-blcQJmoS9Fw4dPl1VFPCxRvFRmHU6y7A=s64",
      "userId": "02886612156486810823"
     },
     "user_tz": -300
    },
    "id": "y9bnza_tuE6I",
    "nbgrader": {
     "checksum": "05f7fdd314604ac262901dde6ecffe5d",
     "grade": false,
     "grade_id": "cell-982bde9e0cbbf643",
     "locked": false,
     "schema_version": 1,
     "solution": true
    },
    "outputId": "40ed60a2-8ca4-4023-df0e-291b92a94312"
   },
   "outputs": [
    {
     "name": "stdout",
     "output_type": "stream",
     "text": [
      "<class 'pandas.core.frame.DataFrame'>\n"
     ]
    },
    {
     "data": {
      "text/html": [
       "<div>\n",
       "<style scoped>\n",
       "    .dataframe tbody tr th:only-of-type {\n",
       "        vertical-align: middle;\n",
       "    }\n",
       "\n",
       "    .dataframe tbody tr th {\n",
       "        vertical-align: top;\n",
       "    }\n",
       "\n",
       "    .dataframe thead th {\n",
       "        text-align: right;\n",
       "    }\n",
       "</style>\n",
       "<table border=\"1\" class=\"dataframe\">\n",
       "  <thead>\n",
       "    <tr style=\"text-align: right;\">\n",
       "      <th></th>\n",
       "      <th>minutes</th>\n",
       "      <th>points</th>\n",
       "      <th>team</th>\n",
       "    </tr>\n",
       "  </thead>\n",
       "  <tbody>\n",
       "    <tr>\n",
       "      <th>drose</th>\n",
       "      <td>True</td>\n",
       "      <td>False</td>\n",
       "      <td>False</td>\n",
       "    </tr>\n",
       "    <tr>\n",
       "      <th>lebron</th>\n",
       "      <td>False</td>\n",
       "      <td>True</td>\n",
       "      <td>False</td>\n",
       "    </tr>\n",
       "    <tr>\n",
       "      <th>kemba</th>\n",
       "      <td>False</td>\n",
       "      <td>False</td>\n",
       "      <td>False</td>\n",
       "    </tr>\n",
       "  </tbody>\n",
       "</table>\n",
       "</div>"
      ],
      "text/plain": [
       "        minutes  points   team\n",
       "drose      True   False  False\n",
       "lebron    False    True  False\n",
       "kemba     False   False  False"
      ]
     },
     "execution_count": 9,
     "metadata": {},
     "output_type": "execute_result"
    }
   ],
   "source": [
    "### GRADED\n",
    "\n",
    "ans_1 = ''\n",
    "\n",
    "# YOUR CODE HERE\n",
    "ans_1 = df.isin([30, 21])\n",
    "\n",
    "# Answer check\n",
    "print(type(ans_1))\n",
    "ans_1"
   ]
  },
  {
   "cell_type": "code",
   "execution_count": null,
   "metadata": {
    "deletable": false,
    "editable": false,
    "executionInfo": {
     "elapsed": 511,
     "status": "ok",
     "timestamp": 1635153474668,
     "user": {
      "displayName": "farooq sarfraz",
      "photoUrl": "https://lh3.googleusercontent.com/a-/AOh14GgRiDOBb-blcQJmoS9Fw4dPl1VFPCxRvFRmHU6y7A=s64",
      "userId": "02886612156486810823"
     },
     "user_tz": -300
    },
    "id": "c-EEo_jTuE6J",
    "nbgrader": {
     "checksum": "e4ab4a03549daaabaf131bc89b3c071e",
     "grade": true,
     "grade_id": "cell-f476c07408021f46",
     "locked": true,
     "points": 2,
     "schema_version": 1,
     "solution": false
    }
   },
   "outputs": [],
   "source": []
  },
  {
   "cell_type": "markdown",
   "metadata": {
    "deletable": false,
    "editable": false,
    "id": "KphK0L_tuE6J",
    "nbgrader": {
     "checksum": "cb28658af211452d0e72694947648f7e",
     "grade": false,
     "grade_id": "cell-c396f249604d0c44",
     "locked": true,
     "schema_version": 1,
     "solution": false
    }
   },
   "source": [
    "[Back to top](#Index:) \n",
    "\n",
    "### Problem 2\n",
    "\n",
    "#### Passing a dictionary of values\n",
    "\n",
    "**2 Points**\n",
    "\n",
    "To pass a dictionary of values to the method, specify the column and values of interest.  For example\n",
    "\n",
    "```python\n",
    "df.isin({'team': ['knicks']})\n",
    "```\n",
    "\n",
    "Create a dictionary with keys equal to `points` and `minutes`  Set the values equal to `[13]` for both keys. Assign this dictionary to the variable `values`.\n",
    "\n",
    "Use the `.isin()` function on `df` with argument equal to `values` and save the resulting DataFrame to `ans_2` below."
   ]
  },
  {
   "cell_type": "code",
   "execution_count": 11,
   "metadata": {
    "colab": {
     "base_uri": "https://localhost:8080/",
     "height": 158
    },
    "deletable": false,
    "executionInfo": {
     "elapsed": 478,
     "status": "ok",
     "timestamp": 1635153575116,
     "user": {
      "displayName": "farooq sarfraz",
      "photoUrl": "https://lh3.googleusercontent.com/a-/AOh14GgRiDOBb-blcQJmoS9Fw4dPl1VFPCxRvFRmHU6y7A=s64",
      "userId": "02886612156486810823"
     },
     "user_tz": -300
    },
    "id": "fS0Lrfr9uE6J",
    "nbgrader": {
     "checksum": "52f513eaa2d17b7b164353639d371981",
     "grade": false,
     "grade_id": "cell-366d7b6a14e09b8c",
     "locked": false,
     "schema_version": 1,
     "solution": true
    },
    "outputId": "a3de9ce6-ff0a-4aa0-ff19-0a9ff71fda10"
   },
   "outputs": [
    {
     "name": "stdout",
     "output_type": "stream",
     "text": [
      "<class 'pandas.core.frame.DataFrame'>\n"
     ]
    },
    {
     "data": {
      "text/html": [
       "<div>\n",
       "<style scoped>\n",
       "    .dataframe tbody tr th:only-of-type {\n",
       "        vertical-align: middle;\n",
       "    }\n",
       "\n",
       "    .dataframe tbody tr th {\n",
       "        vertical-align: top;\n",
       "    }\n",
       "\n",
       "    .dataframe thead th {\n",
       "        text-align: right;\n",
       "    }\n",
       "</style>\n",
       "<table border=\"1\" class=\"dataframe\">\n",
       "  <thead>\n",
       "    <tr style=\"text-align: right;\">\n",
       "      <th></th>\n",
       "      <th>minutes</th>\n",
       "      <th>points</th>\n",
       "      <th>team</th>\n",
       "    </tr>\n",
       "  </thead>\n",
       "  <tbody>\n",
       "    <tr>\n",
       "      <th>drose</th>\n",
       "      <td>False</td>\n",
       "      <td>True</td>\n",
       "      <td>False</td>\n",
       "    </tr>\n",
       "    <tr>\n",
       "      <th>lebron</th>\n",
       "      <td>False</td>\n",
       "      <td>False</td>\n",
       "      <td>False</td>\n",
       "    </tr>\n",
       "    <tr>\n",
       "      <th>kemba</th>\n",
       "      <td>False</td>\n",
       "      <td>False</td>\n",
       "      <td>False</td>\n",
       "    </tr>\n",
       "  </tbody>\n",
       "</table>\n",
       "</div>"
      ],
      "text/plain": [
       "        minutes  points   team\n",
       "drose     False    True  False\n",
       "lebron    False   False  False\n",
       "kemba     False   False  False"
      ]
     },
     "execution_count": 11,
     "metadata": {},
     "output_type": "execute_result"
    }
   ],
   "source": [
    "### GRADED\n",
    "\n",
    "values = ''\n",
    "ans_2 = ''\n",
    "\n",
    "# YOUR CODE HERE\n",
    "values = {'points':[13], 'minutes':[13]}\n",
    "ans_2 = df.isin(values)\n",
    "\n",
    "# Answer check\n",
    "print(type(ans_2))\n",
    "ans_2"
   ]
  },
  {
   "cell_type": "code",
   "execution_count": null,
   "metadata": {
    "deletable": false,
    "editable": false,
    "executionInfo": {
     "elapsed": 688,
     "status": "ok",
     "timestamp": 1635153599136,
     "user": {
      "displayName": "farooq sarfraz",
      "photoUrl": "https://lh3.googleusercontent.com/a-/AOh14GgRiDOBb-blcQJmoS9Fw4dPl1VFPCxRvFRmHU6y7A=s64",
      "userId": "02886612156486810823"
     },
     "user_tz": -300
    },
    "id": "12ELrkMauE6K",
    "nbgrader": {
     "checksum": "072dc4936f9526f003ad1a045ccb7fd6",
     "grade": true,
     "grade_id": "cell-12c6873fc6b42439",
     "locked": true,
     "points": 2,
     "schema_version": 1,
     "solution": false
    }
   },
   "outputs": [],
   "source": []
  },
  {
   "cell_type": "markdown",
   "metadata": {
    "deletable": false,
    "editable": false,
    "id": "MyxT_Pd_uE6L",
    "nbgrader": {
     "checksum": "9b970f8aba8016cd86cda7d388bfe494",
     "grade": false,
     "grade_id": "cell-6d4c7635e3d1702c",
     "locked": true,
     "schema_version": 1,
     "solution": false
    }
   },
   "source": [
    "[Back to top](#Index:) \n",
    "\n",
    "### Problem 3\n",
    "\n",
    "#### Using the `.query()` method\n",
    "\n",
    "**2 Points**\n",
    "\n",
    "The `query()` method is used on a DataFrame to querying its columns. This method returns a  boolean expression. \n",
    "\n",
    "For example, to return the players who scored more than 20 points pass a string expression `points > 20` to the `query()` method:"
   ]
  },
  {
   "cell_type": "code",
   "execution_count": null,
   "metadata": {
    "colab": {
     "base_uri": "https://localhost:8080/",
     "height": 110
    },
    "deletable": false,
    "editable": false,
    "executionInfo": {
     "elapsed": 652,
     "status": "ok",
     "timestamp": 1635153653183,
     "user": {
      "displayName": "farooq sarfraz",
      "photoUrl": "https://lh3.googleusercontent.com/a-/AOh14GgRiDOBb-blcQJmoS9Fw4dPl1VFPCxRvFRmHU6y7A=s64",
      "userId": "02886612156486810823"
     },
     "user_tz": -300
    },
    "id": "47bb89phuE6L",
    "nbgrader": {
     "checksum": "2275ade39b0aeb8b681de933d31e6f3e",
     "grade": false,
     "grade_id": "cell-834e964d34dfdb39",
     "locked": true,
     "schema_version": 1,
     "solution": false
    },
    "outputId": "6df16afb-c64c-40b3-fa78-907682683e3b"
   },
   "outputs": [],
   "source": [
    "df.query('points > 20')"
   ]
  },
  {
   "cell_type": "markdown",
   "metadata": {
    "deletable": false,
    "editable": false,
    "id": "sLYbvQCtuE6M",
    "nbgrader": {
     "checksum": "0c5af29da4323bc104b855234bb89816",
     "grade": false,
     "grade_id": "cell-3f7ec63485135aed",
     "locked": true,
     "schema_version": 1,
     "solution": false
    }
   },
   "source": [
    "Use the `.query()` method on `df` to select all players who played more than 30 minutes. \n",
    "\n",
    "Assign the resulting DataFrame to `ans_3` below."
   ]
  },
  {
   "cell_type": "code",
   "execution_count": 13,
   "metadata": {
    "colab": {
     "base_uri": "https://localhost:8080/",
     "height": 127
    },
    "deletable": false,
    "executionInfo": {
     "elapsed": 503,
     "status": "ok",
     "timestamp": 1635153674639,
     "user": {
      "displayName": "farooq sarfraz",
      "photoUrl": "https://lh3.googleusercontent.com/a-/AOh14GgRiDOBb-blcQJmoS9Fw4dPl1VFPCxRvFRmHU6y7A=s64",
      "userId": "02886612156486810823"
     },
     "user_tz": -300
    },
    "id": "xchNxXqRuE6M",
    "nbgrader": {
     "checksum": "0f7912a36c931938987b748c981cde1f",
     "grade": false,
     "grade_id": "cell-6c610ab149131104",
     "locked": false,
     "schema_version": 1,
     "solution": true
    },
    "outputId": "ea1f4467-5805-483d-c98d-364d09293911"
   },
   "outputs": [
    {
     "name": "stdout",
     "output_type": "stream",
     "text": [
      "<class 'pandas.core.frame.DataFrame'>\n"
     ]
    },
    {
     "data": {
      "text/html": [
       "<div>\n",
       "<style scoped>\n",
       "    .dataframe tbody tr th:only-of-type {\n",
       "        vertical-align: middle;\n",
       "    }\n",
       "\n",
       "    .dataframe tbody tr th {\n",
       "        vertical-align: top;\n",
       "    }\n",
       "\n",
       "    .dataframe thead th {\n",
       "        text-align: right;\n",
       "    }\n",
       "</style>\n",
       "<table border=\"1\" class=\"dataframe\">\n",
       "  <thead>\n",
       "    <tr style=\"text-align: right;\">\n",
       "      <th></th>\n",
       "      <th>minutes</th>\n",
       "      <th>points</th>\n",
       "      <th>team</th>\n",
       "    </tr>\n",
       "  </thead>\n",
       "  <tbody>\n",
       "    <tr>\n",
       "      <th>lebron</th>\n",
       "      <td>35</td>\n",
       "      <td>21</td>\n",
       "      <td>lakers</td>\n",
       "    </tr>\n",
       "    <tr>\n",
       "      <th>kemba</th>\n",
       "      <td>40</td>\n",
       "      <td>50</td>\n",
       "      <td>knicks</td>\n",
       "    </tr>\n",
       "  </tbody>\n",
       "</table>\n",
       "</div>"
      ],
      "text/plain": [
       "        minutes  points    team\n",
       "lebron       35      21  lakers\n",
       "kemba        40      50  knicks"
      ]
     },
     "execution_count": 13,
     "metadata": {},
     "output_type": "execute_result"
    }
   ],
   "source": [
    "### GRADED\n",
    "\n",
    "ans_3 = ''\n",
    "\n",
    "# YOUR CODE HERE\n",
    "ans_3 = df.query('minutes > 30')\n",
    "\n",
    "# Answer check\n",
    "print(type(ans_3))\n",
    "ans_3"
   ]
  },
  {
   "cell_type": "code",
   "execution_count": null,
   "metadata": {
    "deletable": false,
    "editable": false,
    "executionInfo": {
     "elapsed": 476,
     "status": "ok",
     "timestamp": 1635153692979,
     "user": {
      "displayName": "farooq sarfraz",
      "photoUrl": "https://lh3.googleusercontent.com/a-/AOh14GgRiDOBb-blcQJmoS9Fw4dPl1VFPCxRvFRmHU6y7A=s64",
      "userId": "02886612156486810823"
     },
     "user_tz": -300
    },
    "id": "uhf4FmKduE6N",
    "nbgrader": {
     "checksum": "6181db3625c2ba235944ed2e7cffe315",
     "grade": true,
     "grade_id": "cell-0887ad8c3ffbf78d",
     "locked": true,
     "points": 2,
     "schema_version": 1,
     "solution": false
    }
   },
   "outputs": [],
   "source": []
  },
  {
   "cell_type": "markdown",
   "metadata": {
    "deletable": false,
    "editable": false,
    "id": "RVYORLyEuE6N",
    "nbgrader": {
     "checksum": "8eedab9f3f76e81c3d1a99f7f21c5c7f",
     "grade": false,
     "grade_id": "cell-4163073801eb867c",
     "locked": true,
     "schema_version": 1,
     "solution": false
    }
   },
   "source": [
    "[Back to top](#Index:) \n",
    "\n",
    "### Problem 4\n",
    "\n",
    "#### Passing multiple conditions to the `.query()` method.\n",
    "\n",
    "**2 Points**\n",
    "\n",
    "To combine expressions the `.query` method joins arguments using `and` and `or` as a single string. \n",
    "\n",
    "\n",
    "For example, to return the players who scored more than 20 points and played less than 50 minutes pass a string expression `points > 20 and minutes < 50 ` to the `query()` method:\n"
   ]
  },
  {
   "cell_type": "code",
   "execution_count": null,
   "metadata": {},
   "outputs": [],
   "source": [
    "df.query('points > 20 and minutes < 50')"
   ]
  },
  {
   "cell_type": "markdown",
   "metadata": {
    "deletable": false,
    "editable": false,
    "nbgrader": {
     "checksum": "c646424080d2d83bde9a8a944a5bbe70",
     "grade": false,
     "grade_id": "cell-cb944d96bc4f9f2e",
     "locked": true,
     "schema_version": 1,
     "solution": false
    }
   },
   "source": [
    "Use the `.query` method on `df` to create a DataFrame with players who played more than 30 minutes and scored more than 25 points.  Save your resulting DataFrame to `ans_4` below."
   ]
  },
  {
   "cell_type": "code",
   "execution_count": 15,
   "metadata": {
    "colab": {
     "base_uri": "https://localhost:8080/",
     "height": 97
    },
    "deletable": false,
    "executionInfo": {
     "elapsed": 707,
     "status": "ok",
     "timestamp": 1635153714840,
     "user": {
      "displayName": "farooq sarfraz",
      "photoUrl": "https://lh3.googleusercontent.com/a-/AOh14GgRiDOBb-blcQJmoS9Fw4dPl1VFPCxRvFRmHU6y7A=s64",
      "userId": "02886612156486810823"
     },
     "user_tz": -300
    },
    "id": "9P5hhbiYuE6N",
    "nbgrader": {
     "checksum": "b17811beb3c46d985e17c3a045770850",
     "grade": false,
     "grade_id": "cell-ef536698a394045a",
     "locked": false,
     "schema_version": 1,
     "solution": true
    },
    "outputId": "771f4ac8-0fee-4826-cee1-02183fdae2dc"
   },
   "outputs": [
    {
     "name": "stdout",
     "output_type": "stream",
     "text": [
      "<class 'pandas.core.frame.DataFrame'>\n"
     ]
    },
    {
     "data": {
      "text/html": [
       "<div>\n",
       "<style scoped>\n",
       "    .dataframe tbody tr th:only-of-type {\n",
       "        vertical-align: middle;\n",
       "    }\n",
       "\n",
       "    .dataframe tbody tr th {\n",
       "        vertical-align: top;\n",
       "    }\n",
       "\n",
       "    .dataframe thead th {\n",
       "        text-align: right;\n",
       "    }\n",
       "</style>\n",
       "<table border=\"1\" class=\"dataframe\">\n",
       "  <thead>\n",
       "    <tr style=\"text-align: right;\">\n",
       "      <th></th>\n",
       "      <th>minutes</th>\n",
       "      <th>points</th>\n",
       "      <th>team</th>\n",
       "    </tr>\n",
       "  </thead>\n",
       "  <tbody>\n",
       "    <tr>\n",
       "      <th>kemba</th>\n",
       "      <td>40</td>\n",
       "      <td>50</td>\n",
       "      <td>knicks</td>\n",
       "    </tr>\n",
       "  </tbody>\n",
       "</table>\n",
       "</div>"
      ],
      "text/plain": [
       "       minutes  points    team\n",
       "kemba       40      50  knicks"
      ]
     },
     "execution_count": 15,
     "metadata": {},
     "output_type": "execute_result"
    }
   ],
   "source": [
    "### GRADED\n",
    "\n",
    "ans_4 = ''\n",
    "\n",
    "# YOUR CODE HERE\n",
    "ans_4 = df.query('points > 25 and minutes > 30')\n",
    "\n",
    "print(type(ans_4))\n",
    "ans_4"
   ]
  },
  {
   "cell_type": "code",
   "execution_count": null,
   "metadata": {
    "deletable": false,
    "editable": false,
    "id": "-xYCd7JauE6O",
    "nbgrader": {
     "checksum": "3ea24b188a61dc274fd3fc3cd0082d2d",
     "grade": true,
     "grade_id": "cell-ce00983c6922359e",
     "locked": true,
     "points": 2,
     "schema_version": 1,
     "solution": false
    }
   },
   "outputs": [],
   "source": []
  },
  {
   "cell_type": "markdown",
   "metadata": {
    "deletable": false,
    "editable": false,
    "id": "fxLQsv1nuE6O",
    "nbgrader": {
     "checksum": "fbe411a5b4c4123927035689b006ae1c",
     "grade": false,
     "grade_id": "cell-0d803fd1995bf136",
     "locked": true,
     "schema_version": 1,
     "solution": false
    }
   },
   "source": [
    "[Back to top](#Index:) \n",
    "\n",
    "### Problem 5\n",
    "\n",
    "#### Using a string method to query \n",
    "\n",
    "**2 Points**\n",
    "\n",
    "To use object methods from the base python installations, use the name of the column, followed by the appropriate datatype constructor and subsequent method. \n",
    "\n",
    "When using a Python method, the `engine` argument must be specified.The code below shows how to select teams that contain the letter `k`:"
   ]
  },
  {
   "cell_type": "code",
   "execution_count": null,
   "metadata": {
    "deletable": false,
    "editable": false,
    "id": "Wm0V1zgbuE6O",
    "nbgrader": {
     "checksum": "9f162fa8c51eedcfc0d09d4e93fa4e4e",
     "grade": false,
     "grade_id": "cell-739ecff3a89147c6",
     "locked": true,
     "schema_version": 1,
     "solution": false
    },
    "outputId": "6ccbae3f-0f22-47d4-9329-78b5cac0a4bb"
   },
   "outputs": [],
   "source": [
    "df.query('team.str.contains(\"k\")',\n",
    "        engine = \"python\")"
   ]
  },
  {
   "cell_type": "markdown",
   "metadata": {
    "deletable": false,
    "editable": false,
    "id": "0pYUPobhuE6P",
    "nbgrader": {
     "checksum": "cef08e993dd92c7d819f45e1bd27885e",
     "grade": false,
     "grade_id": "cell-6d91b66782e55903",
     "locked": true,
     "schema_version": 1,
     "solution": false
    }
   },
   "source": [
    "Use the string method `startswith` to select all rows where the team starts with the letter `k`.  Assign your solution to `ans_5` below."
   ]
  },
  {
   "cell_type": "code",
   "execution_count": 17,
   "metadata": {
    "colab": {
     "base_uri": "https://localhost:8080/",
     "height": 127
    },
    "deletable": false,
    "executionInfo": {
     "elapsed": 530,
     "status": "ok",
     "timestamp": 1635153883394,
     "user": {
      "displayName": "farooq sarfraz",
      "photoUrl": "https://lh3.googleusercontent.com/a-/AOh14GgRiDOBb-blcQJmoS9Fw4dPl1VFPCxRvFRmHU6y7A=s64",
      "userId": "02886612156486810823"
     },
     "user_tz": -300
    },
    "id": "TeQotoUwuE6P",
    "nbgrader": {
     "checksum": "385e28e84a27df0b87610bddf444fd10",
     "grade": false,
     "grade_id": "cell-e73d67acfa02e636",
     "locked": false,
     "schema_version": 1,
     "solution": true
    },
    "outputId": "cf10dcd4-8ef5-443b-9b3e-97104bf98eee"
   },
   "outputs": [
    {
     "name": "stdout",
     "output_type": "stream",
     "text": [
      "<class 'pandas.core.frame.DataFrame'>\n"
     ]
    },
    {
     "data": {
      "text/html": [
       "<div>\n",
       "<style scoped>\n",
       "    .dataframe tbody tr th:only-of-type {\n",
       "        vertical-align: middle;\n",
       "    }\n",
       "\n",
       "    .dataframe tbody tr th {\n",
       "        vertical-align: top;\n",
       "    }\n",
       "\n",
       "    .dataframe thead th {\n",
       "        text-align: right;\n",
       "    }\n",
       "</style>\n",
       "<table border=\"1\" class=\"dataframe\">\n",
       "  <thead>\n",
       "    <tr style=\"text-align: right;\">\n",
       "      <th></th>\n",
       "      <th>minutes</th>\n",
       "      <th>points</th>\n",
       "      <th>team</th>\n",
       "    </tr>\n",
       "  </thead>\n",
       "  <tbody>\n",
       "    <tr>\n",
       "      <th>drose</th>\n",
       "      <td>30</td>\n",
       "      <td>13</td>\n",
       "      <td>knicks</td>\n",
       "    </tr>\n",
       "    <tr>\n",
       "      <th>kemba</th>\n",
       "      <td>40</td>\n",
       "      <td>50</td>\n",
       "      <td>knicks</td>\n",
       "    </tr>\n",
       "  </tbody>\n",
       "</table>\n",
       "</div>"
      ],
      "text/plain": [
       "       minutes  points    team\n",
       "drose       30      13  knicks\n",
       "kemba       40      50  knicks"
      ]
     },
     "execution_count": 17,
     "metadata": {},
     "output_type": "execute_result"
    }
   ],
   "source": [
    "### GRADED\n",
    "\n",
    "ans_5 = ''\n",
    "\n",
    "# YOUR CODE HERE\n",
    "ans_5 = df.query('team.str.startswith(\"k\")', engine = \"python\")\n",
    "\n",
    "print(type(ans_5))\n",
    "ans_5"
   ]
  },
  {
   "cell_type": "code",
   "execution_count": null,
   "metadata": {
    "deletable": false,
    "editable": false,
    "id": "c_uqfv-SuE6Q",
    "nbgrader": {
     "checksum": "8507087fcbe27ee1ee69311719a1234e",
     "grade": true,
     "grade_id": "cell-dc97cc0e23212d7d",
     "locked": true,
     "points": 2,
     "schema_version": 1,
     "solution": false
    }
   },
   "outputs": [],
   "source": []
  },
  {
   "cell_type": "code",
   "execution_count": null,
   "metadata": {},
   "outputs": [],
   "source": []
  },
  {
   "cell_type": "code",
   "execution_count": null,
   "metadata": {},
   "outputs": [],
   "source": []
  }
 ],
 "metadata": {
  "colab": {
   "name": "coding_activity_3.1.ipynb",
   "provenance": []
  },
  "kernelspec": {
   "display_name": "Python 3 (ipykernel)",
   "language": "python",
   "name": "python3"
  },
  "language_info": {
   "codemirror_mode": {
    "name": "ipython",
    "version": 3
   },
   "file_extension": ".py",
   "mimetype": "text/x-python",
   "name": "python",
   "nbconvert_exporter": "python",
   "pygments_lexer": "ipython3",
   "version": "3.11.7"
  }
 },
 "nbformat": 4,
 "nbformat_minor": 4
}
