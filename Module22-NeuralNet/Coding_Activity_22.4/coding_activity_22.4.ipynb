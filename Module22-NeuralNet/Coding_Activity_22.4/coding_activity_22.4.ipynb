{
 "cells": [
  {
   "cell_type": "markdown",
   "metadata": {
    "deletable": false,
    "editable": false,
    "nbgrader": {
     "cell_type": "markdown",
     "checksum": "b856937acac4555104061e716f6dffff",
     "grade": false,
     "grade_id": "cell-66d8ec40d6c8ee24",
     "locked": true,
     "schema_version": 3,
     "solution": false,
     "task": false
    }
   },
   "source": [
    "### Codio Activity 22.4: Using `keras`\n",
    "\n",
    "**Expected Time = 60 minutes**\n",
    "\n",
    "**Total Points = 50**\n",
    "\n",
    "This activity focuses on using the `keras` library to build an Artificial Neural Network using the the Titanic dataset.  You will now use all the rows of the data and the `age` and `fare` columns to build a basic network.  After building the model you will visualize the loss for each epoch.\n",
    "\n",
    "#### Index\n",
    "\n",
    "- [Problem 1](#-Problem-1)\n",
    "- [Problem 2](#-Problem-2)\n",
    "- [Problem 3](#-Problem-3)\n",
    "- [Problem 4](#-Problem-4)\n",
    "- [Problem 5](#-Problem-5)"
   ]
  },
  {
   "cell_type": "code",
   "execution_count": 2,
   "metadata": {},
   "outputs": [
    {
     "name": "stderr",
     "output_type": "stream",
     "text": [
      "2024-12-03 15:35:06.753121: I tensorflow/core/platform/cpu_feature_guard.cc:210] This TensorFlow binary is optimized to use available CPU instructions in performance-critical operations.\n",
      "To enable the following instructions: AVX2 FMA, in other operations, rebuild TensorFlow with the appropriate compiler flags.\n"
     ]
    }
   ],
   "source": [
    "import numpy as np\n",
    "import pandas as pd\n",
    "import matplotlib.pyplot as plt\n",
    "import seaborn as sns\n",
    "import tensorflow as tf\n",
    "\n",
    "from tensorflow.keras.layers import Dense\n",
    "from tensorflow.keras.models import Sequential\n",
    "from tensorflow.keras.utils import plot_model\n",
    "\n",
    "import warnings\n",
    "warnings.filterwarnings('ignore')"
   ]
  },
  {
   "cell_type": "code",
   "execution_count": 3,
   "metadata": {},
   "outputs": [
    {
     "name": "stdout",
     "output_type": "stream",
     "text": [
      "(714, 2)\n"
     ]
    }
   ],
   "source": [
    "titanic = sns.load_dataset('titanic').dropna(subset = ['age'])\n",
    "X = titanic[['age', 'fare']].values\n",
    "y = titanic['survived'].values\n",
    "print(X.shape)"
   ]
  },
  {
   "cell_type": "markdown",
   "metadata": {
    "deletable": false,
    "editable": false,
    "nbgrader": {
     "cell_type": "markdown",
     "checksum": "d8e26b4eb3297a19672b287c45cc522b",
     "grade": false,
     "grade_id": "cell-b15afe099bbcc7ac",
     "locked": true,
     "schema_version": 3,
     "solution": false,
     "task": false
    }
   },
   "source": [
    "[Back to top](#-Index)\n",
    "\n",
    "### Problem 1\n",
    "\n",
    "#### A Basic Network\n",
    "\n",
    "**10 Points**\n",
    "\n",
    "To begin, use `keras` and the `Sequential` model to create a model with the following architecture:\n",
    "\n",
    "- One hidden layer with one node\n",
    "- One output node\n",
    "- Use the sigmoid activation function on all nodes\n",
    "\n",
    "Assign this model to the variable `single_node_model`."
   ]
  },
  {
   "cell_type": "code",
   "execution_count": 6,
   "metadata": {
    "deletable": false,
    "nbgrader": {
     "cell_type": "code",
     "checksum": "67a3957f78bc8206188da92f66fe0a20",
     "grade": false,
     "grade_id": "cell-2fad3e5bd06726d4",
     "locked": false,
     "schema_version": 3,
     "solution": true,
     "task": false
    }
   },
   "outputs": [
    {
     "data": {
      "text/plain": [
       "<Sequential name=sequential, built=False>"
      ]
     },
     "execution_count": 6,
     "metadata": {},
     "output_type": "execute_result"
    }
   ],
   "source": [
    "### GRADED\n",
    "tf.random.set_seed(42)\n",
    "single_node_model = Sequential([\n",
    "    Dense(1, activation = 'sigmoid'),\n",
    "    Dense(1, activation = 'sigmoid')\n",
    "    ])\n",
    "\n",
    "### ANSWER CHECK\n",
    "single_node_model"
   ]
  },
  {
   "cell_type": "code",
   "execution_count": 8,
   "metadata": {},
   "outputs": [
    {
     "data": {
      "text/plain": [
       "<function keras.src.activations.activations.sigmoid(x)>"
      ]
     },
     "execution_count": 8,
     "metadata": {},
     "output_type": "execute_result"
    }
   ],
   "source": [
    "single_node_model.layers[0].activation"
   ]
  },
  {
   "cell_type": "code",
   "execution_count": null,
   "metadata": {
    "deletable": false,
    "editable": false,
    "nbgrader": {
     "cell_type": "code",
     "checksum": "d9265c46abc7cde10eddc9a357b8d251",
     "grade": true,
     "grade_id": "cell-caad29a86aec42f8",
     "locked": true,
     "points": 10,
     "schema_version": 3,
     "solution": false,
     "task": false
    }
   },
   "outputs": [],
   "source": []
  },
  {
   "cell_type": "markdown",
   "metadata": {
    "deletable": false,
    "editable": false,
    "nbgrader": {
     "cell_type": "markdown",
     "checksum": "1cb9d33dcb21d3532795571a62c99f7c",
     "grade": false,
     "grade_id": "cell-a90e7130fc78980d",
     "locked": true,
     "points": 0,
     "schema_version": 3,
     "solution": false,
     "task": true
    }
   },
   "source": [
    "[Back to top](#-Index)\n",
    "\n",
    "### Problem 2\n",
    "\n",
    "#### Compiling the Network\n",
    "\n",
    "**10 Points**\n",
    "\n",
    "Now, compile the `single_node_model` model defined above using the settings below:\n",
    "\n",
    "- `optimizer = rmsprop`\n",
    "- `loss = binary_crossentropy`\n",
    "- `metrics = ['accuracy']`"
   ]
  },
  {
   "cell_type": "code",
   "execution_count": 10,
   "metadata": {
    "deletable": false,
    "nbgrader": {
     "cell_type": "code",
     "checksum": "9c4d780e7f1d16eb0e96990e99511dde",
     "grade": false,
     "grade_id": "cell-e253d21e36668ef0",
     "locked": false,
     "schema_version": 3,
     "solution": true,
     "task": false
    }
   },
   "outputs": [
    {
     "data": {
      "text/plain": [
       "<Sequential name=sequential, built=False>"
      ]
     },
     "execution_count": 10,
     "metadata": {},
     "output_type": "execute_result"
    }
   ],
   "source": [
    "### GRADED\n",
    "\n",
    "tf.random.set_seed(42)\n",
    "single_node_model.compile(optimizer='rmsprop',\n",
    "                         loss = 'binary_crossentropy',\n",
    "                         metrics = ['accuracy'])\n",
    "\n",
    "### ANSWER CHECK\n",
    "single_node_model"
   ]
  },
  {
   "cell_type": "code",
   "execution_count": null,
   "metadata": {
    "deletable": false,
    "editable": false,
    "nbgrader": {
     "cell_type": "code",
     "checksum": "e79517eb9e54a36a314429ad135e17b4",
     "grade": true,
     "grade_id": "cell-f655e65a2446657f",
     "locked": true,
     "points": 10,
     "schema_version": 3,
     "solution": false,
     "task": false
    }
   },
   "outputs": [],
   "source": []
  },
  {
   "cell_type": "markdown",
   "metadata": {
    "deletable": false,
    "editable": false,
    "nbgrader": {
     "cell_type": "markdown",
     "checksum": "3f1edbd0aba644feab24fa3f1e1732b3",
     "grade": false,
     "grade_id": "cell-27499b77baa0ce58",
     "locked": true,
     "schema_version": 3,
     "solution": false,
     "task": false
    }
   },
   "source": [
    "[Back to top](#-Index)\n",
    "\n",
    "### Problem 3\n",
    "\n",
    "#### Fit the model\n",
    "\n",
    "**10 Points**\n",
    "\n",
    "Next, fit the `single_node_model` model below to the data `X` and `y` using the following parameters:\n",
    "\n",
    "- `epochs = 20`\n",
    "- `batch_size = 10`\n",
    "- `verbose = 0`\n",
    "\n",
    "Ensure to use `tf.random.set_seed(42)` to assure proper grading.  \n",
    "\n",
    "Assign your fit model to the variable `history` below."
   ]
  },
  {
   "cell_type": "code",
   "execution_count": 12,
   "metadata": {
    "deletable": false,
    "nbgrader": {
     "cell_type": "code",
     "checksum": "0e111b39133ab46fe9fb06cef9ec288f",
     "grade": false,
     "grade_id": "cell-edc2684ae7362db5",
     "locked": false,
     "schema_version": 3,
     "solution": true,
     "task": false
    }
   },
   "outputs": [
    {
     "data": {
      "text/plain": [
       "{'verbose': 0, 'epochs': 20, 'steps': 72}"
      ]
     },
     "execution_count": 12,
     "metadata": {},
     "output_type": "execute_result"
    }
   ],
   "source": [
    "### GRADED\n",
    "tf.random.set_seed(42)\n",
    "history = single_node_model.fit(x = X, y = y, \n",
    "                                epochs = 20, \n",
    "                                batch_size=10,\n",
    "                               verbose = 0)\n",
    "\n",
    "### ANSWER CHECK\n",
    "history.params"
   ]
  },
  {
   "cell_type": "code",
   "execution_count": null,
   "metadata": {
    "deletable": false,
    "editable": false,
    "nbgrader": {
     "cell_type": "code",
     "checksum": "9c21449233a5137e67369165ae4aa258",
     "grade": true,
     "grade_id": "cell-f71d1269cb4ff9dc",
     "locked": true,
     "points": 10,
     "schema_version": 3,
     "solution": false,
     "task": false
    }
   },
   "outputs": [],
   "source": []
  },
  {
   "cell_type": "markdown",
   "metadata": {
    "deletable": false,
    "editable": false,
    "nbgrader": {
     "cell_type": "markdown",
     "checksum": "185415fcd4b6af9e04d70c85a3c334da",
     "grade": false,
     "grade_id": "cell-dd00fd6a508daa28",
     "locked": true,
     "schema_version": 3,
     "solution": false,
     "task": false
    }
   },
   "source": [
    "[Back to top](#-Index)\n",
    "\n",
    "### Problem 4\n",
    "\n",
    "#### Evaluate the model\n",
    "\n",
    "**10 Points**\n",
    "\n",
    "Use the `.evaluate` method on your `single_node_model` with the `X` and `y` arrays to examine the loss and accuracy of the model.  Assign these values to the variables `single_loss` and `single_acc` below."
   ]
  },
  {
   "cell_type": "code",
   "execution_count": 16,
   "metadata": {
    "deletable": false,
    "nbgrader": {
     "cell_type": "code",
     "checksum": "18963a808f9d4ecc7b1f65ceea4252a0",
     "grade": false,
     "grade_id": "cell-3fc8d4b03bcd60f1",
     "locked": false,
     "schema_version": 3,
     "solution": true,
     "task": false
    }
   },
   "outputs": [
    {
     "name": "stdout",
     "output_type": "stream",
     "text": [
      "\u001b[1m23/23\u001b[0m \u001b[32m━━━━━━━━━━━━━━━━━━━━\u001b[0m\u001b[37m\u001b[0m \u001b[1m0s\u001b[0m 773us/step - accuracy: 0.6400 - loss: 0.6456\n",
      "0.6266061663627625\n",
      "0.6890756487846375\n"
     ]
    }
   ],
   "source": [
    "### GRADED\n",
    "tf.random.set_seed(42)\n",
    "results = single_node_model.evaluate(X, y)\n",
    "single_loss = results[0]\n",
    "single_acc = results[1]\n",
    "\n",
    "### ANSWER CHECK\n",
    "print(single_loss)\n",
    "print(single_acc)"
   ]
  },
  {
   "cell_type": "code",
   "execution_count": null,
   "metadata": {
    "deletable": false,
    "editable": false,
    "nbgrader": {
     "cell_type": "code",
     "checksum": "7d3c067646b37e2ea9d688ab5dbac062",
     "grade": true,
     "grade_id": "cell-0fb4c144e3ce33b4",
     "locked": true,
     "points": 10,
     "schema_version": 3,
     "solution": false,
     "task": false
    }
   },
   "outputs": [],
   "source": []
  },
  {
   "cell_type": "markdown",
   "metadata": {
    "deletable": false,
    "editable": false,
    "nbgrader": {
     "cell_type": "markdown",
     "checksum": "f7414ece67ce130127048d445434f5c4",
     "grade": false,
     "grade_id": "cell-b0ed9e5e208e501a",
     "locked": true,
     "schema_version": 3,
     "solution": false,
     "task": false
    }
   },
   "source": [
    "[Back to top](#-Index)\n",
    "\n",
    "### Problem 5\n",
    "\n",
    "#### A More Complex Model\n",
    "\n",
    "**10 Points**\n",
    "\n",
    "To try to improve the model, now build and evaluate a second model that uses a single hidden layer with 100 nodes, and a single output layer.  \n",
    "\n",
    "For the hidden layer use the `relu` activation function and for the output layer use the `sigmoid` activation.  \n",
    "\n",
    "Again, set the `np.random.seed(42)`, using the same compile settings and train settings for number of epochs and batch size.  Assign the accuracy of the model to `hundred_acc` below."
   ]
  },
  {
   "cell_type": "code",
   "execution_count": 18,
   "metadata": {
    "deletable": false,
    "nbgrader": {
     "cell_type": "code",
     "checksum": "fc1bfe35d8b1c79c27fac326c51b92f1",
     "grade": false,
     "grade_id": "cell-99ca08ba0f195e6e",
     "locked": false,
     "schema_version": 3,
     "solution": true,
     "task": false
    }
   },
   "outputs": [
    {
     "name": "stdout",
     "output_type": "stream",
     "text": [
      "\u001b[1m23/23\u001b[0m \u001b[32m━━━━━━━━━━━━━━━━━━━━\u001b[0m\u001b[37m\u001b[0m \u001b[1m0s\u001b[0m 749us/step - acc: 0.6399 - loss: 0.6707\n",
      "[0.6189606189727783, 0.6848739385604858]\n"
     ]
    }
   ],
   "source": [
    "### GRADED\n",
    "tf.random.set_seed(42)\n",
    "complex_model = Sequential([\n",
    "    Dense(100, activation = 'relu'),\n",
    "    Dense(1, activation = 'sigmoid')\n",
    "])\n",
    "complex_model.compile(loss = 'bce', optimizer = 'rmsprop',\n",
    "                     metrics = ['acc'])\n",
    "np.random.seed(42)\n",
    "history = complex_model.fit(X, y, epochs = 20, batch_size = 10,\n",
    "                           verbose = 0)\n",
    "hundred_acc = complex_model.evaluate(X, y)\n",
    "\n",
    "### ANSWER CHECK\n",
    "print(hundred_acc)"
   ]
  },
  {
   "cell_type": "code",
   "execution_count": null,
   "metadata": {
    "deletable": false,
    "editable": false,
    "nbgrader": {
     "cell_type": "code",
     "checksum": "b860a4424a19ca1005ff03066282af4f",
     "grade": true,
     "grade_id": "cell-6abd29d1900b7ea3",
     "locked": true,
     "points": 10,
     "schema_version": 3,
     "solution": false,
     "task": false
    }
   },
   "outputs": [],
   "source": []
  },
  {
   "cell_type": "code",
   "execution_count": null,
   "metadata": {},
   "outputs": [],
   "source": []
  }
 ],
 "metadata": {
  "kernelspec": {
   "display_name": "Python 3 (ipykernel)",
   "language": "python",
   "name": "python3"
  },
  "language_info": {
   "codemirror_mode": {
    "name": "ipython",
    "version": 3
   },
   "file_extension": ".py",
   "mimetype": "text/x-python",
   "name": "python",
   "nbconvert_exporter": "python",
   "pygments_lexer": "ipython3",
   "version": "3.11.7"
  },
  "widgets": {
   "application/vnd.jupyter.widget-state+json": {
    "state": {},
    "version_major": 2,
    "version_minor": 0
   }
  }
 },
 "nbformat": 4,
 "nbformat_minor": 4
}
