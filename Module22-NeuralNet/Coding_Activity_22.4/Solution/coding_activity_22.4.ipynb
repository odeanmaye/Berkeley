{
 "cells": [
  {
   "cell_type": "markdown",
   "metadata": {
    "nbgrader": {
     "grade": false,
     "grade_id": "cell-66d8ec40d6c8ee24",
     "locked": true,
     "schema_version": 3,
     "solution": false,
     "task": false
    }
   },
   "source": [
    "### Codio Activity 22.4: Using `keras`\n",
    "\n",
    "**Expected Time = 60 minutes**\n",
    "\n",
    "**Total Points = 50**\n",
    "\n",
    "This activity focuses on using the `keras` library to build an Artificial Neural Network for the titanic dataset.  You will now use all the rows of the data and the `age` and `fare` columns to build a basic network.  After building the model you will visualize the loss by epoch.\n",
    "\n",
    "#### Index\n",
    "\n",
    "- [Problem 1](#-Problem-1)\n",
    "- [Problem 2](#-Problem-2)\n",
    "- [Problem 3](#-Problem-3)\n",
    "- [Problem 4](#-Problem-4)\n",
    "- [Problem 5](#-Problem-5)"
   ]
  },
  {
   "cell_type": "code",
   "execution_count": 5,
   "metadata": {},
   "outputs": [],
   "source": [
    "import numpy as np\n",
    "import pandas as pd\n",
    "import matplotlib.pyplot as plt\n",
    "import seaborn as sns\n",
    "import tensorflow as tf\n",
    "\n",
    "from tensorflow.keras.layers import Dense\n",
    "from tensorflow.keras.models import Sequential\n",
    "from tensorflow.keras.utils import plot_model\n",
    "\n",
    "import warnings\n",
    "warnings.filterwarnings('ignore')"
   ]
  },
  {
   "cell_type": "code",
   "execution_count": 6,
   "metadata": {},
   "outputs": [
    {
     "name": "stdout",
     "output_type": "stream",
     "text": [
      "(714, 2)\n"
     ]
    }
   ],
   "source": [
    "titanic = sns.load_dataset('titanic').dropna(subset = ['age'])\n",
    "X = titanic[['age', 'fare']].values\n",
    "y = titanic['survived'].values\n",
    "print(X.shape)"
   ]
  },
  {
   "cell_type": "markdown",
   "metadata": {
    "nbgrader": {
     "grade": false,
     "grade_id": "cell-b15afe099bbcc7ac",
     "locked": true,
     "schema_version": 3,
     "solution": false,
     "task": false
    }
   },
   "source": [
    "[Back to top](#-Index)\n",
    "\n",
    "### Problem 1\n",
    "\n",
    "#### A Basic Network\n",
    "\n",
    "**10 Points**\n",
    "\n",
    "To begin, use `keras` and the `Sequential` model to create a model with the following architecture:\n",
    "\n",
    "- 1 Hidden Layer\n",
    "- 1 Node in Hidden Layer\n",
    "- 1 output node\n",
    "- Sigmoid activation function on all nodes\n",
    "\n",
    "This would be equivalent to the architecture in your first assignment."
   ]
  },
  {
   "cell_type": "code",
   "execution_count": 7,
   "metadata": {
    "nbgrader": {
     "grade": false,
     "grade_id": "cell-2fad3e5bd06726d4",
     "locked": false,
     "schema_version": 3,
     "solution": true,
     "task": false
    }
   },
   "outputs": [
    {
     "data": {
      "text/plain": [
       "<keras.engine.sequential.Sequential at 0x7faffeacdcd0>"
      ]
     },
     "execution_count": 7,
     "metadata": {},
     "output_type": "execute_result"
    }
   ],
   "source": [
    "### GRADED\n",
    "tf.random.set_seed(42)\n",
    "single_node_model = ''\n",
    "    \n",
    "### BEGIN SOLUTION\n",
    "tf.random.set_seed(42)\n",
    "single_node_model = Sequential([\n",
    "    Dense(1, activation = 'sigmoid'),\n",
    "    Dense(1, activation = 'sigmoid')\n",
    "    ])\n",
    "### END SOLUTION\n",
    "\n",
    "### ANSWER CHECK\n",
    "single_node_model"
   ]
  },
  {
   "cell_type": "code",
   "execution_count": 8,
   "metadata": {},
   "outputs": [
    {
     "data": {
      "text/plain": [
       "<function keras.activations.sigmoid(x)>"
      ]
     },
     "execution_count": 8,
     "metadata": {},
     "output_type": "execute_result"
    }
   ],
   "source": [
    "single_node_model.layers[0].activation"
   ]
  },
  {
   "cell_type": "code",
   "execution_count": 9,
   "metadata": {
    "nbgrader": {
     "grade": true,
     "grade_id": "cell-caad29a86aec42f8",
     "locked": true,
     "points": 10,
     "schema_version": 3,
     "solution": false,
     "task": false
    }
   },
   "outputs": [],
   "source": [
    "### BEGIN HIDDEN TESTS\n",
    "tf.random.set_seed(42)\n",
    "single_node_model_ = Sequential([\n",
    "    Dense(1, activation = 'sigmoid'),\n",
    "    Dense(1, activation = 'sigmoid')\n",
    "    ])\n",
    "#\n",
    "#\n",
    "#\n",
    "assert type(single_node_model.layers[0].activation) == type(single_node_model_.layers[0].activation)\n",
    "assert type(single_node_model.layers[1].activation) == type(single_node_model_.layers[1].activation)\n",
    "\n",
    "### END HIDDEN TESTS"
   ]
  },
  {
   "cell_type": "markdown",
   "metadata": {
    "nbgrader": {
     "grade": false,
     "grade_id": "cell-a90e7130fc78980d",
     "locked": true,
     "points": 0,
     "schema_version": 3,
     "solution": false,
     "task": true
    }
   },
   "source": [
    "[Back to top](#-Index)\n",
    "\n",
    "### Problem 2\n",
    "\n",
    "#### Compiling the Network\n",
    "\n",
    "**10 Points**\n",
    "\n",
    "Now, use your `single_node_model` and specify the following elements using the `.compile` method.\n",
    "\n",
    "- `optimizer = rmsprop`\n",
    "- `loss = binary_crossentropy` or `bce`\n",
    "- `metrics = ['accuracy']`"
   ]
  },
  {
   "cell_type": "code",
   "execution_count": 10,
   "metadata": {
    "nbgrader": {
     "grade": false,
     "grade_id": "cell-e253d21e36668ef0",
     "locked": false,
     "schema_version": 3,
     "solution": true,
     "task": false
    }
   },
   "outputs": [
    {
     "data": {
      "text/plain": [
       "<keras.engine.sequential.Sequential at 0x7faffeacdcd0>"
      ]
     },
     "execution_count": 10,
     "metadata": {},
     "output_type": "execute_result"
    }
   ],
   "source": [
    "### GRADED\n",
    "\n",
    "tf.random.set_seed(42)\n",
    "single_node_model.compile()\n",
    "\n",
    "\n",
    "### BEGIN SOLUTION\n",
    "tf.random.set_seed(42)\n",
    "single_node_model.compile(optimizer='rmsprop',\n",
    "                         loss = 'binary_crossentropy',\n",
    "                         metrics = ['accuracy'])\n",
    "### END SOLUTION\n",
    "\n",
    "### ANSWER CHECK\n",
    "single_node_model"
   ]
  },
  {
   "cell_type": "code",
   "execution_count": 11,
   "metadata": {
    "nbgrader": {
     "grade": true,
     "grade_id": "cell-f655e65a2446657f",
     "locked": true,
     "points": 10,
     "schema_version": 3,
     "solution": false,
     "task": false
    }
   },
   "outputs": [],
   "source": [
    "### BEGIN HIDDEN TESTS\n",
    "tf.random.set_seed(42)\n",
    "single_node_model_.compile(optimizer='rmsprop',\n",
    "                         loss = 'binary_crossentropy',\n",
    "                         metrics = ['accuracy'])\n",
    "#\n",
    "#\n",
    "#\n",
    "assert single_node_model.loss == 'bce' or single_node_model.loss == 'binary_crossentropy'\n",
    "### END HIDDEN TESTS"
   ]
  },
  {
   "cell_type": "markdown",
   "metadata": {
    "nbgrader": {
     "grade": false,
     "grade_id": "cell-27499b77baa0ce58",
     "locked": true,
     "schema_version": 3,
     "solution": false,
     "task": false
    }
   },
   "source": [
    "[Back to top](#-Index)\n",
    "\n",
    "### Problem 3\n",
    "\n",
    "#### Fit the model\n",
    "\n",
    "**10 Points**\n",
    "\n",
    "With your model setup, fit the model below using the following parameters:\n",
    "\n",
    "- `epochs = 20`\n",
    "- `batch_size = 10`\n",
    "- `verbose = 0`\n",
    "\n",
    "Also, leave the `tf.random.set_seed(42)` to assure proper grading.  Assign your fit model to the variable `history` below."
   ]
  },
  {
   "cell_type": "code",
   "execution_count": 12,
   "metadata": {
    "nbgrader": {
     "grade": false,
     "grade_id": "cell-edc2684ae7362db5",
     "locked": false,
     "schema_version": 3,
     "solution": true,
     "task": false
    }
   },
   "outputs": [
    {
     "data": {
      "text/plain": [
       "{'verbose': 0, 'epochs': 20, 'steps': 72}"
      ]
     },
     "execution_count": 12,
     "metadata": {},
     "output_type": "execute_result"
    }
   ],
   "source": [
    "### GRADED\n",
    "tf.random.set_seed(42)\n",
    "history = ''\n",
    "\n",
    "    \n",
    "### BEGIN SOLUTION\n",
    "tf.random.set_seed(42)\n",
    "history = single_node_model.fit(x = X, y = y, \n",
    "                                epochs = 20, \n",
    "                                batch_size=10,\n",
    "                               verbose = 0)\n",
    "### END SOLUTION\n",
    "\n",
    "### ANSWER CHECK\n",
    "history.params"
   ]
  },
  {
   "cell_type": "code",
   "execution_count": 13,
   "metadata": {
    "nbgrader": {
     "grade": true,
     "grade_id": "cell-f71d1269cb4ff9dc",
     "locked": true,
     "points": 10,
     "schema_version": 3,
     "solution": false,
     "task": false
    }
   },
   "outputs": [],
   "source": [
    "### BEGIN HIDDEN TESTS\n",
    "tf.random.set_seed(42)\n",
    "history_ = single_node_model_.fit(x = X, y = y, \n",
    "                                epochs = 20, \n",
    "                                batch_size=10,\n",
    "                               verbose = 0)\n",
    "\n",
    "#\n",
    "#\n",
    "#\n",
    "assert history.params == history_.params\n",
    "### END HIDDEN TESTS"
   ]
  },
  {
   "cell_type": "markdown",
   "metadata": {
    "nbgrader": {
     "grade": false,
     "grade_id": "cell-dd00fd6a508daa28",
     "locked": true,
     "schema_version": 3,
     "solution": false,
     "task": false
    }
   },
   "source": [
    "[Back to top](#-Index)\n",
    "\n",
    "### Problem 4\n",
    "\n",
    "#### Evaluate the model\n",
    "\n",
    "**10 Points**\n",
    "\n",
    "Use the `.evaluate` method of your `single_node_model` with the `X` and `y` arrays to examine the loss and accuracy of the model.  Assign these values as `single_loss` and `single_acc` below."
   ]
  },
  {
   "cell_type": "code",
   "execution_count": 14,
   "metadata": {
    "nbgrader": {
     "grade": false,
     "grade_id": "cell-3fc8d4b03bcd60f1",
     "locked": false,
     "schema_version": 3,
     "solution": true,
     "task": false
    }
   },
   "outputs": [
    {
     "name": "stdout",
     "output_type": "stream",
     "text": [
      "23/23 [==============================] - 0s 1ms/step - loss: 0.6755 - accuracy: 0.5938\n",
      "0.6754795908927917\n",
      "0.593837559223175\n"
     ]
    }
   ],
   "source": [
    "### GRADED\n",
    "single_loss = ''\n",
    "single_acc = ''\n",
    "    \n",
    "### BEGIN SOLUTION\n",
    "tf.random.set_seed(42)\n",
    "results = single_node_model.evaluate(X, y)\n",
    "single_loss = results[0]\n",
    "single_acc = results[1]\n",
    "### END SOLUTION\n",
    "\n",
    "### ANSWER CHECK\n",
    "print(single_loss)\n",
    "print(single_acc)"
   ]
  },
  {
   "cell_type": "code",
   "execution_count": 15,
   "metadata": {
    "nbgrader": {
     "grade": true,
     "grade_id": "cell-0fb4c144e3ce33b4",
     "locked": true,
     "points": 10,
     "schema_version": 3,
     "solution": false,
     "task": false
    }
   },
   "outputs": [
    {
     "name": "stdout",
     "output_type": "stream",
     "text": [
      "23/23 [==============================] - 0s 1ms/step - loss: 0.6755 - accuracy: 0.5938\n"
     ]
    }
   ],
   "source": [
    "### BEGIN HIDDEN TESTS\n",
    "tf.random.set_seed(42)\n",
    "results_ = single_node_model_.evaluate(X, y)\n",
    "single_loss_ = results_[0]\n",
    "single_acc_ = results_[1]\n",
    "\n",
    "#\n",
    "#\n",
    "#\n",
    "assert single_acc == single_acc_\n",
    "### END HIDDEN TESTS"
   ]
  },
  {
   "cell_type": "markdown",
   "metadata": {
    "nbgrader": {
     "grade": false,
     "grade_id": "cell-b0ed9e5e208e501a",
     "locked": true,
     "schema_version": 3,
     "solution": false,
     "task": false
    }
   },
   "source": [
    "[Back to top](#-Index)\n",
    "\n",
    "### Problem 5\n",
    "\n",
    "#### A More Complex Model\n",
    "\n",
    "**10 Points**\n",
    "\n",
    "To try to improve the model, now build and evaluate a second model that uses a single hidden layer with 100 nodes, and a single output layer.  \n",
    "\n",
    "For the hidden layer use the `relu` activation function and for the output layer use the `sigmoid` activation.  \n",
    "\n",
    "Again, set the `np.random.seed(42)`, using the same compile settings and train settings for number of epochs and batch size.  Assign the accuracy of the model to `hundred_acc` below."
   ]
  },
  {
   "cell_type": "code",
   "execution_count": 16,
   "metadata": {
    "nbgrader": {
     "grade": false,
     "grade_id": "cell-99ca08ba0f195e6e",
     "locked": false,
     "schema_version": 3,
     "solution": true,
     "task": false
    }
   },
   "outputs": [
    {
     "name": "stdout",
     "output_type": "stream",
     "text": [
      "23/23 [==============================] - 0s 1ms/step - loss: 0.6334 - acc: 0.6877\n",
      "[0.6333515048027039, 0.6876750588417053]\n"
     ]
    }
   ],
   "source": [
    "### GRADED\n",
    "complex_model = ''\n",
    "hundred_acc = ''\n",
    "    \n",
    "### BEGIN SOLUTION\n",
    "tf.random.set_seed(42)\n",
    "complex_model = Sequential([\n",
    "    Dense(100, activation = 'relu'),\n",
    "    Dense(1, activation = 'sigmoid')\n",
    "])\n",
    "complex_model.compile(loss = 'bce', optimizer = 'rmsprop',\n",
    "                     metrics = ['acc'])\n",
    "np.random.seed(42)\n",
    "history = complex_model.fit(X, y, epochs = 20, batch_size = 10,\n",
    "                           verbose = 0)\n",
    "hundred_acc = complex_model.evaluate(X, y)\n",
    "### END SOLUTION\n",
    "\n",
    "### ANSWER CHECK\n",
    "print(hundred_acc)"
   ]
  },
  {
   "cell_type": "code",
   "execution_count": 17,
   "metadata": {
    "nbgrader": {
     "grade": true,
     "grade_id": "cell-6abd29d1900b7ea3",
     "locked": true,
     "points": 10,
     "schema_version": 3,
     "solution": false,
     "task": false
    }
   },
   "outputs": [
    {
     "name": "stdout",
     "output_type": "stream",
     "text": [
      "23/23 [==============================] - 0s 1ms/step - loss: 0.6334 - acc: 0.6877\n"
     ]
    }
   ],
   "source": [
    "### BEGIN HIDDEN TESTS\n",
    "tf.random.set_seed(42)\n",
    "complex_model_ = Sequential([\n",
    "    Dense(100, activation = 'relu'),\n",
    "    Dense(1, activation = 'sigmoid')\n",
    "])\n",
    "complex_model_.compile(loss = 'bce', optimizer = 'rmsprop',\n",
    "                     metrics = ['acc'])\n",
    "np.random.seed(42)\n",
    "history_ = complex_model_.fit(X, y, epochs = 20, batch_size = 10,\n",
    "                           verbose = 0)\n",
    "hundred_acc_ = complex_model.evaluate(X, y)\n",
    "\n",
    "#\n",
    "#\n",
    "#\n",
    "assert hundred_acc == hundred_acc_\n",
    "### END HIDDEN TESTS"
   ]
  }
 ],
 "metadata": {
  "celltoolbar": "Create Assignment",
  "kernelspec": {
   "display_name": "Python 3 (ipykernel)",
   "language": "python",
   "name": "python3"
  },
  "language_info": {
   "codemirror_mode": {
    "name": "ipython",
    "version": 3
   },
   "file_extension": ".py",
   "mimetype": "text/x-python",
   "name": "python",
   "nbconvert_exporter": "python",
   "pygments_lexer": "ipython3",
   "version": "3.11.7"
  },
  "widgets": {
   "application/vnd.jupyter.widget-state+json": {
    "state": {},
    "version_major": 2,
    "version_minor": 0
   }
  }
 },
 "nbformat": 4,
 "nbformat_minor": 4
}
