{
 "cells": [
  {
   "cell_type": "code",
   "execution_count": 8,
   "id": "365cfd38-799e-4970-aa67-e3153f2992c3",
   "metadata": {},
   "outputs": [],
   "source": [
    "import pandas as pd\n",
    "from surprise import Dataset, Reader\n",
    "from surprise.model_selection import cross_validate\n",
    "from surprise import KNNBasic, SVD, NMF, SlopeOne, CoClustering"
   ]
  },
  {
   "cell_type": "code",
   "execution_count": 10,
   "id": "8ab60722-f4ab-42fd-9f7b-a180defe1bbb",
   "metadata": {},
   "outputs": [
    {
     "data": {
      "text/html": [
       "<div>\n",
       "<style scoped>\n",
       "    .dataframe tbody tr th:only-of-type {\n",
       "        vertical-align: middle;\n",
       "    }\n",
       "\n",
       "    .dataframe tbody tr th {\n",
       "        vertical-align: top;\n",
       "    }\n",
       "\n",
       "    .dataframe thead th {\n",
       "        text-align: right;\n",
       "    }\n",
       "</style>\n",
       "<table border=\"1\" class=\"dataframe\">\n",
       "  <thead>\n",
       "    <tr style=\"text-align: right;\">\n",
       "      <th></th>\n",
       "      <th>user_id</th>\n",
       "      <th>item_id</th>\n",
       "      <th>rating</th>\n",
       "    </tr>\n",
       "  </thead>\n",
       "  <tbody>\n",
       "    <tr>\n",
       "      <th>0</th>\n",
       "      <td>196</td>\n",
       "      <td>242</td>\n",
       "      <td>3</td>\n",
       "    </tr>\n",
       "    <tr>\n",
       "      <th>1</th>\n",
       "      <td>186</td>\n",
       "      <td>302</td>\n",
       "      <td>3</td>\n",
       "    </tr>\n",
       "    <tr>\n",
       "      <th>2</th>\n",
       "      <td>22</td>\n",
       "      <td>377</td>\n",
       "      <td>1</td>\n",
       "    </tr>\n",
       "    <tr>\n",
       "      <th>3</th>\n",
       "      <td>244</td>\n",
       "      <td>51</td>\n",
       "      <td>2</td>\n",
       "    </tr>\n",
       "    <tr>\n",
       "      <th>4</th>\n",
       "      <td>166</td>\n",
       "      <td>346</td>\n",
       "      <td>1</td>\n",
       "    </tr>\n",
       "  </tbody>\n",
       "</table>\n",
       "</div>"
      ],
      "text/plain": [
       "   user_id  item_id  rating\n",
       "0      196      242       3\n",
       "1      186      302       3\n",
       "2       22      377       1\n",
       "3      244       51       2\n",
       "4      166      346       1"
      ]
     },
     "execution_count": 10,
     "metadata": {},
     "output_type": "execute_result"
    }
   ],
   "source": [
    "# Load the first three columns from the data file\n",
    "file_path = './ml-100k/u.data'\n",
    "columns = ['user_id', 'item_id', 'rating']\n",
    "df = pd.read_csv(file_path, sep='\\t', header=None, usecols=[0, 1, 2], names=columns)\n",
    "\n",
    "# Display the loaded DataFrame\n",
    "df.head()"
   ]
  },
  {
   "cell_type": "code",
   "execution_count": 12,
   "id": "8d6c93b2-58da-484f-af07-731a0daac4f1",
   "metadata": {},
   "outputs": [
    {
     "name": "stdout",
     "output_type": "stream",
     "text": [
      "Computing the msd similarity matrix...\n",
      "Done computing similarity matrix.\n",
      "Computing the msd similarity matrix...\n",
      "Done computing similarity matrix.\n",
      "Computing the msd similarity matrix...\n",
      "Done computing similarity matrix.\n",
      "Computing the msd similarity matrix...\n",
      "Done computing similarity matrix.\n",
      "Computing the msd similarity matrix...\n",
      "Done computing similarity matrix.\n",
      "Evaluating RMSE, MAE of algorithm KNNBasic on 5 split(s).\n",
      "\n",
      "                  Fold 1  Fold 2  Fold 3  Fold 4  Fold 5  Mean    Std     \n",
      "RMSE (testset)    0.9741  0.9769  0.9776  0.9872  0.9783  0.9788  0.0044  \n",
      "MAE (testset)     0.7689  0.7720  0.7735  0.7776  0.7729  0.7730  0.0028  \n",
      "Fit time          0.21    0.21    0.22    0.23    0.20    0.21    0.01    \n",
      "Test time         2.01    1.92    1.90    1.88    1.84    1.91    0.06    \n",
      "Evaluating RMSE, MAE of algorithm SVD on 5 split(s).\n",
      "\n",
      "                  Fold 1  Fold 2  Fold 3  Fold 4  Fold 5  Mean    Std     \n",
      "RMSE (testset)    0.9383  0.9349  0.9315  0.9413  0.9322  0.9356  0.0037  \n",
      "MAE (testset)     0.7394  0.7367  0.7373  0.7400  0.7372  0.7381  0.0013  \n",
      "Fit time          0.67    0.69    0.69    0.74    0.69    0.70    0.02    \n",
      "Test time         0.14    0.07    0.07    0.07    0.07    0.08    0.03    \n",
      "Evaluating RMSE, MAE of algorithm NMF on 5 split(s).\n",
      "\n",
      "                  Fold 1  Fold 2  Fold 3  Fold 4  Fold 5  Mean    Std     \n",
      "RMSE (testset)    0.9636  0.9722  0.9639  0.9586  0.9649  0.9646  0.0044  \n",
      "MAE (testset)     0.7561  0.7658  0.7590  0.7520  0.7607  0.7587  0.0046  \n",
      "Fit time          1.15    1.21    1.13    1.20    1.18    1.17    0.03    \n",
      "Test time         0.13    0.06    0.13    0.06    0.13    0.10    0.03    \n",
      "Evaluating RMSE, MAE of algorithm SlopeOne on 5 split(s).\n",
      "\n",
      "                  Fold 1  Fold 2  Fold 3  Fold 4  Fold 5  Mean    Std     \n",
      "RMSE (testset)    0.9477  0.9461  0.9438  0.9417  0.9432  0.9445  0.0021  \n",
      "MAE (testset)     0.7450  0.7441  0.7425  0.7410  0.7412  0.7428  0.0016  \n",
      "Fit time          0.45    0.50    0.47    0.45    0.45    0.46    0.02    \n",
      "Test time         1.54    1.57    1.61    1.53    1.59    1.57    0.03    \n",
      "Evaluating RMSE, MAE of algorithm CoClustering on 5 split(s).\n",
      "\n",
      "                  Fold 1  Fold 2  Fold 3  Fold 4  Fold 5  Mean    Std     \n",
      "RMSE (testset)    0.9681  0.9664  0.9673  0.9662  0.9686  0.9674  0.0009  \n",
      "MAE (testset)     0.7548  0.7580  0.7578  0.7585  0.7589  0.7576  0.0015  \n",
      "Fit time          1.14    1.35    1.07    1.22    1.37    1.23    0.12    \n",
      "Test time         0.06    0.06    0.15    0.06    0.15    0.10    0.04    \n"
     ]
    }
   ],
   "source": [
    "reader = Reader(rating_scale=(1, 5))\n",
    "data = Dataset.load_from_df(df[['user_id', 'item_id', 'rating']], reader)\n",
    "\n",
    "# Define the algorithms to compare\n",
    "algorithms = {\n",
    "    \"KNNBasic\": KNNBasic(),\n",
    "    \"SVD\": SVD(),\n",
    "    \"NMF\": NMF(),\n",
    "    \"SlopeOne\": SlopeOne(),\n",
    "    \"CoClustering\": CoClustering()\n",
    "}\n",
    "\n",
    "# Perform cross-validation and collect results\n",
    "results = {}\n",
    "for name, algo in algorithms.items():\n",
    "    cv_results = cross_validate(algo, data, measures=['RMSE', 'MAE'], cv=5, verbose=True)\n",
    "    results[name] = {\n",
    "        \"RMSE\": cv_results['test_rmse'].mean(),\n",
    "        \"MAE\": cv_results['test_mae'].mean()\n",
    "    }"
   ]
  },
  {
   "cell_type": "code",
   "execution_count": 14,
   "id": "8f0cc062-d1cc-4cd7-a060-4c3bd08b8c59",
   "metadata": {},
   "outputs": [
    {
     "name": "stdout",
     "output_type": "stream",
     "text": [
      "                  RMSE       MAE\n",
      "SVD           0.935602  0.738129\n",
      "SlopeOne      0.944488  0.742767\n",
      "NMF           0.964616  0.758718\n",
      "CoClustering  0.967357  0.757609\n",
      "KNNBasic      0.978818  0.772965\n"
     ]
    }
   ],
   "source": [
    "# Display results\n",
    "results_df = pd.DataFrame(results).T\n",
    "results_df = results_df.sort_values(by=\"RMSE\")\n",
    "print(results_df)"
   ]
  },
  {
   "cell_type": "code",
   "execution_count": 18,
   "id": "f10437b7-e3b8-4432-b567-3f47334ffbf5",
   "metadata": {},
   "outputs": [
    {
     "data": {
      "image/png": "[encoded data removed]",
      "text/plain": [
       "<Figure size 1000x600 with 1 Axes>"
      ]
     },
     "metadata": {},
     "output_type": "display_data"
    }
   ],
   "source": [
    "import matplotlib.pyplot as plt\n",
    "\n",
    "# Sample data for results_df provided by the user\n",
    "results_df = pd.DataFrame({\n",
    "    \"RMSE\": [0.935602, 0.944488, 0.964616, 0.967357, 0.978818],\n",
    "    \"MAE\": [0.738129, 0.742767, 0.758718, 0.757609, 0.772965]\n",
    "}, index=[\"SVD\", \"SlopeOne\", \"NMF\", \"CoClustering\", \"KNNBasic\"])\n",
    "\n",
    "# Plotting RMSE and MAE\n",
    "plt.figure(figsize=(10, 6))\n",
    "\n",
    "# Plotting RMSE\n",
    "plt.plot(results_df.index, results_df['RMSE'], marker='o', label='RMSE')\n",
    "# Plotting MAE\n",
    "plt.plot(results_df.index, results_df['MAE'], marker='o', label='MAE')\n",
    "\n",
    "# Adding labels and title\n",
    "plt.xlabel('Algorithm')\n",
    "plt.ylabel('Error')\n",
    "plt.title('Algorithm Comparison on RMSE and MAE')\n",
    "plt.legend()\n",
    "plt.grid()\n",
    "\n",
    "plt.show()"
   ]
  },
  {
   "cell_type": "code",
   "execution_count": null,
   "id": "6e2e83b9-43f8-4bda-99cc-d315f0354226",
   "metadata": {},
   "outputs": [],
   "source": []
  }
 ],
 "metadata": {
  "kernelspec": {
   "display_name": "Python 3 (ipykernel)",
   "language": "python",
   "name": "python3"
  },
  "language_info": {
   "codemirror_mode": {
    "name": "ipython",
    "version": 3
   },
   "file_extension": ".py",
   "mimetype": "text/x-python",
   "name": "python",
   "nbconvert_exporter": "python",
   "pygments_lexer": "ipython3",
   "version": "3.11.7"
  }
 },
 "nbformat": 4,
 "nbformat_minor": 5
}
