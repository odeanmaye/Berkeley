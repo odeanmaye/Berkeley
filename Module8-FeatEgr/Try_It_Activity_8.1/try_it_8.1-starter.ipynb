{
 "cells": [
  {
   "cell_type": "markdown",
   "metadata": {},
   "source": [
    "### Try-it 8.1: The \"Best\" Model\n",
    "\n",
    "This module was all about regression and using Python's scikitlearn library to build regression models.  Below, a dataset related to real estate prices in California is given. While many of the assignments you have built and evaluated different models, it is important to spend some time interpreting the resulting \"best\" model.  \n",
    "\n",
    "\n",
    "Your goal is to build a regression model to predict the price of a house in California.  After doing so, you are to *interpret* the model.  There are many strategies for doing so, including some built in methods from scikitlearn.  One example is `permutation_importance`.  Permutation feature importance is a strategy for inspecting a model and its features importance.  \n",
    "\n",
    "Take a look at the user guide for `permutation_importance` [here](https://scikit-learn.org/stable/modules/permutation_importance.html).  Use  the `sklearn.inspection` modules implementation of `permutation_importance` to investigate the importance of different features to your regression models.  Share these results on the discussion board."
   ]
  },
  {
   "cell_type": "code",
   "execution_count": 143,
   "metadata": {},
   "outputs": [],
   "source": [
    "import pandas as pd\n",
    "from sklearn.inspection import permutation_importance\n",
    "from sklearn.pipeline import Pipeline\n",
    "from sklearn.compose import make_column_transformer\n",
    "from sklearn.preprocessing import OneHotEncoder, PolynomialFeatures\n",
    "from sklearn.linear_model import LinearRegression\n",
    "from sklearn.model_selection import train_test_split\n",
    "from sklearn.metrics import mean_squared_error, mean_absolute_error\n",
    "from sklearn.feature_selection import RFE"
   ]
  },
  {
   "cell_type": "code",
   "execution_count": 145,
   "metadata": {},
   "outputs": [],
   "source": [
    "import numpy as np\n",
    "import matplotlib.pyplot as plt"
   ]
  },
  {
   "cell_type": "code",
   "execution_count": 147,
   "metadata": {},
   "outputs": [],
   "source": [
    "cali = pd.read_csv('data/housing.csv')"
   ]
  },
  {
   "cell_type": "code",
   "execution_count": 149,
   "metadata": {},
   "outputs": [
    {
     "data": {
      "text/html": [
       "<div>\n",
       "<style scoped>\n",
       "    .dataframe tbody tr th:only-of-type {\n",
       "        vertical-align: middle;\n",
       "    }\n",
       "\n",
       "    .dataframe tbody tr th {\n",
       "        vertical-align: top;\n",
       "    }\n",
       "\n",
       "    .dataframe thead th {\n",
       "        text-align: right;\n",
       "    }\n",
       "</style>\n",
       "<table border=\"1\" class=\"dataframe\">\n",
       "  <thead>\n",
       "    <tr style=\"text-align: right;\">\n",
       "      <th></th>\n",
       "      <th>longitude</th>\n",
       "      <th>latitude</th>\n",
       "      <th>housing_median_age</th>\n",
       "      <th>total_rooms</th>\n",
       "      <th>total_bedrooms</th>\n",
       "      <th>population</th>\n",
       "      <th>households</th>\n",
       "      <th>median_income</th>\n",
       "      <th>median_house_value</th>\n",
       "      <th>ocean_proximity</th>\n",
       "    </tr>\n",
       "  </thead>\n",
       "  <tbody>\n",
       "    <tr>\n",
       "      <th>0</th>\n",
       "      <td>-122.23</td>\n",
       "      <td>37.88</td>\n",
       "      <td>41.0</td>\n",
       "      <td>880.0</td>\n",
       "      <td>129.0</td>\n",
       "      <td>322.0</td>\n",
       "      <td>126.0</td>\n",
       "      <td>8.3252</td>\n",
       "      <td>452600.0</td>\n",
       "      <td>NEAR BAY</td>\n",
       "    </tr>\n",
       "    <tr>\n",
       "      <th>1</th>\n",
       "      <td>-122.22</td>\n",
       "      <td>37.86</td>\n",
       "      <td>21.0</td>\n",
       "      <td>7099.0</td>\n",
       "      <td>1106.0</td>\n",
       "      <td>2401.0</td>\n",
       "      <td>1138.0</td>\n",
       "      <td>8.3014</td>\n",
       "      <td>358500.0</td>\n",
       "      <td>NEAR BAY</td>\n",
       "    </tr>\n",
       "    <tr>\n",
       "      <th>2</th>\n",
       "      <td>-122.24</td>\n",
       "      <td>37.85</td>\n",
       "      <td>52.0</td>\n",
       "      <td>1467.0</td>\n",
       "      <td>190.0</td>\n",
       "      <td>496.0</td>\n",
       "      <td>177.0</td>\n",
       "      <td>7.2574</td>\n",
       "      <td>352100.0</td>\n",
       "      <td>NEAR BAY</td>\n",
       "    </tr>\n",
       "    <tr>\n",
       "      <th>3</th>\n",
       "      <td>-122.25</td>\n",
       "      <td>37.85</td>\n",
       "      <td>52.0</td>\n",
       "      <td>1274.0</td>\n",
       "      <td>235.0</td>\n",
       "      <td>558.0</td>\n",
       "      <td>219.0</td>\n",
       "      <td>5.6431</td>\n",
       "      <td>341300.0</td>\n",
       "      <td>NEAR BAY</td>\n",
       "    </tr>\n",
       "    <tr>\n",
       "      <th>4</th>\n",
       "      <td>-122.25</td>\n",
       "      <td>37.85</td>\n",
       "      <td>52.0</td>\n",
       "      <td>1627.0</td>\n",
       "      <td>280.0</td>\n",
       "      <td>565.0</td>\n",
       "      <td>259.0</td>\n",
       "      <td>3.8462</td>\n",
       "      <td>342200.0</td>\n",
       "      <td>NEAR BAY</td>\n",
       "    </tr>\n",
       "  </tbody>\n",
       "</table>\n",
       "</div>"
      ],
      "text/plain": [
       "   longitude  latitude  housing_median_age  total_rooms  total_bedrooms  \\\n",
       "0    -122.23     37.88                41.0        880.0           129.0   \n",
       "1    -122.22     37.86                21.0       7099.0          1106.0   \n",
       "2    -122.24     37.85                52.0       1467.0           190.0   \n",
       "3    -122.25     37.85                52.0       1274.0           235.0   \n",
       "4    -122.25     37.85                52.0       1627.0           280.0   \n",
       "\n",
       "   population  households  median_income  median_house_value ocean_proximity  \n",
       "0       322.0       126.0         8.3252            452600.0        NEAR BAY  \n",
       "1      2401.0      1138.0         8.3014            358500.0        NEAR BAY  \n",
       "2       496.0       177.0         7.2574            352100.0        NEAR BAY  \n",
       "3       558.0       219.0         5.6431            341300.0        NEAR BAY  \n",
       "4       565.0       259.0         3.8462            342200.0        NEAR BAY  "
      ]
     },
     "execution_count": 149,
     "metadata": {},
     "output_type": "execute_result"
    }
   ],
   "source": [
    "cali.head()"
   ]
  },
  {
   "cell_type": "code",
   "execution_count": 151,
   "metadata": {},
   "outputs": [
    {
     "name": "stdout",
     "output_type": "stream",
     "text": [
      "<class 'pandas.core.frame.DataFrame'>\n",
      "RangeIndex: 20640 entries, 0 to 20639\n",
      "Data columns (total 10 columns):\n",
      " #   Column              Non-Null Count  Dtype  \n",
      "---  ------              --------------  -----  \n",
      " 0   longitude           20640 non-null  float64\n",
      " 1   latitude            20640 non-null  float64\n",
      " 2   housing_median_age  20640 non-null  float64\n",
      " 3   total_rooms         20640 non-null  float64\n",
      " 4   total_bedrooms      20433 non-null  float64\n",
      " 5   population          20640 non-null  float64\n",
      " 6   households          20640 non-null  float64\n",
      " 7   median_income       20640 non-null  float64\n",
      " 8   median_house_value  20640 non-null  float64\n",
      " 9   ocean_proximity     20640 non-null  object \n",
      "dtypes: float64(9), object(1)\n",
      "memory usage: 1.6+ MB\n"
     ]
    }
   ],
   "source": [
    "cali.info()"
   ]
  },
  {
   "cell_type": "markdown",
   "metadata": {},
   "source": [
    "### Feature Correlation Analysis"
   ]
  },
  {
   "cell_type": "code",
   "execution_count": 154,
   "metadata": {},
   "outputs": [
    {
     "name": "stdout",
     "output_type": "stream",
     "text": [
      "longitude            -0.045967\n",
      "latitude             -0.144160\n",
      "housing_median_age    0.105623\n",
      "total_rooms           0.134153\n",
      "total_bedrooms        0.049686\n",
      "population           -0.024650\n",
      "households            0.065843\n",
      "median_house_value    1.000000\n",
      "Name: median_house_value, dtype: float64\n"
     ]
    }
   ],
   "source": [
    "# Select the first 7 features and the target variable\n",
    "correlation_features = cali[['longitude', 'latitude', 'housing_median_age', 'total_rooms', 'total_bedrooms', 'population', 'households', 'median_house_value']]\n",
    "\n",
    "# Calculate the correlation matrix\n",
    "correlation_matrix = correlation_features.corr()\n",
    "\n",
    "# Extract the correlation of each feature with median_house_value\n",
    "correlation_with_target = correlation_matrix['median_house_value']\n",
    "\n",
    "# Display the correlations\n",
    "print(correlation_with_target)"
   ]
  },
  {
   "cell_type": "markdown",
   "metadata": {},
   "source": [
    "#### Correlation Analysis Interpretation\n",
    "\n",
    "Based on the correlation analysis results, here's a quick interpretation of each feature's relationship with `median_house_value`:\n",
    "\n",
    "1. **Longitude (-0.046):** \n",
    "   - The weak negative correlation suggests that as you move further west (more negative longitude), there is a very slight decrease in median house values. \n",
    "   - However, the correlation is very close to zero, indicating almost no linear relationship between longitude and house value.\n",
    "\n",
    "2. **Latitude (-0.144):** \n",
    "   - The moderate negative correlation suggests that as you move north (higher latitude), house values tend to decrease. \n",
    "   - This relationship is more noticeable than longitude's, but it's still not very strong.\n",
    "\n",
    "3. **Housing Median Age (0.106):** \n",
    "   - There's a weak positive correlation here, indicating that areas with older housing tend to have slightly higher median house values. \n",
    "   - This might reflect established neighborhoods with higher property values.\n",
    "\n",
    "4. **Total Rooms (0.134):** \n",
    "   - A weak positive correlation suggests that houses with more rooms tend to have higher median values. \n",
    "   - This is somewhat expected, as more rooms typically indicate larger or more valuable properties.\n",
    "\n",
    "5. **Total Bedrooms (0.050):** \n",
    "   - The correlation is very weak and positive, indicating that the number of bedrooms has a minimal effect on house values. \n",
    "   - This could mean that beyond a certain point, additional bedrooms don’t significantly increase property value.\n",
    "\n",
    "6. **Population (-0.025):** \n",
    "   - The near-zero negative correlation suggests almost no relationship between population size in an area and median house value. \n",
    "   - Population density might not be a strong factor influencing house prices in your dataset.\n",
    "\n",
    "7. **Households (0.066):** \n",
    "   - A very weak positive correlation, indicating a slight tendency for areas with more households to have higher median house values, though this relationship is minimal.\n",
    "\n",
    "#### Overall Interpretation:\n",
    "- **Latitude** and **housing median age** show the most notable correlations with `median_house_value`, though they are still weak.\n",
    "- **Longitude** and **population** show negligible relationships with house prices.\n",
    "- None of the features have a strong linear relationship with house values, indicating that other factors might be more significant in determining house prices or that the relationships are more complex and non-linear.\n",
    "\n",
    "For predictive modeling we will want to explore interactions between features or using more complex models that can capture non-linear relationships.\n"
   ]
  },
  {
   "cell_type": "markdown",
   "metadata": {},
   "source": [
    "### Data Cleaning"
   ]
  },
  {
   "cell_type": "code",
   "execution_count": 158,
   "metadata": {},
   "outputs": [
    {
     "name": "stdout",
     "output_type": "stream",
     "text": [
      "['NEAR BAY' '<1H OCEAN' 'INLAND' 'NEAR OCEAN' 'ISLAND']\n"
     ]
    }
   ],
   "source": [
    "#Examine the non numeric feature ocean_proximity\n",
    "unique_values = cali['ocean_proximity'].unique()\n",
    "print(unique_values)"
   ]
  },
  {
   "cell_type": "code",
   "execution_count": 160,
   "metadata": {},
   "outputs": [
    {
     "name": "stdout",
     "output_type": "stream",
     "text": [
      "(20640, 14)\n",
      "<class 'pandas.core.frame.DataFrame'>\n",
      "RangeIndex: 20640 entries, 0 to 20639\n",
      "Data columns (total 14 columns):\n",
      " #   Column                      Non-Null Count  Dtype  \n",
      "---  ------                      --------------  -----  \n",
      " 0   longitude                   20640 non-null  float64\n",
      " 1   latitude                    20640 non-null  float64\n",
      " 2   housing_median_age          20640 non-null  float64\n",
      " 3   total_rooms                 20640 non-null  float64\n",
      " 4   total_bedrooms              20433 non-null  float64\n",
      " 5   population                  20640 non-null  float64\n",
      " 6   households                  20640 non-null  float64\n",
      " 7   median_income               20640 non-null  float64\n",
      " 8   median_house_value          20640 non-null  float64\n",
      " 9   ocean_proximity_<1H OCEAN   20640 non-null  int8   \n",
      " 10  ocean_proximity_INLAND      20640 non-null  int8   \n",
      " 11  ocean_proximity_ISLAND      20640 non-null  int8   \n",
      " 12  ocean_proximity_NEAR BAY    20640 non-null  int8   \n",
      " 13  ocean_proximity_NEAR OCEAN  20640 non-null  int8   \n",
      "dtypes: float64(9), int8(5)\n",
      "memory usage: 1.5 MB\n",
      "None\n"
     ]
    }
   ],
   "source": [
    "cali_encoded = pd.get_dummies(cali, columns=['ocean_proximity'], dtype=np.int8)\n",
    "print(cali_encoded.shape)\n",
    "print(cali_encoded.info())"
   ]
  },
  {
   "cell_type": "code",
   "execution_count": 162,
   "metadata": {},
   "outputs": [
    {
     "name": "stdout",
     "output_type": "stream",
     "text": [
      "longitude                       0\n",
      "latitude                        0\n",
      "housing_median_age              0\n",
      "total_rooms                     0\n",
      "total_bedrooms                207\n",
      "population                      0\n",
      "households                      0\n",
      "median_income                   0\n",
      "median_house_value              0\n",
      "ocean_proximity_<1H OCEAN       0\n",
      "ocean_proximity_INLAND          0\n",
      "ocean_proximity_ISLAND          0\n",
      "ocean_proximity_NEAR BAY        0\n",
      "ocean_proximity_NEAR OCEAN      0\n",
      "dtype: int64\n",
      "longitude                     0\n",
      "latitude                      0\n",
      "housing_median_age            0\n",
      "total_rooms                   0\n",
      "total_bedrooms                0\n",
      "population                    0\n",
      "households                    0\n",
      "median_income                 0\n",
      "median_house_value            0\n",
      "ocean_proximity_<1H OCEAN     0\n",
      "ocean_proximity_INLAND        0\n",
      "ocean_proximity_ISLAND        0\n",
      "ocean_proximity_NEAR BAY      0\n",
      "ocean_proximity_NEAR OCEAN    0\n",
      "dtype: int64\n"
     ]
    }
   ],
   "source": [
    "null_values = cali_encoded.isnull().sum()\n",
    "print(null_values)\n",
    "\n",
    "cali_encoded_clean = cali_encoded.dropna()\n",
    "\n",
    "null_values = cali_encoded_clean.isnull().sum()\n",
    "print(null_values)"
   ]
  },
  {
   "cell_type": "code",
   "execution_count": 176,
   "metadata": {},
   "outputs": [
    {
     "name": "stderr",
     "output_type": "stream",
     "text": [
      "/var/folders/7d/4cmb6lbj0pjgcc7xjnw7_mhr0000gn/T/ipykernel_53870/2562719908.py:1: SettingWithCopyWarning: \n",
      "A value is trying to be set on a copy of a slice from a DataFrame.\n",
      "Try using .loc[row_indexer,col_indexer] = value instead\n",
      "\n",
      "See the caveats in the documentation: https://pandas.pydata.org/pandas-docs/stable/user_guide/indexing.html#returning-a-view-versus-a-copy\n",
      "  cali_encoded_clean['lat_long'] = cali_encoded_clean['latitude'] * cali_encoded_clean['longitude']\n"
     ]
    }
   ],
   "source": [
    "cali_encoded_clean['lat_long'] = cali_encoded_clean['latitude'] * cali_encoded_clean['longitude']"
   ]
  },
  {
   "cell_type": "markdown",
   "metadata": {},
   "source": [
    "### Regression Analysis"
   ]
  },
  {
   "cell_type": "markdown",
   "metadata": {},
   "source": [
    "#### Recursive Feature Elimination"
   ]
  },
  {
   "cell_type": "code",
   "execution_count": 180,
   "metadata": {},
   "outputs": [
    {
     "name": "stdout",
     "output_type": "stream",
     "text": [
      "Feature Ranking:\n",
      "longitude: 4\n",
      "latitude: 5\n",
      "housing_median_age: 10\n",
      "total_rooms: 14\n",
      "total_bedrooms: 11\n",
      "population: 13\n",
      "households: 12\n",
      "median_income: 3\n",
      "ocean_proximity_<1H OCEAN: 6\n",
      "ocean_proximity_INLAND: 2\n",
      "ocean_proximity_ISLAND: 1\n",
      "ocean_proximity_NEAR BAY: 8\n",
      "ocean_proximity_NEAR OCEAN: 7\n",
      "lat_long: 9\n",
      "\n",
      "Selected Features:\n",
      "Index(['ocean_proximity_ISLAND'], dtype='object')\n"
     ]
    }
   ],
   "source": [
    "X = cali_encoded_clean.drop('median_house_value', axis=1)\n",
    "y = cali_encoded_clean['median_house_value']\n",
    "\n",
    "# Initialize the linear regression model\n",
    "model = LinearRegression()\n",
    "\n",
    "# Initialize RFE and specify the number of features to select (in this case, let's start with 1)\n",
    "rfe = RFE(model, n_features_to_select=1)\n",
    "\n",
    "# Fit RFE\n",
    "rfe = rfe.fit(X, y)\n",
    "\n",
    "# Print the ranking of features (1 indicates the best feature)\n",
    "print(\"Feature Ranking:\")\n",
    "for i in range(X.shape[1]):\n",
    "    print(f\"{X.columns[i]}: {rfe.ranking_[i]}\")\n",
    "\n",
    "# You can also print the selected features\n",
    "print(\"\\nSelected Features:\")\n",
    "selected_features = X.columns[rfe.support_]\n",
    "print(selected_features)"
   ]
  },
  {
   "cell_type": "markdown",
   "metadata": {},
   "source": [
    "#### Simple Linear Regression"
   ]
  },
  {
   "cell_type": "code",
   "execution_count": 168,
   "metadata": {},
   "outputs": [],
   "source": [
    "X = cali_encoded_clean[['median_income']]\n",
    "y = cali_encoded_clean['median_house_value']\n",
    "X_train, X_test, y_train, y_test = train_test_split(X, y, test_size=0.3, random_state=22)"
   ]
  },
  {
   "cell_type": "code",
   "execution_count": 170,
   "metadata": {},
   "outputs": [
    {
     "name": "stdout",
     "output_type": "stream",
     "text": [
      "12\n",
      "[6939589489.656916, 6897183944.69689, 6788846521.909938, 6786329864.004311, 6785483833.086062, 6777138527.829405, 6747799304.97053, 6746399682.927995, 6746306329.923568, 6744557849.850094, 6744334387.853163, 6744184640.957877, 6744457536.2990675, 6754317271.465192, 6795297413.572321, 6878740455.931805, 7007862232.902913, 7592194780.460241, 7850332708.679351, 8153448973.330329]\n"
     ]
    }
   ],
   "source": [
    "test_mses = []\n",
    "\n",
    "for i in range(1, 21):\n",
    "\n",
    "    pipe = Pipeline([\n",
    "        ('pfeat', PolynomialFeatures(degree=i, include_bias=False)),\n",
    "        ('linreg', LinearRegression())\n",
    "    ])\n",
    "    \n",
    "    #fit pipeline on training data\n",
    "    pipe.fit(X_train, y_train)\n",
    "\n",
    "    #mse of testing data\n",
    "    test_preds = pipe.predict(X_test)\n",
    "    test_mses.append(mean_squared_error(y_test, test_preds))\n",
    "\n",
    "best_model_complexity = test_mses.index(min(test_mses)) + 1\n",
    "\n",
    "# Answer check\n",
    "print(best_model_complexity)\n",
    "print(test_mses)"
   ]
  },
  {
   "cell_type": "code",
   "execution_count": 172,
   "metadata": {},
   "outputs": [
    {
     "name": "stdout",
     "output_type": "stream",
     "text": [
      "6744184640.957877\n",
      "82122.98485173244\n",
      "61249.3656439991\n"
     ]
    }
   ],
   "source": [
    "pipe = Pipeline([\n",
    "        ('pfeat', PolynomialFeatures(degree=12, include_bias=False)),\n",
    "        ('linreg', LinearRegression())\n",
    "    ])\n",
    "    \n",
    "#fit pipeline on training data\n",
    "pipe.fit(X_train, y_train)\n",
    "\n",
    "predictions = pipe.predict(X_test)\n",
    "mse = mean_squared_error(y_test, predictions)\n",
    "rmse = np.sqrt(mse)\n",
    "mae = mean_absolute_error(y_test, predictions)\n",
    "print(mse)\n",
    "print(rmse)\n",
    "print(mae)"
   ]
  },
  {
   "cell_type": "code",
   "execution_count": 139,
   "metadata": {},
   "outputs": [
    {
     "data": {
      "image/png": "[encoded data removed]",
      "text/plain": [
       "<Figure size 640x480 with 1 Axes>"
      ]
     },
     "metadata": {},
     "output_type": "display_data"
    }
   ],
   "source": [
    "# Convert X_test to a NumPy array and sort the values for better plotting\n",
    "X_test_array = X_test.values.ravel()  # Convert to 1D array\n",
    "sort_order = np.argsort(X_test_array)\n",
    "\n",
    "X_test_sorted = X_test_array[sort_order]\n",
    "y_test_sorted = y_test.values[sort_order]  # Ensure y_test is sorted similarly\n",
    "predictions_sorted = predictions[sort_order]  # Ensure predictions are sorted similarly\n",
    "\n",
    "# Scatter plot of the actual data\n",
    "plt.scatter(X_test_sorted, y_test_sorted, color='blue', label='Test data')\n",
    "\n",
    "# Plot the regression line\n",
    "plt.plot(X_test_sorted, predictions_sorted, color='red', label='Predictor')\n",
    "\n",
    "# Adding labels and legend\n",
    "plt.xlabel('Median Income')\n",
    "plt.ylabel('Median House Value')\n",
    "plt.title('Income vs House Value with Predictor')\n",
    "plt.legend()\n",
    "\n",
    "# Show plot\n",
    "plt.show()\n"
   ]
  },
  {
   "cell_type": "markdown",
   "metadata": {},
   "source": [
    "#### Multiple Linear Regression"
   ]
  },
  {
   "cell_type": "code",
   "execution_count": 182,
   "metadata": {},
   "outputs": [],
   "source": [
    "X = cali_encoded_clean[['median_income', 'latitude', 'longitude']]\n",
    "y = cali_encoded_clean['median_house_value']\n",
    "X_train, X_test, y_train, y_test = train_test_split(X, y, test_size=0.3, random_state=22)"
   ]
  },
  {
   "cell_type": "code",
   "execution_count": 184,
   "metadata": {},
   "outputs": [
    {
     "name": "stdout",
     "output_type": "stream",
     "text": [
      "7\n",
      "[5433319717.341561, 5171669667.289496, 5009420433.776549, 4644006083.740254, 4343534764.661318, 4398573076.231453, 4334675870.738328, 22896044509.430576, 4668205422.726692, 5122633292.911703, 19835023996.325684, 14437672019.216711, 25726012540.06956, 18073354494.09102, 10517074886.590153, 10592289919.174162, 11277854182.46022, 10832240298.278498, 4774472463.278306, 4805751634.022095]\n"
     ]
    }
   ],
   "source": [
    "test_mses = []\n",
    "\n",
    "for i in range(1, 21):\n",
    "\n",
    "    pipe = Pipeline([\n",
    "        ('pfeat', PolynomialFeatures(degree=i, include_bias=False)),\n",
    "        ('linreg', LinearRegression())\n",
    "    ])\n",
    "    \n",
    "    #fit pipeline on training data\n",
    "    pipe.fit(X_train, y_train)\n",
    "\n",
    "    #mse of testing data\n",
    "    test_preds = pipe.predict(X_test)\n",
    "    test_mses.append(mean_squared_error(y_test, test_preds))\n",
    "\n",
    "best_model_complexity = test_mses.index(min(test_mses)) + 1\n",
    "\n",
    "# Answer check\n",
    "print(best_model_complexity)\n",
    "print(test_mses)"
   ]
  },
  {
   "cell_type": "code",
   "execution_count": 186,
   "metadata": {},
   "outputs": [
    {
     "name": "stdout",
     "output_type": "stream",
     "text": [
      "4334675870.738328\n",
      "65838.25537435153\n",
      "46566.261179417495\n"
     ]
    }
   ],
   "source": [
    "pipe = Pipeline([\n",
    "        ('pfeat', PolynomialFeatures(degree=7, include_bias=False)),\n",
    "        ('linreg', LinearRegression())\n",
    "    ])\n",
    "    \n",
    "#fit pipeline on training data\n",
    "pipe.fit(X_train, y_train)\n",
    "\n",
    "predictions = pipe.predict(X_test)\n",
    "mse = mean_squared_error(y_test, predictions)\n",
    "rmse = np.sqrt(mse)\n",
    "mae = mean_absolute_error(y_test, predictions)\n",
    "print(mse)\n",
    "print(rmse)\n",
    "print(mae)"
   ]
  },
  {
   "cell_type": "code",
   "execution_count": 192,
   "metadata": {},
   "outputs": [
    {
     "name": "stdout",
     "output_type": "stream",
     "text": [
      "Feature 0: 1.8538 ± 2.0935\n",
      "Feature 1: 182.3810 ± 19.8671\n",
      "Feature 2: 169.8947 ± 17.3347\n"
     ]
    },
    {
     "data": {
      "image/png": "[encoded data removed]",
      "text/plain": [
       "<Figure size 640x480 with 1 Axes>"
      ]
     },
     "metadata": {},
     "output_type": "display_data"
    }
   ],
   "source": [
    "# Compute permutation importance\n",
    "result = permutation_importance(pipe, X_test, y_test, n_repeats=10, random_state=22)\n",
    "\n",
    "# Print feature importance\n",
    "for i in range(X.shape[1]):\n",
    "    print(f\"Feature {i}: {result.importances_mean[i]:.4f} ± {result.importances_std[i]:.4f}\")\n",
    "\n",
    "sorted_idx = result.importances_mean.argsort()\n",
    "plt.barh(range(X.shape[1]), result.importances_mean[sorted_idx], xerr=result.importances_std[sorted_idx])\n",
    "plt.xlabel(\"Permutation Importance\")\n",
    "plt.ylabel(\"Feature\")\n",
    "plt.show()"
   ]
  },
  {
   "cell_type": "code",
   "execution_count": 196,
   "metadata": {},
   "outputs": [
    {
     "data": {
      "image/png": "[encoded data removed]",
      "text/plain": [
       "<Figure size 800x600 with 1 Axes>"
      ]
     },
     "metadata": {},
     "output_type": "display_data"
    }
   ],
   "source": [
    "# Data for the chart\n",
    "features = ['Median Income', 'Latitude', 'Longitude']\n",
    "importances = [1.8538, 182.3810, 169.8947]\n",
    "errors = [2.0935, 19.8671, 17.3347]\n",
    "\n",
    "# Create the bar chart\n",
    "plt.figure(figsize=(8, 6))\n",
    "plt.barh(features, importances, xerr=errors, color='skyblue', capsize=5)\n",
    "\n",
    "# Add titles and labels\n",
    "plt.xlabel('Mean Importance')\n",
    "plt.title('Permutation Importance Analysis')\n",
    "plt.gca().invert_yaxis()  # Invert y-axis to have the highest importance on top\n",
    "\n",
    "# Show the plot\n",
    "plt.show()"
   ]
  },
  {
   "cell_type": "code",
   "execution_count": null,
   "metadata": {},
   "outputs": [],
   "source": []
  }
 ],
 "metadata": {
  "kernelspec": {
   "display_name": "Python 3 (ipykernel)",
   "language": "python",
   "name": "python3"
  },
  "language_info": {
   "codemirror_mode": {
    "name": "ipython",
    "version": 3
   },
   "file_extension": ".py",
   "mimetype": "text/x-python",
   "name": "python",
   "nbconvert_exporter": "python",
   "pygments_lexer": "ipython3",
   "version": "3.11.7"
  },
  "widgets": {
   "application/vnd.jupyter.widget-state+json": {
    "state": {},
    "version_major": 2,
    "version_minor": 0
   }
  }
 },
 "nbformat": 4,
 "nbformat_minor": 4
}
