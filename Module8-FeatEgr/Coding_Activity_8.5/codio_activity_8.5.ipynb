{
 "cells": [
  {
   "cell_type": "markdown",
   "metadata": {
    "deletable": false,
    "editable": false,
    "nbgrader": {
     "cell_type": "markdown",
     "checksum": "77c453c467cf3c57bd781b97b754f647",
     "grade": false,
     "grade_id": "cell-64c2053c73e13ffb",
     "locked": true,
     "schema_version": 3,
     "solution": false
    }
   },
   "source": [
    "### Codio Activity 8.5: Comparing Complexity and Variance\n",
    "\n",
    "**Expected Time: 60 Minutes**\n",
    "\n",
    "**Total Points: 35**\n",
    "\n",
    "In this activity, you will explore the effect of model complexity on the variance in predictions.  Continuing with the automotive data, you will build models on a subset of 10 vehicles.  You will compare the model error when used on the entire dataset, and investigate how variance changes with model complexity.\n",
    "\n",
    "#### Index:\n",
    "\n",
    "- [Problem 1](#Problem-1)\n",
    "- [Problem 2](#Problem-2)\n",
    "- [Problem 3](#Problem-3)\n",
    "- [Problem 4](#Problem-4)\n"
   ]
  },
  {
   "cell_type": "code",
   "execution_count": 2,
   "metadata": {
    "deletable": false,
    "editable": false,
    "nbgrader": {
     "cell_type": "code",
     "checksum": "fc3191833f940d789835416fb44eab33",
     "grade": false,
     "grade_id": "cell-3f3018c76c6cef71",
     "locked": true,
     "schema_version": 3,
     "solution": false
    }
   },
   "outputs": [],
   "source": [
    "import numpy as np\n",
    "import pandas as pd\n",
    "from sklearn.linear_model import LinearRegression\n",
    "from sklearn.preprocessing import PolynomialFeatures\n",
    "from sklearn.pipeline import Pipeline\n",
    "from sklearn.metrics import mean_squared_error\n",
    "import plotly.express as px"
   ]
  },
  {
   "cell_type": "code",
   "execution_count": 3,
   "metadata": {
    "deletable": false,
    "editable": true,
    "nbgrader": {
     "cell_type": "code",
     "checksum": "bd58e75527ae3b41fb8d29fe73ae8e0a",
     "grade": false,
     "grade_id": "cell-73ac6816c6e7d20b",
     "locked": false,
     "schema_version": 3,
     "solution": false
    }
   },
   "outputs": [],
   "source": [
    "auto = pd.read_csv('../data/auto.csv')"
   ]
  },
  {
   "cell_type": "code",
   "execution_count": 6,
   "metadata": {
    "deletable": false,
    "editable": false,
    "nbgrader": {
     "cell_type": "code",
     "checksum": "4edee7d26d390b26f5bb75a1e8fef8e7",
     "grade": false,
     "grade_id": "cell-bef974eedda6777e",
     "locked": true,
     "schema_version": 3,
     "solution": false
    }
   },
   "outputs": [
    {
     "data": {
      "text/html": [
       "<div>\n",
       "<style scoped>\n",
       "    .dataframe tbody tr th:only-of-type {\n",
       "        vertical-align: middle;\n",
       "    }\n",
       "\n",
       "    .dataframe tbody tr th {\n",
       "        vertical-align: top;\n",
       "    }\n",
       "\n",
       "    .dataframe thead th {\n",
       "        text-align: right;\n",
       "    }\n",
       "</style>\n",
       "<table border=\"1\" class=\"dataframe\">\n",
       "  <thead>\n",
       "    <tr style=\"text-align: right;\">\n",
       "      <th></th>\n",
       "      <th>mpg</th>\n",
       "      <th>cylinders</th>\n",
       "      <th>displacement</th>\n",
       "      <th>horsepower</th>\n",
       "      <th>weight</th>\n",
       "      <th>acceleration</th>\n",
       "      <th>year</th>\n",
       "      <th>origin</th>\n",
       "      <th>name</th>\n",
       "    </tr>\n",
       "  </thead>\n",
       "  <tbody>\n",
       "    <tr>\n",
       "      <th>0</th>\n",
       "      <td>18.0</td>\n",
       "      <td>8</td>\n",
       "      <td>307.0</td>\n",
       "      <td>130.0</td>\n",
       "      <td>3504</td>\n",
       "      <td>12.0</td>\n",
       "      <td>70</td>\n",
       "      <td>1</td>\n",
       "      <td>chevrolet chevelle malibu</td>\n",
       "    </tr>\n",
       "    <tr>\n",
       "      <th>1</th>\n",
       "      <td>15.0</td>\n",
       "      <td>8</td>\n",
       "      <td>350.0</td>\n",
       "      <td>165.0</td>\n",
       "      <td>3693</td>\n",
       "      <td>11.5</td>\n",
       "      <td>70</td>\n",
       "      <td>1</td>\n",
       "      <td>buick skylark 320</td>\n",
       "    </tr>\n",
       "    <tr>\n",
       "      <th>2</th>\n",
       "      <td>18.0</td>\n",
       "      <td>8</td>\n",
       "      <td>318.0</td>\n",
       "      <td>150.0</td>\n",
       "      <td>3436</td>\n",
       "      <td>11.0</td>\n",
       "      <td>70</td>\n",
       "      <td>1</td>\n",
       "      <td>plymouth satellite</td>\n",
       "    </tr>\n",
       "    <tr>\n",
       "      <th>3</th>\n",
       "      <td>16.0</td>\n",
       "      <td>8</td>\n",
       "      <td>304.0</td>\n",
       "      <td>150.0</td>\n",
       "      <td>3433</td>\n",
       "      <td>12.0</td>\n",
       "      <td>70</td>\n",
       "      <td>1</td>\n",
       "      <td>amc rebel sst</td>\n",
       "    </tr>\n",
       "    <tr>\n",
       "      <th>4</th>\n",
       "      <td>17.0</td>\n",
       "      <td>8</td>\n",
       "      <td>302.0</td>\n",
       "      <td>140.0</td>\n",
       "      <td>3449</td>\n",
       "      <td>10.5</td>\n",
       "      <td>70</td>\n",
       "      <td>1</td>\n",
       "      <td>ford torino</td>\n",
       "    </tr>\n",
       "  </tbody>\n",
       "</table>\n",
       "</div>"
      ],
      "text/plain": [
       "    mpg  cylinders  displacement  horsepower  weight  acceleration  year  \\\n",
       "0  18.0          8         307.0       130.0    3504          12.0    70   \n",
       "1  15.0          8         350.0       165.0    3693          11.5    70   \n",
       "2  18.0          8         318.0       150.0    3436          11.0    70   \n",
       "3  16.0          8         304.0       150.0    3433          12.0    70   \n",
       "4  17.0          8         302.0       140.0    3449          10.5    70   \n",
       "\n",
       "   origin                       name  \n",
       "0       1  chevrolet chevelle malibu  \n",
       "1       1          buick skylark 320  \n",
       "2       1         plymouth satellite  \n",
       "3       1              amc rebel sst  \n",
       "4       1                ford torino  "
      ]
     },
     "execution_count": 6,
     "metadata": {},
     "output_type": "execute_result"
    }
   ],
   "source": [
    "auto.head()"
   ]
  },
  {
   "cell_type": "markdown",
   "metadata": {
    "deletable": false,
    "editable": false,
    "nbgrader": {
     "cell_type": "markdown",
     "checksum": "442b18269ea1568e9cc59ed6f63e6b5c",
     "grade": false,
     "grade_id": "cell-f93ddb19e0524747",
     "locked": true,
     "schema_version": 3,
     "solution": false
    }
   },
   "source": [
    "### The Sample\n",
    "\n",
    "Below, a sample of ten vehicles from the data is extracted.  These data are what will form our **training** data.  The data is subsequently split into `X_train` and `y_train`.  You are to use this smaller dataset to build your models on, and explore their performance using the entire dataset."
   ]
  },
  {
   "cell_type": "code",
   "execution_count": 9,
   "metadata": {
    "deletable": false,
    "editable": false,
    "nbgrader": {
     "cell_type": "code",
     "checksum": "2ad47fa94904271c916007a84d203be3",
     "grade": false,
     "grade_id": "cell-f70c1ab76af73290",
     "locked": true,
     "schema_version": 3,
     "solution": false
    }
   },
   "outputs": [],
   "source": [
    "X = auto.loc[:,['horsepower']]\n",
    "y = auto['mpg']\n",
    "sample = auto.sample(10, random_state = 22)\n",
    "X_train = sample.loc[:, ['horsepower']]\n",
    "y_train = sample['mpg']"
   ]
  },
  {
   "cell_type": "code",
   "execution_count": 11,
   "metadata": {
    "deletable": false,
    "editable": false,
    "nbgrader": {
     "cell_type": "code",
     "checksum": "52c2a5cfd0a7fcfdf92565ea55e5df5e",
     "grade": false,
     "grade_id": "cell-cf216c968b8942cf",
     "locked": true,
     "schema_version": 3,
     "solution": false
    }
   },
   "outputs": [
    {
     "data": {
      "text/html": [
       "<div>\n",
       "<style scoped>\n",
       "    .dataframe tbody tr th:only-of-type {\n",
       "        vertical-align: middle;\n",
       "    }\n",
       "\n",
       "    .dataframe tbody tr th {\n",
       "        vertical-align: top;\n",
       "    }\n",
       "\n",
       "    .dataframe thead th {\n",
       "        text-align: right;\n",
       "    }\n",
       "</style>\n",
       "<table border=\"1\" class=\"dataframe\">\n",
       "  <thead>\n",
       "    <tr style=\"text-align: right;\">\n",
       "      <th></th>\n",
       "      <th>horsepower</th>\n",
       "    </tr>\n",
       "  </thead>\n",
       "  <tbody>\n",
       "    <tr>\n",
       "      <th>280</th>\n",
       "      <td>88.0</td>\n",
       "    </tr>\n",
       "    <tr>\n",
       "      <th>57</th>\n",
       "      <td>80.0</td>\n",
       "    </tr>\n",
       "    <tr>\n",
       "      <th>46</th>\n",
       "      <td>100.0</td>\n",
       "    </tr>\n",
       "    <tr>\n",
       "      <th>223</th>\n",
       "      <td>110.0</td>\n",
       "    </tr>\n",
       "    <tr>\n",
       "      <th>303</th>\n",
       "      <td>90.0</td>\n",
       "    </tr>\n",
       "    <tr>\n",
       "      <th>73</th>\n",
       "      <td>140.0</td>\n",
       "    </tr>\n",
       "    <tr>\n",
       "      <th>98</th>\n",
       "      <td>100.0</td>\n",
       "    </tr>\n",
       "    <tr>\n",
       "      <th>250</th>\n",
       "      <td>105.0</td>\n",
       "    </tr>\n",
       "    <tr>\n",
       "      <th>254</th>\n",
       "      <td>100.0</td>\n",
       "    </tr>\n",
       "    <tr>\n",
       "      <th>337</th>\n",
       "      <td>110.0</td>\n",
       "    </tr>\n",
       "  </tbody>\n",
       "</table>\n",
       "</div>"
      ],
      "text/plain": [
       "     horsepower\n",
       "280        88.0\n",
       "57         80.0\n",
       "46        100.0\n",
       "223       110.0\n",
       "303        90.0\n",
       "73        140.0\n",
       "98        100.0\n",
       "250       105.0\n",
       "254       100.0\n",
       "337       110.0"
      ]
     },
     "execution_count": 11,
     "metadata": {},
     "output_type": "execute_result"
    }
   ],
   "source": [
    "X_train"
   ]
  },
  {
   "cell_type": "code",
   "execution_count": 13,
   "metadata": {
    "deletable": false,
    "editable": false,
    "nbgrader": {
     "cell_type": "code",
     "checksum": "af881d0a1e8e65f26a2af6bcae072b51",
     "grade": false,
     "grade_id": "cell-2fa050a0a64e7c6c",
     "locked": true,
     "schema_version": 3,
     "solution": false
    }
   },
   "outputs": [
    {
     "data": {
      "text/plain": [
       "280    22.3\n",
       "57     25.0\n",
       "46     19.0\n",
       "223    17.5\n",
       "303    28.4\n",
       "73     13.0\n",
       "98     18.0\n",
       "250    19.2\n",
       "254    20.5\n",
       "337    23.5\n",
       "Name: mpg, dtype: float64"
      ]
     },
     "execution_count": 13,
     "metadata": {},
     "output_type": "execute_result"
    }
   ],
   "source": [
    "y_train"
   ]
  },
  {
   "cell_type": "code",
   "execution_count": 15,
   "metadata": {
    "deletable": false,
    "editable": false,
    "nbgrader": {
     "cell_type": "code",
     "checksum": "9522ae88d5519bf43271ee9ccf9d0513",
     "grade": false,
     "grade_id": "cell-3fff97584257ebdb",
     "locked": true,
     "schema_version": 3,
     "solution": false
    }
   },
   "outputs": [
    {
     "data": {
      "text/plain": [
       "(392, 1)"
      ]
     },
     "execution_count": 15,
     "metadata": {},
     "output_type": "execute_result"
    }
   ],
   "source": [
    "X.shape"
   ]
  },
  {
   "cell_type": "markdown",
   "metadata": {
    "deletable": false,
    "editable": false,
    "nbgrader": {
     "cell_type": "markdown",
     "checksum": "5a932b880fc6aca1305d26ad14054808",
     "grade": false,
     "grade_id": "cell-c065614594f006da",
     "locked": true,
     "schema_version": 3,
     "solution": false
    }
   },
   "source": [
    "[Back to top](#Index:) \n",
    "\n",
    "### Problem 1\n",
    "\n",
    "#### Iterate on Models\n",
    "\n",
    "**20 Points**\n",
    "\n",
    "Complete the code below according to the instructions below:\n",
    "\n",
    "- Assign the values in the `horsepower` column of `auto` to the variable `X` below.\n",
    "- Assign the values in the `mpg` column of `auto` to the variable `y` below.\n",
    "\n",
    "Use a `for` loop to loop over the values from one to ten. For each iteration `i`:\n",
    "\n",
    "- Use `Pipeline` to create a pipeline object. Inside the pipeline object define a a tuple where the first element is a string identifier `quad_features'` and the second element is an instance of `PolynomialFeatures` of degree `i` with `include_bias = False`. Inside the pipeline define another tuple where the first element is a string identifier `quad_model`, and the second element is an instance of `LinearRegression`. Assign the pipeline object to the variable `pipe`.\n",
    "- Use the `fit` function on `pipe` to train your model on `X_train` and `y_train`. Assign the result to `preds`.\n",
    "- Use the `predict` function to predict the value of `X_train`. Assign the result to `preds`.\n",
    "- Assign the each `model_predictions` of degree `i` the corresponding `preds` value."
   ]
  },
  {
   "cell_type": "code",
   "execution_count": 51,
   "metadata": {
    "deletable": false,
    "nbgrader": {
     "cell_type": "code",
     "checksum": "08840d4e4bf772e7f3580618838123b5",
     "grade": false,
     "grade_id": "cell-5030deb704abdd79",
     "locked": false,
     "schema_version": 3,
     "solution": true
    }
   },
   "outputs": [
    {
     "name": "stdout",
     "output_type": "stream",
     "text": [
      "Starting Dictionary of Predictions\n",
      " {'degree_1': None, 'degree_2': None, 'degree_3': None, 'degree_4': None, 'degree_5': None, 'degree_6': None, 'degree_7': None, 'degree_8': None, 'degree_9': None, 'degree_10': None}\n"
     ]
    },
    {
     "data": {
      "text/plain": [
       "array([23.60120856, 25.25782873, 21.1162783 , 19.04550308, 23.18705352,\n",
       "       12.83317743, 21.1162783 , 20.08089069, 21.1162783 , 19.04550308])"
      ]
     },
     "execution_count": 51,
     "metadata": {},
     "output_type": "execute_result"
    }
   ],
   "source": [
    "### GRADED\n",
    "\n",
    "### YOUR SOLUTION HERE\n",
    "model_predictions = {f'degree_{i}': None for i in range(1, 11)}\n",
    "\n",
    "print(\"Starting Dictionary of Predictions\\n\", model_predictions)\n",
    "\n",
    "X = auto[['horsepower']]\n",
    "y = auto['mpg']\n",
    "\n",
    "#for 1, 2, 3, ..., 10\n",
    "for i in range(1, 11):\n",
    "    #create pipeline\n",
    "    pipe = Pipeline([\n",
    "        ('quad_features', PolynomialFeatures(degree=i, include_bias=False)),\n",
    "        ('quad_model', LinearRegression())\n",
    "    ])\n",
    "    \n",
    "    #fit pipeline on training data\n",
    "    pipe.fit(X_train, y_train)\n",
    "    \n",
    "    #make predictions on all data\n",
    "    preds = pipe.predict(X_train)\n",
    "    \n",
    "    #assign to model_predictions\n",
    "    model_predictions[f'degree_{i}'] = preds\n",
    "\n",
    "# Answer check\n",
    "model_predictions['degree_1'][:10]"
   ]
  },
  {
   "cell_type": "code",
   "execution_count": null,
   "metadata": {
    "deletable": false,
    "editable": false,
    "nbgrader": {
     "cell_type": "code",
     "checksum": "36d94f536f4058c3dca8c3305fd19e28",
     "grade": true,
     "grade_id": "cell-58b5c109b0fbde13",
     "locked": true,
     "points": 20,
     "schema_version": 3,
     "solution": false
    }
   },
   "outputs": [],
   "source": []
  },
  {
   "cell_type": "markdown",
   "metadata": {
    "deletable": false,
    "editable": false,
    "nbgrader": {
     "cell_type": "markdown",
     "checksum": "c5cb61b71beaf6789e427a5b75507747",
     "grade": false,
     "grade_id": "cell-0e3ae8957659f76d",
     "locked": true,
     "schema_version": 3,
     "solution": false
    }
   },
   "source": [
    "[Back to top](#Index:) \n",
    "\n",
    "### Problem 2\n",
    "\n",
    "#### DataFrame of Predictions\n",
    "\n",
    "**5 Points**\n",
    "\n",
    "Use the `model_predictions` dictionary to create a DataFrame of the 10 models predictions.  Assign your solution to `pred_df` below as a DataFrame. "
   ]
  },
  {
   "cell_type": "code",
   "execution_count": 41,
   "metadata": {
    "deletable": false,
    "nbgrader": {
     "cell_type": "code",
     "checksum": "9f1acd66cfe77ba2b907e7ba8f89055c",
     "grade": false,
     "grade_id": "cell-f410033f079f31d8",
     "locked": false,
     "schema_version": 3,
     "solution": true
    }
   },
   "outputs": [
    {
     "name": "stdout",
     "output_type": "stream",
     "text": [
      "<class 'pandas.core.frame.DataFrame'>\n"
     ]
    },
    {
     "data": {
      "text/html": [
       "<div>\n",
       "<style scoped>\n",
       "    .dataframe tbody tr th:only-of-type {\n",
       "        vertical-align: middle;\n",
       "    }\n",
       "\n",
       "    .dataframe tbody tr th {\n",
       "        vertical-align: top;\n",
       "    }\n",
       "\n",
       "    .dataframe thead th {\n",
       "        text-align: right;\n",
       "    }\n",
       "</style>\n",
       "<table border=\"1\" class=\"dataframe\">\n",
       "  <thead>\n",
       "    <tr style=\"text-align: right;\">\n",
       "      <th></th>\n",
       "      <th>degree_1</th>\n",
       "      <th>degree_2</th>\n",
       "      <th>degree_3</th>\n",
       "      <th>degree_4</th>\n",
       "      <th>degree_5</th>\n",
       "      <th>degree_6</th>\n",
       "      <th>degree_7</th>\n",
       "      <th>degree_8</th>\n",
       "      <th>degree_9</th>\n",
       "      <th>degree_10</th>\n",
       "    </tr>\n",
       "  </thead>\n",
       "  <tbody>\n",
       "    <tr>\n",
       "      <th>0</th>\n",
       "      <td>14.903953</td>\n",
       "      <td>14.959892</td>\n",
       "      <td>15.704485</td>\n",
       "      <td>32.550328</td>\n",
       "      <td>97.807527</td>\n",
       "      <td>101.886398</td>\n",
       "      <td>103.934544</td>\n",
       "      <td>103.117944</td>\n",
       "      <td>98.288488</td>\n",
       "      <td>87.834730</td>\n",
       "    </tr>\n",
       "    <tr>\n",
       "      <th>1</th>\n",
       "      <td>7.656239</td>\n",
       "      <td>9.465786</td>\n",
       "      <td>0.931088</td>\n",
       "      <td>-372.035448</td>\n",
       "      <td>-3456.141665</td>\n",
       "      <td>-4370.275872</td>\n",
       "      <td>-5342.443862</td>\n",
       "      <td>-6208.274949</td>\n",
       "      <td>-6618.861218</td>\n",
       "      <td>-5878.338979</td>\n",
       "    </tr>\n",
       "    <tr>\n",
       "      <th>2</th>\n",
       "      <td>10.762402</td>\n",
       "      <td>11.618435</td>\n",
       "      <td>9.428697</td>\n",
       "      <td>-61.767623</td>\n",
       "      <td>-516.945175</td>\n",
       "      <td>-606.298592</td>\n",
       "      <td>-688.570562</td>\n",
       "      <td>-746.836711</td>\n",
       "      <td>-752.164365</td>\n",
       "      <td>-655.409764</td>\n",
       "    </tr>\n",
       "    <tr>\n",
       "      <th>3</th>\n",
       "      <td>10.762402</td>\n",
       "      <td>11.618435</td>\n",
       "      <td>9.428697</td>\n",
       "      <td>-61.767623</td>\n",
       "      <td>-516.945175</td>\n",
       "      <td>-606.298592</td>\n",
       "      <td>-688.570562</td>\n",
       "      <td>-746.836711</td>\n",
       "      <td>-752.164365</td>\n",
       "      <td>-655.409764</td>\n",
       "    </tr>\n",
       "    <tr>\n",
       "      <th>4</th>\n",
       "      <td>12.833177</td>\n",
       "      <td>13.221841</td>\n",
       "      <td>13.121121</td>\n",
       "      <td>13.003201</td>\n",
       "      <td>12.998835</td>\n",
       "      <td>13.007348</td>\n",
       "      <td>12.999361</td>\n",
       "      <td>12.999488</td>\n",
       "      <td>12.999649</td>\n",
       "      <td>12.999760</td>\n",
       "    </tr>\n",
       "    <tr>\n",
       "      <th>5</th>\n",
       "      <td>0.822681</td>\n",
       "      <td>5.796354</td>\n",
       "      <td>-36.418588</td>\n",
       "      <td>-2829.974843</td>\n",
       "      <td>-37292.470511</td>\n",
       "      <td>-55083.737747</td>\n",
       "      <td>-78497.676810</td>\n",
       "      <td>-105646.830520</td>\n",
       "      <td>-128082.313347</td>\n",
       "      <td>-121002.393396</td>\n",
       "    </tr>\n",
       "    <tr>\n",
       "      <th>6</th>\n",
       "      <td>-3.733024</td>\n",
       "      <td>4.164672</td>\n",
       "      <td>-81.244311</td>\n",
       "      <td>-6990.016970</td>\n",
       "      <td>-110848.137856</td>\n",
       "      <td>-179675.982201</td>\n",
       "      <td>-280878.532410</td>\n",
       "      <td>-413685.147737</td>\n",
       "      <td>-544562.255622</td>\n",
       "      <td>-540348.685660</td>\n",
       "    </tr>\n",
       "    <tr>\n",
       "      <th>7</th>\n",
       "      <td>-2.697637</td>\n",
       "      <td>4.478285</td>\n",
       "      <td>-69.372104</td>\n",
       "      <td>-5796.729901</td>\n",
       "      <td>-88388.425930</td>\n",
       "      <td>-140373.953520</td>\n",
       "      <td>-215012.775799</td>\n",
       "      <td>-310430.483703</td>\n",
       "      <td>-401212.190234</td>\n",
       "      <td>-393585.878483</td>\n",
       "    </tr>\n",
       "    <tr>\n",
       "      <th>8</th>\n",
       "      <td>-4.768412</td>\n",
       "      <td>3.884721</td>\n",
       "      <td>-94.197888</td>\n",
       "      <td>-8355.125483</td>\n",
       "      <td>-137595.304912</td>\n",
       "      <td>-227545.258945</td>\n",
       "      <td>-362900.094230</td>\n",
       "      <td>-545064.004823</td>\n",
       "      <td>-730626.129138</td>\n",
       "      <td>-733374.620936</td>\n",
       "    </tr>\n",
       "    <tr>\n",
       "      <th>9</th>\n",
       "      <td>2.479301</td>\n",
       "      <td>6.551268</td>\n",
       "      <td>-24.472630</td>\n",
       "      <td>-1910.516962</td>\n",
       "      <td>-23324.325388</td>\n",
       "      <td>-33238.424249</td>\n",
       "      <td>-45711.618700</td>\n",
       "      <td>-59441.518101</td>\n",
       "      <td>-69876.544283</td>\n",
       "      <td>-64916.073089</td>\n",
       "    </tr>\n",
       "  </tbody>\n",
       "</table>\n",
       "</div>"
      ],
      "text/plain": [
       "    degree_1   degree_2   degree_3     degree_4       degree_5       degree_6  \\\n",
       "0  14.903953  14.959892  15.704485    32.550328      97.807527     101.886398   \n",
       "1   7.656239   9.465786   0.931088  -372.035448   -3456.141665   -4370.275872   \n",
       "2  10.762402  11.618435   9.428697   -61.767623    -516.945175    -606.298592   \n",
       "3  10.762402  11.618435   9.428697   -61.767623    -516.945175    -606.298592   \n",
       "4  12.833177  13.221841  13.121121    13.003201      12.998835      13.007348   \n",
       "5   0.822681   5.796354 -36.418588 -2829.974843  -37292.470511  -55083.737747   \n",
       "6  -3.733024   4.164672 -81.244311 -6990.016970 -110848.137856 -179675.982201   \n",
       "7  -2.697637   4.478285 -69.372104 -5796.729901  -88388.425930 -140373.953520   \n",
       "8  -4.768412   3.884721 -94.197888 -8355.125483 -137595.304912 -227545.258945   \n",
       "9   2.479301   6.551268 -24.472630 -1910.516962  -23324.325388  -33238.424249   \n",
       "\n",
       "        degree_7       degree_8       degree_9      degree_10  \n",
       "0     103.934544     103.117944      98.288488      87.834730  \n",
       "1   -5342.443862   -6208.274949   -6618.861218   -5878.338979  \n",
       "2    -688.570562    -746.836711    -752.164365    -655.409764  \n",
       "3    -688.570562    -746.836711    -752.164365    -655.409764  \n",
       "4      12.999361      12.999488      12.999649      12.999760  \n",
       "5  -78497.676810 -105646.830520 -128082.313347 -121002.393396  \n",
       "6 -280878.532410 -413685.147737 -544562.255622 -540348.685660  \n",
       "7 -215012.775799 -310430.483703 -401212.190234 -393585.878483  \n",
       "8 -362900.094230 -545064.004823 -730626.129138 -733374.620936  \n",
       "9  -45711.618700  -59441.518101  -69876.544283  -64916.073089  "
      ]
     },
     "execution_count": 41,
     "metadata": {},
     "output_type": "execute_result"
    }
   ],
   "source": [
    "### GRADED\n",
    "\n",
    "### YOUR SOLUTION HERE\n",
    "pred_df = pd.DataFrame(model_predictions)\n",
    "\n",
    "# Answer check\n",
    "print(type(pred_df))\n",
    "pred_df.head(10)"
   ]
  },
  {
   "cell_type": "code",
   "execution_count": null,
   "metadata": {
    "deletable": false,
    "editable": false,
    "nbgrader": {
     "cell_type": "code",
     "checksum": "1118707222ecb6600a05720f5a443923",
     "grade": true,
     "grade_id": "cell-435b1c581d017378",
     "locked": true,
     "points": 5,
     "schema_version": 3,
     "solution": false
    }
   },
   "outputs": [],
   "source": []
  },
  {
   "cell_type": "markdown",
   "metadata": {
    "deletable": false,
    "editable": false,
    "nbgrader": {
     "cell_type": "markdown",
     "checksum": "2a606c827a6f3c154abe557cb96c600f",
     "grade": false,
     "grade_id": "cell-2fc5be6c21c2e393",
     "locked": true,
     "schema_version": 3,
     "solution": false
    }
   },
   "source": [
    "[Back to top](#Index:) \n",
    "\n",
    "### Problem 3\n",
    "\n",
    "#### DataFrame of Errors\n",
    "\n",
    "**5 Points**\n",
    "\n",
    "Now, determine the error for each model and create a DataFrame of these errors.  One way to do this is to use your prediction DataFrame's `.subtract` method to subtract `y` from each feature.  Assign the DataFrame of errors as `error_df` below.  "
   ]
  },
  {
   "cell_type": "code",
   "execution_count": 45,
   "metadata": {
    "deletable": false,
    "nbgrader": {
     "cell_type": "code",
     "checksum": "36de39066ef3dcbdb792ca0b74be329e",
     "grade": false,
     "grade_id": "cell-39bb57c061a5550e",
     "locked": false,
     "schema_version": 3,
     "solution": true
    }
   },
   "outputs": [
    {
     "name": "stdout",
     "output_type": "stream",
     "text": [
      "<class 'pandas.core.frame.DataFrame'>\n"
     ]
    },
    {
     "data": {
      "text/html": [
       "<div>\n",
       "<style scoped>\n",
       "    .dataframe tbody tr th:only-of-type {\n",
       "        vertical-align: middle;\n",
       "    }\n",
       "\n",
       "    .dataframe tbody tr th {\n",
       "        vertical-align: top;\n",
       "    }\n",
       "\n",
       "    .dataframe thead th {\n",
       "        text-align: right;\n",
       "    }\n",
       "</style>\n",
       "<table border=\"1\" class=\"dataframe\">\n",
       "  <thead>\n",
       "    <tr style=\"text-align: right;\">\n",
       "      <th></th>\n",
       "      <th>degree_1</th>\n",
       "      <th>degree_2</th>\n",
       "      <th>degree_3</th>\n",
       "      <th>degree_4</th>\n",
       "      <th>degree_5</th>\n",
       "      <th>degree_6</th>\n",
       "      <th>degree_7</th>\n",
       "      <th>degree_8</th>\n",
       "      <th>degree_9</th>\n",
       "      <th>degree_10</th>\n",
       "    </tr>\n",
       "  </thead>\n",
       "  <tbody>\n",
       "    <tr>\n",
       "      <th>0</th>\n",
       "      <td>-3.096047</td>\n",
       "      <td>-3.040108</td>\n",
       "      <td>-2.295515</td>\n",
       "      <td>14.550328</td>\n",
       "      <td>79.807527</td>\n",
       "      <td>83.886398</td>\n",
       "      <td>85.934544</td>\n",
       "      <td>85.117944</td>\n",
       "      <td>80.288488</td>\n",
       "      <td>69.834730</td>\n",
       "    </tr>\n",
       "    <tr>\n",
       "      <th>1</th>\n",
       "      <td>-7.343761</td>\n",
       "      <td>-5.534214</td>\n",
       "      <td>-14.068912</td>\n",
       "      <td>-387.035448</td>\n",
       "      <td>-3471.141665</td>\n",
       "      <td>-4385.275872</td>\n",
       "      <td>-5357.443862</td>\n",
       "      <td>-6223.274949</td>\n",
       "      <td>-6633.861218</td>\n",
       "      <td>-5893.338979</td>\n",
       "    </tr>\n",
       "    <tr>\n",
       "      <th>2</th>\n",
       "      <td>-7.237598</td>\n",
       "      <td>-6.381565</td>\n",
       "      <td>-8.571303</td>\n",
       "      <td>-79.767623</td>\n",
       "      <td>-534.945175</td>\n",
       "      <td>-624.298592</td>\n",
       "      <td>-706.570562</td>\n",
       "      <td>-764.836711</td>\n",
       "      <td>-770.164365</td>\n",
       "      <td>-673.409764</td>\n",
       "    </tr>\n",
       "    <tr>\n",
       "      <th>3</th>\n",
       "      <td>-5.237598</td>\n",
       "      <td>-4.381565</td>\n",
       "      <td>-6.571303</td>\n",
       "      <td>-77.767623</td>\n",
       "      <td>-532.945175</td>\n",
       "      <td>-622.298592</td>\n",
       "      <td>-704.570562</td>\n",
       "      <td>-762.836711</td>\n",
       "      <td>-768.164365</td>\n",
       "      <td>-671.409764</td>\n",
       "    </tr>\n",
       "    <tr>\n",
       "      <th>4</th>\n",
       "      <td>-4.166823</td>\n",
       "      <td>-3.778159</td>\n",
       "      <td>-3.878879</td>\n",
       "      <td>-3.996799</td>\n",
       "      <td>-4.001165</td>\n",
       "      <td>-3.992652</td>\n",
       "      <td>-4.000639</td>\n",
       "      <td>-4.000512</td>\n",
       "      <td>-4.000351</td>\n",
       "      <td>-4.000240</td>\n",
       "    </tr>\n",
       "    <tr>\n",
       "      <th>5</th>\n",
       "      <td>-14.177319</td>\n",
       "      <td>-9.203646</td>\n",
       "      <td>-51.418588</td>\n",
       "      <td>-2844.974843</td>\n",
       "      <td>-37307.470511</td>\n",
       "      <td>-55098.737747</td>\n",
       "      <td>-78512.676810</td>\n",
       "      <td>-105661.830520</td>\n",
       "      <td>-128097.313347</td>\n",
       "      <td>-121017.393396</td>\n",
       "    </tr>\n",
       "    <tr>\n",
       "      <th>6</th>\n",
       "      <td>-17.733024</td>\n",
       "      <td>-9.835328</td>\n",
       "      <td>-95.244311</td>\n",
       "      <td>-7004.016970</td>\n",
       "      <td>-110862.137856</td>\n",
       "      <td>-179689.982201</td>\n",
       "      <td>-280892.532410</td>\n",
       "      <td>-413699.147737</td>\n",
       "      <td>-544576.255622</td>\n",
       "      <td>-540362.685660</td>\n",
       "    </tr>\n",
       "    <tr>\n",
       "      <th>7</th>\n",
       "      <td>-16.697637</td>\n",
       "      <td>-9.521715</td>\n",
       "      <td>-83.372104</td>\n",
       "      <td>-5810.729901</td>\n",
       "      <td>-88402.425930</td>\n",
       "      <td>-140387.953520</td>\n",
       "      <td>-215026.775799</td>\n",
       "      <td>-310444.483703</td>\n",
       "      <td>-401226.190234</td>\n",
       "      <td>-393599.878483</td>\n",
       "    </tr>\n",
       "    <tr>\n",
       "      <th>8</th>\n",
       "      <td>-18.768412</td>\n",
       "      <td>-10.115279</td>\n",
       "      <td>-108.197888</td>\n",
       "      <td>-8369.125483</td>\n",
       "      <td>-137609.304912</td>\n",
       "      <td>-227559.258945</td>\n",
       "      <td>-362914.094230</td>\n",
       "      <td>-545078.004823</td>\n",
       "      <td>-730640.129138</td>\n",
       "      <td>-733388.620936</td>\n",
       "    </tr>\n",
       "    <tr>\n",
       "      <th>9</th>\n",
       "      <td>-12.520699</td>\n",
       "      <td>-8.448732</td>\n",
       "      <td>-39.472630</td>\n",
       "      <td>-1925.516962</td>\n",
       "      <td>-23339.325388</td>\n",
       "      <td>-33253.424249</td>\n",
       "      <td>-45726.618700</td>\n",
       "      <td>-59456.518101</td>\n",
       "      <td>-69891.544283</td>\n",
       "      <td>-64931.073089</td>\n",
       "    </tr>\n",
       "  </tbody>\n",
       "</table>\n",
       "</div>"
      ],
      "text/plain": [
       "    degree_1   degree_2    degree_3     degree_4       degree_5  \\\n",
       "0  -3.096047  -3.040108   -2.295515    14.550328      79.807527   \n",
       "1  -7.343761  -5.534214  -14.068912  -387.035448   -3471.141665   \n",
       "2  -7.237598  -6.381565   -8.571303   -79.767623    -534.945175   \n",
       "3  -5.237598  -4.381565   -6.571303   -77.767623    -532.945175   \n",
       "4  -4.166823  -3.778159   -3.878879    -3.996799      -4.001165   \n",
       "5 -14.177319  -9.203646  -51.418588 -2844.974843  -37307.470511   \n",
       "6 -17.733024  -9.835328  -95.244311 -7004.016970 -110862.137856   \n",
       "7 -16.697637  -9.521715  -83.372104 -5810.729901  -88402.425930   \n",
       "8 -18.768412 -10.115279 -108.197888 -8369.125483 -137609.304912   \n",
       "9 -12.520699  -8.448732  -39.472630 -1925.516962  -23339.325388   \n",
       "\n",
       "        degree_6       degree_7       degree_8       degree_9      degree_10  \n",
       "0      83.886398      85.934544      85.117944      80.288488      69.834730  \n",
       "1   -4385.275872   -5357.443862   -6223.274949   -6633.861218   -5893.338979  \n",
       "2    -624.298592    -706.570562    -764.836711    -770.164365    -673.409764  \n",
       "3    -622.298592    -704.570562    -762.836711    -768.164365    -671.409764  \n",
       "4      -3.992652      -4.000639      -4.000512      -4.000351      -4.000240  \n",
       "5  -55098.737747  -78512.676810 -105661.830520 -128097.313347 -121017.393396  \n",
       "6 -179689.982201 -280892.532410 -413699.147737 -544576.255622 -540362.685660  \n",
       "7 -140387.953520 -215026.775799 -310444.483703 -401226.190234 -393599.878483  \n",
       "8 -227559.258945 -362914.094230 -545078.004823 -730640.129138 -733388.620936  \n",
       "9  -33253.424249  -45726.618700  -59456.518101  -69891.544283  -64931.073089  "
      ]
     },
     "execution_count": 45,
     "metadata": {},
     "output_type": "execute_result"
    }
   ],
   "source": [
    "### GRADED\n",
    "\n",
    "### YOUR SOLUTION HERE\n",
    "error_df = pred_df.subtract(y, axis=0)\n",
    "\n",
    "# Answer check\n",
    "print(type(error_df))\n",
    "error_df.head(10)"
   ]
  },
  {
   "cell_type": "code",
   "execution_count": null,
   "metadata": {
    "deletable": false,
    "editable": false,
    "nbgrader": {
     "cell_type": "code",
     "checksum": "1038610a6be8b0b6cf1ea1ebed1e54d2",
     "grade": true,
     "grade_id": "cell-f8eb586be93a6b46",
     "locked": true,
     "points": 5,
     "schema_version": 3,
     "solution": false
    }
   },
   "outputs": [],
   "source": []
  },
  {
   "cell_type": "markdown",
   "metadata": {
    "deletable": false,
    "editable": false,
    "nbgrader": {
     "cell_type": "markdown",
     "checksum": "70dbde216b02d9c1363cf9d262748583",
     "grade": false,
     "grade_id": "cell-ade7dbd628b3300f",
     "locked": true,
     "schema_version": 3,
     "solution": false
    }
   },
   "source": [
    "[Back to top](#Index:) \n",
    "\n",
    "### Problem 4\n",
    "\n",
    "#### Mean and Variance of Model Errors\n",
    "\n",
    "**5 Points**\n",
    "\n",
    "\n",
    "Using the DataFrame of errors, examine the mean and variance of each model's error.  What degree model has the highest variance?  Assign your response as an integer to `highest_var_degree` below."
   ]
  },
  {
   "cell_type": "code",
   "execution_count": 49,
   "metadata": {
    "deletable": false,
    "nbgrader": {
     "cell_type": "code",
     "checksum": "265b46010098a1b88d2b81d43a21310c",
     "grade": false,
     "grade_id": "cell-ef9bb67cd8c535da",
     "locked": false,
     "schema_version": 3,
     "solution": true
    }
   },
   "outputs": [
    {
     "name": "stdout",
     "output_type": "stream",
     "text": [
      "degree_1        20.190769\n",
      "degree_2        21.002833\n",
      "degree_3        18.274483\n",
      "degree_4      -260.748039\n",
      "degree_5     -3666.621907\n",
      "degree_6     -5835.795650\n",
      "degree_7     -8913.248709\n",
      "degree_8    -12853.885820\n",
      "degree_9    -16646.498288\n",
      "degree_10   -16391.571881\n",
      "dtype: float64\n",
      "degree_1     6.353133e+01\n",
      "degree_2     5.323108e+01\n",
      "degree_3     4.074620e+02\n",
      "degree_4     1.347811e+06\n",
      "degree_5     3.401180e+08\n",
      "degree_6     9.034403e+08\n",
      "degree_7     2.245584e+09\n",
      "degree_8     4.974680e+09\n",
      "degree_9     8.818810e+09\n",
      "degree_10    8.825161e+09\n",
      "dtype: float64\n",
      "<class 'int'>\n",
      "5\n"
     ]
    }
   ],
   "source": [
    "### GRADED\n",
    "\n",
    "### YOUR SOLUTION HERE\n",
    "# Calculate the mean of each column\n",
    "means = pred_df.mean()\n",
    "print(means)\n",
    "\n",
    "# Calculate the variance of each column\n",
    "variances = pred_df.var()\n",
    "print(variances)\n",
    "\n",
    "highest_var_degree = int(10)\n",
    "    \n",
    "\n",
    "# Answer check\n",
    "print(type(highest_var_degree))\n",
    "print(highest_var_degree)"
   ]
  },
  {
   "cell_type": "code",
   "execution_count": null,
   "metadata": {
    "deletable": false,
    "editable": false,
    "nbgrader": {
     "cell_type": "code",
     "checksum": "43175052dc6f16dc262452cfbdfc4c4b",
     "grade": true,
     "grade_id": "cell-ed6417d67b686a9e",
     "locked": true,
     "points": 5,
     "schema_version": 3,
     "solution": false
    }
   },
   "outputs": [],
   "source": []
  },
  {
   "cell_type": "code",
   "execution_count": null,
   "metadata": {},
   "outputs": [],
   "source": []
  }
 ],
 "metadata": {
  "kernelspec": {
   "display_name": "Python 3 (ipykernel)",
   "language": "python",
   "name": "python3"
  },
  "language_info": {
   "codemirror_mode": {
    "name": "ipython",
    "version": 3
   },
   "file_extension": ".py",
   "mimetype": "text/x-python",
   "name": "python",
   "nbconvert_exporter": "python",
   "pygments_lexer": "ipython3",
   "version": "3.11.7"
  },
  "widgets": {
   "application/vnd.jupyter.widget-state+json": {
    "state": {},
    "version_major": 2,
    "version_minor": 0
   }
  }
 },
 "nbformat": 4,
 "nbformat_minor": 4
}
