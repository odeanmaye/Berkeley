{
 "cells": [
  {
   "cell_type": "markdown",
   "metadata": {
    "nbgrader": {
     "grade": false,
     "grade_id": "cell-791ba6396ad0ab57",
     "locked": true,
     "schema_version": 3,
     "solution": false
    }
   },
   "source": [
    "### Codio Activity 13.5: Experimenting with $\\beta_0$ and $\\beta_1$ in Logistic Function\n",
    "\n",
    "**Expected Time: 45 Minutes**\n",
    "\n",
    "**Total Points: 40**\n",
    "\n",
    "This activity focuses on changing the $\\beta_0$ and $\\beta_1$ parameters within the logistic function.  Your goal should be to understand how each parameter effects the resulting sigmoid curve.  In the next activity, you will use a numeric approach to identify the best parameters to fit a given classification problem, here your goal is to see how these parameters change the geometry of the curve.\n",
    "\n",
    "### Index\n",
    "\n",
    "- [Problem 1](#Problem-1)\n",
    "- [Problem 2](#Problem-2)\n",
    "- [Problem 3](#Problem-3)\n",
    "- [Problem 4](#Problem-4)"
   ]
  },
  {
   "cell_type": "code",
   "execution_count": 1,
   "metadata": {},
   "outputs": [],
   "source": [
    "import numpy as np\n",
    "import pandas as pd\n",
    "import matplotlib.pyplot as plt\n",
    "import seaborn as sns\n",
    "from sklearn.linear_model import LogisticRegression"
   ]
  },
  {
   "cell_type": "markdown",
   "metadata": {
    "nbgrader": {
     "grade": false,
     "grade_id": "cell-b3145cdb555b1c0a",
     "locked": true,
     "schema_version": 3,
     "solution": false
    }
   },
   "source": [
    "### The Data\n",
    "\n",
    "For this activity we revisit the credit data and examine only the balance feature to classifiy "
   ]
  },
  {
   "cell_type": "code",
   "execution_count": 2,
   "metadata": {},
   "outputs": [],
   "source": [
    "credit = pd.read_csv('data/default.csv')"
   ]
  },
  {
   "cell_type": "code",
   "execution_count": 3,
   "metadata": {},
   "outputs": [
    {
     "data": {
      "text/html": [
       "<div>\n",
       "<style scoped>\n",
       "    .dataframe tbody tr th:only-of-type {\n",
       "        vertical-align: middle;\n",
       "    }\n",
       "\n",
       "    .dataframe tbody tr th {\n",
       "        vertical-align: top;\n",
       "    }\n",
       "\n",
       "    .dataframe thead th {\n",
       "        text-align: right;\n",
       "    }\n",
       "</style>\n",
       "<table border=\"1\" class=\"dataframe\">\n",
       "  <thead>\n",
       "    <tr style=\"text-align: right;\">\n",
       "      <th></th>\n",
       "      <th>default</th>\n",
       "      <th>student</th>\n",
       "      <th>balance</th>\n",
       "      <th>income</th>\n",
       "    </tr>\n",
       "  </thead>\n",
       "  <tbody>\n",
       "    <tr>\n",
       "      <th>0</th>\n",
       "      <td>No</td>\n",
       "      <td>No</td>\n",
       "      <td>729.526495</td>\n",
       "      <td>44361.625074</td>\n",
       "    </tr>\n",
       "    <tr>\n",
       "      <th>1</th>\n",
       "      <td>No</td>\n",
       "      <td>Yes</td>\n",
       "      <td>817.180407</td>\n",
       "      <td>12106.134700</td>\n",
       "    </tr>\n",
       "    <tr>\n",
       "      <th>2</th>\n",
       "      <td>No</td>\n",
       "      <td>No</td>\n",
       "      <td>1073.549164</td>\n",
       "      <td>31767.138947</td>\n",
       "    </tr>\n",
       "    <tr>\n",
       "      <th>3</th>\n",
       "      <td>No</td>\n",
       "      <td>No</td>\n",
       "      <td>529.250605</td>\n",
       "      <td>35704.493935</td>\n",
       "    </tr>\n",
       "    <tr>\n",
       "      <th>4</th>\n",
       "      <td>No</td>\n",
       "      <td>No</td>\n",
       "      <td>785.655883</td>\n",
       "      <td>38463.495879</td>\n",
       "    </tr>\n",
       "  </tbody>\n",
       "</table>\n",
       "</div>"
      ],
      "text/plain": [
       "  default student      balance        income\n",
       "0      No      No   729.526495  44361.625074\n",
       "1      No     Yes   817.180407  12106.134700\n",
       "2      No      No  1073.549164  31767.138947\n",
       "3      No      No   529.250605  35704.493935\n",
       "4      No      No   785.655883  38463.495879"
      ]
     },
     "execution_count": 3,
     "metadata": {},
     "output_type": "execute_result"
    }
   ],
   "source": [
    "credit.head()"
   ]
  },
  {
   "cell_type": "code",
   "execution_count": 4,
   "metadata": {},
   "outputs": [],
   "source": [
    "y = np.where(credit['default'] == 'Yes', 1, 0)"
   ]
  },
  {
   "cell_type": "code",
   "execution_count": 5,
   "metadata": {},
   "outputs": [
    {
     "data": {
      "image/png": "[encoded data removed]",
      "text/plain": [
       "<Figure size 432x288 with 1 Axes>"
      ]
     },
     "metadata": {
      "needs_background": "light"
     },
     "output_type": "display_data"
    }
   ],
   "source": [
    "sns.scatterplot(data = credit, x = 'balance', y = y, hue = 'default', legend = False)\n",
    "plt.yticks([0, 1], ['No', 'Yes']);"
   ]
  },
  {
   "cell_type": "markdown",
   "metadata": {
    "nbgrader": {
     "grade": false,
     "grade_id": "cell-f2336459569e8739",
     "locked": true,
     "schema_version": 3,
     "solution": false
    }
   },
   "source": [
    "[Back to top](#-Index)\n",
    "\n",
    "### Problem 1\n",
    "\n",
    "### Function for Plotting \n",
    "\n",
    "**10 Points**\n",
    "\n",
    "Complete the definition of the function `sigma` below that takes, as parameters, the array `x` and the coefficients `beta_0`, and `beta_1`. Your function should return the evaluation of the Sigma function given by:\n",
    "\n",
    "\n",
    "$$\\Sigma(x, \\beta_0, \\beta_1) = \\frac{1}{1 + e^{-(\\beta_0 + \\beta_1x})}$$\n",
    "\n"
   ]
  },
  {
   "cell_type": "code",
   "execution_count": 7,
   "metadata": {
    "nbgrader": {
     "grade": false,
     "grade_id": "cell-82f7695f61644a38",
     "locked": false,
     "schema_version": 3,
     "solution": true
    }
   },
   "outputs": [
    {
     "data": {
      "text/plain": [
       "array([0.5       , 0.73105858, 0.88079708])"
      ]
     },
     "execution_count": 7,
     "metadata": {},
     "output_type": "execute_result"
    }
   ],
   "source": [
    "### GRADED\n",
    "\n",
    "def sigma(x, beta_0, beta_1):\n",
    "    \"\"\"Implements sigma function with linear parameters\n",
    "    beta_0 and beta_1.\n",
    "    \n",
    "    Parameters\n",
    "    ----------\n",
    "    x: type `np.ndarray`\n",
    "       1D NumPy array of domain inputs\n",
    "    beta_0: type `float`\n",
    "        float representing y-intercept of linear exponent\n",
    "    beta_1: type `float`\n",
    "        float representing slope of linear exponent\n",
    "        \n",
    "    Returns array of values size len(x)\n",
    "    \"\"\"\n",
    "    return None\n",
    "\n",
    "### BEGIN SOLUTION\n",
    "def sigma(x, beta_0, beta_1):\n",
    "    return 1/(1 + np.exp(-(beta_0 + beta_1*x)))\n",
    "### END SOLUTION\n",
    "\n",
    "# Answer check\n",
    "sigma(np.array([-1, 0, 1]), 1, 1)"
   ]
  },
  {
   "cell_type": "markdown",
   "metadata": {
    "nbgrader": {
     "grade": false,
     "grade_id": "cell-d8534418970b50d2",
     "locked": true,
     "schema_version": 3,
     "solution": false
    }
   },
   "source": [
    "[Back to top](#-Index)\n",
    "\n",
    "### Problem 2\n",
    "\n",
    "### Varying $\\beta_0$\n",
    "\n",
    "**10 Points**\n",
    "\n",
    "Below, the image shows three curves plotted, all with $\\beta_1 = 0.01$, and with $\\beta_0 = 5, 10, 15$.  Enter your answer as an integer with the appropriate $\\beta_0$ value to the respective variables `a`, `b`, and `c` below.\n",
    "\n",
    "1. $\\beta_0 = 15$\n",
    "2. $\\beta_0 = 10$\n",
    "3. $\\beta_0 = 5$\n",
    "\n",
    "<center>\n",
    "    <img src = 'images/betasopt.png' />\n",
    "</center>"
   ]
  },
  {
   "cell_type": "code",
   "execution_count": 9,
   "metadata": {
    "nbgrader": {
     "grade": false,
     "grade_id": "cell-95212fdf35297017",
     "locked": false,
     "schema_version": 3,
     "solution": true
    }
   },
   "outputs": [
    {
     "name": "stdout",
     "output_type": "stream",
     "text": [
      "<class 'int'>\n"
     ]
    }
   ],
   "source": [
    "### GRADED\n",
    "\n",
    "#assign integer values for beta0 to appropriate variable 5, 10, or 15\n",
    "a = ''\n",
    "b = ''\n",
    "c = ''\n",
    "\n",
    "### BEGIN SOLUTION\n",
    "a = 5\n",
    "b = 10\n",
    "c = 15\n",
    "### END SOLUTION\n",
    "\n",
    "# Answer check\n",
    "print(type(a))"
   ]
  },
  {
   "cell_type": "markdown",
   "metadata": {
    "nbgrader": {
     "grade": false,
     "grade_id": "cell-39ac9a853830d2d1",
     "locked": true,
     "schema_version": 3,
     "solution": false
    }
   },
   "source": [
    "[Back to top](#-Index)\n",
    "\n",
    "### Problem 3\n",
    "\n",
    "### Varying $\\beta_1$\n",
    "\n",
    "**10 Points**\n",
    "\n",
    "Now, compare the given values for $\\beta_1$ with $\\beta_0 = 10$ and match the correct curve with the given value as a float below.\n",
    "\n",
    "1. $\\beta_1 = -0.025$\n",
    "2. $\\beta_1 = -0.01$\n",
    "3. $\\beta_1 = -0.005$\n",
    "\n",
    "\n",
    "<center>\n",
    "    <img src = 'images/p3.png' />\n",
    "</center>"
   ]
  },
  {
   "cell_type": "code",
   "execution_count": 11,
   "metadata": {
    "nbgrader": {
     "grade": false,
     "grade_id": "cell-b1b274b79f2263da",
     "locked": false,
     "schema_version": 3,
     "solution": true
    }
   },
   "outputs": [
    {
     "name": "stdout",
     "output_type": "stream",
     "text": [
      "<class 'float'>\n"
     ]
    }
   ],
   "source": [
    "### GRADED\n",
    "\n",
    "#assign float values for beta0 to appropriate variable -0.025, 0.01, or 0.005 below\n",
    "a = ''\n",
    "b = ''\n",
    "c = ''\n",
    "\n",
    "### BEGIN SOLUTION\n",
    "a = -0.01\n",
    "b = -0.025\n",
    "c = -0.005\n",
    "### END SOLUTION\n",
    "\n",
    "# Answer check\n",
    "print(type(a))"
   ]
  },
  {
   "cell_type": "markdown",
   "metadata": {
    "nbgrader": {
     "grade": false,
     "grade_id": "cell-90a2101d3a21abf2",
     "locked": true,
     "schema_version": 3,
     "solution": false
    }
   },
   "source": [
    "[Back to top](#-Index)\n",
    "\n",
    "### Problem 4\n",
    "\n",
    "### Comparing to `LogisticRegression` estimator\n",
    "\n",
    "**10 Points**\n",
    "\n",
    "In the code cell below instantiate a `LogisticRegression` estimator and fit it to the `balance` column of the `credit` dataframe and `y`. Assign this model to the `clf` variable.\n",
    "\n",
    "Next, identify the values of the intercept and the coefficient for this  model to `beta_0` and `beta_1`, respectively below.  "
   ]
  },
  {
   "cell_type": "code",
   "execution_count": 14,
   "metadata": {
    "nbgrader": {
     "grade": false,
     "grade_id": "cell-c79b63d4fe747d3c",
     "locked": false,
     "schema_version": 3,
     "solution": true
    }
   },
   "outputs": [
    {
     "data": {
      "image/png": "[encoded data removed]",
      "text/plain": [
       "<Figure size 432x288 with 1 Axes>"
      ]
     },
     "metadata": {
      "needs_background": "light"
     },
     "output_type": "display_data"
    }
   ],
   "source": [
    "### GRADED\n",
    "\n",
    "beta_0 = ''\n",
    "beta_1 = ''\n",
    "\n",
    "### BEGIN SOLUTION\n",
    "clf = LogisticRegression().fit(credit[['balance']], y)\n",
    "beta_0 = float(clf.intercept_)\n",
    "beta_1 = float(clf.coef_)\n",
    "### END SOLUTION\n",
    "\n",
    "# Answer check\n",
    "sns.scatterplot(data = credit, x = 'balance', y = y, hue = 'default', legend = False)\n",
    "plt.yticks([0, 1], ['No', 'Yes'])\n",
    "plt.plot(x, sigma(x, beta_0, beta_1), '--', color = 'black', label = r'$\\sigma(x)$')\n",
    "plt.legend(fontsize = 12)\n",
    "plt.title(r'Optimal Values of $\\beta_0$ and $\\beta_1$');"
   ]
  },
  {
   "cell_type": "markdown",
   "metadata": {
    "nbgrader": {
     "grade": false,
     "grade_id": "cell-9eefdb017de6ee97",
     "locked": true,
     "schema_version": 3,
     "solution": false
    }
   },
   "source": [
    "Now that you have a feel for how these parameters control the shape of the sigmoid curve, we will introduce a loss function that we try to minimize in order to solve for the optimal values of $\\beta_0$ and $\\beta_1$."
   ]
  },
  {
   "cell_type": "code",
   "execution_count": null,
   "metadata": {},
   "outputs": [],
   "source": []
  }
 ],
 "metadata": {
  "celltoolbar": "Create Assignment",
  "kernelspec": {
   "display_name": "Python 3 (ipykernel)",
   "language": "python",
   "name": "python3"
  },
  "language_info": {
   "codemirror_mode": {
    "name": "ipython",
    "version": 3
   },
   "file_extension": ".py",
   "mimetype": "text/x-python",
   "name": "python",
   "nbconvert_exporter": "python",
   "pygments_lexer": "ipython3",
   "version": "3.11.7"
  }
 },
 "nbformat": 4,
 "nbformat_minor": 4
}
