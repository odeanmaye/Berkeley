{
 "cells": [
  {
   "cell_type": "markdown",
   "metadata": {
    "deletable": false,
    "editable": false,
    "nbgrader": {
     "cell_type": "markdown",
     "checksum": "cd52bb0882eea3b5b551c57ad66d3782",
     "grade": false,
     "grade_id": "cell-5d5f67b74a78cc06",
     "locked": true,
     "schema_version": 3,
     "solution": false
    }
   },
   "source": [
    "### Codio Activity 14.4:  Using Entropy\n",
    "\n",
    "**Expected Time = 60 minutes**\n",
    "\n",
    "**Total Points = 50**\n",
    "\n",
    "This activity focuses on using *entropy* to split nodes in a Decision Tree.  First, you will compute entropy by hand on a small example dataset.  Next, you will use the `DecisionTreeClassifier` to split based on an entropy criteria. \n",
    "\n",
    "\n",
    "$$\\displaystyle H=-\\sum _{i}p_{i}\\log p_{i}$$\n",
    "\n",
    "#### Index\n",
    "\n",
    "- [Problem 1](#-Problem-1)\n",
    "- [Problem 2](#-Problem-2)\n",
    "- [Problem 3](#-Problem-3)\n",
    "- [Problem 4](#-Problem-4)\n",
    "- [Problem 5](#-Problem-5)"
   ]
  },
  {
   "cell_type": "code",
   "execution_count": 2,
   "metadata": {},
   "outputs": [],
   "source": [
    "import pandas as pd\n",
    "import numpy as np\n",
    "import matplotlib.pyplot as plt\n",
    "import seaborn as sns\n",
    "\n",
    "from sklearn.tree import DecisionTreeClassifier, export_text, plot_tree\n",
    "from sklearn.model_selection import train_test_split"
   ]
  },
  {
   "cell_type": "markdown",
   "metadata": {
    "deletable": false,
    "editable": false,
    "nbgrader": {
     "cell_type": "markdown",
     "checksum": "4b470940ff909d92290d0cc0eb4c6634",
     "grade": false,
     "grade_id": "cell-73d9146bf476dbbd",
     "locked": true,
     "schema_version": 3,
     "solution": false
    }
   },
   "source": [
    "### Sample Data\n",
    "\n",
    "Below, the same small titanic dataset is created for your with five rows, and assigned as `titanic` below.  "
   ]
  },
  {
   "cell_type": "code",
   "execution_count": 5,
   "metadata": {},
   "outputs": [],
   "source": [
    "titanic = sns.load_dataset('titanic')[['age', 'pclass', 'survived']].head()"
   ]
  },
  {
   "cell_type": "code",
   "execution_count": 7,
   "metadata": {},
   "outputs": [
    {
     "data": {
      "text/html": [
       "<div>\n",
       "<style scoped>\n",
       "    .dataframe tbody tr th:only-of-type {\n",
       "        vertical-align: middle;\n",
       "    }\n",
       "\n",
       "    .dataframe tbody tr th {\n",
       "        vertical-align: top;\n",
       "    }\n",
       "\n",
       "    .dataframe thead th {\n",
       "        text-align: right;\n",
       "    }\n",
       "</style>\n",
       "<table border=\"1\" class=\"dataframe\">\n",
       "  <thead>\n",
       "    <tr style=\"text-align: right;\">\n",
       "      <th></th>\n",
       "      <th>age</th>\n",
       "      <th>pclass</th>\n",
       "      <th>survived</th>\n",
       "    </tr>\n",
       "  </thead>\n",
       "  <tbody>\n",
       "    <tr>\n",
       "      <th>0</th>\n",
       "      <td>22.0</td>\n",
       "      <td>3</td>\n",
       "      <td>0</td>\n",
       "    </tr>\n",
       "    <tr>\n",
       "      <th>1</th>\n",
       "      <td>38.0</td>\n",
       "      <td>1</td>\n",
       "      <td>1</td>\n",
       "    </tr>\n",
       "    <tr>\n",
       "      <th>2</th>\n",
       "      <td>26.0</td>\n",
       "      <td>3</td>\n",
       "      <td>1</td>\n",
       "    </tr>\n",
       "    <tr>\n",
       "      <th>3</th>\n",
       "      <td>35.0</td>\n",
       "      <td>1</td>\n",
       "      <td>1</td>\n",
       "    </tr>\n",
       "    <tr>\n",
       "      <th>4</th>\n",
       "      <td>35.0</td>\n",
       "      <td>3</td>\n",
       "      <td>0</td>\n",
       "    </tr>\n",
       "  </tbody>\n",
       "</table>\n",
       "</div>"
      ],
      "text/plain": [
       "    age  pclass  survived\n",
       "0  22.0       3         0\n",
       "1  38.0       1         1\n",
       "2  26.0       3         1\n",
       "3  35.0       1         1\n",
       "4  35.0       3         0"
      ]
     },
     "execution_count": 7,
     "metadata": {},
     "output_type": "execute_result"
    }
   ],
   "source": [
    "titanic"
   ]
  },
  {
   "cell_type": "code",
   "execution_count": 9,
   "metadata": {},
   "outputs": [],
   "source": [
    "X, y = titanic.drop('survived', axis = 1), titanic.survived"
   ]
  },
  {
   "cell_type": "markdown",
   "metadata": {
    "deletable": false,
    "editable": false,
    "nbgrader": {
     "cell_type": "markdown",
     "checksum": "481aa9a69457b3329e1690b1cf0d20a5",
     "grade": false,
     "grade_id": "cell-31b689a5648ad7e2",
     "locked": true,
     "schema_version": 3,
     "solution": false
    }
   },
   "source": [
    "[Back to top](#-Index)\n",
    "\n",
    "### Problem 1\n",
    "\n",
    "#### Computing the Entropy\n",
    "\n",
    "**10 Points**\n",
    "\n",
    "To begin, the entropy of the data is determined by computing the probability for each class and plugging it into the `entropy` formula.  Use the data in `df` to compute the entropy for all the data and assign it as a float to `all_entropy` below. \n",
    "\n",
    "**NOTE**:  use `np.log2` to compute the logarithm. "
   ]
  },
  {
   "cell_type": "code",
   "execution_count": 14,
   "metadata": {
    "deletable": false,
    "nbgrader": {
     "cell_type": "code",
     "checksum": "53b32aa3102b333906b56538083f184a",
     "grade": false,
     "grade_id": "cell-033814c337e99422",
     "locked": false,
     "schema_version": 3,
     "solution": true
    }
   },
   "outputs": [
    {
     "name": "stdout",
     "output_type": "stream",
     "text": [
      "0.9709505944546686\n"
     ]
    }
   ],
   "source": [
    "### GRADED\n",
    "\n",
    "# YOUR CODE HERE\n",
    "all_entropy = -(.4*np.log2(.4) + .6*np.log2(0.6))\n",
    "\n",
    "# Answer check\n",
    "print(all_entropy)"
   ]
  },
  {
   "cell_type": "code",
   "execution_count": null,
   "metadata": {
    "deletable": false,
    "editable": false,
    "nbgrader": {
     "cell_type": "code",
     "checksum": "c15e22b1288fe0257dab44eb018ad1cb",
     "grade": true,
     "grade_id": "cell-4f6dddc11c3e65e0",
     "locked": true,
     "points": 10,
     "schema_version": 3,
     "solution": false
    }
   },
   "outputs": [],
   "source": []
  },
  {
   "cell_type": "markdown",
   "metadata": {
    "deletable": false,
    "editable": false,
    "nbgrader": {
     "cell_type": "markdown",
     "checksum": "553464a58507acec5e04bdbbe1102ee6",
     "grade": false,
     "grade_id": "cell-17d47582606ce8a0",
     "locked": true,
     "schema_version": 3,
     "solution": false
    }
   },
   "source": [
    "[Back to top](#-Index)\n",
    "\n",
    "### Problem 2\n",
    "\n",
    "#### Splitting Data\n",
    "\n",
    "**10 Points**\n",
    "\n",
    "Now, consider splitting the data where `pclass = 1`.   \n",
    "\n",
    "Compute the entropy for each class as `ent_pclass1` and `ent_pclass3` respectively.  "
   ]
  },
  {
   "cell_type": "code",
   "execution_count": null,
   "metadata": {
    "deletable": false,
    "nbgrader": {
     "cell_type": "code",
     "checksum": "359e963c37b8da330eaaf40df58444a9",
     "grade": false,
     "grade_id": "cell-976b2e6c2706fdec",
     "locked": false,
     "schema_version": 3,
     "solution": true
    }
   },
   "outputs": [],
   "source": [
    "### GRADED\n",
    "\n",
    "# YOUR CODE HERE\n",
    "ent_pclass1 = -1*np.log2(1)\n",
    "ent_pclass3 = -(2/3*np.log2(2/3) + 1/3*np.log2(1/3))\n",
    "\n",
    "# Answer check\n",
    "print(f'Left node: {ent_pclass1: .2f}\\nRight Node: {ent_pclass3: .2f}')"
   ]
  },
  {
   "cell_type": "code",
   "execution_count": null,
   "metadata": {
    "deletable": false,
    "editable": false,
    "nbgrader": {
     "cell_type": "code",
     "checksum": "a6f5d914fc10c153669c85e8a8cdbe63",
     "grade": true,
     "grade_id": "cell-be67813065a5efe3",
     "locked": true,
     "points": 10,
     "schema_version": 3,
     "solution": false
    }
   },
   "outputs": [],
   "source": []
  },
  {
   "cell_type": "markdown",
   "metadata": {
    "deletable": false,
    "editable": false,
    "nbgrader": {
     "cell_type": "markdown",
     "checksum": "b2b867062fe701497b5bfc7c18d43fb3",
     "grade": false,
     "grade_id": "cell-f43d62ceeb9e9641",
     "locked": true,
     "schema_version": 3,
     "solution": false
    }
   },
   "source": [
    "[Back to top](#-Index)\n",
    "\n",
    "### Problem 3\n",
    "\n",
    "#### Weighting the Entropy\n",
    "\n",
    "**10 Points**\n",
    "\n",
    "Because the split doesn't produce equal sized groups, we want to weight the entropy based on the size of the data in the node.  Use the proportion of data in the respective nodes to compute the total entropy by summing the weighted entropy values below. Assign as a float to `pclass_entropy` below. "
   ]
  },
  {
   "cell_type": "code",
   "execution_count": null,
   "metadata": {
    "deletable": false,
    "nbgrader": {
     "cell_type": "code",
     "checksum": "65dbfd7d70fa6934266e1de84fe83585",
     "grade": false,
     "grade_id": "cell-0bc30f944948c7b9",
     "locked": false,
     "schema_version": 3,
     "solution": true
    }
   },
   "outputs": [],
   "source": [
    "### GRADED\n",
    "\n",
    "# YOUR CODE HERE\n",
    "pclass_entropy = (2/5) * ent_pclass1 + (3/5) * ent_pclass3\n",
    "\n",
    "\n",
    "# Answer check\n",
    "print(f'Entropy for passenger class: {pclass_entropy: .2f}')"
   ]
  },
  {
   "cell_type": "code",
   "execution_count": null,
   "metadata": {
    "deletable": false,
    "editable": false,
    "nbgrader": {
     "cell_type": "code",
     "checksum": "6fd0bc0c5e2718d62da5b8ac0371d796",
     "grade": true,
     "grade_id": "cell-09b57210cd44a272",
     "locked": true,
     "points": 10,
     "schema_version": 3,
     "solution": false
    }
   },
   "outputs": [],
   "source": []
  },
  {
   "cell_type": "markdown",
   "metadata": {
    "deletable": false,
    "editable": false,
    "nbgrader": {
     "cell_type": "markdown",
     "checksum": "40073ff0dec0a5ba6829665864d537e0",
     "grade": false,
     "grade_id": "cell-84fb5e4c678b3fea",
     "locked": true,
     "schema_version": 3,
     "solution": false
    }
   },
   "source": [
    "[Back to top](#-Index)\n",
    "\n",
    "### Problem 4\n",
    "\n",
    "#### Entropy based on `age < 23`\n",
    "\n",
    "**10 Points**\n",
    "\n",
    "Compute the weighted sum of the entropy based on splitting based on `age < 23`.  Assign this to `entropy_age` below.  "
   ]
  },
  {
   "cell_type": "code",
   "execution_count": null,
   "metadata": {},
   "outputs": [],
   "source": [
    "titanic"
   ]
  },
  {
   "cell_type": "code",
   "execution_count": null,
   "metadata": {
    "deletable": false,
    "nbgrader": {
     "cell_type": "code",
     "checksum": "89cd922b2cc577130bf564db80899cf2",
     "grade": false,
     "grade_id": "cell-144101507c2a32e4",
     "locked": false,
     "schema_version": 3,
     "solution": true
    }
   },
   "outputs": [],
   "source": [
    "### GRADED\n",
    "\n",
    "# YOUR CODE HERE\n",
    "ent_age1 = 0\n",
    "ent_age2 = -(1/4*np.log2(1/4) + 3/4*np.log2(3/4))\n",
    "entropy_age = 4/5*ent_age2 + 1/5*ent_age1\n",
    "\n",
    "# Answer check\n",
    "print(entropy_age)"
   ]
  },
  {
   "cell_type": "code",
   "execution_count": null,
   "metadata": {
    "deletable": false,
    "editable": false,
    "nbgrader": {
     "cell_type": "code",
     "checksum": "c8dcd7f113d15690f01fb0ba13d2a605",
     "grade": true,
     "grade_id": "cell-fdf93ca58f7df7f7",
     "locked": true,
     "points": 10,
     "schema_version": 3,
     "solution": false
    }
   },
   "outputs": [],
   "source": []
  },
  {
   "cell_type": "markdown",
   "metadata": {
    "deletable": false,
    "editable": false,
    "nbgrader": {
     "cell_type": "markdown",
     "checksum": "d0b2abe1f209670c2a19a4212b2fe02a",
     "grade": false,
     "grade_id": "cell-03ac235b78af8c64",
     "locked": true,
     "schema_version": 3,
     "solution": false
    }
   },
   "source": [
    "[Back to top](#-Index)\n",
    "\n",
    "### Problem 5\n",
    "\n",
    "#### Minimizing Entropy\n",
    "\n",
    "**10 Points**\n",
    "\n",
    "Use the `DecisionTreeClassifier` with `max_depth = 1` and `criterion = 'entropy'` to fit the data `X` and `y` and assign the result to `dtree`.\n",
    "\n",
    "Next, use the `plot_tree` function with arguments `dtree`, `feature_names=X.columns`, and `filled = True` to\n",
    "identify as the optimal splitting criterion. Assign the plot of the tree to `entropy_tree` below.  "
   ]
  },
  {
   "cell_type": "code",
   "execution_count": null,
   "metadata": {
    "deletable": false,
    "nbgrader": {
     "cell_type": "code",
     "checksum": "7226fc7404436619e249e7a66b62f3b1",
     "grade": false,
     "grade_id": "cell-36063834b141305b",
     "locked": false,
     "schema_version": 3,
     "solution": true
    }
   },
   "outputs": [],
   "source": [
    "### GRADED\n",
    "\n",
    "# YOUR CODE HERE\n",
    "dtree = DecisionTreeClassifier(criterion='entropy', max_depth = 1).fit(X, y)\n",
    "entropy_tree = plot_tree(dtree, feature_names=X.columns, filled = True)\n",
    "\n",
    "# Answer check\n",
    "entropy_tree"
   ]
  },
  {
   "cell_type": "code",
   "execution_count": null,
   "metadata": {
    "deletable": false,
    "editable": false,
    "nbgrader": {
     "cell_type": "code",
     "checksum": "2be75caf8b68ee598886d3fa0d7ab113",
     "grade": true,
     "grade_id": "cell-a2e11a32e62569d0",
     "locked": true,
     "points": 10,
     "schema_version": 3,
     "solution": false
    }
   },
   "outputs": [],
   "source": []
  },
  {
   "cell_type": "code",
   "execution_count": null,
   "metadata": {},
   "outputs": [],
   "source": []
  },
  {
   "cell_type": "code",
   "execution_count": null,
   "metadata": {},
   "outputs": [],
   "source": []
  }
 ],
 "metadata": {
  "kernelspec": {
   "display_name": "Python 3 (ipykernel)",
   "language": "python",
   "name": "python3"
  },
  "language_info": {
   "codemirror_mode": {
    "name": "ipython",
    "version": 3
   },
   "file_extension": ".py",
   "mimetype": "text/x-python",
   "name": "python",
   "nbconvert_exporter": "python",
   "pygments_lexer": "ipython3",
   "version": "3.11.7"
  },
  "widgets": {
   "application/vnd.jupyter.widget-state+json": {
    "state": {},
    "version_major": 2,
    "version_minor": 0
   }
  }
 },
 "nbformat": 4,
 "nbformat_minor": 4
}
