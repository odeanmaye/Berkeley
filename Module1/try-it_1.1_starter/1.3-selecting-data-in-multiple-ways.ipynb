{
 "cells": [
  {
   "cell_type": "markdown",
   "id": "cf550591",
   "metadata": {
    "deletable": false,
    "editable": false,
    "nbgrader": {
     "checksum": "6ab1c5a14c5066f662839c3db3811a17",
     "grade": false,
     "grade_id": "cell-e1db32c15778e963",
     "locked": true,
     "schema_version": 1,
     "solution": false
    }
   },
   "source": [
    "## Codio Activity 1.3: Selecting Data in Multiple Ways\n",
    "\n",
    "**Expected Time: 45 Minutes**\n",
    "\n",
    "**Total Points: 20 Points**\n",
    "\n",
    "In this assignment, you will practoce selecting data using `loc[]`, `iloc[]`, and `split`.\n",
    "\n",
    "## Index:\n",
    "\n",
    "- [Part 1](#Part-one)\n",
    "- [Part 2](#Part-two)\n",
    "- [Part 3](#Part-three)"
   ]
  },
  {
   "cell_type": "code",
   "execution_count": 3,
   "id": "4260ea13",
   "metadata": {},
   "outputs": [],
   "source": [
    "import pandas as pd"
   ]
  },
  {
   "cell_type": "markdown",
   "id": "2ee851ff",
   "metadata": {
    "deletable": false,
    "editable": false,
    "nbgrader": {
     "checksum": "c4e3100d39884ec9f80034497511047a",
     "grade": false,
     "grade_id": "cell-c5192e6fb172717e",
     "locked": true,
     "schema_version": 1,
     "solution": false
    }
   },
   "source": [
    "[Back to top](#Index:) \n",
    "\n",
    "## Part one\n",
    "\n",
    "### Using `loc[]` to select data\n",
    "\n",
    "**2 Points each**\n",
    "\n",
    "In this part of the assignment, return the required information from a the `data` DataFrame using the `loc[]` method."
   ]
  },
  {
   "cell_type": "code",
   "execution_count": 5,
   "id": "afa539b1",
   "metadata": {},
   "outputs": [
    {
     "data": {
      "text/html": [
       "<div>\n",
       "<style scoped>\n",
       "    .dataframe tbody tr th:only-of-type {\n",
       "        vertical-align: middle;\n",
       "    }\n",
       "\n",
       "    .dataframe tbody tr th {\n",
       "        vertical-align: top;\n",
       "    }\n",
       "\n",
       "    .dataframe thead th {\n",
       "        text-align: right;\n",
       "    }\n",
       "</style>\n",
       "<table border=\"1\" class=\"dataframe\">\n",
       "  <thead>\n",
       "    <tr style=\"text-align: right;\">\n",
       "      <th></th>\n",
       "      <th>Unnamed: 0</th>\n",
       "      <th>Name</th>\n",
       "      <th>Team</th>\n",
       "      <th>Number</th>\n",
       "      <th>Position</th>\n",
       "      <th>Age</th>\n",
       "      <th>Height</th>\n",
       "      <th>Weight</th>\n",
       "      <th>College</th>\n",
       "      <th>Salary</th>\n",
       "    </tr>\n",
       "  </thead>\n",
       "  <tbody>\n",
       "    <tr>\n",
       "      <th>0</th>\n",
       "      <td>0</td>\n",
       "      <td>Avery Bradley</td>\n",
       "      <td>Boston Celtics</td>\n",
       "      <td>0.0</td>\n",
       "      <td>PG</td>\n",
       "      <td>25.0</td>\n",
       "      <td>6-2</td>\n",
       "      <td>180.0</td>\n",
       "      <td>Texas</td>\n",
       "      <td>7730337.0</td>\n",
       "    </tr>\n",
       "    <tr>\n",
       "      <th>1</th>\n",
       "      <td>1</td>\n",
       "      <td>Jae Crowder</td>\n",
       "      <td>Boston Celtics</td>\n",
       "      <td>99.0</td>\n",
       "      <td>SF</td>\n",
       "      <td>25.0</td>\n",
       "      <td>6-6</td>\n",
       "      <td>235.0</td>\n",
       "      <td>Marquette</td>\n",
       "      <td>6796117.0</td>\n",
       "    </tr>\n",
       "    <tr>\n",
       "      <th>2</th>\n",
       "      <td>2</td>\n",
       "      <td>John Holland</td>\n",
       "      <td>Boston Celtics</td>\n",
       "      <td>30.0</td>\n",
       "      <td>SG</td>\n",
       "      <td>27.0</td>\n",
       "      <td>6-5</td>\n",
       "      <td>205.0</td>\n",
       "      <td>Boston University</td>\n",
       "      <td>NaN</td>\n",
       "    </tr>\n",
       "    <tr>\n",
       "      <th>3</th>\n",
       "      <td>3</td>\n",
       "      <td>R.J. Hunter</td>\n",
       "      <td>Boston Celtics</td>\n",
       "      <td>28.0</td>\n",
       "      <td>SG</td>\n",
       "      <td>22.0</td>\n",
       "      <td>6-5</td>\n",
       "      <td>185.0</td>\n",
       "      <td>Georgia State</td>\n",
       "      <td>1148640.0</td>\n",
       "    </tr>\n",
       "    <tr>\n",
       "      <th>4</th>\n",
       "      <td>4</td>\n",
       "      <td>Jonas Jerebko</td>\n",
       "      <td>Boston Celtics</td>\n",
       "      <td>8.0</td>\n",
       "      <td>PF</td>\n",
       "      <td>29.0</td>\n",
       "      <td>6-10</td>\n",
       "      <td>231.0</td>\n",
       "      <td>NaN</td>\n",
       "      <td>5000000.0</td>\n",
       "    </tr>\n",
       "  </tbody>\n",
       "</table>\n",
       "</div>"
      ],
      "text/plain": [
       "   Unnamed: 0           Name            Team  Number Position   Age Height  \\\n",
       "0           0  Avery Bradley  Boston Celtics     0.0       PG  25.0    6-2   \n",
       "1           1    Jae Crowder  Boston Celtics    99.0       SF  25.0    6-6   \n",
       "2           2   John Holland  Boston Celtics    30.0       SG  27.0    6-5   \n",
       "3           3    R.J. Hunter  Boston Celtics    28.0       SG  22.0    6-5   \n",
       "4           4  Jonas Jerebko  Boston Celtics     8.0       PF  29.0   6-10   \n",
       "\n",
       "   Weight            College     Salary  \n",
       "0   180.0              Texas  7730337.0  \n",
       "1   235.0          Marquette  6796117.0  \n",
       "2   205.0  Boston University        NaN  \n",
       "3   185.0      Georgia State  1148640.0  \n",
       "4   231.0                NaN  5000000.0  "
      ]
     },
     "execution_count": 5,
     "metadata": {},
     "output_type": "execute_result"
    }
   ],
   "source": [
    "#create the DataFrame utilizing Pandas \n",
    "data = pd.read_csv('data/nba.csv')\n",
    "data = data.iloc[:-1 , :]\n",
    "data.head(5)"
   ]
  },
  {
   "cell_type": "markdown",
   "id": "fa1df378",
   "metadata": {
    "deletable": false,
    "editable": false,
    "nbgrader": {
     "checksum": "4c450183ad6e344b74c1ba6990363668",
     "grade": false,
     "grade_id": "cell-664c4fbe2139b828",
     "locked": true,
     "schema_version": 1,
     "solution": false
    }
   },
   "source": [
    "Use the `loc[]` method to retrieve the first row of the `data` DataFrame and assign the result to the `locinfo` variable."
   ]
  },
  {
   "cell_type": "code",
   "execution_count": 50,
   "id": "f07e9421",
   "metadata": {
    "deletable": false,
    "nbgrader": {
     "checksum": "05d883013b6784823fbc5327c9eda051",
     "grade": false,
     "grade_id": "cell-b045abc8cbfc7df8",
     "locked": false,
     "schema_version": 1,
     "solution": true
    }
   },
   "outputs": [
    {
     "name": "stdout",
     "output_type": "stream",
     "text": [
      "Unnamed: 0                 0\n",
      "Name           Avery Bradley\n",
      "Team          Boston Celtics\n",
      "Number                   0.0\n",
      "Position                  PG\n",
      "Age                     25.0\n",
      "Height                   6-2\n",
      "Weight                 180.0\n",
      "College                Texas\n",
      "Salary             7730337.0\n",
      "Name: 0, dtype: object\n"
     ]
    }
   ],
   "source": [
    "### GRADED\n",
    "\n",
    "\n",
    "locinfo = None\n",
    "\n",
    "# YOUR CODE HERE\n",
    "locinfo = data.loc[0]\n",
    "\n",
    "# ANSWER CHECK\n",
    "print(locinfo)"
   ]
  },
  {
   "cell_type": "code",
   "execution_count": null,
   "id": "0aa67318",
   "metadata": {
    "deletable": false,
    "editable": false,
    "nbgrader": {
     "checksum": "af0708b4abc19cc72f8142fbddb7a04a",
     "grade": true,
     "grade_id": "cell-c17601ab1d1e84b9",
     "locked": true,
     "points": 2,
     "schema_version": 1,
     "solution": false
    }
   },
   "outputs": [],
   "source": []
  },
  {
   "cell_type": "markdown",
   "id": "a94772a6",
   "metadata": {
    "deletable": false,
    "editable": false,
    "nbgrader": {
     "checksum": "bb9011c34a0c4016ab41363c4a78ae53",
     "grade": false,
     "grade_id": "cell-5d5143963d896b5a",
     "locked": true,
     "schema_version": 1,
     "solution": false
    }
   },
   "source": [
    "Use the `loc[]` method on the `data` DataFrame to retrieve the information about LeBron James' `Name` and `Team`. Assign the result to the `teamdata` variable."
   ]
  },
  {
   "cell_type": "code",
   "execution_count": 9,
   "id": "6bebd738",
   "metadata": {
    "deletable": false,
    "nbgrader": {
     "checksum": "21227b9e85a45486ce74406b4d465ca2",
     "grade": false,
     "grade_id": "cell-2ce96b09f45395ce",
     "locked": false,
     "schema_version": 1,
     "solution": true
    }
   },
   "outputs": [
    {
     "name": "stdout",
     "output_type": "stream",
     "text": [
      "             Name                 Team\n",
      "169  LeBron James  Cleveland Cavaliers\n"
     ]
    }
   ],
   "source": [
    "### GRADED\n",
    "\n",
    "\n",
    "teamdata = None\n",
    "\n",
    "# YOUR CODE HERE\n",
    "teamdata = data[['Name','Team']]\n",
    "teamdata = teamdata[teamdata['Name'] == 'LeBron James']\n",
    "\n",
    "# ANSWER CHECK\n",
    "print(teamdata)"
   ]
  },
  {
   "cell_type": "code",
   "execution_count": null,
   "id": "470022c1",
   "metadata": {
    "deletable": false,
    "editable": false,
    "nbgrader": {
     "checksum": "2c1cde6910e7fbe7ff177da38d1a756d",
     "grade": true,
     "grade_id": "cell-597b728f731e35e1",
     "locked": true,
     "points": 2,
     "schema_version": 1,
     "solution": false
    }
   },
   "outputs": [],
   "source": []
  },
  {
   "cell_type": "markdown",
   "id": "63929991",
   "metadata": {
    "deletable": false,
    "editable": false,
    "nbgrader": {
     "checksum": "f0e481263e4f6553409c9f40f42f858b",
     "grade": false,
     "grade_id": "cell-3dbaee614a4b6329",
     "locked": true,
     "schema_version": 1,
     "solution": false
    }
   },
   "source": [
    "[Back to top](#Index:) \n",
    "\n",
    "## Part two\n",
    "\n",
    "### Using `iloc[]` to select data\n",
    "\n",
    "In this part of the assignment, return the required information from a the `data` DataFrame using the `iloc[]` method.\n",
    "\n",
    "**2 Points each**\n",
    "\n",
    "Use the `iloc[]` method to retrieve the first row of the `data` DataFrame and assign the result to the `fr` variable."
   ]
  },
  {
   "cell_type": "code",
   "execution_count": 11,
   "id": "472a6234",
   "metadata": {
    "deletable": false,
    "nbgrader": {
     "checksum": "a9f33fffbfab87a9450b02f75b0895fa",
     "grade": false,
     "grade_id": "cell-ac4f90f3ca044a80",
     "locked": false,
     "schema_version": 1,
     "solution": true
    }
   },
   "outputs": [
    {
     "name": "stdout",
     "output_type": "stream",
     "text": [
      "Unnamed: 0                 0\n",
      "Name           Avery Bradley\n",
      "Team          Boston Celtics\n",
      "Number                   0.0\n",
      "Position                  PG\n",
      "Age                     25.0\n",
      "Height                   6-2\n",
      "Weight                 180.0\n",
      "College                Texas\n",
      "Salary             7730337.0\n",
      "Name: 0, dtype: object\n"
     ]
    }
   ],
   "source": [
    "### GRADED\n",
    "\n",
    "fr = None\n",
    "\n",
    "# YOUR CODE HERE\n",
    "fr = data.iloc[0]\n",
    "\n",
    "# ANSWER CHECK\n",
    "print(fr)"
   ]
  },
  {
   "cell_type": "code",
   "execution_count": null,
   "id": "79f6adb7",
   "metadata": {
    "deletable": false,
    "editable": false,
    "nbgrader": {
     "checksum": "02f92c7d9816ac5eef81f076616d269f",
     "grade": true,
     "grade_id": "cell-5c398dc822477664",
     "locked": true,
     "points": 2,
     "schema_version": 1,
     "solution": false
    }
   },
   "outputs": [],
   "source": []
  },
  {
   "cell_type": "markdown",
   "id": "da3ef088",
   "metadata": {
    "deletable": false,
    "editable": false,
    "nbgrader": {
     "checksum": "e0cd0ab70fcd539e5e8b8c862e4b7653",
     "grade": false,
     "grade_id": "cell-b1cec82b9752a1c4",
     "locked": true,
     "schema_version": 1,
     "solution": false
    }
   },
   "source": [
    "Use the `iloc[]` method to retrieve the second row of the `data` DataFrame and assign the result to the `sr` variable."
   ]
  },
  {
   "cell_type": "code",
   "execution_count": 13,
   "id": "5c08275f",
   "metadata": {
    "deletable": false,
    "nbgrader": {
     "checksum": "a4e0dcbd97d8e3cbb8bbb27dd6d57d51",
     "grade": false,
     "grade_id": "cell-c96cb0193a5accb4",
     "locked": false,
     "schema_version": 1,
     "solution": true
    }
   },
   "outputs": [
    {
     "name": "stdout",
     "output_type": "stream",
     "text": [
      "Unnamed: 0                 1\n",
      "Name             Jae Crowder\n",
      "Team          Boston Celtics\n",
      "Number                  99.0\n",
      "Position                  SF\n",
      "Age                     25.0\n",
      "Height                   6-6\n",
      "Weight                 235.0\n",
      "College            Marquette\n",
      "Salary             6796117.0\n",
      "Name: 1, dtype: object\n"
     ]
    }
   ],
   "source": [
    "### GRADED\n",
    "\n",
    "\n",
    "sr = None\n",
    "\n",
    "# YOUR CODE HERE\n",
    "sr = data.iloc[1]\n",
    "\n",
    "# ANSWER CHECK\n",
    "print(sr)"
   ]
  },
  {
   "cell_type": "code",
   "execution_count": null,
   "id": "6a3d5f53",
   "metadata": {
    "deletable": false,
    "editable": false,
    "nbgrader": {
     "checksum": "c40f281caca15af6457e864040e2eb94",
     "grade": true,
     "grade_id": "cell-621a6217da17246a",
     "locked": true,
     "points": 2,
     "schema_version": 1,
     "solution": false
    }
   },
   "outputs": [],
   "source": []
  },
  {
   "cell_type": "markdown",
   "id": "3b73487d",
   "metadata": {
    "deletable": false,
    "editable": false,
    "nbgrader": {
     "checksum": "d25353bb4a38de93a551505b7a817221",
     "grade": false,
     "grade_id": "cell-385c13cb449cce41",
     "locked": true,
     "schema_version": 1,
     "solution": false
    }
   },
   "source": [
    "Use the `iloc[]` method to retrieve the first row of the `data` DataFrame and assign the result to the `lr` variable."
   ]
  },
  {
   "cell_type": "code",
   "execution_count": 15,
   "id": "f5540308",
   "metadata": {
    "deletable": false,
    "nbgrader": {
     "checksum": "ac94375b86206ff074b37bb566f7b5c7",
     "grade": false,
     "grade_id": "cell-1843d8fe5e08d07a",
     "locked": false,
     "schema_version": 1,
     "solution": true
    }
   },
   "outputs": [
    {
     "name": "stdout",
     "output_type": "stream",
     "text": [
      "Unnamed: 0             455\n",
      "Name          Tibor Pleiss\n",
      "Team             Utah Jazz\n",
      "Number                21.0\n",
      "Position                 C\n",
      "Age                   26.0\n",
      "Height                 7-3\n",
      "Weight               256.0\n",
      "College                NaN\n",
      "Salary           2900000.0\n",
      "Name: 455, dtype: object\n"
     ]
    }
   ],
   "source": [
    "### GRADED\n",
    "\n",
    "\n",
    "lr = None\n",
    "\n",
    "# YOUR CODE HERE\n",
    "lr = data.iloc[-1]\n",
    "\n",
    "# ANSWER CHECK\n",
    "print(lr)"
   ]
  },
  {
   "cell_type": "code",
   "execution_count": null,
   "id": "1ebd055f",
   "metadata": {
    "deletable": false,
    "editable": false,
    "nbgrader": {
     "checksum": "afc4ca4b551ec747b7c80f6f3e4e44b2",
     "grade": true,
     "grade_id": "cell-d0d3c052cb0eb6c4",
     "locked": true,
     "points": 2,
     "schema_version": 1,
     "solution": false
    }
   },
   "outputs": [],
   "source": []
  },
  {
   "cell_type": "markdown",
   "id": "5639ba99",
   "metadata": {
    "deletable": false,
    "editable": false,
    "nbgrader": {
     "checksum": "cb16609988cd7c2df64fa6f59dfefda9",
     "grade": false,
     "grade_id": "cell-e6db93d4de10bae9",
     "locked": true,
     "schema_version": 1,
     "solution": false
    }
   },
   "source": [
    "Use the `iloc[]` method to retrieve the first column of the `data` DataFrame and assign the result to the `fc` variable."
   ]
  },
  {
   "cell_type": "code",
   "execution_count": 17,
   "id": "7d3027fe",
   "metadata": {
    "deletable": false,
    "nbgrader": {
     "checksum": "3575c17c7b4c8939e7ebbf3da49073fa",
     "grade": false,
     "grade_id": "cell-b2ddae2ebcad6705",
     "locked": false,
     "schema_version": 1,
     "solution": true
    }
   },
   "outputs": [
    {
     "name": "stdout",
     "output_type": "stream",
     "text": [
      "0      Avery Bradley\n",
      "1        Jae Crowder\n",
      "2       John Holland\n",
      "3        R.J. Hunter\n",
      "4      Jonas Jerebko\n",
      "           ...      \n",
      "451    Chris Johnson\n",
      "452       Trey Lyles\n",
      "453     Shelvin Mack\n",
      "454        Raul Neto\n",
      "455     Tibor Pleiss\n",
      "Name: Name, Length: 456, dtype: object\n"
     ]
    }
   ],
   "source": [
    "###GRADED\n",
    "\n",
    " \n",
    "fc = None\n",
    "\n",
    "# YOUR CODE HERE\n",
    "fc = data.iloc[:,1]\n",
    "\n",
    "# ANSWER CHECK\n",
    "print(fc)"
   ]
  },
  {
   "cell_type": "code",
   "execution_count": null,
   "id": "4194b60b",
   "metadata": {
    "deletable": false,
    "editable": false,
    "nbgrader": {
     "checksum": "816d74e6d50403b597fbb3031af542bd",
     "grade": true,
     "grade_id": "cell-3a927802d2551a13",
     "locked": true,
     "points": 2,
     "schema_version": 1,
     "solution": false
    }
   },
   "outputs": [],
   "source": []
  },
  {
   "cell_type": "markdown",
   "id": "9e437e6b",
   "metadata": {
    "deletable": false,
    "editable": false,
    "nbgrader": {
     "checksum": "e8c91d31cd88e9f165aaeea289a2662f",
     "grade": false,
     "grade_id": "cell-e2331903ace630ce",
     "locked": true,
     "schema_version": 1,
     "solution": false
    }
   },
   "source": [
    "Use the `iloc[]` method to retrieve the second column of the `data` DataFrame and assign the result to the `sc` variable."
   ]
  },
  {
   "cell_type": "code",
   "execution_count": 19,
   "id": "1c6ed541",
   "metadata": {
    "deletable": false,
    "nbgrader": {
     "checksum": "4b72aabf57f41d44b8bf381dc5d8ca0c",
     "grade": false,
     "grade_id": "cell-35925d6c39ff9c32",
     "locked": false,
     "schema_version": 1,
     "solution": true
    }
   },
   "outputs": [
    {
     "name": "stdout",
     "output_type": "stream",
     "text": [
      "0      Boston Celtics\n",
      "1      Boston Celtics\n",
      "2      Boston Celtics\n",
      "3      Boston Celtics\n",
      "4      Boston Celtics\n",
      "            ...      \n",
      "451         Utah Jazz\n",
      "452         Utah Jazz\n",
      "453         Utah Jazz\n",
      "454         Utah Jazz\n",
      "455         Utah Jazz\n",
      "Name: Team, Length: 456, dtype: object\n"
     ]
    }
   ],
   "source": [
    "### GRADED\n",
    "\n",
    "\n",
    "sc = None\n",
    "\n",
    "# YOUR CODE HERE\n",
    "sc = data.iloc[:,2]\n",
    "\n",
    "# ANSWER CHECK\n",
    "print(sc)"
   ]
  },
  {
   "cell_type": "code",
   "execution_count": null,
   "id": "75a485de",
   "metadata": {
    "deletable": false,
    "editable": false,
    "nbgrader": {
     "checksum": "88ec158b0db60b28a4ee40124eab0b83",
     "grade": true,
     "grade_id": "cell-5040d043a3cceb73",
     "locked": true,
     "points": 2,
     "schema_version": 1,
     "solution": false
    }
   },
   "outputs": [],
   "source": []
  },
  {
   "cell_type": "markdown",
   "id": "5a316e7c",
   "metadata": {
    "deletable": false,
    "editable": false,
    "nbgrader": {
     "checksum": "e156805d1ec842a6cb2c5723f50c9bf7",
     "grade": false,
     "grade_id": "cell-d5719eea9a0f018c",
     "locked": true,
     "schema_version": 1,
     "solution": false
    }
   },
   "source": [
    "Use the `iloc[]` method to retrieve the last column of the `data` DataFrame and assign the result to the `lc` variable."
   ]
  },
  {
   "cell_type": "code",
   "execution_count": 21,
   "id": "f250b13e",
   "metadata": {
    "deletable": false,
    "nbgrader": {
     "checksum": "487a3e69fc2553b4fce8d490c3ea6e13",
     "grade": false,
     "grade_id": "cell-04a5a0d17f2b4901",
     "locked": false,
     "schema_version": 1,
     "solution": true
    }
   },
   "outputs": [
    {
     "name": "stdout",
     "output_type": "stream",
     "text": [
      "0      7730337.0\n",
      "1      6796117.0\n",
      "2            NaN\n",
      "3      1148640.0\n",
      "4      5000000.0\n",
      "         ...    \n",
      "451     981348.0\n",
      "452    2239800.0\n",
      "453    2433333.0\n",
      "454     900000.0\n",
      "455    2900000.0\n",
      "Name: Salary, Length: 456, dtype: float64\n"
     ]
    }
   ],
   "source": [
    "### GRADED\n",
    "\n",
    "\n",
    "lc = None\n",
    "\n",
    "# YOUR CODE HERE\n",
    "lc = data.iloc[:,-1]\n",
    "\n",
    "# ANSWER CHECK\n",
    "print(lc)"
   ]
  },
  {
   "cell_type": "code",
   "execution_count": null,
   "id": "b95d786e",
   "metadata": {
    "deletable": false,
    "editable": false,
    "nbgrader": {
     "checksum": "dc20a0ae06d720560b3439dd7aa59755",
     "grade": true,
     "grade_id": "cell-86adba4835e0586a",
     "locked": true,
     "points": 2,
     "schema_version": 1,
     "solution": false
    }
   },
   "outputs": [],
   "source": []
  },
  {
   "cell_type": "markdown",
   "id": "1b25303f",
   "metadata": {
    "deletable": false,
    "editable": false,
    "nbgrader": {
     "checksum": "33f9d22308ac7a5771986ffaeb4b68c4",
     "grade": false,
     "grade_id": "cell-a2d49a9f9bf6d7df",
     "locked": true,
     "schema_version": 1,
     "solution": false
    }
   },
   "source": [
    "[Back to top](#Index:) \n",
    "\n",
    "## Part three\n",
    "\n",
    "### Using `split()` to select data\n",
    "\n",
    "In this part of the assignment, return the required information from a the `data` DataFrame using the `split()` function.\n",
    "\n",
    "**2 Points each**\n",
    "\n",
    "In this exercise, use the `split()` function to return the first name of the first player in the `data` DataFrame. Assign the result to the variable `firstname`.\n",
    "\n"
   ]
  },
  {
   "cell_type": "code",
   "execution_count": 23,
   "id": "d4029319",
   "metadata": {
    "deletable": false,
    "nbgrader": {
     "checksum": "c25716a5060719ccf58cc216b2cd1dc9",
     "grade": false,
     "grade_id": "cell-268b6113422e9d31",
     "locked": false,
     "schema_version": 1,
     "solution": true
    }
   },
   "outputs": [
    {
     "name": "stdout",
     "output_type": "stream",
     "text": [
      "The first name is Avery\n"
     ]
    }
   ],
   "source": [
    "### GRADED\n",
    "\n",
    "\n",
    "\n",
    "firstname = None\n",
    "\n",
    "# YOUR CODE HERE\n",
    "firstname = data.iloc[0]['Name'].split()[0]\n",
    "    \n",
    "# ANSWER CHECK\n",
    "print('The first name is ' + firstname)"
   ]
  },
  {
   "cell_type": "code",
   "execution_count": null,
   "id": "cef4e498",
   "metadata": {
    "deletable": false,
    "editable": false,
    "nbgrader": {
     "checksum": "618f7270fad3f9ab87091f8d4e687fa2",
     "grade": true,
     "grade_id": "cell-d1baa522c6132ea0",
     "locked": true,
     "points": 2,
     "schema_version": 1,
     "solution": false
    }
   },
   "outputs": [],
   "source": []
  },
  {
   "cell_type": "markdown",
   "id": "30ad57cf",
   "metadata": {
    "deletable": false,
    "editable": false,
    "nbgrader": {
     "checksum": "c6c647dc456d0e140e87833e4692708f",
     "grade": false,
     "grade_id": "cell-6516a178a826acff",
     "locked": true,
     "schema_version": 1,
     "solution": false
    }
   },
   "source": [
    "In this exercise, use the `split()` function to return the last name of the first player in the `data` DataFrame. Assign the result to the variable `lastname`."
   ]
  },
  {
   "cell_type": "code",
   "execution_count": 25,
   "id": "57c8d366",
   "metadata": {
    "deletable": false,
    "nbgrader": {
     "checksum": "0ab331be664cbc82c35634d68915f1f8",
     "grade": false,
     "grade_id": "cell-66242b355c8d6e79",
     "locked": false,
     "schema_version": 1,
     "solution": true
    }
   },
   "outputs": [
    {
     "name": "stdout",
     "output_type": "stream",
     "text": [
      "The last name is Bradley\n"
     ]
    }
   ],
   "source": [
    "###GRADED\n",
    "\n",
    "# Please print the last full name of the first series in the data frame.\n",
    "\n",
    "lastname = None\n",
    "\n",
    "# YOUR CODE HERE\n",
    "lastname = data.iloc[0]['Name'].split()[1]\n",
    "\n",
    "# ANSWER CHECK\n",
    "print('The last name is ' + lastname)"
   ]
  },
  {
   "cell_type": "code",
   "execution_count": null,
   "id": "30fb16b3",
   "metadata": {
    "deletable": false,
    "editable": false,
    "nbgrader": {
     "checksum": "153c54bdb04888d67f4f894f59ac6267",
     "grade": true,
     "grade_id": "cell-4cab45fe56846428",
     "locked": true,
     "points": 2,
     "schema_version": 1,
     "solution": false
    }
   },
   "outputs": [],
   "source": []
  },
  {
   "cell_type": "code",
   "execution_count": null,
   "id": "6f91b393",
   "metadata": {},
   "outputs": [],
   "source": []
  },
  {
   "cell_type": "code",
   "execution_count": null,
   "id": "2ac5b891",
   "metadata": {},
   "outputs": [],
   "source": []
  }
 ],
 "metadata": {
  "kernelspec": {
   "display_name": "Python 3 (ipykernel)",
   "language": "python",
   "name": "python3"
  },
  "language_info": {
   "codemirror_mode": {
    "name": "ipython",
    "version": 3
   },
   "file_extension": ".py",
   "mimetype": "text/x-python",
   "name": "python",
   "nbconvert_exporter": "python",
   "pygments_lexer": "ipython3",
   "version": "3.11.7"
  }
 },
 "nbformat": 4,
 "nbformat_minor": 5
}
