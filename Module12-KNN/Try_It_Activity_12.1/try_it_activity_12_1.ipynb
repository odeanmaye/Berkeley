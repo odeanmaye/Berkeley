{
 "cells": [
  {
   "cell_type": "markdown",
   "id": "66b3f89f-4455-4a40-9f4e-a1be54e6ff28",
   "metadata": {},
   "source": [
    "Select a dataset of interest and clearly state the classification task. Specifically, describe a business problem that could be solved using the dataset and a KNN classification model. Further, identify what you believe to be the appropriate metric and justify your choice. Build a basic model with the KNearestNeighbor and grid search to optimize towards your chosen metric. Share your results with your peers."
   ]
  },
  {
   "cell_type": "markdown",
   "id": "98a35bd5-269a-4cda-ad9d-77a9ef87aba6",
   "metadata": {},
   "source": [
    "Dataset: The dataset contains the sign and symptom data of newly diabetic or would be diabetic patient.\n",
    "Task: Classify and identify patients at highest risk of early stage diabetes. \n",
    "Business Case: If early stage diabetis can be detected early then patients can implement lifestyle changes and undergo preventative care thereby reducing risk of death and future healthcare costs. An app could be develped that allows patients and thier doctors to monitor this risk."
   ]
  },
  {
   "cell_type": "code",
   "execution_count": 70,
   "id": "cd34ad57-76c0-4ba7-96e5-6b913ca4f978",
   "metadata": {},
   "outputs": [],
   "source": [
    "import matplotlib.pyplot as plt\n",
    "import seaborn as sns\n",
    "\n",
    "from sklearn.compose import make_column_transformer\n",
    "from sklearn.preprocessing import LabelEncoder, StandardScaler, FunctionTransformer\n",
    "from sklearn.model_selection import train_test_split\n",
    "from sklearn.neighbors import KNeighborsClassifier\n",
    "from sklearn.model_selection import GridSearchCV, StratifiedKFold\n",
    "from sklearn.metrics import recall_score\n",
    "import pandas as pd\n",
    "\n",
    "import warnings\n",
    "warnings.filterwarnings('ignore')"
   ]
  },
  {
   "cell_type": "code",
   "execution_count": 72,
   "id": "7cd623da-cb5b-4af8-9ee8-bcfb7a2f7420",
   "metadata": {},
   "outputs": [],
   "source": [
    "df = pd.read_csv('data/diabetes.csv')"
   ]
  },
  {
   "cell_type": "code",
   "execution_count": 74,
   "id": "d8c27a7c-a5ab-40aa-acfa-af096a2a13d1",
   "metadata": {},
   "outputs": [
    {
     "data": {
      "text/html": [
       "<div>\n",
       "<style scoped>\n",
       "    .dataframe tbody tr th:only-of-type {\n",
       "        vertical-align: middle;\n",
       "    }\n",
       "\n",
       "    .dataframe tbody tr th {\n",
       "        vertical-align: top;\n",
       "    }\n",
       "\n",
       "    .dataframe thead th {\n",
       "        text-align: right;\n",
       "    }\n",
       "</style>\n",
       "<table border=\"1\" class=\"dataframe\">\n",
       "  <thead>\n",
       "    <tr style=\"text-align: right;\">\n",
       "      <th></th>\n",
       "      <th>Age</th>\n",
       "      <th>Gender</th>\n",
       "      <th>Polyuria</th>\n",
       "      <th>Polydipsia</th>\n",
       "      <th>sudden weight loss</th>\n",
       "      <th>weakness</th>\n",
       "      <th>Polyphagia</th>\n",
       "      <th>Genital thrush</th>\n",
       "      <th>visual blurring</th>\n",
       "      <th>Itching</th>\n",
       "      <th>Irritability</th>\n",
       "      <th>delayed healing</th>\n",
       "      <th>partial paresis</th>\n",
       "      <th>muscle stiffness</th>\n",
       "      <th>Alopecia</th>\n",
       "      <th>Obesity</th>\n",
       "      <th>class</th>\n",
       "    </tr>\n",
       "  </thead>\n",
       "  <tbody>\n",
       "    <tr>\n",
       "      <th>0</th>\n",
       "      <td>40</td>\n",
       "      <td>Male</td>\n",
       "      <td>No</td>\n",
       "      <td>Yes</td>\n",
       "      <td>No</td>\n",
       "      <td>Yes</td>\n",
       "      <td>No</td>\n",
       "      <td>No</td>\n",
       "      <td>No</td>\n",
       "      <td>Yes</td>\n",
       "      <td>No</td>\n",
       "      <td>Yes</td>\n",
       "      <td>No</td>\n",
       "      <td>Yes</td>\n",
       "      <td>Yes</td>\n",
       "      <td>Yes</td>\n",
       "      <td>Positive</td>\n",
       "    </tr>\n",
       "    <tr>\n",
       "      <th>1</th>\n",
       "      <td>58</td>\n",
       "      <td>Male</td>\n",
       "      <td>No</td>\n",
       "      <td>No</td>\n",
       "      <td>No</td>\n",
       "      <td>Yes</td>\n",
       "      <td>No</td>\n",
       "      <td>No</td>\n",
       "      <td>Yes</td>\n",
       "      <td>No</td>\n",
       "      <td>No</td>\n",
       "      <td>No</td>\n",
       "      <td>Yes</td>\n",
       "      <td>No</td>\n",
       "      <td>Yes</td>\n",
       "      <td>No</td>\n",
       "      <td>Positive</td>\n",
       "    </tr>\n",
       "  </tbody>\n",
       "</table>\n",
       "</div>"
      ],
      "text/plain": [
       "   Age Gender Polyuria Polydipsia sudden weight loss weakness Polyphagia  \\\n",
       "0   40   Male       No        Yes                 No      Yes         No   \n",
       "1   58   Male       No         No                 No      Yes         No   \n",
       "\n",
       "  Genital thrush visual blurring Itching Irritability delayed healing  \\\n",
       "0             No              No     Yes           No             Yes   \n",
       "1             No             Yes      No           No              No   \n",
       "\n",
       "  partial paresis muscle stiffness Alopecia Obesity     class  \n",
       "0              No              Yes      Yes     Yes  Positive  \n",
       "1             Yes               No      Yes      No  Positive  "
      ]
     },
     "execution_count": 74,
     "metadata": {},
     "output_type": "execute_result"
    }
   ],
   "source": [
    "df.head(2)"
   ]
  },
  {
   "cell_type": "code",
   "execution_count": 76,
   "id": "9ec2d2a1-b8ac-4840-a54f-ca7525bf0520",
   "metadata": {},
   "outputs": [
    {
     "name": "stdout",
     "output_type": "stream",
     "text": [
      "Series([], dtype: int64)\n"
     ]
    }
   ],
   "source": [
    "# Check for missing (NaN) values in the dataset\n",
    "missing_values = df.isna().sum()\n",
    "\n",
    "# Display columns with missing values\n",
    "print(missing_values[missing_values > 0])"
   ]
  },
  {
   "cell_type": "code",
   "execution_count": 78,
   "id": "d5bfa1d9-1c27-4379-a8c8-adc34d7a6c78",
   "metadata": {},
   "outputs": [
    {
     "data": {
      "image/png": "[encoded data removed]",
      "text/plain": [
       "<Figure size 640x480 with 1 Axes>"
      ]
     },
     "metadata": {},
     "output_type": "display_data"
    }
   ],
   "source": [
    "sns.countplot(data=df, x = 'class')\n",
    "plt.title('Count of target (class) observations');"
   ]
  },
  {
   "cell_type": "markdown",
   "id": "b8397b72-de43-492f-8d7b-42e2ea5c5250",
   "metadata": {},
   "source": [
    "#### Build Column Transformer"
   ]
  },
  {
   "cell_type": "code",
   "execution_count": 34,
   "id": "15c23e1b-baf3-442f-b791-1b0985428a0f",
   "metadata": {},
   "outputs": [],
   "source": [
    "# Define the columns for categorical and numerical features\n",
    "categorical_columns = ['Gender', 'Polyuria', 'Polydipsia', 'sudden weight loss', 'weakness', \n",
    "                       'Polyphagia', 'Genital thrush', 'visual blurring', 'Itching', 'Irritability', \n",
    "                       'delayed healing', 'partial paresis', 'muscle stiffness', 'Alopecia', 'Obesity']\n",
    "numerical_columns = ['Age']\n",
    "\n",
    "# Function to apply Label Encoding on the categorical features\n",
    "def label_encode(df):\n",
    "    for col in categorical_columns:\n",
    "        df[col] = LabelEncoder().fit_transform(df[col])\n",
    "    return df\n",
    "\n",
    "# Create a transformer that applies label encoding and scaling\n",
    "transformer = make_column_transformer(\n",
    "    (FunctionTransformer(func=label_encode, validate=False), categorical_columns),  # Label encoding\n",
    "    (StandardScaler(), numerical_columns),  # Scaling the numerical features\n",
    "    remainder='passthrough'  # Pass through other columns, if any\n",
    ")"
   ]
  },
  {
   "cell_type": "code",
   "execution_count": 50,
   "id": "9e32d3cf-8758-4f51-a181-0618b93e106a",
   "metadata": {},
   "outputs": [],
   "source": [
    "X = df.drop(columns='class')\n",
    "y = df['class']\n",
    "\n",
    "X_train, X_test, y_train, y_test = train_test_split(X, y, test_size=0.25, random_state=42, stratify=y)"
   ]
  },
  {
   "cell_type": "code",
   "execution_count": 66,
   "id": "28072741-f3ae-4779-8339-744af89f2453",
   "metadata": {},
   "outputs": [],
   "source": [
    "pipe = Pipeline([\n",
    "    ('transformer', transformer),\n",
    "    ('knn', KNeighborsClassifier())\n",
    "])"
   ]
  },
  {
   "cell_type": "code",
   "execution_count": 68,
   "id": "ab1c50e9-7ca7-4447-9327-62256d0116b1",
   "metadata": {},
   "outputs": [
    {
     "name": "stdout",
     "output_type": "stream",
     "text": [
      "Best n_neighbors: {'knn__n_neighbors': 1}\n",
      "Best recall score: nan\n"
     ]
    }
   ],
   "source": [
    "param_grid = {\n",
    "    'knn__n_neighbors': list(range(1, 22, 2))\n",
    "}\n",
    "\n",
    "grid_search = GridSearchCV(pipe, param_grid=param_grid, scoring='recall', cv=StratifiedKFold(n_splits=5))\n",
    "\n",
    "grid_search.fit(X_train, y_train)\n",
    "\n",
    "# Print the best parameters and best score\n",
    "print(f'Best n_neighbors: {grid_search.best_params_}')\n",
    "print(f'Best recall score: {grid_search.best_score_:.2f}')"
   ]
  },
  {
   "cell_type": "code",
   "execution_count": null,
   "id": "4c303391-6690-4030-803f-8c51ea84d783",
   "metadata": {},
   "outputs": [],
   "source": []
  }
 ],
 "metadata": {
  "kernelspec": {
   "display_name": "Python 3 (ipykernel)",
   "language": "python",
   "name": "python3"
  },
  "language_info": {
   "codemirror_mode": {
    "name": "ipython",
    "version": 3
   },
   "file_extension": ".py",
   "mimetype": "text/x-python",
   "name": "python",
   "nbconvert_exporter": "python",
   "pygments_lexer": "ipython3",
   "version": "3.11.7"
  }
 },
 "nbformat": 4,
 "nbformat_minor": 5
}
