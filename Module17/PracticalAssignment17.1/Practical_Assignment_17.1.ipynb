{
 "cells": [
  {
   "cell_type": "code",
   "execution_count": 223,
   "id": "27c20e6a-1fd2-4873-845a-87edeb0c8dfc",
   "metadata": {},
   "outputs": [],
   "source": [
    "import pandas as pd\n",
    "from sklearn.preprocessing import LabelEncoder"
   ]
  },
  {
   "cell_type": "code",
   "execution_count": 225,
   "id": "a38172c4-05e9-4223-829f-830645f1dae4",
   "metadata": {},
   "outputs": [
    {
     "name": "stdout",
     "output_type": "stream",
     "text": [
      "   age         job  marital education default  balance housing loan   contact  \\\n",
      "0   30  unemployed  married   primary      no     1787      no   no  cellular   \n",
      "\n",
      "   day month  duration  campaign  pdays  previous poutcome   y  \n",
      "0   19   oct        79         1     -1         0  unknown  no  \n",
      "<class 'pandas.core.frame.DataFrame'>\n",
      "RangeIndex: 4521 entries, 0 to 4520\n",
      "Data columns (total 17 columns):\n",
      " #   Column     Non-Null Count  Dtype \n",
      "---  ------     --------------  ----- \n",
      " 0   age        4521 non-null   int64 \n",
      " 1   job        4521 non-null   object\n",
      " 2   marital    4521 non-null   object\n",
      " 3   education  4521 non-null   object\n",
      " 4   default    4521 non-null   object\n",
      " 5   balance    4521 non-null   int64 \n",
      " 6   housing    4521 non-null   object\n",
      " 7   loan       4521 non-null   object\n",
      " 8   contact    4521 non-null   object\n",
      " 9   day        4521 non-null   int64 \n",
      " 10  month      4521 non-null   object\n",
      " 11  duration   4521 non-null   int64 \n",
      " 12  campaign   4521 non-null   int64 \n",
      " 13  pdays      4521 non-null   int64 \n",
      " 14  previous   4521 non-null   int64 \n",
      " 15  poutcome   4521 non-null   object\n",
      " 16  y          4521 non-null   object\n",
      "dtypes: int64(7), object(10)\n",
      "memory usage: 600.6+ KB\n",
      "None\n"
     ]
    }
   ],
   "source": [
    "\n",
    "# Load the CSV file into a DataFrame\n",
    "df = pd.read_csv('data/bank.csv', sep=';')\n",
    "\n",
    "# Display the first few rows to explore the contents\n",
    "print(df.head(1))\n",
    "\n",
    "# Display summary information about the DataFrame\n",
    "print(df.info())"
   ]
  },
  {
   "cell_type": "markdown",
   "id": "fcf40484-f950-4385-8039-5e53b5240390",
   "metadata": {},
   "source": [
    "### Data Analysis and Cleaning"
   ]
  },
  {
   "cell_type": "code",
   "execution_count": 228,
   "id": "3dc726d1-b660-4e1c-b50f-eb787999e52a",
   "metadata": {},
   "outputs": [
    {
     "name": "stdout",
     "output_type": "stream",
     "text": [
      "<class 'pandas.core.frame.DataFrame'>\n",
      "Index: 4311 entries, 0 to 4520\n",
      "Data columns (total 14 columns):\n",
      " #   Column     Non-Null Count  Dtype \n",
      "---  ------     --------------  ----- \n",
      " 0   age        4311 non-null   int64 \n",
      " 1   job        4311 non-null   object\n",
      " 2   marital    4311 non-null   object\n",
      " 3   education  4311 non-null   object\n",
      " 4   default    4311 non-null   object\n",
      " 5   balance    4311 non-null   int64 \n",
      " 6   housing    4311 non-null   object\n",
      " 7   loan       4311 non-null   object\n",
      " 8   duration   4311 non-null   int64 \n",
      " 9   campaign   4311 non-null   int64 \n",
      " 10  pdays      4311 non-null   int64 \n",
      " 11  previous   4311 non-null   int64 \n",
      " 12  poutcome   4311 non-null   object\n",
      " 13  y          4311 non-null   object\n",
      "dtypes: int64(6), object(8)\n",
      "memory usage: 505.2+ KB\n",
      "None\n"
     ]
    }
   ],
   "source": [
    "# Remove rows with null values\n",
    "df_cleaned = df.copy()\n",
    "df_cleaned = df.dropna()\n",
    "df_cleaned = df_cleaned[df_cleaned['job'] != 'unknown']\n",
    "df_cleaned = df_cleaned[df_cleaned['education'] != 'unknown']\n",
    "df_cleaned = df_cleaned.drop(columns=['contact', 'day', 'month'])\n",
    "\n",
    "# Verify that no null values remain\n",
    "print(df_cleaned.info())"
   ]
  },
  {
   "cell_type": "code",
   "execution_count": 230,
   "id": "42dd9de8-2841-4d3a-b0ba-2600df06b1f0",
   "metadata": {},
   "outputs": [
    {
     "name": "stdout",
     "output_type": "stream",
     "text": [
      "Number of 'unknown' entries: 0\n"
     ]
    }
   ],
   "source": [
    "print(f\"Number of 'unknown' entries: {df_cleaned['job'].value_counts().get('unknown', 0)}\")"
   ]
  },
  {
   "cell_type": "code",
   "execution_count": 232,
   "id": "51979e4a-390b-4df5-a62b-7575e13807ba",
   "metadata": {},
   "outputs": [
    {
     "name": "stdout",
     "output_type": "stream",
     "text": [
      "           job  job_encoded\n",
      "0   unemployed            2\n",
      "1     services            1\n",
      "2   management            0\n",
      "3   management            0\n",
      "4  blue-collar            1\n"
     ]
    }
   ],
   "source": [
    "# Redefine job by income risk and encode groups.\n",
    "job_mapping = {\n",
    "    \"unemployed\": 2,\n",
    "    \"entrepreneur\": 2,\n",
    "    \"self-employed\": 2,\n",
    "    \"student\": 2,\n",
    "    \"housemaid\": 2,\n",
    "    \"retired\": 2,\n",
    "    \"admin.\": 1,\n",
    "    \"blue-collar\": 1,\n",
    "    \"services\": 1,\n",
    "    \"technician\": 1,\n",
    "    \"management\": 0\n",
    "}\n",
    "\n",
    "# Apply the mapping to create a new 'income_risk' column\n",
    "df_cleaned['job_encoded'] = df_cleaned['job'].map(job_mapping)\n",
    "\n",
    "# Verify the encoded values\n",
    "print(df_cleaned[['job', 'job_encoded']].head())"
   ]
  },
  {
   "cell_type": "code",
   "execution_count": 234,
   "id": "c35da425-81c9-4f03-9170-9cecb30b7e24",
   "metadata": {},
   "outputs": [
    {
     "name": "stdout",
     "output_type": "stream",
     "text": [
      "   marital  marital_encoded\n",
      "0  married                2\n",
      "1  married                2\n",
      "2   single                1\n",
      "3  married                2\n",
      "4  married                2\n"
     ]
    }
   ],
   "source": [
    "# Redefine marital status by married (2 income), single (1 income)\n",
    "marital_mapping = {\n",
    "    \"married\": 2,\n",
    "    \"divorced\": 1,\n",
    "    \"single\": 1\n",
    "}\n",
    "\n",
    "# Apply the mapping to create a new 'income_risk' column\n",
    "df_cleaned['marital_encoded'] = df_cleaned['marital'].map(marital_mapping)\n",
    "\n",
    "# Verify the encoded values\n",
    "print(df_cleaned[['marital', 'marital_encoded']].head())"
   ]
  },
  {
   "cell_type": "code",
   "execution_count": 236,
   "id": "e63e9cce-cedc-4e4f-8b60-0d23852e425d",
   "metadata": {},
   "outputs": [
    {
     "name": "stdout",
     "output_type": "stream",
     "text": [
      "   education  education_encoded\n",
      "0    primary                  1\n",
      "1  secondary                  2\n",
      "2   tertiary                  3\n",
      "3   tertiary                  3\n",
      "4  secondary                  2\n"
     ]
    }
   ],
   "source": [
    "# Define the education mapping\n",
    "education_mapping = {\n",
    "    \"secondary\": 2,\n",
    "    \"primary\": 1,\n",
    "    \"tertiary\": 3,\n",
    "    \"unknown\": 0  # You can assign 0 or any value you prefer for unknown\n",
    "}\n",
    "\n",
    "# Apply the mapping to create a new 'education_encoded' column\n",
    "df_cleaned['education_encoded'] = df_cleaned['education'].map(education_mapping)\n",
    "\n",
    "# Verify the encoded values\n",
    "print(df_cleaned[['education', 'education_encoded']].head())"
   ]
  },
  {
   "cell_type": "code",
   "execution_count": 238,
   "id": "74e6f313-cb25-4384-868a-c757a16ff1bf",
   "metadata": {},
   "outputs": [
    {
     "name": "stdout",
     "output_type": "stream",
     "text": [
      "  default  default_encoded\n",
      "0      no                0\n",
      "1      no                0\n",
      "2      no                0\n",
      "3      no                0\n",
      "4      no                0\n"
     ]
    }
   ],
   "source": [
    "# Define the binary encoding for the 'default' column\n",
    "default_mapping = {\n",
    "    \"yes\": 1,\n",
    "    \"no\": 0\n",
    "}\n",
    "\n",
    "# Apply the mapping to create a new 'default_encoded' column\n",
    "df_cleaned['default_encoded'] = df_cleaned['default'].map(default_mapping)\n",
    "\n",
    "# Verify the encoded values\n",
    "print(df_cleaned[['default', 'default_encoded']].head())"
   ]
  },
  {
   "cell_type": "code",
   "execution_count": 240,
   "id": "eda3e57e-7cf6-49c6-bfe1-5d9f80722a09",
   "metadata": {},
   "outputs": [
    {
     "name": "stdout",
     "output_type": "stream",
     "text": [
      "  housing  housing_encoded\n",
      "0      no                0\n",
      "1     yes                1\n",
      "2     yes                1\n",
      "3     yes                1\n",
      "4     yes                1\n"
     ]
    }
   ],
   "source": [
    "# Define the binary encoding for the 'housing' column\n",
    "housing_mapping = {\n",
    "    \"yes\": 1,\n",
    "    \"no\": 0\n",
    "}\n",
    "\n",
    "# Apply the mapping to create a new 'housing_encoded' column\n",
    "df_cleaned['housing_encoded'] = df_cleaned['housing'].map(housing_mapping)\n",
    "\n",
    "# Verify the encoded values\n",
    "print(df_cleaned[['housing', 'housing_encoded']].head())"
   ]
  },
  {
   "cell_type": "code",
   "execution_count": 242,
   "id": "16899fb7-cf26-41a2-8b90-e3b2d50290de",
   "metadata": {},
   "outputs": [
    {
     "name": "stdout",
     "output_type": "stream",
     "text": [
      "  loan  loan_encoded\n",
      "0   no             0\n",
      "1  yes             1\n",
      "2   no             0\n",
      "3  yes             1\n",
      "4   no             0\n"
     ]
    }
   ],
   "source": [
    "# Define the binary encoding for the 'loan' (personal loan) column\n",
    "loan_mapping = {\n",
    "    \"yes\": 1,\n",
    "    \"no\": 0\n",
    "}\n",
    "\n",
    "# Apply the mapping to create a new 'loan_encoded' column\n",
    "df_cleaned['loan_encoded'] = df_cleaned['loan'].map(loan_mapping)\n",
    "\n",
    "# Verify the encoded values\n",
    "print(df_cleaned[['loan', 'loan_encoded']].head())"
   ]
  },
  {
   "cell_type": "code",
   "execution_count": 244,
   "id": "beda5a11-450f-4c45-92f3-c7904bcd322d",
   "metadata": {},
   "outputs": [
    {
     "name": "stdout",
     "output_type": "stream",
     "text": [
      "Number of 'unknown' entries: 3536\n",
      "Number of 'other' entries: 188\n"
     ]
    }
   ],
   "source": [
    "# Count the number of occurrences of 'unknown' and 'other' in the 'poutcome' column\n",
    "unknown_count = df_cleaned['poutcome'].value_counts().get('unknown', 0)\n",
    "other_count = df_cleaned['poutcome'].value_counts().get('other', 0)\n",
    "\n",
    "print(f\"Number of 'unknown' entries: {unknown_count}\")\n",
    "print(f\"Number of 'other' entries: {other_count}\")"
   ]
  },
  {
   "cell_type": "code",
   "execution_count": 246,
   "id": "3cdb8bfe-0a98-404c-ae69-0994fbbbd63f",
   "metadata": {},
   "outputs": [
    {
     "name": "stdout",
     "output_type": "stream",
     "text": [
      "    y  y_encoded\n",
      "0  no          0\n",
      "1  no          0\n",
      "2  no          0\n",
      "3  no          0\n",
      "4  no          0\n"
     ]
    }
   ],
   "source": [
    "# Define the binary encoding for the 'loan' (personal loan) column\n",
    "y_mapping = {\n",
    "    \"yes\": 1,\n",
    "    \"no\": 0\n",
    "}\n",
    "\n",
    "# Apply the mapping to create a new 'loan_encoded' column\n",
    "df_cleaned['y_encoded'] = df_cleaned['y'].map(y_mapping)\n",
    "\n",
    "# Verify the encoded values\n",
    "print(df_cleaned[['y', 'y_encoded']].head())"
   ]
  },
  {
   "cell_type": "code",
   "execution_count": 248,
   "id": "fd18aaf2-b6c1-4c4f-9f16-7a56385e2d02",
   "metadata": {},
   "outputs": [
    {
     "name": "stdout",
     "output_type": "stream",
     "text": [
      "   age  balance  duration  campaign  pdays  previous  job_encoded  \\\n",
      "0   30     1787        79         1     -1         0            2   \n",
      "\n",
      "   marital_encoded  education_encoded  default_encoded  housing_encoded  \\\n",
      "0                2                  1                0                0   \n",
      "\n",
      "   loan_encoded  y_encoded  \n",
      "0             0          0  \n",
      "<class 'pandas.core.frame.DataFrame'>\n",
      "Index: 4311 entries, 0 to 4520\n",
      "Data columns (total 13 columns):\n",
      " #   Column             Non-Null Count  Dtype\n",
      "---  ------             --------------  -----\n",
      " 0   age                4311 non-null   int64\n",
      " 1   balance            4311 non-null   int64\n",
      " 2   duration           4311 non-null   int64\n",
      " 3   campaign           4311 non-null   int64\n",
      " 4   pdays              4311 non-null   int64\n",
      " 5   previous           4311 non-null   int64\n",
      " 6   job_encoded        4311 non-null   int64\n",
      " 7   marital_encoded    4311 non-null   int64\n",
      " 8   education_encoded  4311 non-null   int64\n",
      " 9   default_encoded    4311 non-null   int64\n",
      " 10  housing_encoded    4311 non-null   int64\n",
      " 11  loan_encoded       4311 non-null   int64\n",
      " 12  y_encoded          4311 non-null   int64\n",
      "dtypes: int64(13)\n",
      "memory usage: 471.5 KB\n",
      "None\n"
     ]
    }
   ],
   "source": [
    "df_cleaned = df_cleaned.drop(columns=['education', 'job', 'marital', 'marital', 'default', 'housing', 'loan', 'poutcome', 'y'])\n",
    "\n",
    "# Display the first few rows to explore the contents\n",
    "print(df_cleaned.head(1))\n",
    "\n",
    "# Display summary information about the DataFrame\n",
    "print(df_cleaned.info())"
   ]
  },
  {
   "cell_type": "markdown",
   "id": "096f4a5d-eed3-46d9-8827-9f64581fb1d9",
   "metadata": {},
   "source": [
    "### Feature Importance Analysis"
   ]
  },
  {
   "cell_type": "code",
   "execution_count": 251,
   "id": "b80c194b-6912-47dc-ac64-ba4e76436bfc",
   "metadata": {},
   "outputs": [],
   "source": [
    "from sklearn.linear_model import LogisticRegression\n",
    "from sklearn.ensemble import RandomForestClassifier\n",
    "from sklearn.model_selection import train_test_split\n",
    "from sklearn.preprocessing import StandardScaler\n",
    "from sklearn.metrics import classification_report\n",
    "from sklearn.metrics import accuracy_score"
   ]
  },
  {
   "cell_type": "code",
   "execution_count": 253,
   "id": "71a64c07-0d67-4c39-ac25-ec52adb8ef46",
   "metadata": {},
   "outputs": [
    {
     "name": "stdout",
     "output_type": "stream",
     "text": [
      "              Feature  Coefficient\n",
      "2            duration     1.011661\n",
      "10    housing_encoded    -0.432275\n",
      "3            campaign    -0.299997\n",
      "11       loan_encoded    -0.253658\n",
      "8   education_encoded     0.220557\n",
      "4               pdays     0.199266\n",
      "7     marital_encoded    -0.196832\n",
      "5            previous     0.194275\n",
      "1             balance     0.077375\n",
      "0                 age     0.076239\n",
      "9     default_encoded     0.041810\n",
      "6         job_encoded     0.039080\n",
      "              precision    recall  f1-score   support\n",
      "\n",
      "           0       0.91      0.98      0.94      1158\n",
      "           1       0.52      0.18      0.26       136\n",
      "\n",
      "    accuracy                           0.90      1294\n",
      "   macro avg       0.72      0.58      0.60      1294\n",
      "weighted avg       0.87      0.90      0.87      1294\n",
      "\n"
     ]
    }
   ],
   "source": [
    "# Define features (X) and target (y)\n",
    "X = df_cleaned.drop(columns=['y_encoded'])  # All columns except y_encoded\n",
    "y = df_cleaned['y_encoded']\n",
    "\n",
    "# Split data into training and testing sets\n",
    "X_train, X_test, y_train, y_test = train_test_split(X, y, test_size=0.3, random_state=42)\n",
    "\n",
    "# Standardize the features\n",
    "scaler = StandardScaler()\n",
    "X_train_scaled = scaler.fit_transform(X_train)\n",
    "X_test_scaled = scaler.transform(X_test)\n",
    "\n",
    "# Fit the Logistic Regression model\n",
    "log_reg = LogisticRegression()\n",
    "log_reg.fit(X_train_scaled, y_train)\n",
    "\n",
    "# Get the feature coefficients\n",
    "feature_importance = pd.DataFrame({'Feature': X.columns, 'Coefficient': log_reg.coef_[0]})\n",
    "\n",
    "# Display feature importance sorted by absolute value of the coefficients\n",
    "print(feature_importance.reindex(feature_importance['Coefficient'].abs().sort_values(ascending=False).index))\n",
    "\n",
    "# Evaluate model performance\n",
    "y_pred = log_reg.predict(X_test_scaled)\n",
    "print(classification_report(y_test, y_pred))"
   ]
  },
  {
   "cell_type": "code",
   "execution_count": 255,
   "id": "bd7001b6-284e-44b5-9840-a28df7ee658d",
   "metadata": {},
   "outputs": [
    {
     "name": "stdout",
     "output_type": "stream",
     "text": [
      "              Feature  Importance\n",
      "2            duration    0.359080\n",
      "1             balance    0.172196\n",
      "0                 age    0.158238\n",
      "4               pdays    0.069722\n",
      "3            campaign    0.058238\n",
      "5            previous    0.041305\n",
      "8   education_encoded    0.034634\n",
      "6         job_encoded    0.032807\n",
      "10    housing_encoded    0.029041\n",
      "7     marital_encoded    0.024511\n",
      "11       loan_encoded    0.015138\n",
      "9     default_encoded    0.005089\n",
      "              precision    recall  f1-score   support\n",
      "\n",
      "           0       0.92      0.97      0.95      1158\n",
      "           1       0.56      0.30      0.39       136\n",
      "\n",
      "    accuracy                           0.90      1294\n",
      "   macro avg       0.74      0.64      0.67      1294\n",
      "weighted avg       0.88      0.90      0.89      1294\n",
      "\n"
     ]
    }
   ],
   "source": [
    "# Fit Random Forest model\n",
    "rf_model = RandomForestClassifier(random_state=42)\n",
    "rf_model.fit(X_train, y_train)\n",
    "\n",
    "# Get feature importance\n",
    "rf_feature_importance = pd.DataFrame({'Feature': X.columns, 'Importance': rf_model.feature_importances_})\n",
    "\n",
    "# Display feature importance sorted by value\n",
    "print(rf_feature_importance.sort_values(by='Importance', ascending=False))\n",
    "\n",
    "# Evaluate model performance\n",
    "y_pred_rf = rf_model.predict(X_test)\n",
    "print(classification_report(y_test, y_pred_rf))"
   ]
  },
  {
   "cell_type": "markdown",
   "id": "80e3cbae-810c-453a-9fd4-3b2ae509b783",
   "metadata": {},
   "source": [
    "### Baseline"
   ]
  },
  {
   "cell_type": "code",
   "execution_count": 258,
   "id": "ea52c4fb-1a32-4e13-833b-73f57905bf4d",
   "metadata": {},
   "outputs": [
    {
     "name": "stdout",
     "output_type": "stream",
     "text": [
      "Baseline accuracy (always predicting 0): 0.8845\n"
     ]
    }
   ],
   "source": [
    "# Always predict 1\n",
    "y_pred_baseline = [0] * len(df_cleaned['y_encoded'])\n",
    "\n",
    "# Calculate accuracy by comparing with the true values\n",
    "accuracy_baseline = accuracy_score(df_cleaned['y_encoded'], y_pred_baseline)\n",
    "\n",
    "print(f\"Baseline accuracy (always predicting 0): {accuracy_baseline:.4f}\")"
   ]
  },
  {
   "cell_type": "markdown",
   "id": "295e0d5d-1066-40c1-9a0e-e8adb791e592",
   "metadata": {},
   "source": [
    "### Declaring Reusable Classification Functions"
   ]
  },
  {
   "cell_type": "code",
   "execution_count": 261,
   "id": "2f2dfa57-7fbc-445c-bed4-1cdefd35fd2b",
   "metadata": {},
   "outputs": [],
   "source": [
    "from sklearn.model_selection import GridSearchCV, RandomizedSearchCV\n",
    "from sklearn.linear_model import LogisticRegression\n",
    "from sklearn.tree import DecisionTreeClassifier\n",
    "from sklearn.svm import SVC\n",
    "from sklearn.neighbors import KNeighborsClassifier"
   ]
  },
  {
   "cell_type": "markdown",
   "id": "a9840004-4480-462e-9066-7ff76a610187",
   "metadata": {},
   "source": [
    "#### Logistic Regression"
   ]
  },
  {
   "cell_type": "code",
   "execution_count": 264,
   "id": "8c06e104-4709-46b6-8d2f-d0e6a82d4fa4",
   "metadata": {},
   "outputs": [],
   "source": [
    "def logistic_regression(X_train_, X_test_, y_train_, y_test_):\n",
    "    # Define the Logistic Regression model\n",
    "    log_reg = LogisticRegression(max_iter=2000)\n",
    "    \n",
    "    # Hyperparameters to tune\n",
    "    param_grid = [\n",
    "        {'solver': ['liblinear', 'saga'], 'penalty': ['l1', 'l2'], 'C': [0.01, 0.1, 1, 10, 100]},\n",
    "        {'solver': ['lbfgs'], 'penalty': ['l2'], 'C': [0.01, 0.1, 1, 10, 100]}\n",
    "    ]\n",
    "    \n",
    "    # Set up GridSearchCV\n",
    "    grid_search_log_reg = GridSearchCV(log_reg, param_grid, cv=5, scoring='accuracy', n_jobs=-1, return_train_score=True)\n",
    "    \n",
    "    # Fit the model\n",
    "    grid_search_log_reg.fit(X_train_, y_train_)\n",
    "    \n",
    "    # Get the best estimator\n",
    "    best_log_reg = grid_search_log_reg.best_estimator_\n",
    "    \n",
    "    # Train and test scores using the best estimator\n",
    "    train_score_log_reg = best_log_reg.score(X_train_, y_train_)\n",
    "    test_score_log_reg = best_log_reg.score(X_test_, y_test_)\n",
    "    \n",
    "    # Extract the average fit time\n",
    "    average_fit_time_log_reg = grid_search_log_reg.cv_results_['mean_fit_time'][grid_search_log_reg.best_index_]\n",
    "    \n",
    "    # Display the results\n",
    "    print(f\"Best parameters (Logistic Regression): {grid_search_log_reg.best_params_}\")\n",
    "    print(f\"Train Score (best estimator): {train_score_log_reg}\")\n",
    "    print(f\"Test Score (best estimator): {test_score_log_reg}\")\n",
    "    print(f\"Average Fit Time (best estimator): {average_fit_time_log_reg}\")"
   ]
  },
  {
   "cell_type": "markdown",
   "id": "78ca0f29-f7e4-4459-a981-53fc1d41ddc2",
   "metadata": {},
   "source": [
    "#### KNN"
   ]
  },
  {
   "cell_type": "code",
   "execution_count": 267,
   "id": "04881109-2450-4bdd-b1fd-a40e9e2980b1",
   "metadata": {},
   "outputs": [],
   "source": [
    "def knn(X_train_, X_test_, y_train_, y_test_):\n",
    "    # Define the KNeighborsClassifier model\n",
    "    knn = KNeighborsClassifier()\n",
    "    \n",
    "    # Hyperparameters to tune\n",
    "    param_grid = {\n",
    "        'n_neighbors': [3, 5, 7, 9, 11],\n",
    "        'weights': ['uniform', 'distance'],\n",
    "        'metric': ['euclidean', 'manhattan', 'minkowski']\n",
    "    }\n",
    "    \n",
    "    # Set up GridSearchCV\n",
    "    grid_search_knn = GridSearchCV(knn, param_grid, cv=5, scoring='accuracy', n_jobs=-1, return_train_score=True)\n",
    "    \n",
    "    # Fit the model\n",
    "    grid_search_knn.fit(X_train_, y_train_)\n",
    "    \n",
    "    # Get the best estimator\n",
    "    best_knn = grid_search_knn.best_estimator_\n",
    "    \n",
    "    # Train and test scores using the best estimator\n",
    "    train_score_knn = best_knn.score(X_train_, y_train_)\n",
    "    test_score_knn = best_knn.score(X_test_, y_test_)\n",
    "    \n",
    "    # Extract the average fit time\n",
    "    average_fit_time_knn = grid_search_knn.cv_results_['mean_fit_time'][grid_search_knn.best_index_]\n",
    "    \n",
    "    # Display the results\n",
    "    print(f\"Best parameters (KNN): {grid_search_knn.best_params_}\")\n",
    "    print(f\"Train Score (best estimator): {train_score_knn}\")\n",
    "    print(f\"Test Score (best estimator): {test_score_knn}\")\n",
    "    print(f\"Average Fit Time (best estimator): {average_fit_time_knn}\")"
   ]
  },
  {
   "cell_type": "markdown",
   "id": "f134a545-2b1a-4886-ba74-f39d994968f9",
   "metadata": {},
   "source": [
    "#### SVM"
   ]
  },
  {
   "cell_type": "code",
   "execution_count": 270,
   "id": "58bb6baa-a4d7-4101-bb73-88b0680a8768",
   "metadata": {},
   "outputs": [],
   "source": [
    "def svm(X_train_, X_test_, y_train_, y_test_):\n",
    "    # Define the SVC model\n",
    "    svc = SVC()\n",
    "    \n",
    "    # Hyperparameters to tune\n",
    "    param_grid = {\n",
    "        'C': [0.1, 1, 10, 100],\n",
    "        'kernel': ['linear', 'rbf', 'poly'],\n",
    "        'gamma': ['scale', 'auto'],\n",
    "        'degree': [2]  # Only relevant for the 'poly' kernel\n",
    "    }\n",
    "    \n",
    "    # Set up GridSearchCV\n",
    "    random_search_svc = RandomizedSearchCV(svc, param_grid, n_iter=10, cv=5, scoring='accuracy', n_jobs=-1, return_train_score=True)\n",
    "    \n",
    "    # Fit the model\n",
    "    random_search_svc.fit(X_train_, y_train_)\n",
    "    \n",
    "    # Get the best estimator\n",
    "    best_svc = random_search_svc.best_estimator_\n",
    "    \n",
    "    # Train and test scores using the best estimator\n",
    "    train_score_svc = best_svc.score(X_train_, y_train_)\n",
    "    test_score_svc = best_svc.score(X_test_, y_test_)\n",
    "    \n",
    "    # Extract the average fit time\n",
    "    average_fit_time_svc = random_search_svc.cv_results_['mean_fit_time'][random_search_svc.best_index_]\n",
    "    \n",
    "    # Display the results\n",
    "    print(f\"Best parameters (SVC): {random_search_svc.best_params_}\")\n",
    "    print(f\"Train Score (best estimator): {train_score_svc}\")\n",
    "    print(f\"Test Score (best estimator): {test_score_svc}\")\n",
    "    print(f\"Average Fit Time (best estimator): {average_fit_time_svc}\")"
   ]
  },
  {
   "cell_type": "markdown",
   "id": "1c782c45-6859-4575-af25-a3d89fb56665",
   "metadata": {},
   "source": [
    "#### Decision Tree"
   ]
  },
  {
   "cell_type": "code",
   "execution_count": 273,
   "id": "6c6d68e0-6a6e-46db-befc-1e99f436821e",
   "metadata": {},
   "outputs": [],
   "source": [
    "def decision_tree (X_train_, X_test_, y_train_, y_test_):\n",
    "    # Define the Decision Tree Classifier model\n",
    "    decision_tree = DecisionTreeClassifier()\n",
    "    \n",
    "    # Hyperparameters to tune\n",
    "    param_grid = {\n",
    "        'criterion': ['gini', 'entropy'],\n",
    "        'max_depth': [None, 10, 20, 30],\n",
    "        'min_samples_split': [2, 5, 10],\n",
    "        'min_samples_leaf': [1, 2, 4],\n",
    "        'max_features': [None, 'sqrt', 'log2']\n",
    "    }\n",
    "    \n",
    "    # Set up GridSearchCV\n",
    "    grid_search_dt = GridSearchCV(decision_tree, param_grid, cv=5, scoring='accuracy', n_jobs=-1, return_train_score=True)\n",
    "    \n",
    "    # Fit the model\n",
    "    grid_search_dt.fit(X_train_, y_train_)\n",
    "    \n",
    "    # Get the best estimator\n",
    "    best_dt = grid_search_dt.best_estimator_\n",
    "    \n",
    "    # Train and test scores using the best estimator\n",
    "    train_score_dt = best_dt.score(X_train_, y_train_)\n",
    "    test_score_dt = best_dt.score(X_test_, y_test_)\n",
    "    \n",
    "    # Extract the average fit time\n",
    "    average_fit_time_dt = grid_search_dt.cv_results_['mean_fit_time'][grid_search_dt.best_index_]\n",
    "    \n",
    "    # Display the results\n",
    "    print(f\"Best parameters (Decision Tree): {grid_search_dt.best_params_}\")\n",
    "    print(f\"Train Score (best estimator): {train_score_dt}\")\n",
    "    print(f\"Test Score (best estimator): {test_score_dt}\")\n",
    "    print(f\"Average Fit Time (best estimator): {average_fit_time_dt}\")"
   ]
  },
  {
   "cell_type": "markdown",
   "id": "de6de984-f39a-4f87-93da-7593174bad11",
   "metadata": {},
   "source": [
    "### Classification with strongest predictive variable: duration of last contact"
   ]
  },
  {
   "cell_type": "code",
   "execution_count": 330,
   "id": "3b7c6384-e72b-49b3-8327-333d5fcf5899",
   "metadata": {},
   "outputs": [],
   "source": [
    "import seaborn as sns\n",
    "import matplotlib.pyplot as plt"
   ]
  },
  {
   "cell_type": "code",
   "execution_count": 332,
   "id": "879e06d3-6487-4580-b391-3e635bf27d9b",
   "metadata": {},
   "outputs": [
    {
     "data": {
      "image/png": "[encoded data removed]",
      "text/plain": [
       "<Figure size 800x600 with 1 Axes>"
      ]
     },
     "metadata": {},
     "output_type": "display_data"
    }
   ],
   "source": [
    "# Create a box plot to visualize duration split by y_encoded\n",
    "plt.figure(figsize=(8, 6))\n",
    "sns.boxplot(x='y_encoded', y='duration', data=df_cleaned)\n",
    "plt.title('Box Plot of Duration by y_encoded')\n",
    "plt.xlabel('y_encoded')\n",
    "plt.ylabel('Duration')\n",
    "plt.show()"
   ]
  },
  {
   "cell_type": "code",
   "execution_count": 342,
   "id": "3bc7e176-04a2-4e91-ba9c-e699d1785af1",
   "metadata": {},
   "outputs": [
    {
     "name": "stderr",
     "output_type": "stream",
     "text": [
      "/var/folders/7d/4cmb6lbj0pjgcc7xjnw7_mhr0000gn/T/ipykernel_39704/655823416.py:5: FutureWarning: The default of observed=False is deprecated and will be changed to True in a future version of pandas. Pass observed=False to retain current behavior or observed=True to adopt the future default and silence this warning.\n",
      "  duration_counts = df_cleaned.groupby(['duration_bins', 'y_encoded']).size().unstack(fill_value=0)\n"
     ]
    },
    {
     "data": {
      "image/png": "[encoded data removed]",
      "text/plain": [
       "<Figure size 1000x600 with 1 Axes>"
      ]
     },
     "metadata": {},
     "output_type": "display_data"
    }
   ],
   "source": [
    "# Step 1: Bin the 'duration' into ranges (you can adjust the number of bins as needed)\n",
    "df_cleaned['duration_bins'] = pd.cut(df_cleaned['duration'], bins=20)\n",
    "\n",
    "# Step 2: Calculate the percentage of yes (1) and no (0) in each bin\n",
    "duration_counts = df_cleaned.groupby(['duration_bins', 'y_encoded']).size().unstack(fill_value=0)\n",
    "duration_percentages = duration_counts.div(duration_counts.sum(axis=1), axis=0) * 100\n",
    "\n",
    "# Step 3: Plot a stacked bar chart\n",
    "duration_percentages.plot(kind='bar', stacked=True, color=['blue', 'orange'], figsize=(10, 6))\n",
    "\n",
    "# Customize the plot\n",
    "plt.title('Percentage of y_encoded (Yes/No) by Duration Bins')\n",
    "plt.xlabel('Duration Bins')\n",
    "plt.ylabel('Percentage')\n",
    "plt.legend(title='y_encoded', labels=['No (0)', 'Yes (1)'])\n",
    "plt.xticks(rotation=45)\n",
    "plt.show()"
   ]
  },
  {
   "cell_type": "code",
   "execution_count": 350,
   "id": "da3fc31c-c589-49a1-a228-7c29169e28dc",
   "metadata": {},
   "outputs": [
    {
     "name": "stderr",
     "output_type": "stream",
     "text": [
      "/var/folders/7d/4cmb6lbj0pjgcc7xjnw7_mhr0000gn/T/ipykernel_39704/2613884139.py:5: FutureWarning: \n",
      "\n",
      "`shade` is now deprecated in favor of `fill`; setting `fill=True`.\n",
      "This will become an error in seaborn v0.14.0; please update your code.\n",
      "\n",
      "  sns.kdeplot(df_cleaned[df_cleaned['y_encoded'] == 0]['duration'], label='No (0)', color='skyblue', shade=True)\n",
      "/usr/local/anaconda3/lib/python3.11/site-packages/seaborn/_oldcore.py:1119: FutureWarning: use_inf_as_na option is deprecated and will be removed in a future version. Convert inf values to NaN before operating instead.\n",
      "  with pd.option_context('mode.use_inf_as_na', True):\n",
      "/var/folders/7d/4cmb6lbj0pjgcc7xjnw7_mhr0000gn/T/ipykernel_39704/2613884139.py:8: FutureWarning: \n",
      "\n",
      "`shade` is now deprecated in favor of `fill`; setting `fill=True`.\n",
      "This will become an error in seaborn v0.14.0; please update your code.\n",
      "\n",
      "  sns.kdeplot(df_cleaned[df_cleaned['y_encoded'] == 1]['duration'], label='Yes (1)', color='orange', shade=True)\n",
      "/usr/local/anaconda3/lib/python3.11/site-packages/seaborn/_oldcore.py:1119: FutureWarning: use_inf_as_na option is deprecated and will be removed in a future version. Convert inf values to NaN before operating instead.\n",
      "  with pd.option_context('mode.use_inf_as_na', True):\n"
     ]
    },
    {
     "data": {
      "image/png": "[encoded data removed]",
      "text/plain": [
       "<Figure size 1000x600 with 1 Axes>"
      ]
     },
     "metadata": {},
     "output_type": "display_data"
    }
   ],
   "source": [
    "# Create a KDE plot for 'duration' split by 'y_encoded'\n",
    "plt.figure(figsize=(10, 6))\n",
    "\n",
    "# KDE plot for y_encoded = 0\n",
    "sns.kdeplot(df_cleaned[df_cleaned['y_encoded'] == 0]['duration'], label='No (0)', color='skyblue', shade=True)\n",
    "\n",
    "# KDE plot for y_encoded = 1\n",
    "sns.kdeplot(df_cleaned[df_cleaned['y_encoded'] == 1]['duration'], label='Yes (1)', color='orange', shade=True)\n",
    "\n",
    "# Add labels and title\n",
    "plt.title('KDE (Normal Distribution) of Duration Split by y_encoded')\n",
    "plt.xlabel('Duration')\n",
    "plt.ylabel('Density')\n",
    "plt.legend()\n",
    "\n",
    "# Display the plot\n",
    "plt.show()"
   ]
  },
  {
   "cell_type": "code",
   "execution_count": 352,
   "id": "db639d61-9c0d-4869-acac-397eb0010cac",
   "metadata": {},
   "outputs": [
    {
     "data": {
      "image/png": "[encoded data removed]",
      "text/plain": [
       "<Figure size 1000x600 with 1 Axes>"
      ]
     },
     "metadata": {},
     "output_type": "display_data"
    }
   ],
   "source": [
    "# Plot normalized histograms for 'duration' split by 'y_encoded'\n",
    "plt.figure(figsize=(10, 6))\n",
    "\n",
    "# Normalized histogram for y_encoded = 0\n",
    "plt.hist(df_cleaned[df_cleaned['y_encoded'] == 0]['duration'], bins=20, alpha=0.5, label='No (0)', color='skyblue', density=True)\n",
    "\n",
    "# Normalized histogram for y_encoded = 1\n",
    "plt.hist(df_cleaned[df_cleaned['y_encoded'] == 1]['duration'], bins=20, alpha=0.5, label='Yes (1)', color='orange', density=True)\n",
    "\n",
    "# Add labels and title\n",
    "plt.title('Normalized Histogram (Bar Chart) of Duration Split by y_encoded')\n",
    "plt.xlabel('Duration')\n",
    "plt.ylabel('Density')\n",
    "plt.legend(loc='upper right')\n",
    "\n",
    "# Display the plot\n",
    "plt.show()"
   ]
  },
  {
   "cell_type": "code",
   "execution_count": 276,
   "id": "801781eb-9da7-4401-ad1c-645373bb2309",
   "metadata": {},
   "outputs": [],
   "source": [
    "# Define features (X) and target (y)\n",
    "X = df_cleaned[['duration']]\n",
    "y = df_cleaned['y_encoded']\n",
    "\n",
    "# Split data into training and testing sets\n",
    "X_train, X_test, y_train, y_test = train_test_split(X, y, test_size=0.3, random_state=42)\n",
    "\n",
    "# Standardize the features\n",
    "scaler = StandardScaler()\n",
    "X_train_scaled = scaler.fit_transform(X_train)\n",
    "X_test_scaled = scaler.transform(X_test)"
   ]
  },
  {
   "cell_type": "code",
   "execution_count": 278,
   "id": "a0abd6a6-2abe-4af0-b882-133c6b80fc3c",
   "metadata": {},
   "outputs": [
    {
     "name": "stdout",
     "output_type": "stream",
     "text": [
      "Best parameters (Logistic Regression): {'C': 0.01, 'penalty': 'l2', 'solver': 'liblinear'}\n",
      "Train Score (best estimator): 0.8846536294332118\n",
      "Test Score (best estimator): 0.8995363214837713\n",
      "Average Fit Time (best estimator): 0.005417537689208984\n"
     ]
    }
   ],
   "source": [
    "logistic_regression(X_train_scaled, X_test_scaled, y_train, y_test)"
   ]
  },
  {
   "cell_type": "code",
   "execution_count": 280,
   "id": "042996ec-b20b-446e-aea9-1e50b5cb5bcf",
   "metadata": {},
   "outputs": [
    {
     "name": "stdout",
     "output_type": "stream",
     "text": [
      "Best parameters (KNN): {'metric': 'euclidean', 'n_neighbors': 11, 'weights': 'uniform'}\n",
      "Train Score (best estimator): 0.8926085515412662\n",
      "Test Score (best estimator): 0.8948995363214838\n",
      "Average Fit Time (best estimator): 0.0016819953918457032\n"
     ]
    }
   ],
   "source": [
    "knn(X_train_scaled, X_test_scaled, y_train, y_test)"
   ]
  },
  {
   "cell_type": "code",
   "execution_count": 282,
   "id": "8bf3cb26-3a2b-4ee4-af97-e614172e7946",
   "metadata": {},
   "outputs": [
    {
     "name": "stdout",
     "output_type": "stream",
     "text": [
      "Best parameters (SVC): {'kernel': 'rbf', 'gamma': 'scale', 'degree': 2, 'C': 10}\n",
      "Train Score (best estimator): 0.8882996353994034\n",
      "Test Score (best estimator): 0.8995363214837713\n",
      "Average Fit Time (best estimator): 0.5683332443237304\n"
     ]
    }
   ],
   "source": [
    "svm(X_train_scaled, X_test_scaled, y_train, y_test)"
   ]
  },
  {
   "cell_type": "code",
   "execution_count": 284,
   "id": "25bc7ff8-ae5e-49d6-a6e5-4e2d3b71788b",
   "metadata": {},
   "outputs": [
    {
     "name": "stdout",
     "output_type": "stream",
     "text": [
      "Best parameters (Decision Tree): {'criterion': 'entropy', 'max_depth': 10, 'max_features': None, 'min_samples_leaf': 1, 'min_samples_split': 10}\n",
      "Train Score (best estimator): 0.9042094796155121\n",
      "Test Score (best estimator): 0.8863987635239567\n",
      "Average Fit Time (best estimator): 0.0036803245544433593\n"
     ]
    }
   ],
   "source": [
    "decision_tree(X_train_scaled, X_test_scaled, y_train, y_test)"
   ]
  },
  {
   "cell_type": "markdown",
   "id": "be1e0995-e302-46b3-ac75-070404a6b510",
   "metadata": {},
   "source": [
    "### Classification with 7 predictive variables:"
   ]
  },
  {
   "cell_type": "code",
   "execution_count": 307,
   "id": "da4973c0-ce42-473a-8883-29c5a8f3ffdd",
   "metadata": {},
   "outputs": [],
   "source": [
    "# Define features (X) and target (y)\n",
    "X = df_cleaned[['duration', 'housing_encoded', 'campaign', 'loan_encoded', 'education_encoded', 'pdays', 'marital_encoded']]\n",
    "y = df_cleaned['y_encoded']\n",
    "\n",
    "# Split data into training and testing sets\n",
    "X_train, X_test, y_train, y_test = train_test_split(X, y, test_size=0.3, random_state=42)\n",
    "\n",
    "# Standardize the features\n",
    "scaler = StandardScaler()\n",
    "X_train_scaled = scaler.fit_transform(X_train)\n",
    "X_test_scaled = scaler.transform(X_test)"
   ]
  },
  {
   "cell_type": "code",
   "execution_count": 309,
   "id": "192a360a-acab-4d08-a4bc-f8fdac815abe",
   "metadata": {},
   "outputs": [
    {
     "name": "stdout",
     "output_type": "stream",
     "text": [
      "Best parameters (Logistic Regression): {'C': 0.1, 'penalty': 'l2', 'solver': 'saga'}\n",
      "Train Score (best estimator): 0.8879681803115678\n",
      "Test Score (best estimator): 0.8956723338485317\n",
      "Average Fit Time (best estimator): 0.005042648315429688\n"
     ]
    }
   ],
   "source": [
    "logistic_regression(X_train_scaled, X_test_scaled, y_train, y_test)"
   ]
  },
  {
   "cell_type": "code",
   "execution_count": 311,
   "id": "0efa8766-f95d-45ac-823b-a858178fd85c",
   "metadata": {},
   "outputs": [
    {
     "name": "stdout",
     "output_type": "stream",
     "text": [
      "Best parameters (KNN): {'metric': 'manhattan', 'n_neighbors': 11, 'weights': 'uniform'}\n",
      "Train Score (best estimator): 0.8962545575074577\n",
      "Test Score (best estimator): 0.8941267387944358\n",
      "Average Fit Time (best estimator): 0.00243377685546875\n"
     ]
    }
   ],
   "source": [
    "knn(X_train_scaled, X_test_scaled, y_train, y_test)"
   ]
  },
  {
   "cell_type": "code",
   "execution_count": 313,
   "id": "12b6c21f-017d-4d7b-9595-0edf6d9da7fc",
   "metadata": {},
   "outputs": [
    {
     "name": "stdout",
     "output_type": "stream",
     "text": [
      "Best parameters (SVC): {'kernel': 'rbf', 'gamma': 'auto', 'degree': 2, 'C': 1}\n",
      "Train Score (best estimator): 0.9005634736493205\n",
      "Test Score (best estimator): 0.8979907264296755\n",
      "Average Fit Time (best estimator): 0.11226005554199218\n"
     ]
    }
   ],
   "source": [
    "svm(X_train_scaled, X_test_scaled, y_train, y_test)"
   ]
  },
  {
   "cell_type": "code",
   "execution_count": 314,
   "id": "d3fbedc8-e3d8-4bc1-878f-7cb226b657bb",
   "metadata": {},
   "outputs": [
    {
     "name": "stdout",
     "output_type": "stream",
     "text": [
      "Best parameters (Decision Tree): {'criterion': 'gini', 'max_depth': 30, 'max_features': 'sqrt', 'min_samples_leaf': 4, 'min_samples_split': 2}\n",
      "Train Score (best estimator): 0.91415313225058\n",
      "Test Score (best estimator): 0.8887171561051005\n",
      "Average Fit Time (best estimator): 0.002672910690307617\n"
     ]
    }
   ],
   "source": [
    "decision_tree(X_train_scaled, X_test_scaled, y_train, y_test)"
   ]
  },
  {
   "cell_type": "markdown",
   "id": "a52965c2-ada8-460e-a67c-ae1cf951a3ca",
   "metadata": {},
   "source": [
    "### Classification with 3 predictive variables:"
   ]
  },
  {
   "cell_type": "code",
   "execution_count": 320,
   "id": "81605472-e1e4-444e-bfcf-7974a226e8de",
   "metadata": {},
   "outputs": [],
   "source": [
    "# Define features (X) and target (y)\n",
    "X = df_cleaned[['duration', 'balance', 'age', 'campaign', 'pdays']]\n",
    "y = df_cleaned['y_encoded']\n",
    "\n",
    "# Split data into training and testing sets\n",
    "X_train, X_test, y_train, y_test = train_test_split(X, y, test_size=0.3, random_state=42)\n",
    "\n",
    "# Standardize the features\n",
    "scaler = StandardScaler()\n",
    "X_train_scaled = scaler.fit_transform(X_train)\n",
    "X_test_scaled = scaler.transform(X_test)"
   ]
  },
  {
   "cell_type": "code",
   "execution_count": 322,
   "id": "ddee593a-7469-4fee-a44c-8b079d1808c0",
   "metadata": {},
   "outputs": [
    {
     "name": "stdout",
     "output_type": "stream",
     "text": [
      "Best parameters (Logistic Regression): {'C': 1, 'penalty': 'l1', 'solver': 'liblinear'}\n",
      "Train Score (best estimator): 0.8849850845210474\n",
      "Test Score (best estimator): 0.8979907264296755\n",
      "Average Fit Time (best estimator): 0.0034934043884277343\n"
     ]
    }
   ],
   "source": [
    "logistic_regression(X_train_scaled, X_test_scaled, y_train, y_test)"
   ]
  },
  {
   "cell_type": "code",
   "execution_count": 324,
   "id": "2b60be8c-08ff-4c0d-bdef-8e37b491d38c",
   "metadata": {},
   "outputs": [
    {
     "name": "stdout",
     "output_type": "stream",
     "text": [
      "Best parameters (KNN): {'metric': 'euclidean', 'n_neighbors': 11, 'weights': 'uniform'}\n",
      "Train Score (best estimator): 0.893602916804773\n",
      "Test Score (best estimator): 0.8964451313755796\n",
      "Average Fit Time (best estimator): 0.002473258972167969\n"
     ]
    }
   ],
   "source": [
    "knn(X_train_scaled, X_test_scaled, y_train, y_test)"
   ]
  },
  {
   "cell_type": "code",
   "execution_count": 326,
   "id": "4c80e815-8cde-4c98-aad9-a513dfb6442a",
   "metadata": {},
   "outputs": [
    {
     "name": "stdout",
     "output_type": "stream",
     "text": [
      "Best parameters (SVC): {'kernel': 'poly', 'gamma': 'scale', 'degree': 2, 'C': 100}\n",
      "Train Score (best estimator): 0.8810076234670202\n",
      "Test Score (best estimator): 0.8956723338485317\n",
      "Average Fit Time (best estimator): 16.1703022480011\n"
     ]
    }
   ],
   "source": [
    "svm(X_train_scaled, X_test_scaled, y_train, y_test)"
   ]
  },
  {
   "cell_type": "code",
   "execution_count": 328,
   "id": "fe01c766-c71a-4c3a-9f2b-2b8876a09d19",
   "metadata": {},
   "outputs": [
    {
     "name": "stdout",
     "output_type": "stream",
     "text": [
      "Best parameters (Decision Tree): {'criterion': 'gini', 'max_depth': 20, 'max_features': 'log2', 'min_samples_leaf': 4, 'min_samples_split': 10}\n",
      "Train Score (best estimator): 0.929068611203182\n",
      "Test Score (best estimator): 0.8809891808346213\n",
      "Average Fit Time (best estimator): 0.0046710968017578125\n"
     ]
    }
   ],
   "source": [
    "decision_tree(X_train_scaled, X_test_scaled, y_train, y_test)"
   ]
  },
  {
   "cell_type": "code",
   "execution_count": 348,
   "id": "05553a42-319b-43bd-9576-233414980d80",
   "metadata": {},
   "outputs": [
    {
     "name": "stdout",
     "output_type": "stream",
     "text": [
      "Mean duration (overall): 264.83\n"
     ]
    }
   ],
   "source": [
    "# Calculate the mean duration for the entire dataset\n",
    "mean_duration = df_cleaned['duration'].mean()\n",
    "print(f\"Mean duration (overall): {mean_duration:.2f}\")"
   ]
  },
  {
   "cell_type": "code",
   "execution_count": null,
   "id": "28d5f327-d6fd-4489-8703-f99f3c656525",
   "metadata": {},
   "outputs": [],
   "source": []
  }
 ],
 "metadata": {
  "kernelspec": {
   "display_name": "Python 3 (ipykernel)",
   "language": "python",
   "name": "python3"
  },
  "language_info": {
   "codemirror_mode": {
    "name": "ipython",
    "version": 3
   },
   "file_extension": ".py",
   "mimetype": "text/x-python",
   "name": "python",
   "nbconvert_exporter": "python",
   "pygments_lexer": "ipython3",
   "version": "3.11.7"
  }
 },
 "nbformat": 4,
 "nbformat_minor": 5
}
