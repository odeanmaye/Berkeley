{
 "cells": [
  {
   "cell_type": "markdown",
   "metadata": {
    "nbgrader": {
     "grade": false,
     "grade_id": "cell-1a474b03adc92ca8",
     "locked": true,
     "schema_version": 3,
     "solution": false,
     "task": false
    }
   },
   "source": [
    "### Codio Activity 23.2: Convolutional Neural Network\n",
    "\n",
    "**Expected Time = 60 minutes**\n",
    "\n",
    "**Total Points = 40**\n",
    "\n",
    "This activity focuses on using a basic convolutional architecture to predict handwritten digits from the `mnist` dataset.  Your goal is to again use the preprocessing tools of `keras` to prepare the data.  Next, you will use the `Conv2D` and `MaxPool2D` layers to create the feature maps of digits.   Finally, you will flatten the resulting feature maps and pass them through a conventional dense architecture.\n",
    "\n",
    "#### Index\n",
    "\n",
    "- [Problem 1](#-Problem-1)\n",
    "- [Problem 2](#-Problem-2)\n",
    "- [Problem 3](#-Problem-3)\n",
    "- [Problem 4](#-Problem-4)\n",
    "\n",
    "Run the code cell below to import the necessary libraries."
   ]
  },
  {
   "cell_type": "code",
   "execution_count": 1,
   "metadata": {},
   "outputs": [
    {
     "name": "stderr",
     "output_type": "stream",
     "text": [
      "2022-11-21 16:32:56.544971: W tensorflow/stream_executor/platform/default/dso_loader.cc:64] Could not load dynamic library 'libcudart.so.11.0'; dlerror: libcudart.so.11.0: cannot open shared object file: No such file or directory\n",
      "2022-11-21 16:32:56.545025: I tensorflow/stream_executor/cuda/cudart_stub.cc:29] Ignore above cudart dlerror if you do not have a GPU set up on your machine.\n"
     ]
    }
   ],
   "source": [
    "import numpy as np\n",
    "import pandas as pd\n",
    "import matplotlib.pyplot as plt\n",
    "import tensorflow as tf\n",
    "import warnings\n",
    "import os\n",
    "os.environ['TF_CPP_MIN_LOG_LEVEL'] = '3' \n",
    "warnings.filterwarnings('ignore')\n",
    "\n",
    "from tensorflow.keras.preprocessing.image import ImageDataGenerator\n",
    "from tensorflow.keras.models import Sequential\n",
    "from tensorflow.keras.layers import Flatten, Dense, Conv2D, MaxPool2D\n",
    "from tensorflow.keras.utils import to_categorical\n",
    "from tensorflow.keras.datasets import mnist"
   ]
  },
  {
   "cell_type": "markdown",
   "metadata": {
    "nbgrader": {
     "grade": false,
     "grade_id": "cell-c9aa66c18a13a5ed",
     "locked": true,
     "schema_version": 3,
     "solution": false,
     "task": false
    }
   },
   "source": [
    "[Back to top](#-Index)\n",
    "\n",
    "### Problem 1\n",
    "\n",
    "#### Loading the Data\n",
    "\n",
    "**10 Points**\n",
    "\n",
    "Below, use the function `load_data()` on the `mnist` dataset to load the dataset. Assign your dataset to the variable `(X_train, Y_train), (X_test, Y_test)` below.\n",
    "\n",
    "Use the function `reshape` on `X_train` to reshape the training data in anticipation of the convolutional layers: set the arguments of the function `reshape ` equal to `(60_000, 28, 28, 1)`.  Assign this object to `X_train`.\n",
    "\n",
    "Use the function `reshape` on `X_test` to reshape the testing data in anticipation of the convolutional layers: set the arguments of the function `reshape ` equal to `(10_000, 28, 28, 1)`.  Assign this object to `X_test`.\n",
    "\n",
    "\n",
    "Create an `ImageDataGenerator` object with the argument `rescale = 1/255.` and assign to the variable `gen`.  \n",
    "\n",
    "Use the function `to_categorical` to convert the training and testing target variables. Assign these new objects to `Y_train` and `Y_test`, respectively.\n",
    "\n",
    "Use the `.flow()` function on the generator `gen`  with the reshaped and dummied `X_train` and `Y_train` to create the `train_gen` object.\n",
    "\n",
    "Use the `.flow()` function on the generator `gen`  with the reshaped and dummied `X_test` and `Y_test` to create the `test_gen` object.\n",
    "\n",
    "\n",
    "NOTE: This question is computationally expensive, so please be patient with the processing. It may take a few minutes based on your computing power. "
   ]
  },
  {
   "cell_type": "code",
   "execution_count": 2,
   "metadata": {
    "nbgrader": {
     "grade": false,
     "grade_id": "cell-b1d50e9a681ee148",
     "locked": false,
     "schema_version": 3,
     "solution": true,
     "task": false
    }
   },
   "outputs": [
    {
     "name": "stdout",
     "output_type": "stream",
     "text": [
      "<keras.preprocessing.image.NumpyArrayIterator object at 0x7f1ff01281f0>\n",
      "(60000, 28, 28, 1)\n",
      "(60000, 10)\n"
     ]
    }
   ],
   "source": [
    "### GRADED\n",
    "tf.random.set_seed(42)\n",
    "(X_train, Y_train), (X_test, Y_test) = ('', ''), ('', '')\n",
    "X_train = ''\n",
    "X_test = ''\n",
    "gen = ''\n",
    "Y_train = ''\n",
    "Y_test = ''\n",
    "train_gen = ''\n",
    "test_gen = ''\n",
    "    \n",
    "### BEGIN SOLUTION\n",
    "tf.random.set_seed(42)\n",
    "from tensorflow.keras.datasets import mnist\n",
    "(X_train, Y_train), (X_test, Y_test) = mnist.load_data()\n",
    "X_train = X_train.reshape(60_000, 28, 28, 1)\n",
    "X_test = X_test.reshape(10_000, 28, 28, 1)\n",
    "gen = ImageDataGenerator(rescale=1/255.)\n",
    "Y_train = to_categorical(Y_train)\n",
    "Y_test = to_categorical(Y_test)\n",
    "train_gen = gen.flow(X_train, Y_train)\n",
    "test_gen = gen.flow(X_test, Y_test)\n",
    "### END SOLUTION\n",
    "\n",
    "### ANSWER CHECK\n",
    "print(train_gen)\n",
    "print(X_train.shape)\n",
    "print(Y_train.shape)"
   ]
  },
  {
   "cell_type": "code",
   "execution_count": 3,
   "metadata": {
    "nbgrader": {
     "grade": true,
     "grade_id": "cell-92683c7512a475a2",
     "locked": true,
     "points": 10,
     "schema_version": 3,
     "solution": false,
     "task": false
    }
   },
   "outputs": [],
   "source": [
    "### BEGIN HIDDEN TESTS\n",
    "tf.random.set_seed(42)\n",
    "from tensorflow.keras.datasets import mnist\n",
    "(X_train_, Y_train_), (X_test_,Y_test_) = mnist.load_data()\n",
    "X_train_ = X_train_.reshape(60_000, 28, 28, 1)\n",
    "X_test_ = X_test_.reshape(10_000, 28, 28, 1)\n",
    "gen_ = ImageDataGenerator(rescale=1/255.)\n",
    "Y_train_ = to_categorical(Y_train_)\n",
    "Y_test_ = to_categorical(Y_test_)\n",
    "train_gen_ = gen.flow(X_train_, Y_train_)\n",
    "test_gen_ = gen.flow(X_test_, Y_test_)\n",
    "#\n",
    "#\n",
    "#\n",
    "assert X_train_.shape == X_train.shape\n",
    "assert Y_train_.shape == Y_train.shape\n",
    "np.testing.assert_array_equal(train_gen.x, train_gen_.x)\n",
    "### END HIDDEN TESTS"
   ]
  },
  {
   "cell_type": "markdown",
   "metadata": {
    "nbgrader": {
     "grade": false,
     "grade_id": "cell-34783f2dfd989506",
     "locked": true,
     "schema_version": 3,
     "solution": false,
     "task": false
    }
   },
   "source": [
    "[Back to top](#-Index)\n",
    "\n",
    "### Problem 2\n",
    "\n",
    "#### Constructing the Convolutional Layers\n",
    "\n",
    "**10 Points**\n",
    "\n",
    "Below, create a neural network named `conv_model` using the following architecture:\n",
    "\n",
    "- One `Conv2D` layer with 16 filters and a kernel of size equal to 3 x 3 with `relu` activation\n",
    "- One `MaxPool2D` layer with pool size equal to 2 x 2\n",
    "- One `Flatten` layer to flatten the results of pooling\n",
    "- One `Dense` layer with 50 nodes and `relu` activation\n",
    "- One `Dense` output layer 10 noded and with `softmax` activation\n",
    "\n",
    "Compile `conv_model` using `categorical_crossentropy` as your `loss` and  `accuracy` as your `metric`."
   ]
  },
  {
   "cell_type": "code",
   "execution_count": 5,
   "metadata": {
    "nbgrader": {
     "grade": false,
     "grade_id": "cell-f8f26477939a464f",
     "locked": false,
     "schema_version": 3,
     "solution": true,
     "task": false
    }
   },
   "outputs": [
    {
     "name": "stdout",
     "output_type": "stream",
     "text": [
      "Model: \"sequential_1\"\n",
      "_________________________________________________________________\n",
      " Layer (type)                Output Shape              Param #   \n",
      "=================================================================\n",
      " conv2d_1 (Conv2D)           (60000, 26, 26, 16)       160       \n",
      "                                                                 \n",
      " max_pooling2d_1 (MaxPooling  (60000, 13, 13, 16)      0         \n",
      " 2D)                                                             \n",
      "                                                                 \n",
      " flatten_1 (Flatten)         (60000, 2704)             0         \n",
      "                                                                 \n",
      " dense_2 (Dense)             (60000, 100)              270500    \n",
      "                                                                 \n",
      " dense_3 (Dense)             (60000, 10)               1010      \n",
      "                                                                 \n",
      "=================================================================\n",
      "Total params: 271,670\n",
      "Trainable params: 271,670\n",
      "Non-trainable params: 0\n",
      "_________________________________________________________________\n"
     ]
    }
   ],
   "source": [
    "### GRADED\n",
    "tf.random.set_seed(42)\n",
    "conv_model = ''\n",
    "\n",
    "    \n",
    "### BEGIN SOLUTION\n",
    "tf.random.set_seed(42)\n",
    "conv_model = Sequential([Conv2D(filters = 16, kernel_size = (3, 3), activation = 'relu'),\n",
    "                   MaxPool2D(pool_size = (2, 2)),\n",
    "                   Flatten(),\n",
    "                   Dense(50, activation = 'relu'),\n",
    "                   Dense(10, activation = 'softmax')])\n",
    "conv_model.compile(loss = 'categorical_crossentropy', metrics = ['accuracy'])\n",
    "### END SOLUTION\n",
    "\n",
    "### ANSWER CHECK\n",
    "conv_model.build(input_shape = (X_train.shape[0], 28, 28, 1))\n",
    "conv_model.summary()"
   ]
  },
  {
   "cell_type": "code",
   "execution_count": 6,
   "metadata": {
    "nbgrader": {
     "grade": true,
     "grade_id": "cell-c3020870f5ea8b8f",
     "locked": true,
     "points": 10,
     "schema_version": 3,
     "solution": false,
     "task": false
    }
   },
   "outputs": [
    {
     "name": "stdout",
     "output_type": "stream",
     "text": [
      "Model: \"sequential_2\"\n",
      "_________________________________________________________________\n",
      " Layer (type)                Output Shape              Param #   \n",
      "=================================================================\n",
      " conv2d_2 (Conv2D)           (60000, 26, 26, 16)       160       \n",
      "                                                                 \n",
      " max_pooling2d_2 (MaxPooling  (60000, 13, 13, 16)      0         \n",
      " 2D)                                                             \n",
      "                                                                 \n",
      " flatten_2 (Flatten)         (60000, 2704)             0         \n",
      "                                                                 \n",
      " dense_4 (Dense)             (60000, 100)              270500    \n",
      "                                                                 \n",
      " dense_5 (Dense)             (60000, 10)               1010      \n",
      "                                                                 \n",
      "=================================================================\n",
      "Total params: 271,670\n",
      "Trainable params: 271,670\n",
      "Non-trainable params: 0\n",
      "_________________________________________________________________\n"
     ]
    }
   ],
   "source": [
    "### BEGIN HIDDEN TESTS\n",
    "tf.random.set_seed(42)\n",
    "conv_model_ = Sequential([Conv2D(filters = 16, kernel_size = (3, 3), activation = 'relu'),\n",
    "                   MaxPool2D(pool_size = (2, 2)),\n",
    "                   Flatten(),\n",
    "                   Dense(50, activation = 'relu'),\n",
    "                   Dense(10, activation = 'softmax')])\n",
    "conv_model_.compile(loss = 'categorical_crossentropy', metrics = ['accuracy'])\n",
    "\n",
    "#\n",
    "#\n",
    "#\n",
    "assert conv_model.layers[0].filters == conv_model_.layers[0].filters\n",
    "assert conv_model.layers[0].kernel_size == conv_model_.layers[0].kernel_size\n",
    "### END HIDDEN TESTS\n",
    "conv_model_.build(input_shape = (X_train.shape[0], 28, 28, 1))\n",
    "conv_model_.summary()"
   ]
  },
  {
   "cell_type": "markdown",
   "metadata": {
    "nbgrader": {
     "grade": false,
     "grade_id": "cell-09b50273ad58e8cf",
     "locked": true,
     "schema_version": 3,
     "solution": false,
     "task": false
    }
   },
   "source": [
    "[Back to top](#-Index)\n",
    "\n",
    "### Problem 3\n",
    "\n",
    "#### Examining the Training\n",
    "\n",
    "**10 Points**\n",
    "\n",
    "Use the `fit()` function on `conv_model` to fit the reshaped training data `train_gen`. Set the argument `validation_data` equal to `test_gen`, the argument `epochs` equal to 1, and the argument `verbose` equal to 0.  Assign the result to the variable `history` below. Feel free to uncomment the code to visualize the resulting fit accuracies.\n",
    "\n",
    "NOTE: This question is computationally expensive, so please be patient with the processing. It may take a few minutes based on your computing power. "
   ]
  },
  {
   "cell_type": "code",
   "execution_count": 7,
   "metadata": {
    "nbgrader": {
     "grade": false,
     "grade_id": "cell-acfe9761b7454a3f",
     "locked": false,
     "schema_version": 3,
     "solution": true,
     "task": false
    }
   },
   "outputs": [
    {
     "data": {
      "image/png": "[encoded data removed]",
      "text/plain": [
       "<Figure size 432x288 with 1 Axes>"
      ]
     },
     "metadata": {
      "needs_background": "light"
     },
     "output_type": "display_data"
    }
   ],
   "source": [
    "### GRADED\n",
    "tf.random.set_seed(42)\n",
    "history = ''\n",
    "\n",
    "    \n",
    "### BEGIN SOLUTION\n",
    "tf.random.set_seed(42)\n",
    "history = conv_model.fit(train_gen, validation_data=test_gen, epochs=1, verbose = 0)\n",
    "### END SOLUTION\n",
    "\n",
    "### ANSWER CHECK\n",
    "plt.plot(history.history['accuracy'], label = 'Train')\n",
    "plt.plot(history.history['val_accuracy'], label = 'Test')\n",
    "plt.grid()\n",
    "plt.legend();"
   ]
  },
  {
   "cell_type": "code",
   "execution_count": 8,
   "metadata": {
    "nbgrader": {
     "grade": true,
     "grade_id": "cell-7114d1bcab1193ad",
     "locked": true,
     "points": 10,
     "schema_version": 3,
     "solution": false,
     "task": false
    }
   },
   "outputs": [],
   "source": [
    "### BEGIN HIDDEN TESTS\n",
    "tf.random.set_seed(42)\n",
    "history_ = conv_model_.fit(train_gen_, validation_data=test_gen_, epochs=1, verbose = 0)\n",
    "\n",
    "#\n",
    "#\n",
    "#\n",
    "assert round(history.history['accuracy'][-1], 2) == round(history_.history['accuracy'][-1], 2)\n",
    "### END HIDDEN TESTS"
   ]
  },
  {
   "cell_type": "markdown",
   "metadata": {
    "nbgrader": {
     "grade": false,
     "grade_id": "cell-478b565563eb3bd2",
     "locked": true,
     "schema_version": 3,
     "solution": false,
     "task": false
    }
   },
   "source": [
    "[Back to top](#-Index)\n",
    "\n",
    "### Problem 4\n",
    "\n",
    "#### Predicting with a New Image\n",
    "\n",
    "**10 Points**\n",
    "\n",
    "\n",
    "Below, we have defined the object `test_images` for you with 5 observations. \n",
    "\n",
    "Use the function `reshape` on `test_images` with argument equal to `(num_observations, 28, 28, 1)`. Assign this new object to `test_images_shaped`.\n",
    "\n",
    "Next, use the function `predict()` on the `conv_model` object with argument equal to `test_images_shaped`. Use the function NumPy  function `argmax` to retrieve the indices of the maximum elements in the array along the `axis` 1.\n",
    "Assign the result to the variable `preds`.\n",
    "\n",
    "HINT: The pseudocode for this last step is given below:\n",
    "\n",
    "```Python\n",
    "preds = np.argmax(conv_model.predict(...), axis = ...)\n",
    "```\n"
   ]
  },
  {
   "cell_type": "code",
   "execution_count": 9,
   "metadata": {
    "nbgrader": {
     "grade": false,
     "grade_id": "cell-1ebb9c10dc4397d9",
     "locked": false,
     "schema_version": 3,
     "solution": true,
     "task": false
    }
   },
   "outputs": [
    {
     "name": "stdout",
     "output_type": "stream",
     "text": [
      "1/1 [==============================] - 0s 135ms/step\n",
      "[7 2 1 0 4]\n"
     ]
    }
   ],
   "source": [
    "### GRADED\n",
    "tf.random.set_seed(42)\n",
    "test_images = X_test[:5]\n",
    "preds = ''\n",
    "\n",
    "    \n",
    "### BEGIN SOLUTION\n",
    "tf.random.set_seed(42)\n",
    "test_images_shaped = test_images.reshape(5, 28, 28, 1)\n",
    "preds = np.argmax(conv_model.predict(test_images_shaped), axis = 1)\n",
    "### END SOLUTION\n",
    "\n",
    "### ANSWER CHECK\n",
    "print(preds)\n",
    "# fig, ax = plt.subplots(1, 5, figsize = (20, 4))\n",
    "# for i, im in enumerate(test_images):\n",
    "#     ax[i].imshow(im.reshape(28, 28))\n",
    "#     ax[i].set_title(f'Prediction: {preds[i]}')"
   ]
  },
  {
   "cell_type": "code",
   "execution_count": 10,
   "metadata": {
    "nbgrader": {
     "grade": true,
     "grade_id": "cell-23db8d36b812f94f",
     "locked": true,
     "points": 10,
     "schema_version": 3,
     "solution": false,
     "task": false
    }
   },
   "outputs": [
    {
     "name": "stdout",
     "output_type": "stream",
     "text": [
      "1/1 [==============================] - 0s 71ms/step\n"
     ]
    }
   ],
   "source": [
    "### BEGIN HIDDEN TESTS\n",
    "tf.random.set_seed(42)\n",
    "test_images_shaped_ = test_images.reshape(5, 28, 28, 1)\n",
    "preds_ = np.argmax(conv_model_.predict(test_images_shaped_), axis = 1)#\n",
    "#\n",
    "#\n",
    "np.testing.assert_array_equal(preds, preds_)\n",
    "### END HIDDEN TESTS"
   ]
  }
 ],
 "metadata": {
  "celltoolbar": "Create Assignment",
  "kernelspec": {
   "display_name": "Python 3 (ipykernel)",
   "language": "python",
   "name": "python3"
  },
  "language_info": {
   "codemirror_mode": {
    "name": "ipython",
    "version": 3
   },
   "file_extension": ".py",
   "mimetype": "text/x-python",
   "name": "python",
   "nbconvert_exporter": "python",
   "pygments_lexer": "ipython3",
   "version": "3.11.7"
  },
  "widgets": {
   "application/vnd.jupyter.widget-state+json": {
    "state": {},
    "version_major": 2,
    "version_minor": 0
   }
  }
 },
 "nbformat": 4,
 "nbformat_minor": 4
}
